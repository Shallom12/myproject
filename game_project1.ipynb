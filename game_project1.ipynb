{
  "nbformat": 4,
  "nbformat_minor": 0,
  "metadata": {
    "colab": {
      "provenance": [],
      "gpuType": "T4",
      "authorship_tag": "ABX9TyPQ7sN2iW/zg10Nwrtnzuaa",
      "include_colab_link": true
    },
    "kernelspec": {
      "name": "python3",
      "display_name": "Python 3"
    },
    "language_info": {
      "name": "python"
    },
    "accelerator": "GPU"
  },
  "cells": [
    {
      "cell_type": "markdown",
      "metadata": {
        "id": "view-in-github",
        "colab_type": "text"
      },
      "source": [
        "<a href=\"https://colab.research.google.com/github/Shallom12/myproject/blob/main/game_project1.ipynb\" target=\"_parent\"><img src=\"https://colab.research.google.com/assets/colab-badge.svg\" alt=\"Open In Colab\"/></a>"
      ]
    },
    {
      "cell_type": "code",
      "execution_count": null,
      "metadata": {
        "id": "3tatQIyVYrw0"
      },
      "outputs": [],
      "source": [
        "import sys\n",
        "from random import randint\n",
        "import pygame\n",
        "from pygame.locals import *\n",
        "\n",
        "pygame.init()\n",
        "pygame.key.set_repeat(5,5)\n",
        "SURFACE = pygame.display.set_mode((800,600))\n",
        "FPSCLOCK = pygame.time.Clock()\n",
        "\n",
        "def main():\n",
        "  walls= 80\n",
        "  ship_y = 250\n",
        "  velocity = 0\n",
        "  score = 0\n",
        "  slope = randint(1,6)\n",
        "  sysfont = pygame.font.SysFont(None,36)\n",
        "  ship_image = pygame.image.load(\"ship.png\")\n",
        "  bang_image = pygame.image.load(\"bang.png\")\n",
        "  holes = []\n",
        "  for xpos in range(walls):\n",
        "      holes.append(randint(0,500))\n",
        "  game_over = False\n",
        "\n",
        "  while True:\n",
        "    is_space_down = False\n",
        "    for event in pygame.event.get():\n",
        "      if event.type == QUIT:\n",
        "        pygame.quit()\n",
        "        sys.exit()\n",
        "      elif event.type == KEYDOWN:\n",
        "        if event.key == K_SPACE:\n",
        "          is_space_down = True\n",
        "\n",
        "  if not game_over:\n",
        "    score += 10\n",
        "    velocity += -3 if is_space_down else 3\n",
        "    ship_y += velocity\n",
        "\n",
        "    edge = holes[-1].copy()\n",
        "    test = edge.move(0, slope)\n",
        "    if test.top <= 0 or test.bottom >= 600:\n",
        "      slope = randint(1,6) * (-1 if slope > 0 else 1)\n",
        "      edge.inflate_ip(0, -20)\n",
        "    edge.move_ip(10, slope)\n",
        "    holes.append(edge)\n",
        "    del holes[0]\n",
        "    holes = [x.move(-10,0) for x in holes]\n",
        "\n",
        "    if holes[0].top > ship_y or holes[0].bottom < ship_y + 80:\n",
        "      game_over = True\n",
        "\n",
        "  SURFACE.fill((0,255,0))\n",
        "  for hole in holes:\n",
        "    pygame.draw.rect(SURFACE, (0,0,0), hole)\n",
        "  SURFACE.blit(ship_image, (0,ship_y))\n",
        "  score_image = sysfont.render(\"score is {}\".format(score), True, (0,0,255))\n",
        "  SURFACE.blit(score_image, (600,20))\n",
        "\n",
        "  if game_over:\n",
        "    SURFACE.blit(bang_image, (0,ship_y - 40))\n",
        "\n",
        "  pygame.display.update()\n",
        "  FPSCLOCK.tick(15)\n",
        "\n",
        "if __name__ == '__main__':\n",
        "  main()"
      ]
    },
    {
      "cell_type": "code",
      "source": [
        "pygame.init()\n",
        "pygame.key.set_repeat(5,5)\n",
        "SURFACE = pygame.display.set_mode((800,600))\n",
        "FPSCLOCK = pygame.time.Clock()"
      ],
      "metadata": {
        "id": "TwHds3TDYt_Z"
      },
      "execution_count": 2,
      "outputs": []
    },
    {
      "cell_type": "code",
      "source": [
        "def main():\n",
        "  walls= 80\n",
        "  ship_y = 250\n",
        "  velocity = 0\n",
        "  score = 0\n",
        "  slope = randint(1,6)\n",
        "  sysfont = pygame.font.SysFont(None,36)\n",
        "  ship_image = pygame.image.load(\"ship.png\")\n",
        "  bang_image = pygame.image.load(\"bang.png\")\n",
        "  holes = []\n",
        "  for xpos in range(walls):\n",
        "      holes.append(randint(0,500))\n",
        "  game_over = False"
      ],
      "metadata": {
        "id": "UMyLBudSZRcS"
      },
      "execution_count": 3,
      "outputs": []
    },
    {
      "cell_type": "code",
      "source": [
        "  while True:\n",
        "    is_space_down = False\n",
        "    for event in pygame.event.get():\n",
        "      if event.type == QUIT:\n",
        "        pygame.quit()\n",
        "        sys.exit()\n",
        "      elif event.type == KEYDOWN:\n",
        "        if event.key == K_SPACE:\n",
        "          is_space_down = True"
      ],
      "metadata": {
        "colab": {
          "base_uri": "https://localhost:8080/",
          "height": 221
        },
        "id": "Y_QeoAbpZ8qo",
        "outputId": "650addc5-ad17-42a0-c384-a59def191274"
      },
      "execution_count": 4,
      "outputs": [
        {
          "output_type": "error",
          "ename": "KeyboardInterrupt",
          "evalue": "",
          "traceback": [
            "\u001b[0;31m---------------------------------------------------------------------------\u001b[0m",
            "\u001b[0;31mKeyboardInterrupt\u001b[0m                         Traceback (most recent call last)",
            "\u001b[0;32m<ipython-input-4-487c5549033e>\u001b[0m in \u001b[0;36m<cell line: 1>\u001b[0;34m()\u001b[0m\n\u001b[1;32m      1\u001b[0m \u001b[0;32mwhile\u001b[0m \u001b[0;32mTrue\u001b[0m\u001b[0;34m:\u001b[0m\u001b[0;34m\u001b[0m\u001b[0;34m\u001b[0m\u001b[0m\n\u001b[1;32m      2\u001b[0m   \u001b[0mis_space_down\u001b[0m \u001b[0;34m=\u001b[0m \u001b[0;32mFalse\u001b[0m\u001b[0;34m\u001b[0m\u001b[0;34m\u001b[0m\u001b[0m\n\u001b[0;32m----> 3\u001b[0;31m   \u001b[0;32mfor\u001b[0m \u001b[0mevent\u001b[0m \u001b[0;32min\u001b[0m \u001b[0mpygame\u001b[0m\u001b[0;34m.\u001b[0m\u001b[0mevent\u001b[0m\u001b[0;34m.\u001b[0m\u001b[0mget\u001b[0m\u001b[0;34m(\u001b[0m\u001b[0;34m)\u001b[0m\u001b[0;34m:\u001b[0m\u001b[0;34m\u001b[0m\u001b[0;34m\u001b[0m\u001b[0m\n\u001b[0m\u001b[1;32m      4\u001b[0m     \u001b[0;32mif\u001b[0m \u001b[0mevent\u001b[0m\u001b[0;34m.\u001b[0m\u001b[0mtype\u001b[0m \u001b[0;34m==\u001b[0m \u001b[0mQUIT\u001b[0m\u001b[0;34m:\u001b[0m\u001b[0;34m\u001b[0m\u001b[0;34m\u001b[0m\u001b[0m\n\u001b[1;32m      5\u001b[0m       \u001b[0mpygame\u001b[0m\u001b[0;34m.\u001b[0m\u001b[0mquit\u001b[0m\u001b[0;34m(\u001b[0m\u001b[0;34m)\u001b[0m\u001b[0;34m\u001b[0m\u001b[0;34m\u001b[0m\u001b[0m\n",
            "\u001b[0;31mKeyboardInterrupt\u001b[0m: "
          ]
        }
      ]
    },
    {
      "cell_type": "code",
      "source": [
        "if not game_over:\n",
        "  score += 10\n",
        "  velocity += -3 if is_space_down else 3\n",
        "  ship_y += velocity"
      ],
      "metadata": {
        "id": "qii2pUJ_aRhj"
      },
      "execution_count": null,
      "outputs": []
    },
    {
      "cell_type": "code",
      "source": [
        "edge = holes[-1].copy()\n",
        "test = edge.move(0, slope)\n",
        "if test.top <= 0 or test.bottom >= 600:\n",
        "  slope = randint(1,6) * (-1 if slope > 0 else 1)\n",
        "  edge.inflate_ip(0, -20)\n",
        "edge.move_ip(10, slope)\n",
        "holes.append(edge)\n",
        "del holes[0]\n",
        "holes = [x.move(-10,0) for x in holes]"
      ],
      "metadata": {
        "id": "016Z0RMMajDQ"
      },
      "execution_count": null,
      "outputs": []
    },
    {
      "cell_type": "code",
      "source": [
        "if holes[0].top > ship_y or holes[0].bottom < ship_y + 80:\n",
        "  game_over = True"
      ],
      "metadata": {
        "id": "_qHZhJ7ebgog"
      },
      "execution_count": null,
      "outputs": []
    },
    {
      "cell_type": "code",
      "source": [
        "SURFACE.fill((0,255,0))\n",
        "for hole in holes:\n",
        "  pygame.draw.rect(SURFACE, (0,0,0), hole)\n",
        "SURFACE.blit(ship_image, (0,ship_y))\n",
        "score_image = sysfont.render(\"score is {}\".format(score), True, (0,0,255))\n",
        "SURFACE.blit(score_image, (600,20))\n",
        "if game_over:\n",
        "  SURFACE.blit(bang_image, (0,ship_y - 40))\n",
        "pygame.display.update()\n",
        "FPSCLOCK.tick(15)"
      ],
      "metadata": {
        "id": "OslH0wp-cFgy"
      },
      "execution_count": null,
      "outputs": []
    },
    {
      "cell_type": "code",
      "source": [
        "if __name__ == '__main__':\n",
        "  main()"
      ],
      "metadata": {
        "id": "_e9Y6CuJcvHh"
      },
      "execution_count": null,
      "outputs": []
    },
    {
      "cell_type": "code",
      "source": [],
      "metadata": {
        "id": "IiQ8bqMncxaG"
      },
      "execution_count": null,
      "outputs": []
    }
  ]
}