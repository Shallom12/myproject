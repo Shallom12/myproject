{
  "cells": [
    {
      "cell_type": "markdown",
      "metadata": {
        "id": "view-in-github",
        "colab_type": "text"
      },
      "source": [
        "<a href=\"https://colab.research.google.com/github/Shallom12/myproject/blob/main/14_02_(final)_Word_Level_%EB%B2%88%EC%97%AD%EA%B8%B0_%EB%A7%8C%EB%93%A4%EA%B8%B0(Neural_Machine_Translation_(seq2seq)_Tutorial).ipynb\" target=\"_parent\"><img src=\"https://colab.research.google.com/assets/colab-badge.svg\" alt=\"Open In Colab\"/></a>"
      ]
    },
    {
      "cell_type": "markdown",
      "metadata": {
        "id": "fDYxor6YZvMU"
      },
      "source": [
        "2021년 12월 26일에 마지막으로 테스트 되었습니다."
      ]
    },
    {
      "cell_type": "markdown",
      "metadata": {
        "id": "LduI7woEajSi"
      },
      "source": [
        "이 자료는 위키독스 '딥 러닝을 이용한 자연어 처리 입문'의 단어 레벨 번역기의 튜토리얼 자료로서 만들어졌습니다."
      ]
    },
    {
      "cell_type": "markdown",
      "metadata": {
        "id": "5h-69nkkagSz"
      },
      "source": [
        "원문 자료 : https://wikidocs.net/86900"
      ]
    },
    {
      "cell_type": "markdown",
      "metadata": {
        "id": "qA-le1Dy74r8"
      },
      "source": [
        "# 14-02 Word-Level 번역기 만들기(Neural Machine Translation (seq2seq) Tutorial)\n",
        "---\n",
        "seq2seq를 이용해서 기계 번역기를 만들어보겠습니다. 시작하기에 앞서 참고하면 좋은 게시물을 소개합니다. 인터넷에 케라스로 seq2seq를 구현하는 많은 유사 예제들이 나와있지만 대부분은 케라스 개발자 프랑수아 숄레의 블로그의 유명 게시물인 'sequence-to-sequence 10분만에 이해하기'가 원본입니다. 이번 실습 또한 해당 게시물의 예제에 많이 영향받았습니다.\n",
        "\n",
        "링크 : https://blog.keras.io/a-ten-minute-introduction-to-sequence-to-sequence-learning-in-keras.html"
      ]
    },
    {
      "cell_type": "markdown",
      "metadata": {
        "id": "i7rGa6lO74r9"
      },
      "source": [
        "## 1. 데이터 로드 및 전처리\n",
        "---\n",
        "실제 성능이 좋은 기계 번역기를 구현하려면 방대한 데이터가 필요하므로 여기서는 seq2seq를 간단히 실습해보는 수준의 간단한 기계 번역기를 구현해보겠습니다. 기계 번역기를 훈련시키기 위해서는 훈련 데이터로 병렬 코퍼스(parallel corpus)가 필요합니다. 병렬 코퍼스란, 두 개 이상의 언어가 병렬적으로 구성된 코퍼스를 의미합니다.\n",
        "\n",
        "링크 : http://www.manythings.org/anki\n",
        "\n",
        "이번 실습에서는 프랑스어-영어 병렬 코퍼스인 fra-eng.zip 파일을 사용합니다. 위의 링크에서 해당 파일을 다운받은 후 압축을 풀면 fra.txt라는 파일을 얻을 수 있는데 해당 파일을이 실습에서 사용합니다.\n",
        "\n",
        "병렬 코퍼스 데이터에 대해서 이해해봅시다. 병렬 데이터라고 하면 앞서 수행한 태깅 작업 챕터의 개체명 인식과 같은 데이터를 생각할 수 있지만, 앞서 수행한 태깅 작업의 병렬 데이터와 seq2seq가 사용하는 병렬 데이터는 성격이 다릅니다. 태깅 작업의 병렬 데이터는 쌍이 되는 데이터와 레이블이 길이가 동일하였으나 여기서는 쌍이 된다고 해서 반드시 길이가 같지는 않습니다.\n",
        "\n",
        "실제 번역기를 생각해보면 구글 번역기에 '나는 학생이다.'라는 토큰의 개수가 2인 문장을 넣었을 때 'I am a student.'라는 토큰의 개수가 4인 문장이 나오는 것과 같은 이치입니다. seq2seq는 기본적으로 입력 시퀀스와 출력 시퀀스의 길이가 다를 수 있다고 가정합니다. 지금 구현 예제는 기계 번역기이지만 seq2seq로 구현할 수 있는 또 다른 예제인 챗봇을 만든다고 가정해보면, 대답의 길이가 질문의 길이와 항상 똑같아야 한다고하면 그 또한 이상합니다. 여기서 사용할 fra.txt 데이터는 아래와 같이 왼쪽의 영어 문장과 오른쪽의 프랑스어 문장 사이에 탭으로 구분되는 형식이 하나의 샘플입니다."
      ]
    },
    {
      "cell_type": "markdown",
      "metadata": {
        "id": "czvVF2Pe74r-"
      },
      "source": [
        "```Watch me.                    Regardez-moi !```          "
      ]
    },
    {
      "cell_type": "markdown",
      "metadata": {
        "id": "l1jnp_KM74r-"
      },
      "source": [
        "데이터는 위와 동일한 형식의 약 19만개의 병렬 문장 샘플을 포함하고 있습니다. 데이터를 읽고 전처리를 진행해보겠습니다. 앞으로의 코드에서 src는 source의 줄임말로 입력 문장을 나타내며, tar는 target의 줄임말로 번역하고자 하는 문장을 나타냅니다."
      ]
    },
    {
      "cell_type": "code",
      "execution_count": null,
      "metadata": {
        "id": "rlz9NZ8DJYzt"
      },
      "outputs": [],
      "source": [
        "import re\n",
        "import os\n",
        "import unicodedata\n",
        "import urllib3\n",
        "import zipfile\n",
        "import shutil\n",
        "import numpy as np\n",
        "import pandas as pd\n",
        "import tensorflow as tf\n",
        "from tensorflow.keras.layers import Embedding, GRU, Dense\n",
        "from tensorflow.keras.preprocessing.text import Tokenizer\n",
        "from tensorflow.keras.preprocessing.sequence import pad_sequences"
      ]
    },
    {
      "cell_type": "code",
      "execution_count": null,
      "metadata": {
        "colab": {
          "base_uri": "https://localhost:8080/",
          "height": 36
        },
        "id": "075ZXDGfJzLk",
        "outputId": "37e21a41-0c37-405d-f508-2d257add6c0d"
      },
      "outputs": [
        {
          "output_type": "execute_result",
          "data": {
            "text/plain": [
              "'2.17.0'"
            ],
            "application/vnd.google.colaboratory.intrinsic+json": {
              "type": "string"
            }
          },
          "metadata": {},
          "execution_count": 2
        }
      ],
      "source": [
        "tf.__version__  # 2024.08 tf 2.17.0"
      ]
    },
    {
      "cell_type": "markdown",
      "metadata": {
        "id": "be37FRXb74sA"
      },
      "source": [
        "fra-eng.zip 파일을 다운로드하고 압축을 풀겠습니다."
      ]
    },
    {
      "cell_type": "code",
      "execution_count": null,
      "metadata": {
        "id": "7sCVBRpxJsSs"
      },
      "outputs": [],
      "source": [
        "# http = urllib3.PoolManager()\n",
        "# url ='http://www.manythings.org/anki/fra-eng.zip'\n",
        "# filename = 'fra-eng.zip'\n",
        "# path = os.getcwd()\n",
        "# zipfilename = os.path.join(path, filename)\n",
        "# with http.request('GET', url, preload_content=False) as r, open(zipfilename, 'wb') as out_file:\n",
        "#     shutil.copyfileobj(r, out_file)\n",
        "\n",
        "# with zipfile.ZipFile(zipfilename, 'r') as zip_ref:\n",
        "#     zip_ref.extractall(path)"
      ]
    },
    {
      "cell_type": "markdown",
      "metadata": {
        "id": "MZ-OOlau74sB"
      },
      "source": [
        "이번 실습에서는 약 19만개의 데이터 중 33,000개의 샘플만을 사용할 예정입니다."
      ]
    },
    {
      "cell_type": "code",
      "execution_count": null,
      "metadata": {
        "id": "i14IPvoBJNLm"
      },
      "outputs": [],
      "source": [
        "num_samples = 33000"
      ]
    },
    {
      "cell_type": "markdown",
      "metadata": {
        "id": "RMPJkOWb74sB"
      },
      "source": [
        "전처리 함수들을 구현합니다. 구두점 등을 제거하거나 단어와 구분해주기 위한 전처리입니다."
      ]
    },
    {
      "cell_type": "code",
      "execution_count": null,
      "metadata": {
        "id": "6b99xrUsJVnD"
      },
      "outputs": [],
      "source": [
        "# def unicode_to_ascii(s):\n",
        "#     # 프랑스어 악센트(accent) 삭제\n",
        "#     # 예시 : 'déjà diné' -> deja dine\n",
        "#     return ''.join(c for c in unicodedata.normalize('NFD', s) if unicodedata.category(c) != 'Mn')"
      ]
    },
    {
      "cell_type": "code",
      "execution_count": null,
      "metadata": {
        "id": "8R1ZUFQPJaHL"
      },
      "outputs": [],
      "source": [
        "def preprocess_sentence(sent, lang):\n",
        "    # 악센트 삭제 함수 호출\n",
        "    # sent = unicode_to_ascii(sent.lower())\n",
        "    sent = sent.lower()\n",
        "\n",
        "    # 단어와 구두점 사이에 공백을 만듭니다.\n",
        "    # Ex) \"he is a boy.\" => \"he is a boy .\"\n",
        "    sent = re.sub(r\"([?.!,¿])\", r\" \\1\", sent)\n",
        "\n",
        "    # (a-z, A-Z, \".\", \"?\", \"!\", \",\") 이들을 제외하고는 전부 공백으로 변환합니다.\n",
        "    if lang == 'eng':\n",
        "        sent = re.sub(r\"[^a-zA-Z!.?]+\", r\" \", sent)\n",
        "    else:\n",
        "        sent = re.sub(r\"[^a-zA-ZÀ-ÿ!.?]+\", r\" \", sent)\n",
        "\n",
        "    # 다수 개의 공백을 하나의 공백으로 치환\n",
        "    sent = re.sub(r\"\\s+\", \" \", sent)\n",
        "    return sent"
      ]
    },
    {
      "cell_type": "code",
      "execution_count": null,
      "metadata": {
        "colab": {
          "base_uri": "https://localhost:8080/",
          "height": 223
        },
        "id": "AyieJv5Pc1Xd",
        "outputId": "c01368a9-04e6-4a24-b13b-599c5b0fc4f1"
      },
      "outputs": [
        {
          "output_type": "error",
          "ename": "FileNotFoundError",
          "evalue": "[Errno 2] No such file or directory: 'fra. txt'",
          "traceback": [
            "\u001b[0;31m---------------------------------------------------------------------------\u001b[0m",
            "\u001b[0;31mFileNotFoundError\u001b[0m                         Traceback (most recent call last)",
            "\u001b[0;32m<ipython-input-10-856cadcfa116>\u001b[0m in \u001b[0;36m<cell line: 2>\u001b[0;34m()\u001b[0m\n\u001b[1;32m      1\u001b[0m \u001b[0;31m# 파일 읽기 테스트\u001b[0m\u001b[0;34m\u001b[0m\u001b[0;34m\u001b[0m\u001b[0m\n\u001b[0;32m----> 2\u001b[0;31m \u001b[0mlines\u001b[0m \u001b[0;34m=\u001b[0m \u001b[0mopen\u001b[0m\u001b[0;34m(\u001b[0m\u001b[0;34m'fra. txt'\u001b[0m\u001b[0;34m,\u001b[0m \u001b[0;34m'r'\u001b[0m\u001b[0;34m)\u001b[0m\u001b[0;34m\u001b[0m\u001b[0;34m\u001b[0m\u001b[0m\n\u001b[0m\u001b[1;32m      3\u001b[0m \u001b[0;32mfor\u001b[0m \u001b[0mi\u001b[0m\u001b[0;34m,\u001b[0m \u001b[0mline\u001b[0m \u001b[0;32min\u001b[0m \u001b[0menumerate\u001b[0m\u001b[0;34m(\u001b[0m\u001b[0mlines\u001b[0m\u001b[0;34m)\u001b[0m\u001b[0;34m:\u001b[0m\u001b[0;34m\u001b[0m\u001b[0;34m\u001b[0m\u001b[0m\n\u001b[1;32m      4\u001b[0m     \u001b[0msrc_line\u001b[0m\u001b[0;34m,\u001b[0m \u001b[0mtar_line\u001b[0m\u001b[0;34m,\u001b[0m \u001b[0m_\u001b[0m \u001b[0;34m=\u001b[0m \u001b[0mline\u001b[0m\u001b[0;34m.\u001b[0m\u001b[0mstrip\u001b[0m\u001b[0;34m(\u001b[0m\u001b[0;34m)\u001b[0m\u001b[0;34m.\u001b[0m\u001b[0msplit\u001b[0m\u001b[0;34m(\u001b[0m\u001b[0;34m'\\t'\u001b[0m\u001b[0;34m)\u001b[0m\u001b[0;34m\u001b[0m\u001b[0;34m\u001b[0m\u001b[0m\n\u001b[1;32m      5\u001b[0m     \u001b[0mprint\u001b[0m\u001b[0;34m(\u001b[0m\u001b[0;34m[\u001b[0m\u001b[0msrc_line\u001b[0m\u001b[0;34m,\u001b[0m \u001b[0mtar_line\u001b[0m\u001b[0;34m,\u001b[0m \u001b[0m_\u001b[0m\u001b[0;34m]\u001b[0m\u001b[0;34m)\u001b[0m\u001b[0;34m\u001b[0m\u001b[0;34m\u001b[0m\u001b[0m\n",
            "\u001b[0;31mFileNotFoundError\u001b[0m: [Errno 2] No such file or directory: 'fra. txt'"
          ]
        }
      ],
      "source": [
        "# 파일 읽기 테스트\n",
        "lines = open('fra. txt', 'r')\n",
        "for i, line in enumerate(lines):\n",
        "    src_line, tar_line, _ = line.strip().split('\\t')\n",
        "    print([src_line, tar_line, _])\n",
        "    if i > 10:\n",
        "        break\n",
        "lines.close()"
      ]
    },
    {
      "cell_type": "code",
      "execution_count": null,
      "metadata": {
        "id": "uR-_LHGZJbQr"
      },
      "outputs": [],
      "source": [
        "def load_preprocessed_data():\n",
        "    encoder_input, decoder_input, decoder_target = [], [], []\n",
        "\n",
        "#     with open(\"fra.txt\", \"r\") as lines:   # cp949 encoding 에러!!\n",
        "    with open(\"fra.txt\", \"r\", encoding='utf8') as lines:\n",
        "        for i, line in enumerate(lines):\n",
        "            # source 데이터와 target 데이터 분리\n",
        "            src_line, tar_line, _ = line.strip().split('\\t')\n",
        "\n",
        "            # source 데이터 전처리\n",
        "            src_line = [w for w in preprocess_sentence(src_line, 'eng').split()]\n",
        "\n",
        "            # target 데이터 전처리\n",
        "            tar_line = preprocess_sentence(tar_line,  'fra')\n",
        "            tar_line_in = [w for w in (\"<sos> \" + tar_line).split()]\n",
        "            tar_line_out = [w for w in (tar_line + \" <eos>\").split()]\n",
        "\n",
        "            encoder_input.append(src_line)\n",
        "            decoder_input.append(tar_line_in)\n",
        "            decoder_target.append(tar_line_out)\n",
        "\n",
        "            if i == num_samples - 1:\n",
        "                break\n",
        "\n",
        "    return encoder_input, decoder_input, decoder_target"
      ]
    },
    {
      "cell_type": "code",
      "execution_count": null,
      "metadata": {
        "colab": {
          "base_uri": "https://localhost:8080/"
        },
        "id": "H9g2Vp16Jcrb",
        "outputId": "cb5c3edb-d8ff-4353-8f88-2c9513c0581c"
      },
      "outputs": [
        {
          "output_type": "stream",
          "name": "stdout",
          "text": [
            "전처리 전 영어 문장 : Have you had dinner?\n",
            "전처리 후 영어 문장 : have you had dinner ?\n",
            "전처리 전 프랑스어 문장 : Avez-vous déjà diné?\n",
            "전처리 후 프랑스어 문장 : avez vous déjà diné ?\n"
          ]
        }
      ],
      "source": [
        "# 전처리 테스트\n",
        "en_sent = u\"Have you had dinner?\"\n",
        "fr_sent = u\"Avez-vous déjà diné?\"\n",
        "\n",
        "print('전처리 전 영어 문장 :', en_sent)\n",
        "print('전처리 후 영어 문장 :', preprocess_sentence(en_sent, 'eng'))\n",
        "print('전처리 전 프랑스어 문장 :', fr_sent)\n",
        "print('전처리 후 프랑스어 문장 :', preprocess_sentence(fr_sent, 'fra'))"
      ]
    },
    {
      "cell_type": "code",
      "execution_count": null,
      "metadata": {
        "id": "BcP4_sXeJdh7"
      },
      "outputs": [],
      "source": [
        "sents_en_in, sents_fra_in, sents_fra_out = load_preprocessed_data()"
      ]
    },
    {
      "cell_type": "markdown",
      "metadata": {
        "id": "czr3IlCP74sD"
      },
      "source": [
        "이렇게 얻은 3개의 데이터셋 인코더의 입력, 디코더의 입력, 디코더의 레이블을 상위 5개 샘플만 출력해봅시다."
      ]
    },
    {
      "cell_type": "code",
      "execution_count": null,
      "metadata": {
        "colab": {
          "base_uri": "https://localhost:8080/"
        },
        "id": "1iC8Bb77JgJz",
        "outputId": "4dd75741-4753-43ab-ef1c-710f2f2614c2"
      },
      "outputs": [
        {
          "output_type": "stream",
          "name": "stdout",
          "text": [
            "인코더의 입력 : [['go', '.'], ['go', '.'], ['go', '.'], ['go', '.'], ['hi', '.'], ['hi', '.'], ['run', '!'], ['run', '!'], ['run', '!'], ['run', '!'], ['run', '!'], ['run', '!'], ['run', '!'], ['run', '!'], ['run', '.'], ['run', '.'], ['run', '.'], ['run', '.'], ['run', '.'], ['run', '.']]\n",
            "디코더의 입력 : [['<sos>', 'va', '!'], ['<sos>', 'marche', '.'], ['<sos>', 'en', 'route', '!'], ['<sos>', 'bouge', '!'], ['<sos>', 'salut', '!'], ['<sos>', 'salut', '.'], ['<sos>', 'cours', '!'], ['<sos>', 'courez', '!'], ['<sos>', 'prenez', 'vos', 'jambes', 'à', 'vos', 'cous', '!'], ['<sos>', 'file', '!'], ['<sos>', 'filez', '!'], ['<sos>', 'cours', '!'], ['<sos>', 'fuyez', '!'], ['<sos>', 'fuyons', '!'], ['<sos>', 'cours', '!'], ['<sos>', 'courez', '!'], ['<sos>', 'prenez', 'vos', 'jambes', 'à', 'vos', 'cous', '!'], ['<sos>', 'file', '!'], ['<sos>', 'filez', '!'], ['<sos>', 'cours', '!']]\n",
            "디코더의 레이블 : [['va', '!', '<eos>'], ['marche', '.', '<eos>'], ['en', 'route', '!', '<eos>'], ['bouge', '!', '<eos>'], ['salut', '!', '<eos>'], ['salut', '.', '<eos>'], ['cours', '!', '<eos>'], ['courez', '!', '<eos>'], ['prenez', 'vos', 'jambes', 'à', 'vos', 'cous', '!', '<eos>'], ['file', '!', '<eos>'], ['filez', '!', '<eos>'], ['cours', '!', '<eos>'], ['fuyez', '!', '<eos>'], ['fuyons', '!', '<eos>'], ['cours', '!', '<eos>'], ['courez', '!', '<eos>'], ['prenez', 'vos', 'jambes', 'à', 'vos', 'cous', '!', '<eos>'], ['file', '!', '<eos>'], ['filez', '!', '<eos>'], ['cours', '!', '<eos>']]\n"
          ]
        }
      ],
      "source": [
        "print('인코더의 입력 :', sents_en_in[:20])\n",
        "print('디코더의 입력 :', sents_fra_in[:20])\n",
        "print('디코더의 레이블 :',sents_fra_out[:20])"
      ]
    },
    {
      "cell_type": "markdown",
      "metadata": {
        "id": "-3Yu6_Sf74sE"
      },
      "source": [
        "모델을 설계하기 전 의아한 점이 있을 수 있습니다. 현재 시점의 디코더 셀의 입력은 오직 이전 디코더 셀의 출력을 입력으로 받는다고 설명하였는데 디코더의 입력에 해당하는 데이터인 sents_fra_in이 왜 필요할까요?\n",
        "\n",
        "훈련 과정에서는 이전 시점의 디코더 셀의 출력을 현재 시점의 디코더 셀의 입력으로 넣어주지 않고, 이전 시점의 실제값을 현재 시점의 디코더 셀의 입력값으로 하는 방법을 사용할 겁니다. 그 이유는 이전 시점의 디코더 셀의 예측이 틀렸는데 이를 현재 시점의 디코더 셀의 입력으로 사용하면 현재 시점의 디코더 셀의 예측도 잘못될 가능성이 높고 이는 연쇄 작용으로 디코더 전체의 예측을 어렵게 합니다. 이런 상황이 반복되면 훈련 시간이 느려집니다. 만약 이 상황을 원하지 않는다면 이전 시점의 디코더 셀의 예측값 대신 실제값을 현재 시점의 디코더 셀의 입력으로 사용하는 방법을 사용할 수 있습니다. 이와 같이 RNN의 모든 시점에 대해서 이전 시점의 예측값 대신 실제값을 입력으로 주는 방법을 교사 강요라고 합니다.\n",
        "\n",
        "케라스 토크나이저를 통해 단어 집합을 생성, 정수 인코딩을 진행 후 이어서 패딩을 진행합니다."
      ]
    },
    {
      "cell_type": "code",
      "execution_count": null,
      "metadata": {
        "id": "ghGmtRHLJ9VB"
      },
      "outputs": [],
      "source": [
        "tokenizer_en = Tokenizer(filters=\"\", lower=False)\n",
        "tokenizer_en.fit_on_texts(sents_en_in)"
      ]
    },
    {
      "cell_type": "code",
      "execution_count": null,
      "metadata": {
        "colab": {
          "base_uri": "https://localhost:8080/"
        },
        "id": "5lSl6TMyIp1O",
        "outputId": "d9809a83-e2cd-46c3-9ce8-a65013aaa2d4",
        "collapsed": true
      },
      "outputs": [
        {
          "output_type": "execute_result",
          "data": {
            "text/plain": [
              "{1: '.',\n",
              " 2: 'i',\n",
              " 3: 'you',\n",
              " 4: '?',\n",
              " 5: 'tom',\n",
              " 6: 'it',\n",
              " 7: 'is',\n",
              " 8: 's',\n",
              " 9: 'a',\n",
              " 10: 're',\n",
              " 11: 'm',\n",
              " 12: 'we',\n",
              " 13: 't',\n",
              " 14: 'the',\n",
              " 15: 'that',\n",
              " 16: 'he',\n",
              " 17: 'was',\n",
              " 18: 'me',\n",
              " 19: 'this',\n",
              " 20: 'they',\n",
              " 21: 'are',\n",
              " 22: 'to',\n",
              " 23: '!',\n",
              " 24: 'do',\n",
              " 25: 'can',\n",
              " 26: 'my',\n",
              " 27: 'your',\n",
              " 28: 'go',\n",
              " 29: 'have',\n",
              " 30: 'not',\n",
              " 31: 'don',\n",
              " 32: 'll',\n",
              " 33: 'be',\n",
              " 34: 'she',\n",
              " 35: 'no',\n",
              " 36: 'did',\n",
              " 37: 'what',\n",
              " 38: 'all',\n",
              " 39: 'let',\n",
              " 40: 'here',\n",
              " 41: 'like',\n",
              " 42: 'in',\n",
              " 43: 'get',\n",
              " 44: 'up',\n",
              " 45: 'how',\n",
              " 46: 'very',\n",
              " 47: 'on',\n",
              " 48: 'need',\n",
              " 49: 'one',\n",
              " 50: 'want',\n",
              " 51: 'him',\n",
              " 52: 'out',\n",
              " 53: 'love',\n",
              " 54: 'come',\n",
              " 55: 'who',\n",
              " 56: 'please',\n",
              " 57: 'us',\n",
              " 58: 'there',\n",
              " 59: 'just',\n",
              " 60: 'know',\n",
              " 61: 'now',\n",
              " 62: 'stop',\n",
              " 63: 'so',\n",
              " 64: 'of',\n",
              " 65: 'got',\n",
              " 66: 'too',\n",
              " 67: 'help',\n",
              " 68: 'look',\n",
              " 69: 'take',\n",
              " 70: 'good',\n",
              " 71: 'for',\n",
              " 72: 'has',\n",
              " 73: 'at',\n",
              " 74: 'see',\n",
              " 75: 'will',\n",
              " 76: 'were',\n",
              " 77: 've',\n",
              " 78: 'keep',\n",
              " 79: 'had',\n",
              " 80: 'am',\n",
              " 81: 'back',\n",
              " 82: 'give',\n",
              " 83: 'feel',\n",
              " 84: 'saw',\n",
              " 85: 'try',\n",
              " 86: 'stay',\n",
              " 87: 'must',\n",
              " 88: 'happy',\n",
              " 89: 'where',\n",
              " 90: 'home',\n",
              " 91: 'alone',\n",
              " 92: 'didn',\n",
              " 93: 'car',\n",
              " 94: 'leave',\n",
              " 95: 'her',\n",
              " 96: 'work',\n",
              " 97: 'hate',\n",
              " 98: 'won',\n",
              " 99: 'everyone',\n",
              " 100: 'busy',\n",
              " 101: 'his',\n",
              " 102: 'again',\n",
              " 103: 'why',\n",
              " 104: 'an',\n",
              " 105: 'right',\n",
              " 106: 'made',\n",
              " 107: 'isn',\n",
              " 108: 'lost',\n",
              " 109: 'them',\n",
              " 110: 'mary',\n",
              " 111: 'looks',\n",
              " 112: 'dog',\n",
              " 113: 'eat',\n",
              " 114: 'never',\n",
              " 115: 'went',\n",
              " 116: 'felt',\n",
              " 117: 'may',\n",
              " 118: 'time',\n",
              " 119: 'down',\n",
              " 120: 'big',\n",
              " 121: 'job',\n",
              " 122: 'away',\n",
              " 123: 'still',\n",
              " 124: 'well',\n",
              " 125: 'nice',\n",
              " 126: 'wait',\n",
              " 127: 'going',\n",
              " 128: 'ready',\n",
              " 129: 'with',\n",
              " 130: 'bad',\n",
              " 131: 'off',\n",
              " 132: 'tell',\n",
              " 133: 'does',\n",
              " 134: 'drink',\n",
              " 135: 'say',\n",
              " 136: 'fun',\n",
              " 137: 'make',\n",
              " 138: 'think',\n",
              " 139: 'done',\n",
              " 140: 'book',\n",
              " 141: 'tired',\n",
              " 142: 'could',\n",
              " 143: 'left',\n",
              " 144: 'safe',\n",
              " 145: 'over',\n",
              " 146: 'about',\n",
              " 147: 'call',\n",
              " 148: 'kept',\n",
              " 149: 'really',\n",
              " 150: 'some',\n",
              " 151: 'old',\n",
              " 152: 'mine',\n",
              " 153: 'should',\n",
              " 154: 'french',\n",
              " 155: 'hurt',\n",
              " 156: 'lot',\n",
              " 157: 'late',\n",
              " 158: 'came',\n",
              " 159: 'enough',\n",
              " 160: 'money',\n",
              " 161: 'wasn',\n",
              " 162: 'open',\n",
              " 163: 'cold',\n",
              " 164: 'talk',\n",
              " 165: 'room',\n",
              " 166: 'new',\n",
              " 167: 'easy',\n",
              " 168: 'our',\n",
              " 169: 'way',\n",
              " 170: 'careful',\n",
              " 171: 'likes',\n",
              " 172: 'today',\n",
              " 173: 'live',\n",
              " 174: 'hard',\n",
              " 175: 'water',\n",
              " 176: 'read',\n",
              " 177: 'ok',\n",
              " 178: 'died',\n",
              " 179: 'watch',\n",
              " 180: 'broke',\n",
              " 181: 'loves',\n",
              " 182: 'gave',\n",
              " 183: 'hurry',\n",
              " 184: 'said',\n",
              " 185: 'idea',\n",
              " 186: 'much',\n",
              " 187: 'house',\n",
              " 188: 'd',\n",
              " 189: 'wrong',\n",
              " 190: 'more',\n",
              " 191: 'seems',\n",
              " 192: 'find',\n",
              " 193: 'bed',\n",
              " 194: 'funny',\n",
              " 195: 'day',\n",
              " 196: 'run',\n",
              " 197: 'dead',\n",
              " 198: 'door',\n",
              " 199: 'sure',\n",
              " 200: 'sit',\n",
              " 201: 'better',\n",
              " 202: 'everybody',\n",
              " 203: 'nobody',\n",
              " 204: 'found',\n",
              " 205: 'miss',\n",
              " 206: 'nothing',\n",
              " 207: 'cat',\n",
              " 208: 'man',\n",
              " 209: 'sleep',\n",
              " 210: 'upset',\n",
              " 211: 'both',\n",
              " 212: 'everything',\n",
              " 213: 'ask',\n",
              " 214: 'trust',\n",
              " 215: 'crazy',\n",
              " 216: 'turn',\n",
              " 217: 'hope',\n",
              " 218: 'hear',\n",
              " 219: 'sick',\n",
              " 220: 'yours',\n",
              " 221: 'true',\n",
              " 222: 'by',\n",
              " 223: 'show',\n",
              " 224: 'hungry',\n",
              " 225: 'free',\n",
              " 226: 'anyone',\n",
              " 227: 'life',\n",
              " 228: 'play',\n",
              " 229: 'pay',\n",
              " 230: 'die',\n",
              " 231: 'angry',\n",
              " 232: 'sad',\n",
              " 233: 'win',\n",
              " 234: 'these',\n",
              " 235: 'early',\n",
              " 236: 'mad',\n",
              " 237: 'school',\n",
              " 238: 'bring',\n",
              " 239: 'called',\n",
              " 240: 'stupid',\n",
              " 241: 'put',\n",
              " 242: 'sing',\n",
              " 243: 'check',\n",
              " 244: 'buy',\n",
              " 245: 'quit',\n",
              " 246: 'swim',\n",
              " 247: 'sat',\n",
              " 248: 'gone',\n",
              " 249: 'eyes',\n",
              " 250: 'took',\n",
              " 251: 'friends',\n",
              " 252: 'lucky',\n",
              " 253: 'quiet',\n",
              " 254: 'fine',\n",
              " 255: 'tall',\n",
              " 256: 'knew',\n",
              " 257: 'coming',\n",
              " 258: 'boy',\n",
              " 259: 'yourself',\n",
              " 260: 'forget',\n",
              " 261: 'mean',\n",
              " 262: 'fast',\n",
              " 263: 'walk',\n",
              " 264: 'drunk',\n",
              " 265: 'serious',\n",
              " 266: 'close',\n",
              " 267: 'working',\n",
              " 268: 'and',\n",
              " 269: 'name',\n",
              " 270: 'looked',\n",
              " 271: 'heard',\n",
              " 272: 'cool',\n",
              " 273: 'move',\n",
              " 274: 'care',\n",
              " 275: 'speak',\n",
              " 276: 'shot',\n",
              " 277: 'wine',\n",
              " 278: 'beer',\n",
              " 279: 'hand',\n",
              " 280: 'sorry',\n",
              " 281: 'calm',\n",
              " 282: 'perfect',\n",
              " 283: 'first',\n",
              " 284: 'knows',\n",
              " 285: 'kidding',\n",
              " 286: 'bit',\n",
              " 287: 'being',\n",
              " 288: 'fat',\n",
              " 289: 'stand',\n",
              " 290: 'outside',\n",
              " 291: 'remember',\n",
              " 292: 'problem',\n",
              " 293: 'friend',\n",
              " 294: 'almost',\n",
              " 295: 'thanks',\n",
              " 296: 'answer',\n",
              " 297: 'been',\n",
              " 298: 'loved',\n",
              " 299: 'great',\n",
              " 300: 'handle',\n",
              " 301: 'fell',\n",
              " 302: 'hold',\n",
              " 303: 'cry',\n",
              " 304: 'start',\n",
              " 305: 'anybody',\n",
              " 306: 'needs',\n",
              " 307: 'something',\n",
              " 308: 'hair',\n",
              " 309: 'doing',\n",
              " 310: 'only',\n",
              " 311: 'listen',\n",
              " 312: 'ahead',\n",
              " 313: 'hat',\n",
              " 314: 'aren',\n",
              " 315: 'yet',\n",
              " 316: 'from',\n",
              " 317: 'fired',\n",
              " 318: 'use',\n",
              " 319: 'follow',\n",
              " 320: 'liked',\n",
              " 321: 'met',\n",
              " 322: 'bus',\n",
              " 323: 'naive',\n",
              " 324: 'ate',\n",
              " 325: 'wants',\n",
              " 326: 'running',\n",
              " 327: 'coffee',\n",
              " 328: 'shut',\n",
              " 329: 'wake',\n",
              " 330: 'inside',\n",
              " 331: 'once',\n",
              " 332: 'best',\n",
              " 333: 'key',\n",
              " 334: 'finished',\n",
              " 335: 'plan',\n",
              " 336: 'kind',\n",
              " 337: 'tried',\n",
              " 338: 'long',\n",
              " 339: 'rich',\n",
              " 340: 'hot',\n",
              " 341: 'seat',\n",
              " 342: 'someone',\n",
              " 343: 'already',\n",
              " 344: 'quite',\n",
              " 345: 'touch',\n",
              " 346: 'write',\n",
              " 347: 'food',\n",
              " 348: 'son',\n",
              " 349: 'kids',\n",
              " 350: 'married',\n",
              " 351: 'nervous',\n",
              " 352: 'myself',\n",
              " 353: 'enjoy',\n",
              " 354: 'wanted',\n",
              " 355: 'as',\n",
              " 356: 'doesn',\n",
              " 357: 'began',\n",
              " 358: 'drive',\n",
              " 359: 'works',\n",
              " 360: 'red',\n",
              " 361: 'caught',\n",
              " 362: 'needed',\n",
              " 363: 'those',\n",
              " 364: 'stopped',\n",
              " 365: 'sign',\n",
              " 366: 'clean',\n",
              " 367: 'around',\n",
              " 368: 'scared',\n",
              " 369: 'fish',\n",
              " 370: 'change',\n",
              " 371: 'quickly',\n",
              " 372: 'gun',\n",
              " 373: 'music',\n",
              " 374: 'bag',\n",
              " 375: 'confused',\n",
              " 376: 'hates',\n",
              " 377: 'drop',\n",
              " 378: 'hit',\n",
              " 379: 'lie',\n",
              " 380: 'dogs',\n",
              " 381: 'two',\n",
              " 382: 'told',\n",
              " 383: 'sweet',\n",
              " 384: 'break',\n",
              " 385: 'girls',\n",
              " 386: 'believe',\n",
              " 387: 'wife',\n",
              " 388: 'word',\n",
              " 389: 'sounds',\n",
              " 390: 'beat',\n",
              " 391: 'ran',\n",
              " 392: 'fix',\n",
              " 393: 'lazy',\n",
              " 394: 'hurts',\n",
              " 395: 'lying',\n",
              " 396: 'changed',\n",
              " 397: 'nuts',\n",
              " 398: 'invited',\n",
              " 399: 'seen',\n",
              " 400: 'boston',\n",
              " 401: 'teacher',\n",
              " 402: 'tomorrow',\n",
              " 403: 'paid',\n",
              " 404: 'soon',\n",
              " 405: 'weird',\n",
              " 406: 'tv',\n",
              " 407: 'normal',\n",
              " 408: 'talking',\n",
              " 409: 'lunch',\n",
              " 410: 'crying',\n",
              " 411: 'laughed',\n",
              " 412: 'joke',\n",
              " 413: 'doctor',\n",
              " 414: 'owe',\n",
              " 415: 'when',\n",
              " 416: 'somebody',\n",
              " 417: 'awesome',\n",
              " 418: 'spoke',\n",
              " 419: 'catch',\n",
              " 420: 'luck',\n",
              " 421: 'waited',\n",
              " 422: 'missed',\n",
              " 423: 'child',\n",
              " 424: 'choice',\n",
              " 425: 'grab',\n",
              " 426: 'cute',\n",
              " 427: 'game',\n",
              " 428: 'strong',\n",
              " 429: 'smart',\n",
              " 430: 'prepared',\n",
              " 431: 'excited',\n",
              " 432: 'lose',\n",
              " 433: 'pretty',\n",
              " 434: 'would',\n",
              " 435: 'arrived',\n",
              " 436: 'if',\n",
              " 437: 'mother',\n",
              " 438: 'brave',\n",
              " 439: 'forgot',\n",
              " 440: 'after',\n",
              " 441: 'wonderful',\n",
              " 442: 'deal',\n",
              " 443: 'fight',\n",
              " 444: 'young',\n",
              " 445: 'milk',\n",
              " 446: 'song',\n",
              " 447: 'arm',\n",
              " 448: 'empty',\n",
              " 449: 'father',\n",
              " 450: 'boss',\n",
              " 451: 'important',\n",
              " 452: 'tie',\n",
              " 453: 'seem',\n",
              " 454: 'cried',\n",
              " 455: 'lock',\n",
              " 456: 'helped',\n",
              " 457: 'rest',\n",
              " 458: 'tea',\n",
              " 459: 'joking',\n",
              " 460: 'lonely',\n",
              " 461: 'study',\n",
              " 462: 'started',\n",
              " 463: 'bought',\n",
              " 464: 'light',\n",
              " 465: 'lied',\n",
              " 466: 'agree',\n",
              " 467: 'smoke',\n",
              " 468: 'shy',\n",
              " 469: 'rude',\n",
              " 470: 'awful',\n",
              " 471: 'worked',\n",
              " 472: 'cut',\n",
              " 473: 'guess',\n",
              " 474: 'asked',\n",
              " 475: 'small',\n",
              " 476: 'dream',\n",
              " 477: 'became',\n",
              " 478: 'horse',\n",
              " 479: 'amazing',\n",
              " 480: 'guy',\n",
              " 481: 'trouble',\n",
              " 482: 'getting',\n",
              " 483: 'sound',\n",
              " 484: 'terrific',\n",
              " 485: 'hands',\n",
              " 486: 'head',\n",
              " 487: 'alive',\n",
              " 488: 'walked',\n",
              " 489: 'saved',\n",
              " 490: 'slowly',\n",
              " 491: 'next',\n",
              " 492: 'upstairs',\n",
              " 493: 'slept',\n",
              " 494: 'afraid',\n",
              " 495: 'killed',\n",
              " 496: 'dinner',\n",
              " 497: 'oldest',\n",
              " 498: 'fair',\n",
              " 499: 'timid',\n",
              " 500: 'smell',\n",
              " 501: 'moving',\n",
              " 502: 'last',\n",
              " 503: 'drank',\n",
              " 504: 'leaving',\n",
              " 505: 'winning',\n",
              " 506: 'whose',\n",
              " 507: 'pen',\n",
              " 508: 'books',\n",
              " 509: 'which',\n",
              " 510: 'betrayed',\n",
              " 511: 'fault',\n",
              " 512: 'couldn',\n",
              " 513: 'phone',\n",
              " 514: 'slow',\n",
              " 515: 'real',\n",
              " 516: 'smiled',\n",
              " 517: 'honest',\n",
              " 518: 'cheated',\n",
              " 519: 'sleepy',\n",
              " 520: 'trying',\n",
              " 521: 'count',\n",
              " 522: 'often',\n",
              " 523: 'reading',\n",
              " 524: 'send',\n",
              " 525: 'pain',\n",
              " 526: 'trusted',\n",
              " 527: 'minute',\n",
              " 528: 'story',\n",
              " 529: 'relax',\n",
              " 530: 'hang',\n",
              " 531: 'fit',\n",
              " 532: 'kill',\n",
              " 533: 'wise',\n",
              " 534: 'full',\n",
              " 535: 'weak',\n",
              " 536: 'short',\n",
              " 537: 'dark',\n",
              " 538: 'step',\n",
              " 539: 'yes',\n",
              " 540: 'eating',\n",
              " 541: 'town',\n",
              " 542: 'mind',\n",
              " 543: 'laugh',\n",
              " 544: 'age',\n",
              " 545: 'cats',\n",
              " 546: 'unlucky',\n",
              " 547: 'happened',\n",
              " 548: 'always',\n",
              " 549: 'together',\n",
              " 550: 'place',\n",
              " 551: 'relaxed',\n",
              " 552: 'retired',\n",
              " 553: 'tough',\n",
              " 554: 'skinny',\n",
              " 555: 'ignore',\n",
              " 556: 'vote',\n",
              " 557: 'asleep',\n",
              " 558: 'correct',\n",
              " 559: 'heart',\n",
              " 560: 'might',\n",
              " 561: 'shoes',\n",
              " 562: 'warned',\n",
              " 563: 'sent',\n",
              " 564: 'own',\n",
              " 565: 'student',\n",
              " 566: 'turned',\n",
              " 567: 'join',\n",
              " 568: 'kiss',\n",
              " 569: 'push',\n",
              " 570: 'warm',\n",
              " 571: 'bored',\n",
              " 572: 'wish',\n",
              " 573: 'singing',\n",
              " 574: 'exhausted',\n",
              " 575: 'little',\n",
              " 576: 'family',\n",
              " 577: 'end',\n",
              " 578: 'bike',\n",
              " 579: 'into',\n",
              " 580: 'woke',\n",
              " 581: 'cook',\n",
              " 582: 'awake',\n",
              " 583: 'tight',\n",
              " 584: 'hired',\n",
              " 585: 'girl',\n",
              " 586: 'famous',\n",
              " 587: 'box',\n",
              " 588: 'trapped',\n",
              " 589: 'maybe',\n",
              " 590: 'smiling',\n",
              " 591: 'coat',\n",
              " 592: 'beautiful',\n",
              " 593: 'mom',\n",
              " 594: 'surprised',\n",
              " 595: 'behind',\n",
              " 596: 'continue',\n",
              " 597: 'wet',\n",
              " 598: 'failed',\n",
              " 599: 'save',\n",
              " 600: 'obey',\n",
              " 601: 'blind',\n",
              " 602: 'dying',\n",
              " 603: 'ours',\n",
              " 604: 'duty',\n",
              " 605: 'face',\n",
              " 606: 'liar',\n",
              " 607: 'night',\n",
              " 608: 'cake',\n",
              " 609: 'set',\n",
              " 610: 'thirsty',\n",
              " 611: 'broken',\n",
              " 612: 'silent',\n",
              " 613: 'closer',\n",
              " 614: 'many',\n",
              " 615: 'refused',\n",
              " 616: 'kid',\n",
              " 617: 'shopping',\n",
              " 618: 'blame',\n",
              " 619: 'black',\n",
              " 620: 'cops',\n",
              " 621: 'followed',\n",
              " 622: 'guilty',\n",
              " 623: 'point',\n",
              " 624: 'used',\n",
              " 625: 'doors',\n",
              " 626: 'bill',\n",
              " 627: 'every',\n",
              " 628: 'born',\n",
              " 629: 'choose',\n",
              " 630: 'naked',\n",
              " 631: 'far',\n",
              " 632: 'pardon',\n",
              " 633: 'thank',\n",
              " 634: 'blue',\n",
              " 635: 'curious',\n",
              " 636: 'news',\n",
              " 637: 'jealous',\n",
              " 638: 'shocked',\n",
              " 639: 'worried',\n",
              " 640: 'fake',\n",
              " 641: 'party',\n",
              " 642: 'bite',\n",
              " 643: 'kissed',\n",
              " 644: 'mess',\n",
              " 645: 'anything',\n",
              " 646: 'understand',\n",
              " 647: 'explain',\n",
              " 648: 'innocent',\n",
              " 649: 'involved',\n",
              " 650: 'law',\n",
              " 651: 'cruel',\n",
              " 652: 'god',\n",
              " 653: 'japanese',\n",
              " 654: 'listening',\n",
              " 655: 'throw',\n",
              " 656: 'trip',\n",
              " 657: 'movie',\n",
              " 658: 'fire',\n",
              " 659: 'smile',\n",
              " 660: 'wash',\n",
              " 661: 'refuse',\n",
              " 662: 'ugly',\n",
              " 663: 'helps',\n",
              " 664: 'warn',\n",
              " 665: 'patient',\n",
              " 666: 'men',\n",
              " 667: 'war',\n",
              " 668: 'creative',\n",
              " 669: 'finish',\n",
              " 670: 'bet',\n",
              " 671: 'driving',\n",
              " 672: 'shall',\n",
              " 673: 'meet',\n",
              " 674: 'meat',\n",
              " 675: 'feet',\n",
              " 676: 'things',\n",
              " 677: 'meant',\n",
              " 678: 'downstairs',\n",
              " 679: 'foolish',\n",
              " 680: 'or',\n",
              " 681: 'nose',\n",
              " 682: 'believed',\n",
              " 683: 'satisfied',\n",
              " 684: 'boring',\n",
              " 685: 'terrible',\n",
              " 686: 'boat',\n",
              " 687: 'ball',\n",
              " 688: 'lives',\n",
              " 689: 'watching',\n",
              " 690: 'dangerous',\n",
              " 691: 'desk',\n",
              " 692: 'side',\n",
              " 693: 'jump',\n",
              " 694: 'hello',\n",
              " 695: 'hug',\n",
              " 696: 'low',\n",
              " 697: 'welcome',\n",
              " 698: 'fly',\n",
              " 699: 'clear',\n",
              " 700: 'hero',\n",
              " 701: 'pick',\n",
              " 702: 'dance',\n",
              " 703: 'cash',\n",
              " 704: 'cooking',\n",
              " 705: 'fool',\n",
              " 706: 'useless',\n",
              " 707: 'rain',\n",
              " 708: 'team',\n",
              " 709: 'another',\n",
              " 710: 'map',\n",
              " 711: 'pizza',\n",
              " 712: 'writing',\n",
              " 713: 'yelling',\n",
              " 714: 'control',\n",
              " 715: 'ride',\n",
              " 716: 'raise',\n",
              " 717: 'danger',\n",
              " 718: 'camera',\n",
              " 719: 'keys',\n",
              " 720: 'carefully',\n",
              " 721: 'sister',\n",
              " 722: 'three',\n",
              " 723: 'ill',\n",
              " 724: 'guys',\n",
              " 725: 'taste',\n",
              " 726: 'excuse',\n",
              " 727: 'dirty',\n",
              " 728: 'agreed',\n",
              " 729: 'idiot',\n",
              " 730: 'along',\n",
              " 731: 'forgive',\n",
              " 732: 'worry',\n",
              " 733: 'sharp',\n",
              " 734: 'merciful',\n",
              " 735: 'snow',\n",
              " 736: 'list',\n",
              " 737: 'remain',\n",
              " 738: 'dress',\n",
              " 739: 'positive',\n",
              " 740: 'nearby',\n",
              " 741: 'happen',\n",
              " 742: 'shame',\n",
              " 743: 'looking',\n",
              " 744: 'polite',\n",
              " 745: 'survive',\n",
              " 746: 'week',\n",
              " 747: 'ambitious',\n",
              " 748: 'motivated',\n",
              " 749: 'raining',\n",
              " 750: 'laughing',\n",
              " 751: 'cup',\n",
              " 752: 'seemed',\n",
              " 753: 'second',\n",
              " 754: 'rid',\n",
              " 755: 'park',\n",
              " 756: 'disgusting',\n",
              " 757: 'baby',\n",
              " 758: 'brother',\n",
              " 759: 'feeling',\n",
              " 760: 'opened',\n",
              " 761: 'hi',\n",
              " 762: 'attack',\n",
              " 763: 'stood',\n",
              " 764: 'cover',\n",
              " 765: 'talked',\n",
              " 766: 'bald',\n",
              " 767: 'seated',\n",
              " 768: 'armed',\n",
              " 769: 'dizzy',\n",
              " 770: 'clever',\n",
              " 771: 'wrote',\n",
              " 772: 'shoot',\n",
              " 773: 'direct',\n",
              " 774: 'drives',\n",
              " 775: 'even',\n",
              " 776: 'friendly',\n",
              " 777: 'fear',\n",
              " 778: 'dancing',\n",
              " 779: 'stunned',\n",
              " 780: 'touched',\n",
              " 781: 'simple',\n",
              " 782: 'date',\n",
              " 783: 'bath',\n",
              " 784: 'hey',\n",
              " 785: 'silly',\n",
              " 786: 'proof',\n",
              " 787: 'risk',\n",
              " 788: 'decided',\n",
              " 789: 'jobs',\n",
              " 790: 'dry',\n",
              " 791: 'feels',\n",
              " 792: 'comes',\n",
              " 793: 'pleased',\n",
              " 794: 'impressed',\n",
              " 795: 'resilient',\n",
              " 796: 'helping',\n",
              " 797: 'bell',\n",
              " 798: 'chance',\n",
              " 799: 'tree',\n",
              " 800: 'rules',\n",
              " 801: 'brought',\n",
              " 802: 'knife',\n",
              " 803: 'mistake',\n",
              " 804: 'truth',\n",
              " 805: 'train',\n",
              " 806: 'same',\n",
              " 807: 'children',\n",
              " 808: 'enemy',\n",
              " 809: 'bicycle',\n",
              " 810: 'speaks',\n",
              " 811: 'begin',\n",
              " 812: 'high',\n",
              " 813: 'deep',\n",
              " 814: 'stayed',\n",
              " 815: 'glad',\n",
              " 816: 'okay',\n",
              " 817: 'beg',\n",
              " 818: 'stuck',\n",
              " 819: 'content',\n",
              " 820: 'lovely',\n",
              " 821: 'losing',\n",
              " 822: 'punctual',\n",
              " 823: 'hated',\n",
              " 824: 'scream',\n",
              " 825: 'starved',\n",
              " 826: 'secret',\n",
              " 827: 'escaped',\n",
              " 828: 'objective',\n",
              " 829: 'fearless',\n",
              " 830: 'cancer',\n",
              " 831: 'special',\n",
              " 832: 'focused',\n",
              " 833: 'while',\n",
              " 834: 'unbelievable',\n",
              " 835: 'matter',\n",
              " 836: 'favor',\n",
              " 837: 'tricked',\n",
              " 838: 'finally',\n",
              " 839: 'nearly',\n",
              " 840: 'different',\n",
              " 841: 'sense',\n",
              " 842: 'trusts',\n",
              " 843: 'makes',\n",
              " 844: 'rather',\n",
              " 845: 'having',\n",
              " 846: 'order',\n",
              " 847: 'escape',\n",
              " 848: 'relieved',\n",
              " 849: 'ordered',\n",
              " 850: 'productive',\n",
              " 851: 'oh',\n",
              " 852: 'deaf',\n",
              " 853: 'fantastic',\n",
              " 854: 'giggled',\n",
              " 855: 'burned',\n",
              " 856: 'loosen',\n",
              " 857: 'air',\n",
              " 858: 'green',\n",
              " 859: 'aside',\n",
              " 860: 'discreet',\n",
              " 861: 'also',\n",
              " 862: 'dumb',\n",
              " 863: 'baffled',\n",
              " 864: 'sincere',\n",
              " 865: 'unhappy',\n",
              " 866: 'loud',\n",
              " 867: 'teach',\n",
              " 868: 'resist',\n",
              " 869: 'deserve',\n",
              " 870: 'powerful',\n",
              " 871: 'strange',\n",
              " 872: 'sang',\n",
              " 873: 'tense',\n",
              " 874: 'closed',\n",
              " 875: 'woman',\n",
              " 876: 'any',\n",
              " 877: 'clock',\n",
              " 878: 'smells',\n",
              " 879: 'studying',\n",
              " 880: 'fed',\n",
              " 881: 'badly',\n",
              " 882: 'people',\n",
              " 883: 'skiing',\n",
              " 884: 'horses',\n",
              " 885: 'prefer',\n",
              " 886: 'concerned',\n",
              " 887: 'depressed',\n",
              " 888: 'leak',\n",
              " 889: 'window',\n",
              " 890: 'moment',\n",
              " 891: 'insane',\n",
              " 892: 'nonsense',\n",
              " 893: 'yourselves',\n",
              " 894: 'plays',\n",
              " 895: 'lit',\n",
              " 896: 'travel',\n",
              " 897: 'interested',\n",
              " 898: 'expensive',\n",
              " 899: 'apple',\n",
              " 900: 'tonight',\n",
              " 901: 'fate',\n",
              " 902: 'sore',\n",
              " 903: 'proud',\n",
              " 904: 'person',\n",
              " 905: 'pull',\n",
              " 906: 'birds',\n",
              " 907: 'rush',\n",
              " 908: 'poor',\n",
              " 909: 'promised',\n",
              " 910: 'loaded',\n",
              " 911: 'happens',\n",
              " 912: 'drinks',\n",
              " 913: 'decide',\n",
              " 914: 'dressed',\n",
              " 915: 'grew',\n",
              " 916: 'chose',\n",
              " 917: 'fined',\n",
              " 918: 'certain',\n",
              " 919: 'monday',\n",
              " 920: 'talks',\n",
              " 921: 'says',\n",
              " 922: 'confident',\n",
              " 923: 'dumped',\n",
              " 924: 'horrible',\n",
              " 925: 'pathetic',\n",
              " 926: 'paint',\n",
              " 927: 'lawyer',\n",
              " 928: 'singer',\n",
              " 929: 'divorced',\n",
              " 930: 'fighting',\n",
              " 931: 'pregnant',\n",
              " 932: 'sleeping',\n",
              " 933: 'stubborn',\n",
              " 934: 'white',\n",
              " 935: 'closely',\n",
              " 936: 'ended',\n",
              " 937: 'crime',\n",
              " 938: 'part',\n",
              " 939: 'fever',\n",
              " 940: 'summer',\n",
              " 941: 'rescued',\n",
              " 942: 'convinced',\n",
              " 943: 'forgetful',\n",
              " 944: 'screaming',\n",
              " 945: 'terrified',\n",
              " 946: 'later',\n",
              " 947: 'table',\n",
              " 948: 'near',\n",
              " 949: 'injured',\n",
              " 950: 'charge',\n",
              " 951: 'fishing',\n",
              " 952: 'panting',\n",
              " 953: 'chair',\n",
              " 954: 'christmas',\n",
              " 955: 'road',\n",
              " 956: 'store',\n",
              " 957: 'bank',\n",
              " 958: 'message',\n",
              " 959: 'drinking',\n",
              " 960: 'yesterday',\n",
              " 961: 'headache',\n",
              " 962: 'eye',\n",
              " 963: 'protect',\n",
              " 964: 'fortunate',\n",
              " 965: 'shirt',\n",
              " 966: 'hide',\n",
              " 967: 'pass',\n",
              " 968: 'faster',\n",
              " 969: 'ski',\n",
              " 970: 'cheered',\n",
              " 971: 'noticed',\n",
              " 972: 'promise',\n",
              " 973: 'fussy',\n",
              " 974: 'stinks',\n",
              " 975: 'hers',\n",
              " 976: 'then',\n",
              " 977: 'built',\n",
              " 978: 'amused',\n",
              " 979: 'buying',\n",
              " 980: 'ruined',\n",
              " 981: 'single',\n",
              " 982: 'sneaky',\n",
              " 983: 'matters',\n",
              " 984: 'cheap',\n",
              " 985: 'bother',\n",
              " 986: 'apologize',\n",
              " 987: 'soup',\n",
              " 988: 'messed',\n",
              " 989: 'eggs',\n",
              " 990: 'manage',\n",
              " 991: 'ashamed',\n",
              " 992: 'chicken',\n",
              " 993: 'staying',\n",
              " 994: 'memorize',\n",
              " 995: 'grow',\n",
              " 996: 'hugged',\n",
              " 997: 'drowned',\n",
              " 998: 'watched',\n",
              " 999: 'act',\n",
              " 1000: 'twins',\n",
              " ...}"
            ]
          },
          "metadata": {},
          "execution_count": 22
        }
      ],
      "source": [
        "tokenizer_en.index_word"
      ]
    },
    {
      "cell_type": "code",
      "execution_count": null,
      "metadata": {
        "colab": {
          "base_uri": "https://localhost:8080/"
        },
        "id": "9oNAeVzYI0oT",
        "outputId": "3d9132ce-2876-49b0-f1c2-f180dc5191e0",
        "collapsed": true
      },
      "outputs": [
        {
          "output_type": "execute_result",
          "data": {
            "text/plain": [
              "{'.': 1,\n",
              " 'i': 2,\n",
              " 'you': 3,\n",
              " '?': 4,\n",
              " 'tom': 5,\n",
              " 'it': 6,\n",
              " 'is': 7,\n",
              " 's': 8,\n",
              " 'a': 9,\n",
              " 're': 10,\n",
              " 'm': 11,\n",
              " 'we': 12,\n",
              " 't': 13,\n",
              " 'the': 14,\n",
              " 'that': 15,\n",
              " 'he': 16,\n",
              " 'was': 17,\n",
              " 'me': 18,\n",
              " 'this': 19,\n",
              " 'they': 20,\n",
              " 'are': 21,\n",
              " 'to': 22,\n",
              " '!': 23,\n",
              " 'do': 24,\n",
              " 'can': 25,\n",
              " 'my': 26,\n",
              " 'your': 27,\n",
              " 'go': 28,\n",
              " 'have': 29,\n",
              " 'not': 30,\n",
              " 'don': 31,\n",
              " 'll': 32,\n",
              " 'be': 33,\n",
              " 'she': 34,\n",
              " 'no': 35,\n",
              " 'did': 36,\n",
              " 'what': 37,\n",
              " 'all': 38,\n",
              " 'let': 39,\n",
              " 'here': 40,\n",
              " 'like': 41,\n",
              " 'in': 42,\n",
              " 'get': 43,\n",
              " 'up': 44,\n",
              " 'how': 45,\n",
              " 'very': 46,\n",
              " 'on': 47,\n",
              " 'need': 48,\n",
              " 'one': 49,\n",
              " 'want': 50,\n",
              " 'him': 51,\n",
              " 'out': 52,\n",
              " 'love': 53,\n",
              " 'come': 54,\n",
              " 'who': 55,\n",
              " 'please': 56,\n",
              " 'us': 57,\n",
              " 'there': 58,\n",
              " 'just': 59,\n",
              " 'know': 60,\n",
              " 'now': 61,\n",
              " 'stop': 62,\n",
              " 'so': 63,\n",
              " 'of': 64,\n",
              " 'got': 65,\n",
              " 'too': 66,\n",
              " 'help': 67,\n",
              " 'look': 68,\n",
              " 'take': 69,\n",
              " 'good': 70,\n",
              " 'for': 71,\n",
              " 'has': 72,\n",
              " 'at': 73,\n",
              " 'see': 74,\n",
              " 'will': 75,\n",
              " 'were': 76,\n",
              " 've': 77,\n",
              " 'keep': 78,\n",
              " 'had': 79,\n",
              " 'am': 80,\n",
              " 'back': 81,\n",
              " 'give': 82,\n",
              " 'feel': 83,\n",
              " 'saw': 84,\n",
              " 'try': 85,\n",
              " 'stay': 86,\n",
              " 'must': 87,\n",
              " 'happy': 88,\n",
              " 'where': 89,\n",
              " 'home': 90,\n",
              " 'alone': 91,\n",
              " 'didn': 92,\n",
              " 'car': 93,\n",
              " 'leave': 94,\n",
              " 'her': 95,\n",
              " 'work': 96,\n",
              " 'hate': 97,\n",
              " 'won': 98,\n",
              " 'everyone': 99,\n",
              " 'busy': 100,\n",
              " 'his': 101,\n",
              " 'again': 102,\n",
              " 'why': 103,\n",
              " 'an': 104,\n",
              " 'right': 105,\n",
              " 'made': 106,\n",
              " 'isn': 107,\n",
              " 'lost': 108,\n",
              " 'them': 109,\n",
              " 'mary': 110,\n",
              " 'looks': 111,\n",
              " 'dog': 112,\n",
              " 'eat': 113,\n",
              " 'never': 114,\n",
              " 'went': 115,\n",
              " 'felt': 116,\n",
              " 'may': 117,\n",
              " 'time': 118,\n",
              " 'down': 119,\n",
              " 'big': 120,\n",
              " 'job': 121,\n",
              " 'away': 122,\n",
              " 'still': 123,\n",
              " 'well': 124,\n",
              " 'nice': 125,\n",
              " 'wait': 126,\n",
              " 'going': 127,\n",
              " 'ready': 128,\n",
              " 'with': 129,\n",
              " 'bad': 130,\n",
              " 'off': 131,\n",
              " 'tell': 132,\n",
              " 'does': 133,\n",
              " 'drink': 134,\n",
              " 'say': 135,\n",
              " 'fun': 136,\n",
              " 'make': 137,\n",
              " 'think': 138,\n",
              " 'done': 139,\n",
              " 'book': 140,\n",
              " 'tired': 141,\n",
              " 'could': 142,\n",
              " 'left': 143,\n",
              " 'safe': 144,\n",
              " 'over': 145,\n",
              " 'about': 146,\n",
              " 'call': 147,\n",
              " 'kept': 148,\n",
              " 'really': 149,\n",
              " 'some': 150,\n",
              " 'old': 151,\n",
              " 'mine': 152,\n",
              " 'should': 153,\n",
              " 'french': 154,\n",
              " 'hurt': 155,\n",
              " 'lot': 156,\n",
              " 'late': 157,\n",
              " 'came': 158,\n",
              " 'enough': 159,\n",
              " 'money': 160,\n",
              " 'wasn': 161,\n",
              " 'open': 162,\n",
              " 'cold': 163,\n",
              " 'talk': 164,\n",
              " 'room': 165,\n",
              " 'new': 166,\n",
              " 'easy': 167,\n",
              " 'our': 168,\n",
              " 'way': 169,\n",
              " 'careful': 170,\n",
              " 'likes': 171,\n",
              " 'today': 172,\n",
              " 'live': 173,\n",
              " 'hard': 174,\n",
              " 'water': 175,\n",
              " 'read': 176,\n",
              " 'ok': 177,\n",
              " 'died': 178,\n",
              " 'watch': 179,\n",
              " 'broke': 180,\n",
              " 'loves': 181,\n",
              " 'gave': 182,\n",
              " 'hurry': 183,\n",
              " 'said': 184,\n",
              " 'idea': 185,\n",
              " 'much': 186,\n",
              " 'house': 187,\n",
              " 'd': 188,\n",
              " 'wrong': 189,\n",
              " 'more': 190,\n",
              " 'seems': 191,\n",
              " 'find': 192,\n",
              " 'bed': 193,\n",
              " 'funny': 194,\n",
              " 'day': 195,\n",
              " 'run': 196,\n",
              " 'dead': 197,\n",
              " 'door': 198,\n",
              " 'sure': 199,\n",
              " 'sit': 200,\n",
              " 'better': 201,\n",
              " 'everybody': 202,\n",
              " 'nobody': 203,\n",
              " 'found': 204,\n",
              " 'miss': 205,\n",
              " 'nothing': 206,\n",
              " 'cat': 207,\n",
              " 'man': 208,\n",
              " 'sleep': 209,\n",
              " 'upset': 210,\n",
              " 'both': 211,\n",
              " 'everything': 212,\n",
              " 'ask': 213,\n",
              " 'trust': 214,\n",
              " 'crazy': 215,\n",
              " 'turn': 216,\n",
              " 'hope': 217,\n",
              " 'hear': 218,\n",
              " 'sick': 219,\n",
              " 'yours': 220,\n",
              " 'true': 221,\n",
              " 'by': 222,\n",
              " 'show': 223,\n",
              " 'hungry': 224,\n",
              " 'free': 225,\n",
              " 'anyone': 226,\n",
              " 'life': 227,\n",
              " 'play': 228,\n",
              " 'pay': 229,\n",
              " 'die': 230,\n",
              " 'angry': 231,\n",
              " 'sad': 232,\n",
              " 'win': 233,\n",
              " 'these': 234,\n",
              " 'early': 235,\n",
              " 'mad': 236,\n",
              " 'school': 237,\n",
              " 'bring': 238,\n",
              " 'called': 239,\n",
              " 'stupid': 240,\n",
              " 'put': 241,\n",
              " 'sing': 242,\n",
              " 'check': 243,\n",
              " 'buy': 244,\n",
              " 'quit': 245,\n",
              " 'swim': 246,\n",
              " 'sat': 247,\n",
              " 'gone': 248,\n",
              " 'eyes': 249,\n",
              " 'took': 250,\n",
              " 'friends': 251,\n",
              " 'lucky': 252,\n",
              " 'quiet': 253,\n",
              " 'fine': 254,\n",
              " 'tall': 255,\n",
              " 'knew': 256,\n",
              " 'coming': 257,\n",
              " 'boy': 258,\n",
              " 'yourself': 259,\n",
              " 'forget': 260,\n",
              " 'mean': 261,\n",
              " 'fast': 262,\n",
              " 'walk': 263,\n",
              " 'drunk': 264,\n",
              " 'serious': 265,\n",
              " 'close': 266,\n",
              " 'working': 267,\n",
              " 'and': 268,\n",
              " 'name': 269,\n",
              " 'looked': 270,\n",
              " 'heard': 271,\n",
              " 'cool': 272,\n",
              " 'move': 273,\n",
              " 'care': 274,\n",
              " 'speak': 275,\n",
              " 'shot': 276,\n",
              " 'wine': 277,\n",
              " 'beer': 278,\n",
              " 'hand': 279,\n",
              " 'sorry': 280,\n",
              " 'calm': 281,\n",
              " 'perfect': 282,\n",
              " 'first': 283,\n",
              " 'knows': 284,\n",
              " 'kidding': 285,\n",
              " 'bit': 286,\n",
              " 'being': 287,\n",
              " 'fat': 288,\n",
              " 'stand': 289,\n",
              " 'outside': 290,\n",
              " 'remember': 291,\n",
              " 'problem': 292,\n",
              " 'friend': 293,\n",
              " 'almost': 294,\n",
              " 'thanks': 295,\n",
              " 'answer': 296,\n",
              " 'been': 297,\n",
              " 'loved': 298,\n",
              " 'great': 299,\n",
              " 'handle': 300,\n",
              " 'fell': 301,\n",
              " 'hold': 302,\n",
              " 'cry': 303,\n",
              " 'start': 304,\n",
              " 'anybody': 305,\n",
              " 'needs': 306,\n",
              " 'something': 307,\n",
              " 'hair': 308,\n",
              " 'doing': 309,\n",
              " 'only': 310,\n",
              " 'listen': 311,\n",
              " 'ahead': 312,\n",
              " 'hat': 313,\n",
              " 'aren': 314,\n",
              " 'yet': 315,\n",
              " 'from': 316,\n",
              " 'fired': 317,\n",
              " 'use': 318,\n",
              " 'follow': 319,\n",
              " 'liked': 320,\n",
              " 'met': 321,\n",
              " 'bus': 322,\n",
              " 'naive': 323,\n",
              " 'ate': 324,\n",
              " 'wants': 325,\n",
              " 'running': 326,\n",
              " 'coffee': 327,\n",
              " 'shut': 328,\n",
              " 'wake': 329,\n",
              " 'inside': 330,\n",
              " 'once': 331,\n",
              " 'best': 332,\n",
              " 'key': 333,\n",
              " 'finished': 334,\n",
              " 'plan': 335,\n",
              " 'kind': 336,\n",
              " 'tried': 337,\n",
              " 'long': 338,\n",
              " 'rich': 339,\n",
              " 'hot': 340,\n",
              " 'seat': 341,\n",
              " 'someone': 342,\n",
              " 'already': 343,\n",
              " 'quite': 344,\n",
              " 'touch': 345,\n",
              " 'write': 346,\n",
              " 'food': 347,\n",
              " 'son': 348,\n",
              " 'kids': 349,\n",
              " 'married': 350,\n",
              " 'nervous': 351,\n",
              " 'myself': 352,\n",
              " 'enjoy': 353,\n",
              " 'wanted': 354,\n",
              " 'as': 355,\n",
              " 'doesn': 356,\n",
              " 'began': 357,\n",
              " 'drive': 358,\n",
              " 'works': 359,\n",
              " 'red': 360,\n",
              " 'caught': 361,\n",
              " 'needed': 362,\n",
              " 'those': 363,\n",
              " 'stopped': 364,\n",
              " 'sign': 365,\n",
              " 'clean': 366,\n",
              " 'around': 367,\n",
              " 'scared': 368,\n",
              " 'fish': 369,\n",
              " 'change': 370,\n",
              " 'quickly': 371,\n",
              " 'gun': 372,\n",
              " 'music': 373,\n",
              " 'bag': 374,\n",
              " 'confused': 375,\n",
              " 'hates': 376,\n",
              " 'drop': 377,\n",
              " 'hit': 378,\n",
              " 'lie': 379,\n",
              " 'dogs': 380,\n",
              " 'two': 381,\n",
              " 'told': 382,\n",
              " 'sweet': 383,\n",
              " 'break': 384,\n",
              " 'girls': 385,\n",
              " 'believe': 386,\n",
              " 'wife': 387,\n",
              " 'word': 388,\n",
              " 'sounds': 389,\n",
              " 'beat': 390,\n",
              " 'ran': 391,\n",
              " 'fix': 392,\n",
              " 'lazy': 393,\n",
              " 'hurts': 394,\n",
              " 'lying': 395,\n",
              " 'changed': 396,\n",
              " 'nuts': 397,\n",
              " 'invited': 398,\n",
              " 'seen': 399,\n",
              " 'boston': 400,\n",
              " 'teacher': 401,\n",
              " 'tomorrow': 402,\n",
              " 'paid': 403,\n",
              " 'soon': 404,\n",
              " 'weird': 405,\n",
              " 'tv': 406,\n",
              " 'normal': 407,\n",
              " 'talking': 408,\n",
              " 'lunch': 409,\n",
              " 'crying': 410,\n",
              " 'laughed': 411,\n",
              " 'joke': 412,\n",
              " 'doctor': 413,\n",
              " 'owe': 414,\n",
              " 'when': 415,\n",
              " 'somebody': 416,\n",
              " 'awesome': 417,\n",
              " 'spoke': 418,\n",
              " 'catch': 419,\n",
              " 'luck': 420,\n",
              " 'waited': 421,\n",
              " 'missed': 422,\n",
              " 'child': 423,\n",
              " 'choice': 424,\n",
              " 'grab': 425,\n",
              " 'cute': 426,\n",
              " 'game': 427,\n",
              " 'strong': 428,\n",
              " 'smart': 429,\n",
              " 'prepared': 430,\n",
              " 'excited': 431,\n",
              " 'lose': 432,\n",
              " 'pretty': 433,\n",
              " 'would': 434,\n",
              " 'arrived': 435,\n",
              " 'if': 436,\n",
              " 'mother': 437,\n",
              " 'brave': 438,\n",
              " 'forgot': 439,\n",
              " 'after': 440,\n",
              " 'wonderful': 441,\n",
              " 'deal': 442,\n",
              " 'fight': 443,\n",
              " 'young': 444,\n",
              " 'milk': 445,\n",
              " 'song': 446,\n",
              " 'arm': 447,\n",
              " 'empty': 448,\n",
              " 'father': 449,\n",
              " 'boss': 450,\n",
              " 'important': 451,\n",
              " 'tie': 452,\n",
              " 'seem': 453,\n",
              " 'cried': 454,\n",
              " 'lock': 455,\n",
              " 'helped': 456,\n",
              " 'rest': 457,\n",
              " 'tea': 458,\n",
              " 'joking': 459,\n",
              " 'lonely': 460,\n",
              " 'study': 461,\n",
              " 'started': 462,\n",
              " 'bought': 463,\n",
              " 'light': 464,\n",
              " 'lied': 465,\n",
              " 'agree': 466,\n",
              " 'smoke': 467,\n",
              " 'shy': 468,\n",
              " 'rude': 469,\n",
              " 'awful': 470,\n",
              " 'worked': 471,\n",
              " 'cut': 472,\n",
              " 'guess': 473,\n",
              " 'asked': 474,\n",
              " 'small': 475,\n",
              " 'dream': 476,\n",
              " 'became': 477,\n",
              " 'horse': 478,\n",
              " 'amazing': 479,\n",
              " 'guy': 480,\n",
              " 'trouble': 481,\n",
              " 'getting': 482,\n",
              " 'sound': 483,\n",
              " 'terrific': 484,\n",
              " 'hands': 485,\n",
              " 'head': 486,\n",
              " 'alive': 487,\n",
              " 'walked': 488,\n",
              " 'saved': 489,\n",
              " 'slowly': 490,\n",
              " 'next': 491,\n",
              " 'upstairs': 492,\n",
              " 'slept': 493,\n",
              " 'afraid': 494,\n",
              " 'killed': 495,\n",
              " 'dinner': 496,\n",
              " 'oldest': 497,\n",
              " 'fair': 498,\n",
              " 'timid': 499,\n",
              " 'smell': 500,\n",
              " 'moving': 501,\n",
              " 'last': 502,\n",
              " 'drank': 503,\n",
              " 'leaving': 504,\n",
              " 'winning': 505,\n",
              " 'whose': 506,\n",
              " 'pen': 507,\n",
              " 'books': 508,\n",
              " 'which': 509,\n",
              " 'betrayed': 510,\n",
              " 'fault': 511,\n",
              " 'couldn': 512,\n",
              " 'phone': 513,\n",
              " 'slow': 514,\n",
              " 'real': 515,\n",
              " 'smiled': 516,\n",
              " 'honest': 517,\n",
              " 'cheated': 518,\n",
              " 'sleepy': 519,\n",
              " 'trying': 520,\n",
              " 'count': 521,\n",
              " 'often': 522,\n",
              " 'reading': 523,\n",
              " 'send': 524,\n",
              " 'pain': 525,\n",
              " 'trusted': 526,\n",
              " 'minute': 527,\n",
              " 'story': 528,\n",
              " 'relax': 529,\n",
              " 'hang': 530,\n",
              " 'fit': 531,\n",
              " 'kill': 532,\n",
              " 'wise': 533,\n",
              " 'full': 534,\n",
              " 'weak': 535,\n",
              " 'short': 536,\n",
              " 'dark': 537,\n",
              " 'step': 538,\n",
              " 'yes': 539,\n",
              " 'eating': 540,\n",
              " 'town': 541,\n",
              " 'mind': 542,\n",
              " 'laugh': 543,\n",
              " 'age': 544,\n",
              " 'cats': 545,\n",
              " 'unlucky': 546,\n",
              " 'happened': 547,\n",
              " 'always': 548,\n",
              " 'together': 549,\n",
              " 'place': 550,\n",
              " 'relaxed': 551,\n",
              " 'retired': 552,\n",
              " 'tough': 553,\n",
              " 'skinny': 554,\n",
              " 'ignore': 555,\n",
              " 'vote': 556,\n",
              " 'asleep': 557,\n",
              " 'correct': 558,\n",
              " 'heart': 559,\n",
              " 'might': 560,\n",
              " 'shoes': 561,\n",
              " 'warned': 562,\n",
              " 'sent': 563,\n",
              " 'own': 564,\n",
              " 'student': 565,\n",
              " 'turned': 566,\n",
              " 'join': 567,\n",
              " 'kiss': 568,\n",
              " 'push': 569,\n",
              " 'warm': 570,\n",
              " 'bored': 571,\n",
              " 'wish': 572,\n",
              " 'singing': 573,\n",
              " 'exhausted': 574,\n",
              " 'little': 575,\n",
              " 'family': 576,\n",
              " 'end': 577,\n",
              " 'bike': 578,\n",
              " 'into': 579,\n",
              " 'woke': 580,\n",
              " 'cook': 581,\n",
              " 'awake': 582,\n",
              " 'tight': 583,\n",
              " 'hired': 584,\n",
              " 'girl': 585,\n",
              " 'famous': 586,\n",
              " 'box': 587,\n",
              " 'trapped': 588,\n",
              " 'maybe': 589,\n",
              " 'smiling': 590,\n",
              " 'coat': 591,\n",
              " 'beautiful': 592,\n",
              " 'mom': 593,\n",
              " 'surprised': 594,\n",
              " 'behind': 595,\n",
              " 'continue': 596,\n",
              " 'wet': 597,\n",
              " 'failed': 598,\n",
              " 'save': 599,\n",
              " 'obey': 600,\n",
              " 'blind': 601,\n",
              " 'dying': 602,\n",
              " 'ours': 603,\n",
              " 'duty': 604,\n",
              " 'face': 605,\n",
              " 'liar': 606,\n",
              " 'night': 607,\n",
              " 'cake': 608,\n",
              " 'set': 609,\n",
              " 'thirsty': 610,\n",
              " 'broken': 611,\n",
              " 'silent': 612,\n",
              " 'closer': 613,\n",
              " 'many': 614,\n",
              " 'refused': 615,\n",
              " 'kid': 616,\n",
              " 'shopping': 617,\n",
              " 'blame': 618,\n",
              " 'black': 619,\n",
              " 'cops': 620,\n",
              " 'followed': 621,\n",
              " 'guilty': 622,\n",
              " 'point': 623,\n",
              " 'used': 624,\n",
              " 'doors': 625,\n",
              " 'bill': 626,\n",
              " 'every': 627,\n",
              " 'born': 628,\n",
              " 'choose': 629,\n",
              " 'naked': 630,\n",
              " 'far': 631,\n",
              " 'pardon': 632,\n",
              " 'thank': 633,\n",
              " 'blue': 634,\n",
              " 'curious': 635,\n",
              " 'news': 636,\n",
              " 'jealous': 637,\n",
              " 'shocked': 638,\n",
              " 'worried': 639,\n",
              " 'fake': 640,\n",
              " 'party': 641,\n",
              " 'bite': 642,\n",
              " 'kissed': 643,\n",
              " 'mess': 644,\n",
              " 'anything': 645,\n",
              " 'understand': 646,\n",
              " 'explain': 647,\n",
              " 'innocent': 648,\n",
              " 'involved': 649,\n",
              " 'law': 650,\n",
              " 'cruel': 651,\n",
              " 'god': 652,\n",
              " 'japanese': 653,\n",
              " 'listening': 654,\n",
              " 'throw': 655,\n",
              " 'trip': 656,\n",
              " 'movie': 657,\n",
              " 'fire': 658,\n",
              " 'smile': 659,\n",
              " 'wash': 660,\n",
              " 'refuse': 661,\n",
              " 'ugly': 662,\n",
              " 'helps': 663,\n",
              " 'warn': 664,\n",
              " 'patient': 665,\n",
              " 'men': 666,\n",
              " 'war': 667,\n",
              " 'creative': 668,\n",
              " 'finish': 669,\n",
              " 'bet': 670,\n",
              " 'driving': 671,\n",
              " 'shall': 672,\n",
              " 'meet': 673,\n",
              " 'meat': 674,\n",
              " 'feet': 675,\n",
              " 'things': 676,\n",
              " 'meant': 677,\n",
              " 'downstairs': 678,\n",
              " 'foolish': 679,\n",
              " 'or': 680,\n",
              " 'nose': 681,\n",
              " 'believed': 682,\n",
              " 'satisfied': 683,\n",
              " 'boring': 684,\n",
              " 'terrible': 685,\n",
              " 'boat': 686,\n",
              " 'ball': 687,\n",
              " 'lives': 688,\n",
              " 'watching': 689,\n",
              " 'dangerous': 690,\n",
              " 'desk': 691,\n",
              " 'side': 692,\n",
              " 'jump': 693,\n",
              " 'hello': 694,\n",
              " 'hug': 695,\n",
              " 'low': 696,\n",
              " 'welcome': 697,\n",
              " 'fly': 698,\n",
              " 'clear': 699,\n",
              " 'hero': 700,\n",
              " 'pick': 701,\n",
              " 'dance': 702,\n",
              " 'cash': 703,\n",
              " 'cooking': 704,\n",
              " 'fool': 705,\n",
              " 'useless': 706,\n",
              " 'rain': 707,\n",
              " 'team': 708,\n",
              " 'another': 709,\n",
              " 'map': 710,\n",
              " 'pizza': 711,\n",
              " 'writing': 712,\n",
              " 'yelling': 713,\n",
              " 'control': 714,\n",
              " 'ride': 715,\n",
              " 'raise': 716,\n",
              " 'danger': 717,\n",
              " 'camera': 718,\n",
              " 'keys': 719,\n",
              " 'carefully': 720,\n",
              " 'sister': 721,\n",
              " 'three': 722,\n",
              " 'ill': 723,\n",
              " 'guys': 724,\n",
              " 'taste': 725,\n",
              " 'excuse': 726,\n",
              " 'dirty': 727,\n",
              " 'agreed': 728,\n",
              " 'idiot': 729,\n",
              " 'along': 730,\n",
              " 'forgive': 731,\n",
              " 'worry': 732,\n",
              " 'sharp': 733,\n",
              " 'merciful': 734,\n",
              " 'snow': 735,\n",
              " 'list': 736,\n",
              " 'remain': 737,\n",
              " 'dress': 738,\n",
              " 'positive': 739,\n",
              " 'nearby': 740,\n",
              " 'happen': 741,\n",
              " 'shame': 742,\n",
              " 'looking': 743,\n",
              " 'polite': 744,\n",
              " 'survive': 745,\n",
              " 'week': 746,\n",
              " 'ambitious': 747,\n",
              " 'motivated': 748,\n",
              " 'raining': 749,\n",
              " 'laughing': 750,\n",
              " 'cup': 751,\n",
              " 'seemed': 752,\n",
              " 'second': 753,\n",
              " 'rid': 754,\n",
              " 'park': 755,\n",
              " 'disgusting': 756,\n",
              " 'baby': 757,\n",
              " 'brother': 758,\n",
              " 'feeling': 759,\n",
              " 'opened': 760,\n",
              " 'hi': 761,\n",
              " 'attack': 762,\n",
              " 'stood': 763,\n",
              " 'cover': 764,\n",
              " 'talked': 765,\n",
              " 'bald': 766,\n",
              " 'seated': 767,\n",
              " 'armed': 768,\n",
              " 'dizzy': 769,\n",
              " 'clever': 770,\n",
              " 'wrote': 771,\n",
              " 'shoot': 772,\n",
              " 'direct': 773,\n",
              " 'drives': 774,\n",
              " 'even': 775,\n",
              " 'friendly': 776,\n",
              " 'fear': 777,\n",
              " 'dancing': 778,\n",
              " 'stunned': 779,\n",
              " 'touched': 780,\n",
              " 'simple': 781,\n",
              " 'date': 782,\n",
              " 'bath': 783,\n",
              " 'hey': 784,\n",
              " 'silly': 785,\n",
              " 'proof': 786,\n",
              " 'risk': 787,\n",
              " 'decided': 788,\n",
              " 'jobs': 789,\n",
              " 'dry': 790,\n",
              " 'feels': 791,\n",
              " 'comes': 792,\n",
              " 'pleased': 793,\n",
              " 'impressed': 794,\n",
              " 'resilient': 795,\n",
              " 'helping': 796,\n",
              " 'bell': 797,\n",
              " 'chance': 798,\n",
              " 'tree': 799,\n",
              " 'rules': 800,\n",
              " 'brought': 801,\n",
              " 'knife': 802,\n",
              " 'mistake': 803,\n",
              " 'truth': 804,\n",
              " 'train': 805,\n",
              " 'same': 806,\n",
              " 'children': 807,\n",
              " 'enemy': 808,\n",
              " 'bicycle': 809,\n",
              " 'speaks': 810,\n",
              " 'begin': 811,\n",
              " 'high': 812,\n",
              " 'deep': 813,\n",
              " 'stayed': 814,\n",
              " 'glad': 815,\n",
              " 'okay': 816,\n",
              " 'beg': 817,\n",
              " 'stuck': 818,\n",
              " 'content': 819,\n",
              " 'lovely': 820,\n",
              " 'losing': 821,\n",
              " 'punctual': 822,\n",
              " 'hated': 823,\n",
              " 'scream': 824,\n",
              " 'starved': 825,\n",
              " 'secret': 826,\n",
              " 'escaped': 827,\n",
              " 'objective': 828,\n",
              " 'fearless': 829,\n",
              " 'cancer': 830,\n",
              " 'special': 831,\n",
              " 'focused': 832,\n",
              " 'while': 833,\n",
              " 'unbelievable': 834,\n",
              " 'matter': 835,\n",
              " 'favor': 836,\n",
              " 'tricked': 837,\n",
              " 'finally': 838,\n",
              " 'nearly': 839,\n",
              " 'different': 840,\n",
              " 'sense': 841,\n",
              " 'trusts': 842,\n",
              " 'makes': 843,\n",
              " 'rather': 844,\n",
              " 'having': 845,\n",
              " 'order': 846,\n",
              " 'escape': 847,\n",
              " 'relieved': 848,\n",
              " 'ordered': 849,\n",
              " 'productive': 850,\n",
              " 'oh': 851,\n",
              " 'deaf': 852,\n",
              " 'fantastic': 853,\n",
              " 'giggled': 854,\n",
              " 'burned': 855,\n",
              " 'loosen': 856,\n",
              " 'air': 857,\n",
              " 'green': 858,\n",
              " 'aside': 859,\n",
              " 'discreet': 860,\n",
              " 'also': 861,\n",
              " 'dumb': 862,\n",
              " 'baffled': 863,\n",
              " 'sincere': 864,\n",
              " 'unhappy': 865,\n",
              " 'loud': 866,\n",
              " 'teach': 867,\n",
              " 'resist': 868,\n",
              " 'deserve': 869,\n",
              " 'powerful': 870,\n",
              " 'strange': 871,\n",
              " 'sang': 872,\n",
              " 'tense': 873,\n",
              " 'closed': 874,\n",
              " 'woman': 875,\n",
              " 'any': 876,\n",
              " 'clock': 877,\n",
              " 'smells': 878,\n",
              " 'studying': 879,\n",
              " 'fed': 880,\n",
              " 'badly': 881,\n",
              " 'people': 882,\n",
              " 'skiing': 883,\n",
              " 'horses': 884,\n",
              " 'prefer': 885,\n",
              " 'concerned': 886,\n",
              " 'depressed': 887,\n",
              " 'leak': 888,\n",
              " 'window': 889,\n",
              " 'moment': 890,\n",
              " 'insane': 891,\n",
              " 'nonsense': 892,\n",
              " 'yourselves': 893,\n",
              " 'plays': 894,\n",
              " 'lit': 895,\n",
              " 'travel': 896,\n",
              " 'interested': 897,\n",
              " 'expensive': 898,\n",
              " 'apple': 899,\n",
              " 'tonight': 900,\n",
              " 'fate': 901,\n",
              " 'sore': 902,\n",
              " 'proud': 903,\n",
              " 'person': 904,\n",
              " 'pull': 905,\n",
              " 'birds': 906,\n",
              " 'rush': 907,\n",
              " 'poor': 908,\n",
              " 'promised': 909,\n",
              " 'loaded': 910,\n",
              " 'happens': 911,\n",
              " 'drinks': 912,\n",
              " 'decide': 913,\n",
              " 'dressed': 914,\n",
              " 'grew': 915,\n",
              " 'chose': 916,\n",
              " 'fined': 917,\n",
              " 'certain': 918,\n",
              " 'monday': 919,\n",
              " 'talks': 920,\n",
              " 'says': 921,\n",
              " 'confident': 922,\n",
              " 'dumped': 923,\n",
              " 'horrible': 924,\n",
              " 'pathetic': 925,\n",
              " 'paint': 926,\n",
              " 'lawyer': 927,\n",
              " 'singer': 928,\n",
              " 'divorced': 929,\n",
              " 'fighting': 930,\n",
              " 'pregnant': 931,\n",
              " 'sleeping': 932,\n",
              " 'stubborn': 933,\n",
              " 'white': 934,\n",
              " 'closely': 935,\n",
              " 'ended': 936,\n",
              " 'crime': 937,\n",
              " 'part': 938,\n",
              " 'fever': 939,\n",
              " 'summer': 940,\n",
              " 'rescued': 941,\n",
              " 'convinced': 942,\n",
              " 'forgetful': 943,\n",
              " 'screaming': 944,\n",
              " 'terrified': 945,\n",
              " 'later': 946,\n",
              " 'table': 947,\n",
              " 'near': 948,\n",
              " 'injured': 949,\n",
              " 'charge': 950,\n",
              " 'fishing': 951,\n",
              " 'panting': 952,\n",
              " 'chair': 953,\n",
              " 'christmas': 954,\n",
              " 'road': 955,\n",
              " 'store': 956,\n",
              " 'bank': 957,\n",
              " 'message': 958,\n",
              " 'drinking': 959,\n",
              " 'yesterday': 960,\n",
              " 'headache': 961,\n",
              " 'eye': 962,\n",
              " 'protect': 963,\n",
              " 'fortunate': 964,\n",
              " 'shirt': 965,\n",
              " 'hide': 966,\n",
              " 'pass': 967,\n",
              " 'faster': 968,\n",
              " 'ski': 969,\n",
              " 'cheered': 970,\n",
              " 'noticed': 971,\n",
              " 'promise': 972,\n",
              " 'fussy': 973,\n",
              " 'stinks': 974,\n",
              " 'hers': 975,\n",
              " 'then': 976,\n",
              " 'built': 977,\n",
              " 'amused': 978,\n",
              " 'buying': 979,\n",
              " 'ruined': 980,\n",
              " 'single': 981,\n",
              " 'sneaky': 982,\n",
              " 'matters': 983,\n",
              " 'cheap': 984,\n",
              " 'bother': 985,\n",
              " 'apologize': 986,\n",
              " 'soup': 987,\n",
              " 'messed': 988,\n",
              " 'eggs': 989,\n",
              " 'manage': 990,\n",
              " 'ashamed': 991,\n",
              " 'chicken': 992,\n",
              " 'staying': 993,\n",
              " 'memorize': 994,\n",
              " 'grow': 995,\n",
              " 'hugged': 996,\n",
              " 'drowned': 997,\n",
              " 'watched': 998,\n",
              " 'act': 999,\n",
              " 'twins': 1000,\n",
              " ...}"
            ]
          },
          "metadata": {},
          "execution_count": 21
        }
      ],
      "source": [
        "tokenizer_en.word_index"
      ]
    },
    {
      "cell_type": "code",
      "execution_count": null,
      "metadata": {
        "colab": {
          "base_uri": "https://localhost:8080/"
        },
        "id": "9YXbxt9oI71A",
        "outputId": "285125f5-ccd1-405a-db63-13dcf1886ada",
        "collapsed": true
      },
      "outputs": [
        {
          "output_type": "execute_result",
          "data": {
            "text/plain": [
              "OrderedDict([('go', 815),\n",
              "             ('.', 27846),\n",
              "             ('hi', 14),\n",
              "             ('run', 71),\n",
              "             ('!', 1022),\n",
              "             ('who', 319),\n",
              "             ('?', 4153),\n",
              "             ('wow', 5),\n",
              "             ('duck', 4),\n",
              "             ('fire', 17),\n",
              "             ('help', 275),\n",
              "             ('hide', 10),\n",
              "             ('jump', 16),\n",
              "             ('stop', 290),\n",
              "             ('wait', 119),\n",
              "             ('begin', 13),\n",
              "             ('on', 426),\n",
              "             ('hello', 16),\n",
              "             ('i', 8791),\n",
              "             ('see', 232),\n",
              "             ('try', 187),\n",
              "             ('won', 162),\n",
              "             ('oh', 12),\n",
              "             ('no', 627),\n",
              "             ('relax', 23),\n",
              "             ('smile', 17),\n",
              "             ('sorry', 46),\n",
              "             ('attack', 14),\n",
              "             ('buy', 53),\n",
              "             ('it', 3408),\n",
              "             ('cheers', 4),\n",
              "             ('eat', 144),\n",
              "             ('get', 462),\n",
              "             ('up', 445),\n",
              "             ('now', 292),\n",
              "             ('got', 279),\n",
              "             ('hop', 2),\n",
              "             ('in', 490),\n",
              "             ('hug', 16),\n",
              "             ('me', 1245),\n",
              "             ('fell', 42),\n",
              "             ('fled', 1),\n",
              "             ('knit', 4),\n",
              "             ('know', 296),\n",
              "             ('left', 100),\n",
              "             ('lied', 27),\n",
              "             ('lost', 150),\n",
              "             ('paid', 32),\n",
              "             ('pass', 10),\n",
              "             ('quit', 53),\n",
              "             ('m', 1835),\n",
              "             ('ok', 77),\n",
              "             ('listen', 41),\n",
              "             ('way', 83),\n",
              "             ('really', 97),\n",
              "             ('thanks', 44),\n",
              "             ('we', 1786),\n",
              "             ('ask', 65),\n",
              "             ('tom', 3657),\n",
              "             ('him', 357),\n",
              "             ('awesome', 31),\n",
              "             ('be', 651),\n",
              "             ('calm', 46),\n",
              "             ('cool', 47),\n",
              "             ('fair', 25),\n",
              "             ('kind', 38),\n",
              "             ('nice', 121),\n",
              "             ('beat', 33),\n",
              "             ('burn', 8),\n",
              "             ('bury', 5),\n",
              "             ('call', 99),\n",
              "             ('us', 300),\n",
              "             ('come', 321),\n",
              "             ('drop', 34),\n",
              "             ('fold', 5),\n",
              "             ('out', 344),\n",
              "             ('away', 124),\n",
              "             ('back', 192),\n",
              "             ('home', 178),\n",
              "             ('slow', 24),\n",
              "             ('goodbye', 9),\n",
              "             ('hang', 23),\n",
              "             ('he', 1479),\n",
              "             ('runs', 9),\n",
              "             ('hold', 42),\n",
              "             ('how', 439),\n",
              "             ('sad', 57),\n",
              "             ('agree', 27),\n",
              "             ('cried', 28),\n",
              "             ('dozed', 4),\n",
              "             ('drive', 36),\n",
              "             ('drove', 7),\n",
              "             ('fired', 40),\n",
              "             ('froze', 2),\n",
              "             ('smoke', 27),\n",
              "             ('snore', 4),\n",
              "             ('stink', 6),\n",
              "             ('stood', 14),\n",
              "             ('swore', 2),\n",
              "             ('tried', 38),\n",
              "             ('waved', 5),\n",
              "             ('ll', 670),\n",
              "             ('fat', 45),\n",
              "             ('fit', 23),\n",
              "             ('hit', 34),\n",
              "             ('ill', 15),\n",
              "             ('shy', 27),\n",
              "             ('wet', 19),\n",
              "             ('s', 2799),\n",
              "             ('join', 21),\n",
              "             ('keep', 210),\n",
              "             ('kick', 2),\n",
              "             ('kill', 23),\n",
              "             ('kiss', 21),\n",
              "             ('lie', 34),\n",
              "             ('low', 16),\n",
              "             ('lock', 28),\n",
              "             ('too', 277),\n",
              "             ('move', 47),\n",
              "             ('open', 86),\n",
              "             ('pair', 1),\n",
              "             ('perfect', 46),\n",
              "             ('pull', 11),\n",
              "             ('push', 21),\n",
              "             ('you', 4981),\n",
              "             ('show', 60),\n",
              "             ('shut', 39),\n",
              "             ('sign', 35),\n",
              "             ('skip', 4),\n",
              "             ('so', 287),\n",
              "             ('long', 38),\n",
              "             ('take', 270),\n",
              "             ('tell', 111),\n",
              "             ('wake', 39),\n",
              "             ('wash', 17),\n",
              "             ('care', 47),\n",
              "             ('welcome', 16),\n",
              "             ('ran', 33),\n",
              "             ('win', 57),\n",
              "             ('aim', 5),\n",
              "             ('high', 13),\n",
              "             ('am', 204),\n",
              "             ('them', 150),\n",
              "             ('off', 116),\n",
              "             ('a', 2732),\n",
              "             ('man', 66),\n",
              "             ('brave', 29),\n",
              "             ('brief', 9),\n",
              "             ('still', 124),\n",
              "             ('cheer', 1),\n",
              "             ('cover', 14),\n",
              "             ('cuff', 1),\n",
              "             ('find', 73),\n",
              "             ('fix', 33),\n",
              "             ('this', 1206),\n",
              "             ('down', 135),\n",
              "             ('real', 24),\n",
              "             ('ahead', 41),\n",
              "             ('good', 257),\n",
              "             ('job', 127),\n",
              "             ('grab', 30),\n",
              "             ('have', 801),\n",
              "             ('fun', 106),\n",
              "             ('spoke', 31),\n",
              "             ('tries', 5),\n",
              "             ('guys', 15),\n",
              "             ('cute', 30),\n",
              "             ('deep', 13),\n",
              "             ('rude', 27),\n",
              "             ('wise', 23),\n",
              "             ('hurry', 75),\n",
              "             ('cursed', 1),\n",
              "             ('did', 559),\n",
              "             ('failed', 19),\n",
              "             ('forgot', 29),\n",
              "             ('goofed', 2),\n",
              "             ('helped', 28),\n",
              "             ('jumped', 8),\n",
              "             ('looked', 48),\n",
              "             ('moaned', 2),\n",
              "             ('nodded', 5),\n",
              "             ('obeyed', 7),\n",
              "             ('phoned', 9),\n",
              "             ('refuse', 17),\n",
              "             ('rested', 7),\n",
              "             ('saw', 188),\n",
              "             ('sighed', 3),\n",
              "             ('smiled', 24),\n",
              "             ('stayed', 13),\n",
              "             ('talked', 14),\n",
              "             ('use', 40),\n",
              "             ('pay', 58),\n",
              "             ('bald', 14),\n",
              "             ('busy', 157),\n",
              "             ('cold', 86),\n",
              "             ('deaf', 12),\n",
              "             ('done', 102),\n",
              "             ('fast', 49),\n",
              "             ('fine', 51),\n",
              "             ('free', 59),\n",
              "             ('full', 23),\n",
              "             ('game', 30),\n",
              "             ('glad', 13),\n",
              "             ('late', 93),\n",
              "             ('lazy', 33),\n",
              "             ('okay', 13),\n",
              "             ('rich', 38),\n",
              "             ('safe', 100),\n",
              "             ('sick', 62),\n",
              "             ('sure', 69),\n",
              "             ('tall', 51),\n",
              "             ('thin', 8),\n",
              "             ('tidy', 3),\n",
              "             ('ugly', 17),\n",
              "             ('weak', 23),\n",
              "             ('well', 124),\n",
              "             ('ve', 222),\n",
              "             ('helps', 17),\n",
              "             ('hurts', 33),\n",
              "             ('works', 36),\n",
              "             ('his', 155),\n",
              "             ('new', 85),\n",
              "             ('odd', 8),\n",
              "             ('red', 36),\n",
              "             ('leave', 171),\n",
              "             ('let', 544),\n",
              "             ('look', 273),\n",
              "             ('marry', 4),\n",
              "             ('may', 139),\n",
              "             ('save', 19),\n",
              "             ('say', 108),\n",
              "             ('what', 557),\n",
              "             ('she', 636),\n",
              "             ('came', 93),\n",
              "             ('died', 77),\n",
              "             ('sit', 69),\n",
              "             ('here', 538),\n",
              "             ('speak', 47),\n",
              "             ('speed', 3),\n",
              "             ('stand', 45),\n",
              "             ('taste', 15),\n",
              "             ('terrific', 26),\n",
              "             ('they', 1135),\n",
              "             ('knew', 51),\n",
              "             ('lies', 3),\n",
              "             ('went', 143),\n",
              "             ('touch', 37),\n",
              "             ('trust', 65),\n",
              "             ('some', 97),\n",
              "             ('warn', 17),\n",
              "             ('watch', 77),\n",
              "             ('re', 2201),\n",
              "             ('for', 252),\n",
              "             ('write', 37),\n",
              "             ('after', 29),\n",
              "             ('answer', 44),\n",
              "             ('honest', 24),\n",
              "             ('seated', 14),\n",
              "             ('strong', 30),\n",
              "             ('birds', 11),\n",
              "             ('fly', 16),\n",
              "             ('bless', 8),\n",
              "             ('can', 906),\n",
              "             ('catch', 31),\n",
              "             ('chill', 2),\n",
              "             ('choose', 18),\n",
              "             ('over', 100),\n",
              "             ('soon', 32),\n",
              "             ('do', 943),\n",
              "             ('dogs', 34),\n",
              "             ('bark', 3),\n",
              "             ('don', 730),\n",
              "             ('t', 1686),\n",
              "             ('cry', 42),\n",
              "             ('die', 58),\n",
              "             ('excuse', 15),\n",
              "             ('fantastic', 12),\n",
              "             ('feel', 190),\n",
              "             ('film', 3),\n",
              "             ('follow', 40),\n",
              "             ('forget', 50),\n",
              "             ('going', 119),\n",
              "             ('ready', 119),\n",
              "             ('faster', 10),\n",
              "             ('inside', 39),\n",
              "             ('to', 1099),\n",
              "             ('bed', 73),\n",
              "             ('luck', 31),\n",
              "             ('that', 1519),\n",
              "             ('hands', 26),\n",
              "             ('is', 2919),\n",
              "             ('old', 97),\n",
              "             ('dj', 2),\n",
              "             ('mine', 97),\n",
              "             ('sexy', 2),\n",
              "             ('head', 26),\n",
              "             ('east', 5),\n",
              "             ('west', 5),\n",
              "             ('awful', 27),\n",
              "             ('weird', 32),\n",
              "             ('humor', 2),\n",
              "             ('beg', 13),\n",
              "             ('blinked', 2),\n",
              "             ('ski', 10),\n",
              "             ('cheated', 24),\n",
              "             ('cheered', 10),\n",
              "             ('crashed', 9),\n",
              "             ('cringed', 4),\n",
              "             ('exhaled', 4),\n",
              "             ('fainted', 9),\n",
              "             ('frowned', 1),\n",
              "             ('gave', 76),\n",
              "             ('giggled', 12),\n",
              "             ('give', 192),\n",
              "             ('gloated', 1),\n",
              "             ('hot', 38),\n",
              "             ('grinned', 3),\n",
              "             ('groaned', 3),\n",
              "             ('grunted', 1),\n",
              "             ('had', 207),\n",
              "             ('hate', 166),\n",
              "             ('hope', 63),\n",
              "             ('hurried', 9),\n",
              "             ('inhaled', 2),\n",
              "             ('like', 521),\n",
              "             ('love', 342),\n",
              "             ('mean', 50),\n",
              "             ('must', 186),\n",
              "             ('need', 398),\n",
              "             ('noticed', 10),\n",
              "             ('prepaid', 1),\n",
              "             ('promise', 10),\n",
              "             ('relaxed', 22),\n",
              "             ('retired', 22),\n",
              "             ('said', 75),\n",
              "             ('one', 391),\n",
              "             ('shouted', 1),\n",
              "             ('tripped', 2),\n",
              "             ('want', 381),\n",
              "             ('was', 1256),\n",
              "             ('will', 230),\n",
              "             ('woke', 20),\n",
              "             ('d', 74),\n",
              "             ('cook', 20),\n",
              "             ('live', 81),\n",
              "             ('obey', 19),\n",
              "             ('pack', 8),\n",
              "             ('sing', 54),\n",
              "             ('stay', 187),\n",
              "             ('swim', 53),\n",
              "             ('talk', 86),\n",
              "             ('walk', 49),\n",
              "             ('work', 168),\n",
              "             ('leo', 2),\n",
              "             ('cop', 6),\n",
              "             ('alive', 26),\n",
              "             ('alone', 177),\n",
              "             ('angry', 58),\n",
              "             ('armed', 14),\n",
              "             ('awake', 20),\n",
              "             ('blind', 19),\n",
              "             ('broke', 77),\n",
              "             ('clean', 35),\n",
              "             ('crazy', 64),\n",
              "             ('cured', 2),\n",
              "             ('dirty', 15),\n",
              "             ('dizzy', 14),\n",
              "             ('drunk', 49),\n",
              "             ('dying', 19),\n",
              "             ('early', 56),\n",
              "             ('first', 46),\n",
              "             ('fussy', 10),\n",
              "             ('loyal', 4),\n",
              "             ('lucky', 52),\n",
              "             ('lying', 33),\n",
              "             ('naked', 18),\n",
              "             ('needy', 1),\n",
              "             ('quiet', 52),\n",
              "             ('right', 153),\n",
              "             ('short', 23),\n",
              "             ('sober', 3),\n",
              "             ('stuck', 13),\n",
              "             ('timid', 25),\n",
              "             ('tired', 101),\n",
              "             ('tough', 22),\n",
              "             ('yours', 62),\n",
              "             ('bad', 117),\n",
              "             ('far', 18),\n",
              "             ('burned', 12),\n",
              "             ('poured', 1),\n",
              "             ('snowed', 7),\n",
              "             ('stinks', 10),\n",
              "             ('worked', 27),\n",
              "             ('tv', 32),\n",
              "             ('dark', 23),\n",
              "             ('dead', 70),\n",
              "             ('easy', 85),\n",
              "             ('food', 37),\n",
              "             ('hard', 80),\n",
              "             ('hers', 10),\n",
              "             ('ours', 19),\n",
              "             ('sand', 4),\n",
              "             ('time', 138),\n",
              "             ('true', 61),\n",
              "             ('warm', 21),\n",
              "             ('loosen', 12),\n",
              "             ('shot', 47),\n",
              "             ('of', 285),\n",
              "             ('course', 7),\n",
              "             ('please', 307),\n",
              "             ('pardon', 18),\n",
              "             ('read', 78),\n",
              "             ('rest', 28),\n",
              "             ('aah', 3),\n",
              "             ('above', 2),\n",
              "             ('below', 2),\n",
              "             ('seize', 4),\n",
              "             ('seriously', 9),\n",
              "             ('walks', 7),\n",
              "             ('tight', 20),\n",
              "             ('start', 42),\n",
              "             ('step', 23),\n",
              "             ('thank', 18),\n",
              "             ('then', 10),\n",
              "             ('swam', 4),\n",
              "             ('cooks', 6),\n",
              "             ('dived', 1),\n",
              "             ('knits', 1),\n",
              "             ('knows', 46),\n",
              "             ('limps', 1),\n",
              "             ('rocks', 1),\n",
              "             ('voted', 9),\n",
              "             ('mad', 56),\n",
              "             ('again', 155),\n",
              "             ('turn', 64),\n",
              "             ('unlock', 6),\n",
              "             ('agreed', 15),\n",
              "             ('waited', 31),\n",
              "             ('walked', 26),\n",
              "             ('cares', 6),\n",
              "             ('wonderful', 29),\n",
              "             ('idiot', 15),\n",
              "             ('smell', 25),\n",
              "             ('higher', 2),\n",
              "             ('all', 548),\n",
              "             ('aboard', 4),\n",
              "             ('clear', 16),\n",
              "             ('hired', 20),\n",
              "             ('wrong', 74),\n",
              "             ('are', 1100),\n",
              "             ('anyone', 59),\n",
              "             ('around', 35),\n",
              "             ('careful', 83),\n",
              "             ('content', 13),\n",
              "             ('patient', 17),\n",
              "             ('prudent', 9),\n",
              "             ('serious', 49),\n",
              "             ('bottoms', 2),\n",
              "             ('breathe', 9),\n",
              "             ('bring', 55),\n",
              "             ('wine', 47),\n",
              "             ('carry', 4),\n",
              "             ('check', 54),\n",
              "             ('along', 15),\n",
              "             ('quick', 9),\n",
              "             ('cut', 27),\n",
              "             ('destroy', 8),\n",
              "             ('dig', 3),\n",
              "             ('men', 17),\n",
              "             ('fret', 4),\n",
              "             ('rush', 11),\n",
              "             ('duty', 19),\n",
              "             ('calls', 3),\n",
              "             ('face', 19),\n",
              "             ('facts', 9),\n",
              "             ('fill', 8),\n",
              "             ('forgive', 15),\n",
              "             ('life', 59),\n",
              "             ('moving', 25),\n",
              "             ('outside', 45),\n",
              "             ('at', 233),\n",
              "             ('hung', 5),\n",
              "             ('poor', 11),\n",
              "             ('made', 153),\n",
              "             ('swiss', 2),\n",
              "             ('smart', 30),\n",
              "             ('north', 5),\n",
              "             ('south', 4),\n",
              "             ('absurd', 3),\n",
              "             ('clever', 14),\n",
              "             ('lovely', 13),\n",
              "             ('tragic', 4),\n",
              "             ('admit', 7),\n",
              "             ('human', 2),\n",
              "             ('built', 10),\n",
              "             ('canceled', 8),\n",
              "             ('chuckled', 7),\n",
              "             ('disagree', 6),\n",
              "             ('worry', 15),\n",
              "             ('doubt', 9),\n",
              "             ('envy', 8),\n",
              "             ('her', 171),\n",
              "             ('exercise', 7),\n",
              "             ('felt', 142),\n",
              "             ('fixed', 6),\n",
              "             ('flinched', 8),\n",
              "             ('found', 67),\n",
              "             ('hurt', 95),\n",
              "             ('guess', 27),\n",
              "             ('hear', 63),\n",
              "             ('not', 754),\n",
              "             ('cpr', 3),\n",
              "             ('r', 1),\n",
              "             ('b', 2),\n",
              "             ('art', 6),\n",
              "             ('tea', 28),\n",
              "             ('liked', 40),\n",
              "             ('listened', 4),\n",
              "             ('loved', 43),\n",
              "             ('two', 34),\n",
              "             ('met', 40),\n",
              "             ('air', 12),\n",
              "             ('ice', 9),\n",
              "             ('objected', 2),\n",
              "             ('panicked', 9),\n",
              "             ('promised', 11),\n",
              "             ('relented', 3),\n",
              "             ('remember', 45),\n",
              "             ('yes', 23),\n",
              "             ('sat', 53),\n",
              "             ('screamed', 9),\n",
              "             ('shivered', 1),\n",
              "             ('shrugged', 2),\n",
              "             ('squinted', 4),\n",
              "             ('survived', 6),\n",
              "             ('threw', 2),\n",
              "             ('told', 34),\n",
              "             ('last', 25),\n",
              "             ('whistled', 2),\n",
              "             ('wrote', 14),\n",
              "             ('accept', 6),\n",
              "             ('shoot', 14),\n",
              "             ('girl', 20),\n",
              "             ('hero', 16),\n",
              "             ('liar', 19),\n",
              "             ('twin', 7),\n",
              "             ('amused', 10),\n",
              "             ('baking', 4),\n",
              "             ('better', 69),\n",
              "             ('biased', 5),\n",
              "             ('buying', 10),\n",
              "             ('chubby', 4),\n",
              "             ('coming', 51),\n",
              "             ('direct', 14),\n",
              "             ('eating', 23),\n",
              "             ('famous', 20),\n",
              "             ('flabby', 1),\n",
              "             ('greedy', 8),\n",
              "             ('hiding', 3),\n",
              "             ('humble', 7),\n",
              "             ('hungry', 60),\n",
              "             ('immune', 2),\n",
              "             ('joking', 28),\n",
              "             ('loaded', 11),\n",
              "             ('lonely', 28),\n",
              "             ('losing', 13),\n",
              "             ('normal', 32),\n",
              "             ('paying', 4),\n",
              "             ('pooped', 3),\n",
              "             ('ruined', 10),\n",
              "             ('scared', 35),\n",
              "             ('shaken', 8),\n",
              "             ('single', 10),\n",
              "             ('skinny', 22),\n",
              "             ('sleepy', 24),\n",
              "             ('sneaky', 10),\n",
              "             ('soaked', 2),\n",
              "             ('strict', 8),\n",
              "             ('thirty', 9),\n",
              "             ('trying', 24),\n",
              "             ('wasted', 2),\n",
              "             ('ignore', 22),\n",
              "             ('blue', 18),\n",
              "             ('happens', 11),\n",
              "             ('matters', 10),\n",
              "             ('fad', 5),\n",
              "             ('fox', 3),\n",
              "             ('begun', 1),\n",
              "             ('bogus', 2),\n",
              "             ('bulky', 1),\n",
              "             ('cheap', 10),\n",
              "             ('close', 49),\n",
              "             ('funny', 73),\n",
              "             ('green', 12),\n",
              "             ('magic', 2),\n",
              "             ('my', 838),\n",
              "             ('cd', 3),\n",
              "             ('night', 19),\n",
              "             ('phony', 3),\n",
              "             ('safer', 4),\n",
              "             ('sweet', 34),\n",
              "             ('taboo', 1),\n",
              "             ('there', 297),\n",
              "             ('water', 79),\n",
              "             ('jesus', 3),\n",
              "             ('wept', 4),\n",
              "             ('just', 297),\n",
              "             ('town', 23),\n",
              "             ('chat', 2),\n",
              "             ('pray', 9),\n",
              "             ('vote', 22),\n",
              "             ('lighten', 4),\n",
              "             ('alert', 6),\n",
              "             ('lasts', 1),\n",
              "             ('mama', 2),\n",
              "             ('never', 144),\n",
              "             ('mind', 23),\n",
              "             ('comment', 7),\n",
              "             ('kidding', 46),\n",
              "             ('problem', 45),\n",
              "             ('once', 39),\n",
              "             ('pick', 16),\n",
              "             ('replace', 6),\n",
              "             ('scoot', 3),\n",
              "             ('sharp', 15),\n",
              "             ('aside', 12),\n",
              "             ('study', 28),\n",
              "             ('more', 74),\n",
              "             ('bus', 40),\n",
              "             ('nap', 7),\n",
              "             ('notes', 4),\n",
              "             ('these', 57),\n",
              "             ('boy', 51),\n",
              "             ('cheat', 7),\n",
              "             ('flies', 4),\n",
              "             ('agrees', 3),\n",
              "             ('bit', 46),\n",
              "             ('braked', 2),\n",
              "             ('cheats', 1),\n",
              "             ('cooked', 5),\n",
              "             ('cusses', 1),\n",
              "             ('drinks', 11),\n",
              "             ('drives', 14),\n",
              "             ('farted', 1),\n",
              "             ('gasped', 2),\n",
              "             ('snores', 3),\n",
              "             ('sobbed', 1),\n",
              "             ('winced', 4),\n",
              "             ('yawned', 1),\n",
              "             ('yelled', 7),\n",
              "             ('gone', 53),\n",
              "             ('harder', 7),\n",
              "             ('unscrew', 2),\n",
              "             ('sec', 6),\n",
              "             ('war', 17),\n",
              "             ('cds', 3),\n",
              "             ('fail', 6),\n",
              "             ('boys', 9),\n",
              "             ('even', 14),\n",
              "             ('sunk', 2),\n",
              "             ('day', 72),\n",
              "             ('where', 181),\n",
              "             ('has', 243),\n",
              "             ('why', 155),\n",
              "             ('bother', 10),\n",
              "             ('called', 55),\n",
              "             ('decide', 11),\n",
              "             ('missed', 31),\n",
              "             ('big', 129),\n",
              "             ('stupid', 55),\n",
              "             ('anybody', 42),\n",
              "             ('cheerful', 9),\n",
              "             ('creative', 17),\n",
              "             ('discreet', 12),\n",
              "             ('friendly', 14),\n",
              "             ('generous', 8),\n",
              "             ('merciful', 15),\n",
              "             ('prepared', 30),\n",
              "             ('punctual', 13),\n",
              "             ('ruthless', 9),\n",
              "             ('sensible', 5),\n",
              "             ('specific', 2),\n",
              "             ('thorough', 8),\n",
              "             ('watchful', 5),\n",
              "             ('yourself', 51),\n",
              "             ('beer', 47),\n",
              "             ('break', 34),\n",
              "             ('hat', 41),\n",
              "             ('son', 37),\n",
              "             ('cancel', 7),\n",
              "             ('comfort', 4),\n",
              "             ('count', 24),\n",
              "             ('deal', 29),\n",
              "             ('bowl', 2),\n",
              "             ('fish', 35),\n",
              "             ('your', 820),\n",
              "             ('argue', 7),\n",
              "             ('blink', 1),\n",
              "             ('fight', 29),\n",
              "             ('gloat', 3),\n",
              "             ('laugh', 23),\n",
              "             ('panic', 5),\n",
              "             ('shout', 2),\n",
              "             ('stare', 2),\n",
              "             ('finish', 17),\n",
              "             ('flip', 2),\n",
              "             ('coin', 3),\n",
              "             ('changed', 33),\n",
              "             ('dressed', 11),\n",
              "             ('started', 28),\n",
              "             ('the', 1594),\n",
              "             ('box', 20),\n",
              "             ('with', 119),\n",
              "             ('sleep', 66),\n",
              "             ('seat', 38),\n",
              "             ('grew', 11),\n",
              "             ('guts', 4),\n",
              "             ('eight', 6),\n",
              "             ('hated', 13),\n",
              "             ('nasty', 1),\n",
              "             ('young', 29),\n",
              "             ('loves', 77),\n",
              "             ('needs', 42),\n",
              "             ('resigned', 7),\n",
              "             ('hunk', 2),\n",
              "             ('jerk', 6),\n",
              "             ('nerd', 3),\n",
              "             ('slob', 2),\n",
              "             ('asleep', 22),\n",
              "             ('faking', 1),\n",
              "             ('age', 23),\n",
              "             ('curious', 18),\n",
              "             ('adore', 3),\n",
              "             ('also', 12),\n",
              "             ('monk', 2),\n",
              "             ('taller', 1),\n",
              "             ('apologize', 10),\n",
              "             ('asked', 27),\n",
              "             ('assume', 1),\n",
              "             ('bought', 28),\n",
              "             ('buried', 2),\n",
              "             ('tapes', 1),\n",
              "             ('dance', 16),\n",
              "             ('share', 7),\n",
              "             ('caught', 36),\n",
              "             ('chose', 11),\n",
              "             ('confessed', 6),\n",
              "             ('could', 101),\n",
              "             ('lot', 94),\n",
              "             ('class', 8),\n",
              "             ('didn', 177),\n",
              "             ('disagreed', 8),\n",
              "             ('drank', 25),\n",
              "             ('beans', 4),\n",
              "             ('bread', 9),\n",
              "             ('fruit', 7),\n",
              "             ('exercised', 3),\n",
              "             ('dumb', 12),\n",
              "             ('fear', 14),\n",
              "             ('bored', 21),\n",
              "             ('fined', 11),\n",
              "             ('upset', 66),\n",
              "             ('golf', 8),\n",
              "             ('kids', 37),\n",
              "             ('mice', 5),\n",
              "             ('milk', 29),\n",
              "             ('cash', 16),\n",
              "             ('eyes', 53),\n",
              "             ('news', 18),\n",
              "             ('heard', 48),\n",
              "             ('hesitated', 4),\n",
              "             ('both', 66),\n",
              "             ('cake', 19),\n",
              "             ('cats', 23),\n",
              "             ('jazz', 3),\n",
              "             ('math', 4),\n",
              "             ('rice', 7),\n",
              "             ('rock', 5),\n",
              "             ('mary', 149),\n",
              "             ('soup', 10),\n",
              "             ('messed', 10),\n",
              "             ('nailed', 3),\n",
              "             ('glue', 1),\n",
              "             ('bet', 17),\n",
              "             ('often', 24),\n",
              "             ('oppose', 2),\n",
              "             ('taxes', 5),\n",
              "             ('protested', 3),\n",
              "             ('lips', 3),\n",
              "             ('recovered', 5),\n",
              "             ('saved', 26),\n",
              "             ('dog', 145),\n",
              "             ('sell', 8),\n",
              "             ('cars', 6),\n",
              "             ('should', 96),\n",
              "             ('gas', 7),\n",
              "             ('snickered', 2),\n",
              "             ('struggled', 8),\n",
              "             ('succeeded', 5),\n",
              "             ('surrender', 2),\n",
              "             ('eggs', 10),\n",
              "             ('moved', 9),\n",
              "             ('naive', 40),\n",
              "             ('third', 4),\n",
              "             ('washed', 6),\n",
              "             ('attend', 8),\n",
              "             ('change', 35),\n",
              "             ('manage', 10),\n",
              "             ('scream', 13),\n",
              "             ('baker', 4),\n",
              "             ('child', 31),\n",
              "             ('medic', 4),\n",
              "             ('widow', 3),\n",
              "             ('set', 19),\n",
              "             ('ashamed', 10),\n",
              "             ('baffled', 12),\n",
              "             ('blessed', 4),\n",
              "             ('certain', 11),\n",
              "             ('chicken', 10),\n",
              "             ('cooking', 16),\n",
              "             ('correct', 22),\n",
              "             ('dancing', 14),\n",
              "             ('dieting', 6),\n",
              "             ('driving', 17),\n",
              "             ('engaged', 4),\n",
              "             ('excited', 30),\n",
              "             ('falling', 4),\n",
              "             ('fasting', 3),\n",
              "             ('finicky', 8),\n",
              "             ('frantic', 2),\n",
              "             ('furious', 4),\n",
              "             ('healthy', 9),\n",
              "             ('humming', 3),\n",
              "             ('jealous', 18),\n",
              "             ('jittery', 5),\n",
              "             ('leaving', 25),\n",
              "             ('married', 37),\n",
              "             ('nervous', 37),\n",
              "             ('neutral', 2),\n",
              "             ('fool', 16),\n",
              "             ('popular', 6),\n",
              "             ('psyched', 3),\n",
              "             ('psychic', 9),\n",
              "             ('puzzled', 6),\n",
              "             ('reading', 24),\n",
              "             ('selfish', 6),\n",
              "             ('shocked', 18),\n",
              "             ('sincere', 12),\n",
              "             ('sloshed', 5),\n",
              "             ('smashed', 7),\n",
              "             ('starved', 13),\n",
              "             ('staying', 10),\n",
              "             ('stuffed', 4),\n",
              "             ('stumped', 2),\n",
              "             ('stunned', 14),\n",
              "             ('talking', 32),\n",
              "             ('teasing', 7),\n",
              "             ('thirsty', 19),\n",
              "             ('through', 7),\n",
              "             ('touched', 14),\n",
              "             ('trapped', 20),\n",
              "             ('unarmed', 5),\n",
              "             ('unhappy', 12),\n",
              "             ('unlucky', 23),\n",
              "             ('useless', 16),\n",
              "             ('wealthy', 8),\n",
              "             ('winning', 25),\n",
              "             ('working', 49),\n",
              "             ('worried', 18),\n",
              "             ('nuts', 33),\n",
              "             ('fatal', 3),\n",
              "             ('foggy', 2),\n",
              "             ('legal', 6),\n",
              "             ('happened', 23),\n",
              "             ('rain', 16),\n",
              "             ('snow', 15),\n",
              "             ('flat', 6),\n",
              "             ('yen', 2),\n",
              "             ('french', 96),\n",
              "             ('monday', 11),\n",
              "             ('doll', 9),\n",
              "             ('fact', 5),\n",
              "             ('fake', 18),\n",
              "             ('pipe', 5),\n",
              "             ('rule', 4),\n",
              "             ('scam', 4),\n",
              "             ('song', 29),\n",
              "             ('trap', 6),\n",
              "             ('broken', 19),\n",
              "             ('cloudy', 5),\n",
              "             ('futile', 2),\n",
              "             ('ironic', 5),\n",
              "             ('locked', 9),\n",
              "             ('poison', 4),\n",
              "             ('secret', 13),\n",
              "             ('silent', 19),\n",
              "             ('simple', 14),\n",
              "             ('spring', 6),\n",
              "             ('urgent', 4),\n",
              "             ('warmer', 2),\n",
              "             ('across', 2),\n",
              "             ('drink', 109),\n",
              "             ('party', 18),\n",
              "             ('split', 7),\n",
              "             ('closer', 19),\n",
              "             ('lunch', 32),\n",
              "             ('make', 106),\n",
              "             ('list', 15),\n",
              "             ('wish', 21),\n",
              "             ('many', 19),\n",
              "             ('memorize', 10),\n",
              "             ('money', 90),\n",
              "             ('talks', 11),\n",
              "             ('lift', 3),\n",
              "             ('timing', 5),\n",
              "             ('means', 4),\n",
              "             ('nobody', 68),\n",
              "             ('paper', 8),\n",
              "             ('burns', 3),\n",
              "             ('card', 5),\n",
              "             ('date', 14),\n",
              "             ('plants', 5),\n",
              "             ('grow', 10),\n",
              "             ('clap', 3),\n",
              "             ('press', 3),\n",
              "             ('enter', 3),\n",
              "             ('put', 55),\n",
              "             ('record', 2),\n",
              "             ('release', 3),\n",
              "             ('remain', 15),\n",
              "             ('return', 5),\n",
              "             ('send', 24),\n",
              "             ('settle', 2),\n",
              "             ('shake', 7),\n",
              "             ('leg', 7),\n",
              "             ('shall', 17),\n",
              "             ('blushed', 4),\n",
              "             ('curt', 1),\n",
              "             ('stick', 4),\n",
              "             ('crying', 32),\n",
              "             ('surprise', 9),\n",
              "             ('bath', 14),\n",
              "             ('bite', 18),\n",
              "             ('slowly', 26),\n",
              "             ('icky', 2),\n",
              "             ('lame', 3),\n",
              "             ('hugged', 10),\n",
              "             ('kissed', 18),\n",
              "             ('think', 105),\n",
              "             ('by', 61),\n",
              "             ('coughed', 9),\n",
              "             ('drowned', 10),\n",
              "             ('gambles', 1),\n",
              "             ('gargled', 1),\n",
              "             ('guessed', 7),\n",
              "             ('glum', 3),\n",
              "             ('grim', 4),\n",
              "             ('huge', 7),\n",
              "             ('loud', 12),\n",
              "             ('meek', 1),\n",
              "             ('neat', 3),\n",
              "             ('numb', 6),\n",
              "             ('slim', 3),\n",
              "             ('vain', 1),\n",
              "             ('wary', 2),\n",
              "             ('laughed', 32),\n",
              "             ('listens', 2),\n",
              "             ('reacted', 1),\n",
              "             ('refused', 19),\n",
              "             ('says', 11),\n",
              "             ('sneered', 1),\n",
              "             ('sniffed', 1),\n",
              "             ('snorted', 1),\n",
              "             ('sweated', 3),\n",
              "             ('took', 53),\n",
              "             ('watched', 10),\n",
              "             ('lose', 30),\n",
              "             ('great', 43),\n",
              "             ('older', 2),\n",
              "             ('caution', 5),\n",
              "             ('evil', 7),\n",
              "             ('hell', 1),\n",
              "             ('ate', 40),\n",
              "             ('meet', 17),\n",
              "             ('meat', 17),\n",
              "             ('miss', 67),\n",
              "             ('act', 10),\n",
              "             ('happy', 182),\n",
              "             ('twins', 10),\n",
              "             ('bore', 3),\n",
              "             ('dope', 8),\n",
              "             ('drag', 2),\n",
              "             ('dump', 1),\n",
              "             ('heel', 1),\n",
              "             ('joke', 32),\n",
              "             ('loss', 2),\n",
              "             ('mess', 18),\n",
              "             ('pain', 24),\n",
              "             ('pity', 4),\n",
              "             ('team', 16),\n",
              "             ...])"
            ]
          },
          "metadata": {},
          "execution_count": 23
        }
      ],
      "source": [
        "tokenizer_en.word_counts"
      ]
    },
    {
      "cell_type": "code",
      "execution_count": null,
      "metadata": {
        "colab": {
          "base_uri": "https://localhost:8080/"
        },
        "id": "p_PEcE2BJlXy",
        "outputId": "2b9959ad-bd62-4d9a-a80e-0a765870be55"
      },
      "outputs": [
        {
          "output_type": "execute_result",
          "data": {
            "text/plain": [
              "33000"
            ]
          },
          "metadata": {},
          "execution_count": 24
        }
      ],
      "source": [
        "tokenizer_en.document_count"
      ]
    },
    {
      "cell_type": "code",
      "execution_count": null,
      "metadata": {
        "colab": {
          "base_uri": "https://localhost:8080/"
        },
        "id": "KeVX3tu6LcO4",
        "outputId": "5077170f-9a6a-477a-ba42-3f077155ad5b"
      },
      "outputs": [
        {
          "output_type": "execute_result",
          "data": {
            "text/plain": [
              "[['go', '.'],\n",
              " ['go', '.'],\n",
              " ['go', '.'],\n",
              " ['go', '.'],\n",
              " ['hi', '.'],\n",
              " ['hi', '.'],\n",
              " ['run', '!'],\n",
              " ['run', '!'],\n",
              " ['run', '!'],\n",
              " ['run', '!']]"
            ]
          },
          "metadata": {},
          "execution_count": 25
        }
      ],
      "source": [
        "sents_en_in[:10]"
      ]
    },
    {
      "cell_type": "code",
      "execution_count": null,
      "metadata": {
        "colab": {
          "base_uri": "https://localhost:8080/"
        },
        "id": "mBNqle5oJg9r",
        "outputId": "d4592521-c3bb-4656-9c6a-69f7d82488f3"
      },
      "outputs": [
        {
          "output_type": "execute_result",
          "data": {
            "text/plain": [
              "[[28, 1],\n",
              " [28, 1],\n",
              " [28, 1],\n",
              " [28, 1],\n",
              " [761, 1],\n",
              " [761, 1],\n",
              " [196, 23],\n",
              " [196, 23],\n",
              " [196, 23],\n",
              " [196, 23]]"
            ]
          },
          "metadata": {},
          "execution_count": 26
        }
      ],
      "source": [
        "tokenizer_en = Tokenizer(filters=\"\", lower=False)\n",
        "tokenizer_en.fit_on_texts(sents_en_in)\n",
        "encoder_input = tokenizer_en.texts_to_sequences(sents_en_in)\n",
        "encoder_input[:10]"
      ]
    },
    {
      "cell_type": "code",
      "execution_count": null,
      "metadata": {
        "colab": {
          "base_uri": "https://localhost:8080/"
        },
        "id": "KQnObSHh74sE",
        "outputId": "db106b77-eb6d-43aa-8fbf-94ffd16fc183"
      },
      "outputs": [
        {
          "output_type": "execute_result",
          "data": {
            "text/plain": [
              "((33000, 8),\n",
              " array([[ 28,   1,   0,   0,   0,   0,   0,   0],\n",
              "        [ 28,   1,   0,   0,   0,   0,   0,   0],\n",
              "        [ 28,   1,   0,   0,   0,   0,   0,   0],\n",
              "        [ 28,   1,   0,   0,   0,   0,   0,   0],\n",
              "        [761,   1,   0,   0,   0,   0,   0,   0],\n",
              "        [761,   1,   0,   0,   0,   0,   0,   0],\n",
              "        [196,  23,   0,   0,   0,   0,   0,   0],\n",
              "        [196,  23,   0,   0,   0,   0,   0,   0],\n",
              "        [196,  23,   0,   0,   0,   0,   0,   0],\n",
              "        [196,  23,   0,   0,   0,   0,   0,   0]], dtype=int32))"
            ]
          },
          "metadata": {},
          "execution_count": 27
        }
      ],
      "source": [
        "encoder_input = pad_sequences(encoder_input, padding=\"post\")\n",
        "encoder_input.shape, encoder_input[:10]"
      ]
    },
    {
      "cell_type": "code",
      "execution_count": null,
      "metadata": {
        "colab": {
          "base_uri": "https://localhost:8080/"
        },
        "id": "oFsfuR4tMeOi",
        "outputId": "74e8111c-92dc-4299-82dd-68c448b1ad52"
      },
      "outputs": [
        {
          "output_type": "execute_result",
          "data": {
            "text/plain": [
              "[['<sos>', 'va', '!'],\n",
              " ['<sos>', 'marche', '.'],\n",
              " ['<sos>', 'en', 'route', '!'],\n",
              " ['<sos>', 'bouge', '!'],\n",
              " ['<sos>', 'salut', '!'],\n",
              " ['<sos>', 'salut', '.'],\n",
              " ['<sos>', 'cours', '!'],\n",
              " ['<sos>', 'courez', '!'],\n",
              " ['<sos>', 'prenez', 'vos', 'jambes', 'à', 'vos', 'cous', '!'],\n",
              " ['<sos>', 'file', '!']]"
            ]
          },
          "metadata": {},
          "execution_count": 28
        }
      ],
      "source": [
        "sents_fra_in[:10]"
      ]
    },
    {
      "cell_type": "code",
      "execution_count": null,
      "metadata": {
        "colab": {
          "base_uri": "https://localhost:8080/"
        },
        "id": "rOcQ5BEhMiip",
        "outputId": "9c804e13-264a-4088-9ccb-384241ab2190"
      },
      "outputs": [
        {
          "output_type": "execute_result",
          "data": {
            "text/plain": [
              "[['va', '!', '<eos>'],\n",
              " ['marche', '.', '<eos>'],\n",
              " ['en', 'route', '!', '<eos>'],\n",
              " ['bouge', '!', '<eos>'],\n",
              " ['salut', '!', '<eos>'],\n",
              " ['salut', '.', '<eos>'],\n",
              " ['cours', '!', '<eos>'],\n",
              " ['courez', '!', '<eos>'],\n",
              " ['prenez', 'vos', 'jambes', 'à', 'vos', 'cous', '!', '<eos>'],\n",
              " ['file', '!', '<eos>']]"
            ]
          },
          "metadata": {},
          "execution_count": 29
        }
      ],
      "source": [
        "sents_fra_out[:10]"
      ]
    },
    {
      "cell_type": "code",
      "execution_count": null,
      "metadata": {
        "id": "zmOIrCdHMqeM"
      },
      "outputs": [],
      "source": [
        "tokenizer_fra = Tokenizer(filters=\"\", lower=False)  # 이미 소문자화\n",
        "tokenizer_fra.fit_on_texts(sents_fra_in)\n",
        "tokenizer_fra.fit_on_texts(sents_fra_out)"
      ]
    },
    {
      "cell_type": "code",
      "execution_count": null,
      "metadata": {
        "colab": {
          "base_uri": "https://localhost:8080/"
        },
        "id": "WFRrxeJJMtV9",
        "outputId": "756f26aa-4d00-480b-d3ea-f5bbf7b0cd91"
      },
      "outputs": [
        {
          "output_type": "execute_result",
          "data": {
            "text/plain": [
              "66000"
            ]
          },
          "metadata": {},
          "execution_count": 31
        }
      ],
      "source": [
        "tokenizer_fra.document_count   # 33000 * 2"
      ]
    },
    {
      "cell_type": "code",
      "execution_count": null,
      "metadata": {
        "colab": {
          "base_uri": "https://localhost:8080/"
        },
        "id": "IvgI7uKw74sF",
        "outputId": "b725daff-dcb1-4e7b-8567-928d54439552"
      },
      "outputs": [
        {
          "output_type": "execute_result",
          "data": {
            "text/plain": [
              "((33000, 16),\n",
              " array([[   2,   72,    8, ...,    0,    0,    0],\n",
              "        [   2,  336,    1, ...,    0,    0,    0],\n",
              "        [   2,   25,  487, ...,    0,    0,    0],\n",
              "        ...,\n",
              "        [   2,   16,   68, ...,    0,    0,    0],\n",
              "        [   2,   16,   44, ...,    0,    0,    0],\n",
              "        [   2,   16, 2107, ...,    0,    0,    0]], dtype=int32))"
            ]
          },
          "metadata": {},
          "execution_count": 32
        }
      ],
      "source": [
        "decoder_input = tokenizer_fra.texts_to_sequences(sents_fra_in)\n",
        "decoder_input = pad_sequences(decoder_input, padding=\"post\")\n",
        "decoder_input.shape, decoder_input"
      ]
    },
    {
      "cell_type": "code",
      "execution_count": null,
      "metadata": {
        "colab": {
          "base_uri": "https://localhost:8080/"
        },
        "id": "Uvk2faj-74sF",
        "outputId": "3dbb24c0-0557-4eae-e7b5-fa3933d8b934"
      },
      "outputs": [
        {
          "output_type": "execute_result",
          "data": {
            "text/plain": [
              "((33000, 16),\n",
              " array([[  72,    8,    3, ...,    0,    0,    0],\n",
              "        [ 336,    1,    3, ...,    0,    0,    0],\n",
              "        [  25,  487,    8, ...,    0,    0,    0],\n",
              "        ...,\n",
              "        [  16,   68,  240, ...,    0,    0,    0],\n",
              "        [  16,   44,   51, ...,    0,    0,    0],\n",
              "        [  16, 2107,   24, ...,    0,    0,    0]], dtype=int32))"
            ]
          },
          "metadata": {},
          "execution_count": 33
        }
      ],
      "source": [
        "decoder_target = tokenizer_fra.texts_to_sequences(sents_fra_out)\n",
        "decoder_target = pad_sequences(decoder_target, padding=\"post\")\n",
        "decoder_target.shape, decoder_target"
      ]
    },
    {
      "cell_type": "code",
      "execution_count": null,
      "metadata": {
        "colab": {
          "base_uri": "https://localhost:8080/"
        },
        "id": "8xo3ITQZJh0T",
        "outputId": "ab3845b4-ce11-44ee-c8be-6056a36769dc"
      },
      "outputs": [
        {
          "output_type": "stream",
          "name": "stdout",
          "text": [
            "인코더의 입력의 크기(shape) : (33000, 8)\n",
            "디코더의 입력의 크기(shape) : (33000, 16)\n",
            "디코더의 레이블의 크기(shape) : (33000, 16)\n"
          ]
        }
      ],
      "source": [
        "print('인코더의 입력의 크기(shape) :', encoder_input.shape)\n",
        "print('디코더의 입력의 크기(shape) :', decoder_input.shape)\n",
        "print('디코더의 레이블의 크기(shape) :', decoder_target.shape)"
      ]
    },
    {
      "cell_type": "code",
      "execution_count": null,
      "metadata": {
        "id": "lxm9W_PoJjf7"
      },
      "outputs": [],
      "source": [
        "src_to_index = tokenizer_en.word_index\n",
        "index_to_src = tokenizer_en.index_word\n",
        "tar_to_index = tokenizer_fra.word_index\n",
        "index_to_tar = tokenizer_fra.index_word"
      ]
    },
    {
      "cell_type": "code",
      "execution_count": null,
      "metadata": {
        "colab": {
          "base_uri": "https://localhost:8080/"
        },
        "id": "JI-M7IhA74sG",
        "outputId": "e452c558-0b07-4c07-ac8c-5129c01860a0"
      },
      "outputs": [
        {
          "output_type": "stream",
          "name": "stdout",
          "text": [
            "4672 {'.': 1, 'i': 2, 'you': 3, '?': 4, 'tom': 5, 'it': 6, 'is': 7, 's': 8, 'a': 9, 're': 10, 'm': 11, 'we': 12, 't': 13, 'the': 14, 'that': 15, 'he': 16, 'was': 17, 'me': 18, 'this': 19, 'they': 20, 'are': 21, 'to': 22, '!': 23, 'do': 24, 'can': 25, 'my': 26, 'your': 27, 'go': 28, 'have': 29, 'not': 30, 'don': 31, 'll': 32, 'be': 33, 'she': 34, 'no': 35, 'did': 36, 'what': 37, 'all': 38, 'let': 39, 'here': 40, 'like': 41, 'in': 42, 'get': 43, 'up': 44, 'how': 45, 'very': 46, 'on': 47, 'need': 48, 'one': 49, 'want': 50, 'him': 51, 'out': 52, 'love': 53, 'come': 54, 'who': 55, 'please': 56, 'us': 57, 'there': 58, 'just': 59, 'know': 60, 'now': 61, 'stop': 62, 'so': 63, 'of': 64, 'got': 65, 'too': 66, 'help': 67, 'look': 68, 'take': 69, 'good': 70, 'for': 71, 'has': 72, 'at': 73, 'see': 74, 'will': 75, 'were': 76, 've': 77, 'keep': 78, 'had': 79, 'am': 80, 'back': 81, 'give': 82, 'feel': 83, 'saw': 84, 'try': 85, 'stay': 86, 'must': 87, 'happy': 88, 'where': 89, 'home': 90, 'alone': 91, 'didn': 92, 'car': 93, 'leave': 94, 'her': 95, 'work': 96, 'hate': 97, 'won': 98, 'everyone': 99, 'busy': 100, 'his': 101, 'again': 102, 'why': 103, 'an': 104, 'right': 105, 'made': 106, 'isn': 107, 'lost': 108, 'them': 109, 'mary': 110, 'looks': 111, 'dog': 112, 'eat': 113, 'never': 114, 'went': 115, 'felt': 116, 'may': 117, 'time': 118, 'down': 119, 'big': 120, 'job': 121, 'away': 122, 'still': 123, 'well': 124, 'nice': 125, 'wait': 126, 'going': 127, 'ready': 128, 'with': 129, 'bad': 130, 'off': 131, 'tell': 132, 'does': 133, 'drink': 134, 'say': 135, 'fun': 136, 'make': 137, 'think': 138, 'done': 139, 'book': 140, 'tired': 141, 'could': 142, 'left': 143, 'safe': 144, 'over': 145, 'about': 146, 'call': 147, 'kept': 148, 'really': 149, 'some': 150, 'old': 151, 'mine': 152, 'should': 153, 'french': 154, 'hurt': 155, 'lot': 156, 'late': 157, 'came': 158, 'enough': 159, 'money': 160, 'wasn': 161, 'open': 162, 'cold': 163, 'talk': 164, 'room': 165, 'new': 166, 'easy': 167, 'our': 168, 'way': 169, 'careful': 170, 'likes': 171, 'today': 172, 'live': 173, 'hard': 174, 'water': 175, 'read': 176, 'ok': 177, 'died': 178, 'watch': 179, 'broke': 180, 'loves': 181, 'gave': 182, 'hurry': 183, 'said': 184, 'idea': 185, 'much': 186, 'house': 187, 'd': 188, 'wrong': 189, 'more': 190, 'seems': 191, 'find': 192, 'bed': 193, 'funny': 194, 'day': 195, 'run': 196, 'dead': 197, 'door': 198, 'sure': 199, 'sit': 200, 'better': 201, 'everybody': 202, 'nobody': 203, 'found': 204, 'miss': 205, 'nothing': 206, 'cat': 207, 'man': 208, 'sleep': 209, 'upset': 210, 'both': 211, 'everything': 212, 'ask': 213, 'trust': 214, 'crazy': 215, 'turn': 216, 'hope': 217, 'hear': 218, 'sick': 219, 'yours': 220, 'true': 221, 'by': 222, 'show': 223, 'hungry': 224, 'free': 225, 'anyone': 226, 'life': 227, 'play': 228, 'pay': 229, 'die': 230, 'angry': 231, 'sad': 232, 'win': 233, 'these': 234, 'early': 235, 'mad': 236, 'school': 237, 'bring': 238, 'called': 239, 'stupid': 240, 'put': 241, 'sing': 242, 'check': 243, 'buy': 244, 'quit': 245, 'swim': 246, 'sat': 247, 'gone': 248, 'eyes': 249, 'took': 250, 'friends': 251, 'lucky': 252, 'quiet': 253, 'fine': 254, 'tall': 255, 'knew': 256, 'coming': 257, 'boy': 258, 'yourself': 259, 'forget': 260, 'mean': 261, 'fast': 262, 'walk': 263, 'drunk': 264, 'serious': 265, 'close': 266, 'working': 267, 'and': 268, 'name': 269, 'looked': 270, 'heard': 271, 'cool': 272, 'move': 273, 'care': 274, 'speak': 275, 'shot': 276, 'wine': 277, 'beer': 278, 'hand': 279, 'sorry': 280, 'calm': 281, 'perfect': 282, 'first': 283, 'knows': 284, 'kidding': 285, 'bit': 286, 'being': 287, 'fat': 288, 'stand': 289, 'outside': 290, 'remember': 291, 'problem': 292, 'friend': 293, 'almost': 294, 'thanks': 295, 'answer': 296, 'been': 297, 'loved': 298, 'great': 299, 'handle': 300, 'fell': 301, 'hold': 302, 'cry': 303, 'start': 304, 'anybody': 305, 'needs': 306, 'something': 307, 'hair': 308, 'doing': 309, 'only': 310, 'listen': 311, 'ahead': 312, 'hat': 313, 'aren': 314, 'yet': 315, 'from': 316, 'fired': 317, 'use': 318, 'follow': 319, 'liked': 320, 'met': 321, 'bus': 322, 'naive': 323, 'ate': 324, 'wants': 325, 'running': 326, 'coffee': 327, 'shut': 328, 'wake': 329, 'inside': 330, 'once': 331, 'best': 332, 'key': 333, 'finished': 334, 'plan': 335, 'kind': 336, 'tried': 337, 'long': 338, 'rich': 339, 'hot': 340, 'seat': 341, 'someone': 342, 'already': 343, 'quite': 344, 'touch': 345, 'write': 346, 'food': 347, 'son': 348, 'kids': 349, 'married': 350, 'nervous': 351, 'myself': 352, 'enjoy': 353, 'wanted': 354, 'as': 355, 'doesn': 356, 'began': 357, 'drive': 358, 'works': 359, 'red': 360, 'caught': 361, 'needed': 362, 'those': 363, 'stopped': 364, 'sign': 365, 'clean': 366, 'around': 367, 'scared': 368, 'fish': 369, 'change': 370, 'quickly': 371, 'gun': 372, 'music': 373, 'bag': 374, 'confused': 375, 'hates': 376, 'drop': 377, 'hit': 378, 'lie': 379, 'dogs': 380, 'two': 381, 'told': 382, 'sweet': 383, 'break': 384, 'girls': 385, 'believe': 386, 'wife': 387, 'word': 388, 'sounds': 389, 'beat': 390, 'ran': 391, 'fix': 392, 'lazy': 393, 'hurts': 394, 'lying': 395, 'changed': 396, 'nuts': 397, 'invited': 398, 'seen': 399, 'boston': 400, 'teacher': 401, 'tomorrow': 402, 'paid': 403, 'soon': 404, 'weird': 405, 'tv': 406, 'normal': 407, 'talking': 408, 'lunch': 409, 'crying': 410, 'laughed': 411, 'joke': 412, 'doctor': 413, 'owe': 414, 'when': 415, 'somebody': 416, 'awesome': 417, 'spoke': 418, 'catch': 419, 'luck': 420, 'waited': 421, 'missed': 422, 'child': 423, 'choice': 424, 'grab': 425, 'cute': 426, 'game': 427, 'strong': 428, 'smart': 429, 'prepared': 430, 'excited': 431, 'lose': 432, 'pretty': 433, 'would': 434, 'arrived': 435, 'if': 436, 'mother': 437, 'brave': 438, 'forgot': 439, 'after': 440, 'wonderful': 441, 'deal': 442, 'fight': 443, 'young': 444, 'milk': 445, 'song': 446, 'arm': 447, 'empty': 448, 'father': 449, 'boss': 450, 'important': 451, 'tie': 452, 'seem': 453, 'cried': 454, 'lock': 455, 'helped': 456, 'rest': 457, 'tea': 458, 'joking': 459, 'lonely': 460, 'study': 461, 'started': 462, 'bought': 463, 'light': 464, 'lied': 465, 'agree': 466, 'smoke': 467, 'shy': 468, 'rude': 469, 'awful': 470, 'worked': 471, 'cut': 472, 'guess': 473, 'asked': 474, 'small': 475, 'dream': 476, 'became': 477, 'horse': 478, 'amazing': 479, 'guy': 480, 'trouble': 481, 'getting': 482, 'sound': 483, 'terrific': 484, 'hands': 485, 'head': 486, 'alive': 487, 'walked': 488, 'saved': 489, 'slowly': 490, 'next': 491, 'upstairs': 492, 'slept': 493, 'afraid': 494, 'killed': 495, 'dinner': 496, 'oldest': 497, 'fair': 498, 'timid': 499, 'smell': 500, 'moving': 501, 'last': 502, 'drank': 503, 'leaving': 504, 'winning': 505, 'whose': 506, 'pen': 507, 'books': 508, 'which': 509, 'betrayed': 510, 'fault': 511, 'couldn': 512, 'phone': 513, 'slow': 514, 'real': 515, 'smiled': 516, 'honest': 517, 'cheated': 518, 'sleepy': 519, 'trying': 520, 'count': 521, 'often': 522, 'reading': 523, 'send': 524, 'pain': 525, 'trusted': 526, 'minute': 527, 'story': 528, 'relax': 529, 'hang': 530, 'fit': 531, 'kill': 532, 'wise': 533, 'full': 534, 'weak': 535, 'short': 536, 'dark': 537, 'step': 538, 'yes': 539, 'eating': 540, 'town': 541, 'mind': 542, 'laugh': 543, 'age': 544, 'cats': 545, 'unlucky': 546, 'happened': 547, 'always': 548, 'together': 549, 'place': 550, 'relaxed': 551, 'retired': 552, 'tough': 553, 'skinny': 554, 'ignore': 555, 'vote': 556, 'asleep': 557, 'correct': 558, 'heart': 559, 'might': 560, 'shoes': 561, 'warned': 562, 'sent': 563, 'own': 564, 'student': 565, 'turned': 566, 'join': 567, 'kiss': 568, 'push': 569, 'warm': 570, 'bored': 571, 'wish': 572, 'singing': 573, 'exhausted': 574, 'little': 575, 'family': 576, 'end': 577, 'bike': 578, 'into': 579, 'woke': 580, 'cook': 581, 'awake': 582, 'tight': 583, 'hired': 584, 'girl': 585, 'famous': 586, 'box': 587, 'trapped': 588, 'maybe': 589, 'smiling': 590, 'coat': 591, 'beautiful': 592, 'mom': 593, 'surprised': 594, 'behind': 595, 'continue': 596, 'wet': 597, 'failed': 598, 'save': 599, 'obey': 600, 'blind': 601, 'dying': 602, 'ours': 603, 'duty': 604, 'face': 605, 'liar': 606, 'night': 607, 'cake': 608, 'set': 609, 'thirsty': 610, 'broken': 611, 'silent': 612, 'closer': 613, 'many': 614, 'refused': 615, 'kid': 616, 'shopping': 617, 'blame': 618, 'black': 619, 'cops': 620, 'followed': 621, 'guilty': 622, 'point': 623, 'used': 624, 'doors': 625, 'bill': 626, 'every': 627, 'born': 628, 'choose': 629, 'naked': 630, 'far': 631, 'pardon': 632, 'thank': 633, 'blue': 634, 'curious': 635, 'news': 636, 'jealous': 637, 'shocked': 638, 'worried': 639, 'fake': 640, 'party': 641, 'bite': 642, 'kissed': 643, 'mess': 644, 'anything': 645, 'understand': 646, 'explain': 647, 'innocent': 648, 'involved': 649, 'law': 650, 'cruel': 651, 'god': 652, 'japanese': 653, 'listening': 654, 'throw': 655, 'trip': 656, 'movie': 657, 'fire': 658, 'smile': 659, 'wash': 660, 'refuse': 661, 'ugly': 662, 'helps': 663, 'warn': 664, 'patient': 665, 'men': 666, 'war': 667, 'creative': 668, 'finish': 669, 'bet': 670, 'driving': 671, 'shall': 672, 'meet': 673, 'meat': 674, 'feet': 675, 'things': 676, 'meant': 677, 'downstairs': 678, 'foolish': 679, 'or': 680, 'nose': 681, 'believed': 682, 'satisfied': 683, 'boring': 684, 'terrible': 685, 'boat': 686, 'ball': 687, 'lives': 688, 'watching': 689, 'dangerous': 690, 'desk': 691, 'side': 692, 'jump': 693, 'hello': 694, 'hug': 695, 'low': 696, 'welcome': 697, 'fly': 698, 'clear': 699, 'hero': 700, 'pick': 701, 'dance': 702, 'cash': 703, 'cooking': 704, 'fool': 705, 'useless': 706, 'rain': 707, 'team': 708, 'another': 709, 'map': 710, 'pizza': 711, 'writing': 712, 'yelling': 713, 'control': 714, 'ride': 715, 'raise': 716, 'danger': 717, 'camera': 718, 'keys': 719, 'carefully': 720, 'sister': 721, 'three': 722, 'ill': 723, 'guys': 724, 'taste': 725, 'excuse': 726, 'dirty': 727, 'agreed': 728, 'idiot': 729, 'along': 730, 'forgive': 731, 'worry': 732, 'sharp': 733, 'merciful': 734, 'snow': 735, 'list': 736, 'remain': 737, 'dress': 738, 'positive': 739, 'nearby': 740, 'happen': 741, 'shame': 742, 'looking': 743, 'polite': 744, 'survive': 745, 'week': 746, 'ambitious': 747, 'motivated': 748, 'raining': 749, 'laughing': 750, 'cup': 751, 'seemed': 752, 'second': 753, 'rid': 754, 'park': 755, 'disgusting': 756, 'baby': 757, 'brother': 758, 'feeling': 759, 'opened': 760, 'hi': 761, 'attack': 762, 'stood': 763, 'cover': 764, 'talked': 765, 'bald': 766, 'seated': 767, 'armed': 768, 'dizzy': 769, 'clever': 770, 'wrote': 771, 'shoot': 772, 'direct': 773, 'drives': 774, 'even': 775, 'friendly': 776, 'fear': 777, 'dancing': 778, 'stunned': 779, 'touched': 780, 'simple': 781, 'date': 782, 'bath': 783, 'hey': 784, 'silly': 785, 'proof': 786, 'risk': 787, 'decided': 788, 'jobs': 789, 'dry': 790, 'feels': 791, 'comes': 792, 'pleased': 793, 'impressed': 794, 'resilient': 795, 'helping': 796, 'bell': 797, 'chance': 798, 'tree': 799, 'rules': 800, 'brought': 801, 'knife': 802, 'mistake': 803, 'truth': 804, 'train': 805, 'same': 806, 'children': 807, 'enemy': 808, 'bicycle': 809, 'speaks': 810, 'begin': 811, 'high': 812, 'deep': 813, 'stayed': 814, 'glad': 815, 'okay': 816, 'beg': 817, 'stuck': 818, 'content': 819, 'lovely': 820, 'losing': 821, 'punctual': 822, 'hated': 823, 'scream': 824, 'starved': 825, 'secret': 826, 'escaped': 827, 'objective': 828, 'fearless': 829, 'cancer': 830, 'special': 831, 'focused': 832, 'while': 833, 'unbelievable': 834, 'matter': 835, 'favor': 836, 'tricked': 837, 'finally': 838, 'nearly': 839, 'different': 840, 'sense': 841, 'trusts': 842, 'makes': 843, 'rather': 844, 'having': 845, 'order': 846, 'escape': 847, 'relieved': 848, 'ordered': 849, 'productive': 850, 'oh': 851, 'deaf': 852, 'fantastic': 853, 'giggled': 854, 'burned': 855, 'loosen': 856, 'air': 857, 'green': 858, 'aside': 859, 'discreet': 860, 'also': 861, 'dumb': 862, 'baffled': 863, 'sincere': 864, 'unhappy': 865, 'loud': 866, 'teach': 867, 'resist': 868, 'deserve': 869, 'powerful': 870, 'strange': 871, 'sang': 872, 'tense': 873, 'closed': 874, 'woman': 875, 'any': 876, 'clock': 877, 'smells': 878, 'studying': 879, 'fed': 880, 'badly': 881, 'people': 882, 'skiing': 883, 'horses': 884, 'prefer': 885, 'concerned': 886, 'depressed': 887, 'leak': 888, 'window': 889, 'moment': 890, 'insane': 891, 'nonsense': 892, 'yourselves': 893, 'plays': 894, 'lit': 895, 'travel': 896, 'interested': 897, 'expensive': 898, 'apple': 899, 'tonight': 900, 'fate': 901, 'sore': 902, 'proud': 903, 'person': 904, 'pull': 905, 'birds': 906, 'rush': 907, 'poor': 908, 'promised': 909, 'loaded': 910, 'happens': 911, 'drinks': 912, 'decide': 913, 'dressed': 914, 'grew': 915, 'chose': 916, 'fined': 917, 'certain': 918, 'monday': 919, 'talks': 920, 'says': 921, 'confident': 922, 'dumped': 923, 'horrible': 924, 'pathetic': 925, 'paint': 926, 'lawyer': 927, 'singer': 928, 'divorced': 929, 'fighting': 930, 'pregnant': 931, 'sleeping': 932, 'stubborn': 933, 'white': 934, 'closely': 935, 'ended': 936, 'crime': 937, 'part': 938, 'fever': 939, 'summer': 940, 'rescued': 941, 'convinced': 942, 'forgetful': 943, 'screaming': 944, 'terrified': 945, 'later': 946, 'table': 947, 'near': 948, 'injured': 949, 'charge': 950, 'fishing': 951, 'panting': 952, 'chair': 953, 'christmas': 954, 'road': 955, 'store': 956, 'bank': 957, 'message': 958, 'drinking': 959, 'yesterday': 960, 'headache': 961, 'eye': 962, 'protect': 963, 'fortunate': 964, 'shirt': 965, 'hide': 966, 'pass': 967, 'faster': 968, 'ski': 969, 'cheered': 970, 'noticed': 971, 'promise': 972, 'fussy': 973, 'stinks': 974, 'hers': 975, 'then': 976, 'built': 977, 'amused': 978, 'buying': 979, 'ruined': 980, 'single': 981, 'sneaky': 982, 'matters': 983, 'cheap': 984, 'bother': 985, 'apologize': 986, 'soup': 987, 'messed': 988, 'eggs': 989, 'manage': 990, 'ashamed': 991, 'chicken': 992, 'staying': 993, 'memorize': 994, 'grow': 995, 'hugged': 996, 'drowned': 997, 'watched': 998, 'act': 999, 'twins': 1000, 'half': 1001, 'apples': 1002, 'plans': 1003, 'saint': 1004, 'speaking': 1005, 'missing': 1006, 'walking': 1007, 'goes': 1008, 'arguing': 1009, 'dreaming': 1010, 'bird': 1011, 'gear': 1012, 'few': 1013, 'line': 1014, 'baked': 1015, 'soccer': 1016, 'note': 1017, 'advice': 1018, 'played': 1019, 'surrendered': 1020, 'volunteered': 1021, 'available': 1022, 'powerless': 1023, 'worth': 1024, 'breath': 1025, 'shoe': 1026, 'six': 1027, 'floor': 1028, 'bright': 1029, 'crafty': 1030, 'animals': 1031, 'attacked': 1032, 'reply': 1033, 'goal': 1034, 'charming': 1035, 'stalling': 1036, 'alike': 1037, 'students': 1038, 'envious': 1039, 'death': 1040, 'swimming': 1041, 'truly': 1042, 'sounded': 1043, 'fabulous': 1044, 'himself': 1045, 'frightened': 1046, 'briefly': 1047, 'power': 1048, 'flight': 1049, 'example': 1050, 'goodbye': 1051, 'runs': 1052, 'brief': 1053, 'phoned': 1054, 'crashed': 1055, 'fainted': 1056, 'hurried': 1057, 'seriously': 1058, 'voted': 1059, 'prudent': 1060, 'breathe': 1061, 'quick': 1062, 'facts': 1063, 'doubt': 1064, 'ice': 1065, 'panicked': 1066, 'screamed': 1067, 'thirty': 1068, 'pray': 1069, 'boys': 1070, 'cheerful': 1071, 'ruthless': 1072, 'bread': 1073, 'moved': 1074, 'healthy': 1075, 'psychic': 1076, 'doll': 1077, 'locked': 1078, 'surprise': 1079, 'coughed': 1080, 'rifle': 1081, 'admire': 1082, 'sugar': 1083, 'hopeless': 1084, 'thrilled': 1085, 'digging': 1086, 'quietly': 1087, 'forward': 1088, 'smoking': 1089, 'stole': 1090, 'stoned': 1091, 'uneasy': 1092, 'else': 1093, 'fooled': 1094, 'demented': 1095, 'blood': 1096, 'wore': 1097, 'prove': 1098, 'artist': 1099, 'impatient': 1100, 'gets': 1101, 'foot': 1102, 'peace': 1103, 'suit': 1104, 'shower': 1105, 'tastes': 1106, 'cousins': 1107, 'enemies': 1108, 'cows': 1109, 'complain': 1110, 'year': 1111, 'eaten': 1112, 'spot': 1113, 'cookies': 1114, 'harm': 1115, 'holiday': 1116, 'overworked': 1117, 'large': 1118, 'prices': 1119, 'blew': 1120, 'afford': 1121, 'glass': 1122, 'dad': 1123, 'noise': 1124, 'match': 1125, 'kidnapped': 1126, 'alarmed': 1127, 'sour': 1128, 'decision': 1129, 'believes': 1130, 'daughter': 1131, 'threatened': 1132, 'fingers': 1133, 'surrounded': 1134, 'knees': 1135, 'thing': 1136, 'parents': 1137, 'burn': 1138, 'jumped': 1139, 'thin': 1140, 'odd': 1141, 'bless': 1142, 'pack': 1143, 'destroy': 1144, 'fill': 1145, 'canceled': 1146, 'envy': 1147, 'flinched': 1148, 'greedy': 1149, 'shaken': 1150, 'strict': 1151, 'generous': 1152, 'thorough': 1153, 'class': 1154, 'disagreed': 1155, 'golf': 1156, 'sell': 1157, 'struggled': 1158, 'attend': 1159, 'finicky': 1160, 'wealthy': 1161, 'paper': 1162, 'dope': 1163, 'safely': 1164, 'annoying': 1165, 'arrogant': 1166, 'romantic': 1167, 'doubts': 1168, 'cab': 1169, 'star': 1170, 'thought': 1171, 'learn': 1172, 'sue': 1173, 'canadian': 1174, 'ears': 1175, 'mistaken': 1176, 'offended': 1177, 'obvious': 1178, 'snowing': 1179, 'staring': 1180, 'gold': 1181, 'pale': 1182, 'words': 1183, 'talented': 1184, 'beware': 1185, 'deny': 1186, 'feed': 1187, 'flowers': 1188, 'maid': 1189, 'thief': 1190, 'deserved': 1191, 'winter': 1192, 'ring': 1193, 'copy': 1194, 'taxi': 1195, 'outrank': 1196, 'delighted': 1197, 'intrigued': 1198, 'coach': 1199, 'weapon': 1200, 'number': 1201, 'gambling': 1202, 'doctors': 1203, 'grass': 1204, 'scolded': 1205, 'truck': 1206, 'astonished': 1207, 'contagious': 1208, 'making': 1209, 'vegetarian': 1210, 'picture': 1211, 'their': 1212, 'harmless': 1213, 'escaping': 1214, 'congratulations': 1215, 'hour': 1216, 'pencil': 1217, 'learned': 1218, 'rang': 1219, 'embarrassed': 1220, 'fresh': 1221, 'ridiculous': 1222, 'smaller': 1223, 'mouth': 1224, 'answered': 1225, 'straight': 1226, 'sale': 1227, 'forgiven': 1228, 'remained': 1229, 'overreacting': 1230, 'conceited': 1231, 'murdered': 1232, 'unique': 1233, 'weapons': 1234, 'loudly': 1235, 'familiar': 1236, 'overwhelmed': 1237, 'unconscious': 1238, 'sort': 1239, 'rained': 1240, 'courageous': 1241, 'knocked': 1242, 'leader': 1243, 'master': 1244, 'banged': 1245, 'drove': 1246, 'obeyed': 1247, 'rested': 1248, 'snowed': 1249, 'course': 1250, 'walks': 1251, 'admit': 1252, 'chuckled': 1253, 'exercise': 1254, 'twin': 1255, 'humble': 1256, 'comment': 1257, 'nap': 1258, 'cheat': 1259, 'yelled': 1260, 'harder': 1261, 'cancel': 1262, 'argue': 1263, 'resigned': 1264, 'share': 1265, 'fruit': 1266, 'rice': 1267, 'gas': 1268, 'smashed': 1269, 'teasing': 1270, 'through': 1271, 'split': 1272, 'shake': 1273, 'leg': 1274, 'guessed': 1275, 'huge': 1276, 'evil': 1277, 'fall': 1278, 'denied': 1279, 'kicked': 1280, 'exciting': 1281, 'apologized': 1282, 'draw': 1283, 'chess': 1284, 'jokes': 1285, 'robbed': 1286, 'twice': 1287, 'genius': 1288, 'bluffing': 1289, 'grateful': 1290, 'obedient': 1291, 'reliable': 1292, 'checked': 1293, 'waste': 1294, 'diary': 1295, 'command': 1296, 'scary': 1297, 'translate': 1298, 'pitch': 1299, 'ignored': 1300, 'english': 1301, 'adorable': 1302, 'despise': 1303, 'tempted': 1304, 'allow': 1305, 'fan': 1306, 'treat': 1307, 'personal': 1308, 'possible': 1309, 'standing': 1310, 'bragging': 1311, 'adores': 1312, 'misled': 1313, 'remembers': 1314, 'succeed': 1315, 'judge': 1316, 'disappeared': 1317, 'outgoing': 1318, 'slapped': 1319, 'wide': 1320, 'spiders': 1321, 'painted': 1322, 'glasses': 1323, 'speechless': 1324, 'successful': 1325, 'roses': 1326, 'counting': 1327, 'whistling': 1328, 'helpful': 1329, 'similar': 1330, 'remembered': 1331, 'troubled': 1332, 'earlier': 1333, 'cleaned': 1334, 'excused': 1335, 'expect': 1336, 'towel': 1337, 'partner': 1338, 'tongue': 1339, 'sons': 1340, 'haven': 1341, 'tennis': 1342, 'unusual': 1343, 'city': 1344, 'incredible': 1345, 'its': 1346, 'office': 1347, 'gray': 1348, 'remove': 1349, 'repeat': 1350, 'separated': 1351, 'startled': 1352, 'fuse': 1353, 'blown': 1354, 'flexible': 1355, 'cap': 1356, 'candle': 1357, 'breakfast': 1358, 'rarely': 1359, 'criminal': 1360, 'weight': 1361, 'ever': 1362, 'showed': 1363, 'tire': 1364, 'promoted': 1365, 'hilarious': 1366, 'talkative': 1367, 'skipped': 1368, 'pants': 1369, 'weather': 1370, 'candles': 1371, 'downtown': 1372, 'forced': 1373, 'volume': 1374, 'stink': 1375, 'cop': 1376, 'cooks': 1377, 'unlock': 1378, 'cares': 1379, 'disagree': 1380, 'fixed': 1381, 'art': 1382, 'survived': 1383, 'accept': 1384, 'alert': 1385, 'replace': 1386, 'sec': 1387, 'fail': 1388, 'eight': 1389, 'jerk': 1390, 'confessed': 1391, 'cars': 1392, 'washed': 1393, 'dieting': 1394, 'popular': 1395, 'puzzled': 1396, 'selfish': 1397, 'legal': 1398, 'flat': 1399, 'trap': 1400, 'spring': 1401, 'numb': 1402, 'easily': 1403, 'games': 1404, 'understood': 1405, 'addicted': 1406, 'bleeding': 1407, 'faithful': 1408, 'freezing': 1409, 'grounded': 1410, 'outraged': 1411, 'reserved': 1412, 'starving': 1413, 'unfair': 1414, 'hideous': 1415, 'legs': 1416, 'recess': 1417, 'dreams': 1418, 'approved': 1419, 'overslept': 1420, 'mature': 1421, 'years': 1422, 'type': 1423, 'rope': 1424, 'fought': 1425, 'clue': 1426, 'nature': 1427, 'ought': 1428, 'stabbed': 1429, 'disgusted': 1430, 'expecting': 1431, 'impulsive': 1432, 'uninsured': 1433, 'apart': 1434, 'unlocked': 1435, 'climbing': 1436, 'proceed': 1437, 'attention': 1438, 'clearly': 1439, 'stuff': 1440, 'creepy': 1441, 'crept': 1442, 'vulgar': 1443, 'remarried': 1444, 'scares': 1445, 'violent': 1446, 'wounded': 1447, 'till': 1448, 'waiting': 1449, 'grumpy': 1450, 'annoy': 1451, 'guns': 1452, 'form': 1453, 'van': 1454, 'keeps': 1455, 'arrested': 1456, 'playing': 1457, 'sun': 1458, 'welcomed': 1459, 'devastated': 1460, 'bargain': 1461, 'prepare': 1462, 'meter': 1463, 'awkward': 1464, 'price': 1465, 'radio': 1466, 'complained': 1467, 'precise': 1468, 'prude': 1469, 'interrupt': 1470, 'mercy': 1471, 'dreamer': 1472, 'mentioned': 1473, 'notice': 1474, 'evidence': 1475, 'homework': 1476, 'lay': 1477, 'misjudged': 1478, 'tissue': 1479, 'mayor': 1480, 'totally': 1481, 'horrified': 1482, 'wouldn': 1483, 'volunteer': 1484, 'able': 1485, 'training': 1486, 'such': 1487, 'handsome': 1488, 'windy': 1489, 'niece': 1490, 'leaves': 1491, 'alarm': 1492, 'church': 1493, 'sky': 1494, 'held': 1495, 'deranged': 1496, 'repulsive': 1497, 'punched': 1498, 'cannot': 1499, 'disloyal': 1500, 'cross': 1501, 'juice': 1502, 'debt': 1503, 'embarrassing': 1504, 'sweat': 1505, 'bowed': 1506, 'politely': 1507, 'traveling': 1508, 'bar': 1509, 'search': 1510, 'entered': 1511, 'abandoned': 1512, 'courteous': 1513, 'weren': 1514, 'heavy': 1515, 'screw': 1516, 'advance': 1517, 'but': 1518, 'arms': 1519, 'days': 1520, 'brainer': 1521, 'bothering': 1522, 'letting': 1523, 'wow': 1524, 'bury': 1525, 'fold': 1526, 'waved': 1527, 'aim': 1528, 'tries': 1529, 'nodded': 1530, 'east': 1531, 'west': 1532, 'hung': 1533, 'north': 1534, 'biased': 1535, 'fad': 1536, 'cooked': 1537, 'sensible': 1538, 'watchful': 1539, 'panic': 1540, 'mice': 1541, 'rock': 1542, 'taxes': 1543, 'recovered': 1544, 'succeeded': 1545, 'jittery': 1546, 'sloshed': 1547, 'unarmed': 1548, 'fact': 1549, 'pipe': 1550, 'cloudy': 1551, 'ironic': 1552, 'timing': 1553, 'card': 1554, 'plants': 1555, 'return': 1556, 'caution': 1557, 'guest': 1558, 'beef': 1559, 'snack': 1560, 'poet': 1561, 'enjoyed': 1562, 'faint': 1563, 'giddy': 1564, 'handled': 1565, 'honey': 1566, 'women': 1567, 'rose': 1568, 'smelled': 1569, 'farmer': 1570, 'member': 1571, 'drowning': 1572, 'rumor': 1573, 'garbage': 1574, 'genuine': 1575, 'stir': 1576, 'pushing': 1577, 'trash': 1578, 'bores': 1579, 'focus': 1580, 'dating': 1581, 'shock': 1582, 'respectful': 1583, 'blow': 1584, 'kite': 1585, 'dropped': 1586, 'sells': 1587, 'american': 1588, 'contributed': 1589, 'movies': 1590, 'salmon': 1591, 'hiking': 1592, 'insist': 1593, 'object': 1594, 'respect': 1595, 'plane': 1596, 'pool': 1597, 'contented': 1598, 'flattered': 1599, 'miserable': 1600, 'observant': 1601, 'saying': 1602, 'worse': 1603, 'takes': 1604, 'test': 1605, 'business': 1606, 'differ': 1607, 'anyway': 1608, 'suits': 1609, 'texted': 1610, 'growing': 1611, 'related': 1612, 'add': 1613, 'racist': 1614, 'mug': 1615, 'video': 1616, 'uncle': 1617, 'borrow': 1618, 'corrected': 1619, 'secrets': 1620, 'dessert': 1621, 'protest': 1622, 'punished': 1623, 'details': 1624, 'revenge': 1625, 'insulted': 1626, 'wear': 1627, 'testify': 1628, 'survivor': 1629, 'optimistic': 1630, 'untalented': 1631, 'miracle': 1632, 'peel': 1633, 'teased': 1634, 'beauty': 1635, 'appeared': 1636, 'snap': 1637, 'calmly': 1638, 'brothers': 1639, 'helpless': 1640, 'country': 1641, 'causes': 1642, 'wind': 1643, 'capsized': 1644, 'police': 1645, 'trunk': 1646, 'signed': 1647, 'dawn': 1648, 'hardly': 1649, 'stared': 1650, 'cheating': 1651, 'writes': 1652, 'husband': 1653, 'photogenic': 1654, 'interesting': 1655, 'appreciate': 1656, 'violence': 1657, 'hammer': 1658, 'color': 1659, 'introverted': 1660, 'minded': 1661, 'modest': 1662, 'happening': 1663, 'allowed': 1664, 'irrelevant': 1665, 'negotiate': 1666, 'bottle': 1667, 'tied': 1668, 'lake': 1669, 'moon': 1670, 'exit': 1671, 'times': 1672, 'immature': 1673, 'sipped': 1674, 'dishes': 1675, 'visit': 1676, 'organized': 1677, 'prisoners': 1678, 'stolen': 1679, 'prize': 1680, 'teaches': 1681, 'crack': 1682, 'blushing': 1683, 'top': 1684, 'drawer': 1685, 'concentrate': 1686, 'umbrella': 1687, 'dumbfounded': 1688, 'knee': 1689, 'coughing': 1690, 'led': 1691, 'chocolate': 1692, 'beach': 1693, 'computer': 1694, 'retire': 1695, 'aggressive': 1696, 'humiliated': 1697, 'sunday': 1698, 'letter': 1699, 'belongs': 1700, 'difficult': 1701, 'rainy': 1702, 'sunny': 1703, 'gain': 1704, 'elaborate': 1705, 'complaining': 1706, 'studies': 1707, 'sports': 1708, 'released': 1709, 'mistakes': 1710, 'taking': 1711, 'five': 1712, 'hobby': 1713, 'traitor': 1714, 'obnoxious': 1715, 'question': 1716, 'pet': 1717, 'brown': 1718, 'raised': 1719, 'shook': 1720, 'raking': 1721, 'graduate': 1722, 'style': 1723, 'photo': 1724, 'garden': 1725, 'wild': 1726, 'lights': 1727, 'driver': 1728, 'responsible': 1729, 'prisoner': 1730, 'registered': 1731, 'using': 1732, 'comic': 1733, 'log': 1734, 'gotten': 1735, 'strive': 1736, 'unreliable': 1737, 'duck': 1738, 'cheers': 1739, 'knit': 1740, 'dozed': 1741, 'snore': 1742, 'skip': 1743, 'marry': 1744, 'cringed': 1745, 'exhaled': 1746, 'loyal': 1747, 'sand': 1748, 'seize': 1749, 'swam': 1750, 'aboard': 1751, 'carry': 1752, 'fret': 1753, 'south': 1754, 'tragic': 1755, 'listened': 1756, 'squinted': 1757, 'baking': 1758, 'chubby': 1759, 'paying': 1760, 'safer': 1761, 'wept': 1762, 'lighten': 1763, 'notes': 1764, 'flies': 1765, 'winced': 1766, 'comfort': 1767, 'guts': 1768, 'beans': 1769, 'hesitated': 1770, 'math': 1771, 'third': 1772, 'baker': 1773, 'medic': 1774, 'blessed': 1775, 'engaged': 1776, 'falling': 1777, 'furious': 1778, 'stuffed': 1779, 'rule': 1780, 'scam': 1781, 'poison': 1782, 'urgent': 1783, 'means': 1784, 'blushed': 1785, 'stick': 1786, 'grim': 1787, 'pity': 1788, 'attentive': 1789, 'realistic': 1790, 'evening': 1791, 'donut': 1792, 'bigot': 1793, 'lousy': 1794, 'opera': 1795, 'sushi': 1796, 'risks': 1797, 'coward': 1798, 'homeless': 1799, 'homesick': 1800, 'angel': 1801, 'rational': 1802, 'truthful': 1803, 'deer': 1804, 'wolf': 1805, 'bedtime': 1806, 'pigs': 1807, 'plug': 1808, 'sued': 1809, 'louder': 1810, 'pig': 1811, 'loser': 1812, 'ink': 1813, 'bossy': 1814, 'ain': 1815, 'included': 1816, 'supportive': 1817, 'skate': 1818, 'gamble': 1819, 'wins': 1820, 'deeply': 1821, 'hole': 1822, 'pinched': 1823, 'admired': 1824, 'muslim': 1825, 'caused': 1826, 'cough': 1827, 'dislike': 1828, 'bananas': 1829, 'freaked': 1830, 'elected': 1831, 'orders': 1832, 'tenure': 1833, 'cheese': 1834, 'rescheduled': 1835, 'ghost': 1836, 'behave': 1837, 'budge': 1838, 'plumber': 1839, 'tourist': 1840, 'committed': 1841, 'dedicated': 1842, 'desperate': 1843, 'expert': 1844, 'shivering': 1845, 'skeptical': 1846, 'gift': 1847, 'saturday': 1848, 'relief': 1849, 'outdated': 1850, 'seal': 1851, 'model': 1852, 'shouting': 1853, 'sweep': 1854, 'cow': 1855, 'oven': 1856, 'japan': 1857, 'joined': 1858, 'adopted': 1859, 'annoyed': 1860, 'packing': 1861, 'page': 1862, 'before': 1863, 'respond': 1864, 'thinks': 1865, 'mail': 1866, 'wicked': 1867, 'qualified': 1868, 'hiring': 1869, 'flew': 1870, 'beard': 1871, 'sold': 1872, 'gambler': 1873, 'prison': 1874, 'flunk': 1875, 'honored': 1876, 'nauseous': 1877, 'vision': 1878, 'carrots': 1879, 'parties': 1880, 'sisters': 1881, 'flu': 1882, 'college': 1883, 'plead': 1884, 'puppy': 1885, 'captured': 1886, 'careless': 1887, 'cooperate': 1888, 'guide': 1889, 'against': 1890, 'diplomatic': 1891, 'exercising': 1892, 'fascinated': 1893, 'undressing': 1894, 'redundant': 1895, 'risky': 1896, 'larger': 1897, 'biting': 1898, 'bunch': 1899, 'hogwash': 1900, 'illegal': 1901, 'rubbish': 1902, 'barked': 1903, 'leaks': 1904, 'annoys': 1905, 'fork': 1906, 'intervened': 1907, 'unmoved': 1908, 'volunteers': 1909, 'sweating': 1910, 'retiring': 1911, 'tragedy': 1912, 'taken': 1913, 'wipe': 1914, 'present': 1915, 'bees': 1916, 'brush': 1917, 'dismissed': 1918, 'insult': 1919, 'overdo': 1920, 'solution': 1921, 'studied': 1922, 'adventurous': 1923, 'abhor': 1924, 'seizure': 1925, 'resign': 1926, 'football': 1927, 'leukemia': 1928, 'returned': 1929, 'showered': 1930, 'baseball': 1931, 'seldom': 1932, 'witness': 1933, 'solve': 1934, 'detective': 1935, 'calling': 1936, 'celebrating': 1937, 'comfortable': 1938, 'cracking': 1939, 'defenseless': 1940, 'extroverted': 1941, 'interfering': 1942, 'handed': 1943, 'persevering': 1944, 'resourceful': 1945, 'trustworthy': 1946, 'breathing': 1947, 'natural': 1948, 'moldy': 1949, 'ago': 1950, 'impossible': 1951, 'impressive': 1952, 'terrifying': 1953, 'neither': 1954, 'seeing': 1955, 'orange': 1956, 'assertive': 1957, 'sea': 1958, 'feared': 1959, 'rabbits': 1960, 'dejected': 1961, 'wears': 1962, 'suffer': 1963, 'panicking': 1964, 'suffered': 1965, 'ideas': 1966, 'giving': 1967, 'disaster': 1968, 'cost': 1969, 'naughty': 1970, 'barking': 1971, 'apply': 1972, 'teeth': 1973, 'street': 1974, 'mention': 1975, 'reason': 1976, 'suddenly': 1977, 'distracted': 1978, 'arabic': 1979, 'blanket': 1980, 'ticket': 1981, 'sneezed': 1982, 'hybrid': 1983, 'empowered': 1984, 'egg': 1985, 'month': 1986, 'cousin': 1987, 'between': 1988, 'fairly': 1989, 'shape': 1990, 'company': 1991, 'washing': 1992, 'necessary': 1993, 'size': 1994, 'sofa': 1995, 'informed': 1996, 'repair': 1997, 'cards': 1998, 'planet': 1999, 'socks': 2000, 'rejected': 2001, 'wisely': 2002, 'showing': 2003, 'ludicrous': 2004, 'limit': 2005, 'guard': 2006, 'monster': 2007, 'sarcastic': 2008, 'texting': 2009, 'soldiers': 2010, 'dozing': 2011, 'whatever': 2012, 'mirror': 2013, 'younger': 2014, 'others': 2015, 'thieves': 2016, 'earth': 2017, 'goodnight': 2018, 'ballistic': 2019, 'barely': 2020, 'grade': 2021, 'lightly': 2022, 'accident': 2023, 'pulled': 2024, 'discouraged': 2025, 'heavily': 2026, 'world': 2027, 'rage': 2028, 'emergency': 2029, 'sight': 2030, 'rats': 2031, 'rising': 2032, 'bitterly': 2033, 'harassing': 2034, 'wall': 2035, 'worst': 2036, 'handcuffed': 2037, 'suspicious': 2038, 'changing': 2039, 'jacket': 2040, 'terms': 2041, 'european': 2042, 'robots': 2043, 'gloves': 2044, 'offend': 2045, 'address': 2046, 'confirm': 2047, 'jail': 2048, 'lived': 2049, 'offense': 2050, 'kissing': 2051, 'scout': 2052, 'sighed': 2053, 'tidy': 2054, 'speed': 2055, 'lies': 2056, 'bark': 2057, 'film': 2058, 'grinned': 2059, 'groaned': 2060, 'sober': 2061, 'aah': 2062, 'dig': 2063, 'calls': 2064, 'absurd': 2065, 'cpr': 2066, 'relented': 2067, 'hiding': 2068, 'pooped': 2069, 'fox': 2070, 'cd': 2071, 'phony': 2072, 'jesus': 2073, 'scoot': 2074, 'agrees': 2075, 'snores': 2076, 'cds': 2077, 'gloat': 2078, 'coin': 2079, 'nerd': 2080, 'adore': 2081, 'exercised': 2082, 'jazz': 2083, 'nailed': 2084, 'protested': 2085, 'lips': 2086, 'widow': 2087, 'fasting': 2088, 'humming': 2089, 'psyched': 2090, 'fatal': 2091, 'lift': 2092, 'burns': 2093, 'clap': 2094, 'press': 2095, 'enter': 2096, 'release': 2097, 'lame': 2098, 'glum': 2099, 'neat': 2100, 'slim': 2101, 'sweated': 2102, 'bore': 2103, 'owns': 2104, 'describe': 2105, 'ghosts': 2106, 'exist': 2107, 'morning': 2108, 'cranky': 2109, 'driven': 2110, 'barbaric': 2111, 'liars': 2112, 'piano': 2113, 'lion': 2114, 'beaten': 2115, 'wonder': 2116, 'gullible': 2117, 'reformed': 2118, 'restless': 2119, 'shooting': 2120, 'thinking': 2121, 'ticklish': 2122, 'unbiased': 2123, 'identify': 2124, 'vague': 2125, 'robot': 2126, 'archaic': 2127, 'complex': 2128, 'ladies': 2129, 'lead': 2130, 'spy': 2131, 'heroes': 2132, 'minors': 2133, 'nerve': 2134, 'vanished': 2135, 'passed': 2136, 'scare': 2137, 'slipping': 2138, 'questions': 2139, 'reasonable': 2140, 'body': 2141, 'security': 2142, 'circle': 2143, 'exhale': 2144, 'cookie': 2145, 'eats': 2146, 'toys': 2147, 'senior': 2148, 'insecure': 2149, 'diabetic': 2150, 'pie': 2151, 'belong': 2152, 'steal': 2153, 'queasy': 2154, 'visa': 2155, 'garlic': 2156, 'yellow': 2157, 'hockey': 2158, 'violin': 2159, 'funds': 2160, 'rat': 2161, 'bacon': 2162, 'mask': 2163, 'dentist': 2164, 'easygoing': 2165, 'diet': 2166, 'plastered': 2167, 'sensitive': 2168, 'unmarried': 2169, 'voting': 2170, 'painful': 2171, 'wig': 2172, 'flaw': 2173, 'viral': 2174, 'gorgeous': 2175, 'stealing': 2176, 'offer': 2177, 'beside': 2178, 'worrying': 2179, 'symptoms': 2180, 'vary': 2181, 'dvd': 2182, 'sheep': 2183, 'touchy': 2184, 'sinking': 2185, 'responded': 2186, 'hypocrite': 2187, 'idiots': 2188, 'morons': 2189, 'crude': 2190, 'hint': 2191, 'wheel': 2192, 'counts': 2193, 'author': 2194, 'brakes': 2195, 'spinach': 2196, 'picnics': 2197, 'turtles': 2198, 'answers': 2199, 'data': 2200, 'usually': 2201, 'cleaning': 2202, 'detained': 2203, 'outdoors': 2204, 'unharmed': 2205, 'freshman': 2206, 'dehydrated': 2207, 'illiterate': 2208, 'methodical': 2209, 'quitter': 2210, 'overweight': 2211, 'winner': 2212, 'unemployed': 2213, 'forgotten': 2214, 'bear': 2215, 'likely': 2216, 'planned': 2217, 'wednesday': 2218, 'snowman': 2219, 'beyond': 2220, 'brand': 2221, 'undamaged': 2222, 'ache': 2223, 'choked': 2224, 'alright': 2225, 'evident': 2226, 'logical': 2227, 'roof': 2228, 'ford': 2229, 'callous': 2230, 'immoral': 2231, 'nodding': 2232, 'sobbing': 2233, 'recover': 2234, 'brain': 2235, 'refugees': 2236, 'paris': 2237, 'adjust': 2238, 'defend': 2239, 'rub': 2240, 'meal': 2241, 'prayed': 2242, 'acts': 2243, 'painter': 2244, 'gloomy': 2245, 'surfing': 2246, 'lad': 2247, 'southpaw': 2248, 'id': 2249, 'unfortunate': 2250, 'salad': 2251, 'disobeyed': 2252, 'expected': 2253, 'sunburned': 2254, 'voice': 2255, 'screams': 2256, 'teaching': 2257, 'tokyo': 2258, 'misunderstood': 2259, 'helmet': 2260, 'sword': 2261, 'land': 2262, 'biking': 2263, 'shifted': 2264, 'gears': 2265, 'taught': 2266, 'refund': 2267, 'acquitted': 2268, 'rent': 2269, 'tipsy': 2270, 'attorney': 2271, 'daydreaming': 2272, 'experienced': 2273, 'heartbroken': 2274, 'vacation': 2275, 'sympathetic': 2276, 'manager': 2277, 'unambitious': 2278, 'river': 2279, 'soft': 2280, 'disgrace': 2281, 'shortcut': 2282, 'acceptable': 2283, 'inadequate': 2284, 'sweltering': 2285, 'season': 2286, 'practice': 2287, 'jeans': 2288, 'sticky': 2289, 'changes': 2290, 'forgave': 2291, 'reads': 2292, 'roll': 2293, 'silence': 2294, 'steady': 2295, 'engine': 2296, 'breather': 2297, 'peculiar': 2298, 'salt': 2299, 'blocked': 2300, 'greeted': 2301, 'visited': 2302, 'reality': 2303, 'friday': 2304, 'agitated': 2305, 'dyslexic': 2306, 'resolute': 2307, 'skittish': 2308, 'tactless': 2309, 'wavering': 2310, 'mouse': 2311, 'understands': 2312, 'front': 2313, 'toes': 2314, 'teachers': 2315, 'freedom': 2316, 'lack': 2317, 'realize': 2318, 'rented': 2319, 'canadians': 2320, 'impartial': 2321, 'pleasure': 2322, 'comb': 2323, 'loo': 2324, 'picky': 2325, 'less': 2326, 'catholic': 2327, 'cane': 2328, 'immediately': 2329, 'consider': 2330, 'dial': 2331, 'deceive': 2332, 'garage': 2333, 'joy': 2334, 'picasso': 2335, 'hunt': 2336, 'biologist': 2337, 'grown': 2338, 'struck': 2339, 'pork': 2340, 'ripped': 2341, 'halloween': 2342, 'surprises': 2343, 'receipt': 2344, 'allergies': 2345, 'hay': 2346, 'standards': 2347, 'toothache': 2348, 'drill': 2349, 'ropes': 2350, 'wallet': 2351, 'yolks': 2352, 'soul': 2353, 'tires': 2354, 'frustrated': 2355, 'gladly': 2356, 'disappointed': 2357, 'america': 2358, 'heading': 2359, 'killing': 2360, 'living': 2361, 'riddle': 2362, 'threat': 2363, 'valuable': 2364, 'effective': 2365, 'race': 2366, 'habit': 2367, 'settled': 2368, 'complicated': 2369, 'compromise': 2370, 'mars': 2371, 'smokes': 2372, 'tiny': 2373, 'stomach': 2374, 'parrots': 2375, 'article': 2376, 'defeated': 2377, 'tb': 2378, 'disliked': 2379, 'spit': 2380, 'upsetting': 2381, 'tank': 2382, 'ambushed': 2383, 'deceived': 2384, 'glanced': 2385, 'problems': 2386, 'mystery': 2387, 'excellent': 2388, 'guitar': 2389, 'silently': 2390, 'deported': 2391, 'goggles': 2392, 'headed': 2393, 'considered': 2394, 'visitors': 2395, 'owners': 2396, 'eater': 2397, 'nightmare': 2398, 'build': 2399, 'copies': 2400, 'rely': 2401, 'pens': 2402, 'gentleman': 2403, 'scientist': 2404, 'twisted': 2405, 'bathe': 2406, 'brushed': 2407, 'verify': 2408, 'intervene': 2409, 'scarf': 2410, 'soaking': 2411, 'schedule': 2412, 'privacy': 2413, 'regrets': 2414, 'everywhere': 2415, 'colors': 2416, 'ignorance': 2417, 'gym': 2418, 'guessing': 2419, 'persuaded': 2420, 'dubious': 2421, 'neighbor': 2422, 'inflation': 2423, 'pure': 2424, 'depends': 2425, 'cumbersome': 2426, 'depressing': 2427, 'destiny': 2428, 'greasy': 2429, 'moot': 2430, 'reconsider': 2431, 'pretend': 2432, 'teen': 2433, 'aspirin': 2434, 'market': 2435, 'foxes': 2436, 'articulate': 2437, 'recovering': 2438, 'remarkable': 2439, 'hopeful': 2440, 'suffocating': 2441, 'meeting': 2442, 'cowards': 2443, 'stain': 2444, 'future': 2445, 'applause': 2446, 'invite': 2447, 'murder': 2448, 'snails': 2449, 'choosy': 2450, 'king': 2451, 'hospital': 2452, 'unimpressed': 2453, 'position': 2454, 'information': 2455, 'religion': 2456, 'somewhere': 2457, 'custom': 2458, 'challenge': 2459, 'candlelight': 2460, 'outfit': 2461, 'spilled': 2462, 'boyfriend': 2463, 'hire': 2464, 'chef': 2465, 'learning': 2466, 'handcrafted': 2467, 'unavoidable': 2468, 'corner': 2469, 'crowded': 2470, 'battery': 2471, 'frozen': 2472, 'template': 2473, 'shoelaces': 2474, 'comforted': 2475, 'downhearted': 2476, 'frazzled': 2477, 'hop': 2478, 'froze': 2479, 'swore': 2480, 'kick': 2481, 'goofed': 2482, 'moaned': 2483, 'chill': 2484, 'dj': 2485, 'sexy': 2486, 'humor': 2487, 'blinked': 2488, 'inhaled': 2489, 'tripped': 2490, 'leo': 2491, 'cured': 2492, 'above': 2493, 'below': 2494, 'higher': 2495, 'bottoms': 2496, 'swiss': 2497, 'human': 2498, 'b': 2499, 'objected': 2500, 'shrugged': 2501, 'threw': 2502, 'whistled': 2503, 'immune': 2504, 'soaked': 2505, 'wasted': 2506, 'bogus': 2507, 'magic': 2508, 'chat': 2509, 'mama': 2510, 'braked': 2511, 'gasped': 2512, 'unscrew': 2513, 'sunk': 2514, 'specific': 2515, 'bowl': 2516, 'shout': 2517, 'stare': 2518, 'flip': 2519, 'hunk': 2520, 'slob': 2521, 'monk': 2522, 'buried': 2523, 'oppose': 2524, 'snickered': 2525, 'surrender': 2526, 'frantic': 2527, 'neutral': 2528, 'stumped': 2529, 'foggy': 2530, 'yen': 2531, 'futile': 2532, 'warmer': 2533, 'across': 2534, 'record': 2535, 'settle': 2536, 'icky': 2537, 'wary': 2538, 'listens': 2539, 'older': 2540, 'drag': 2541, 'loss': 2542, 'ship': 2543, 'ramble': 2544, 'slouch': 2545, 'examine': 2546, 'avoids': 2547, 'heroic': 2548, 'dare': 2549, 'chased': 2550, 'jogging': 2551, 'honor': 2552, 'trips': 2553, 'space': 2554, 'rewrote': 2555, 'wimped': 2556, 'gemini': 2557, 'taurus': 2558, 'barber': 2559, 'dancer': 2560, 'surfer': 2561, 'adult': 2562, 'autistic': 2563, 'cultured': 2564, 'eighteen': 2565, 'managing': 2566, 'iron': 2567, 'amazed': 2568, 'curse': 2569, 'review': 2570, 'itch': 2571, 'shrieked': 2572, 'pouting': 2573, 'whining': 2574, 'yawning': 2575, 'approve': 2576, 'enlisted': 2577, 'grumbled': 2578, 'obese': 2579, 'stoic': 2580, 'vegan': 2581, 'adults': 2582, 'doomed': 2583, 'imbecile': 2584, 'moody': 2585, 'futon': 2586, 'blindfold': 2587, 'despair': 2588, 'peas': 2589, 'dies': 2590, 'haircut': 2591, 'ham': 2592, 'cracked': 2593, 'braces': 2594, 'skating': 2595, 'bled': 2596, 'honk': 2597, 'horn': 2598, 'delicious': 2599, 'thrilling': 2600, 'runner': 2601, 'borrowed': 2602, 'bribed': 2603, 'designed': 2604, 'reborn': 2605, 'scammed': 2606, 'asthma': 2607, 'rights': 2608, 'camels': 2609, 'cities': 2610, 'grapes': 2611, 'poetry': 2612, 'trains': 2613, 'sock': 2614, 'autumn': 2615, 'crew': 2616, 'lamp': 2617, 'support': 2618, 'crushed': 2619, 'dazzled': 2620, 'drugged': 2621, 'poems': 2622, 'songs': 2623, 'scorpio': 2624, 'soldier': 2625, 'surgeon': 2626, 'adaptable': 2627, 'orphan': 2628, 'bilingual': 2629, 'efficient': 2630, 'strike': 2631, 'surviving': 2632, 'bat': 2633, 'gag': 2634, 'superb': 2635, 'rental': 2636, 'homemade': 2637, 'midnight': 2638, 'occupied': 2639, 'suicidal': 2640, 'unlikely': 2641, 'hustling': 2642, 'aloud': 2643, 'russia': 2644, 'clapping': 2645, 'spitting': 2646, 'straighten': 2647, 'saturn': 2648, 'myth': 2649, 'doable': 2650, 'untrue': 2651, 'asian': 2652, 'spies': 2653, 'false': 2654, 'online': 2655, 'unhurt': 2656, 'upbeat': 2657, 'winded': 2658, 'rushed': 2659, 'staggered': 2660, 'frank': 2661, 'choking': 2662, 'elderly': 2663, 'snoring': 2664, 'wax': 2665, 'prevail': 2666, 'group': 2667, 'sync': 2668, 'lawyers': 2669, 'stalled': 2670, 'bummer': 2671, 'fiasco': 2672, 'legibly': 2673, 'charlatan': 2674, 'hoot': 2675, 'snob': 2676, 'unkind': 2677, 'avoid': 2678, 'clich': 2679, 'juggle': 2680, 'gate': 2681, 'recycle': 2682, 'force': 2683, 'struggle': 2684, 'tease': 2685, 'tempt': 2686, 'dude': 2687, 'afternoon': 2688, 'lip': 2689, 'dislikes': 2690, 'actor': 2691, 'respects': 2692, 'ex': 2693, 'banana': 2694, 'decorated': 2695, 'gossip': 2696, 'suntan': 2697, 'expelled': 2698, 'stroke': 2699, 'sundays': 2700, 'hiccups': 2701, 'voices': 2702, 'hiccup': 2703, 'bowling': 2704, 'history': 2705, 'lobster': 2706, 'mahjong': 2707, 'puzzles': 2708, 'stories': 2709, 'stamp': 2710, 'file': 2711, 'korean': 2712, 'justice': 2713, 'barefoot': 2714, 'hammered': 2715, 'impolite': 2716, 'agony': 2717, 'pardoned': 2718, 'prosper': 2719, 'musician': 2720, 'dependable': 2721, 'firing': 2722, 'meditating': 2723, 'bitter': 2724, 'prejudiced': 2725, 'revolting': 2726, 'searching': 2727, 'tooth': 2728, 'tune': 2729, 'science': 2730, 'nurse': 2731, 'bach': 2732, 'sings': 2733, 'gossiping': 2734, 'grumbling': 2735, 'quibbling': 2736, 'sniffling': 2737, 'tower': 2738, 'flag': 2739, 'melted': 2740, 'siren': 2741, 'snag': 2742, 'muddy': 2743, 'bites': 2744, 'theirs': 2745, 'tricky': 2746, 'dice': 2747, 'pear': 2748, 'crook': 2749, 'moron': 2750, 'sitting': 2751, 'smarter': 2752, 'unfazed': 2753, 'retaliated': 2754, 'improve': 2755, 'clueless': 2756, 'crash': 2757, 'blast': 2758, 'guests': 2759, 'action': 2760, 'partners': 2761, 'quitting': 2762, 'stronger': 2763, 'rip': 2764, 'disgust': 2765, 'screwed': 2766, 'amusing': 2767, 'elusive': 2768, 'obscene': 2769, 'pro': 2770, 'insured': 2771, 'round': 2772, 'hibernate': 2773, 'bullet': 2774, 'boil': 2775, 'whistle': 2776, 'boxes': 2777, 'nails': 2778, 'hatch': 2779, 'jam': 2780, 'stingy': 2781, 'interfere': 2782, 'remind': 2783, 'popcorn': 2784, 'bottom': 2785, 'ambition': 2786, 'ten': 2787, 'slowpoke': 2788, 'humiliating': 2789, 'bachelor': 2790, 'compete': 2791, 'chickened': 2792, 'downloaded': 2793, 'dried': 2794, 'feverish': 2795, 'isolated': 2796, 'tomatoes': 2797, 'fanatics': 2798, 'weddings': 2799, 'bruise': 2800, 'laptop': 2801, 'epilepsy': 2802, 'area': 2803, 'army': 2804, 'supper': 2805, 'outwitted': 2806, 'scored': 2807, 'vitamins': 2808, 'parrot': 2809, 'assaulted': 2810, 'convicted': 2811, 'wondering': 2812, 'zoo': 2813, 'arrange': 2814, 'assist': 2815, 'double': 2816, 'capricorn': 2817, 'addict': 2818, 'carpenter': 2819, 'foreigner': 2820, 'geologist': 2821, 'engineer': 2822, 'begging': 2823, 'catching': 2824, 'cooperating': 2825, 'hardworking': 2826, 'ammo': 2827, 'spontaneous': 2828, 'unconvinced': 2829, 'tasted': 2830, 'handmade': 2831, 'outrage': 2832, 'improbable': 2833, 'inevitable': 2834, 'misleading': 2835, 'refreshing': 2836, 'typical': 2837, 'sufficient': 2838, 'humid': 2839, 'paging': 2840, 'covered': 2841, 'lemons': 2842, 'improvise': 2843, 'merry': 2844, 'shift': 2845, 'squeak': 2846, 'pour': 2847, 'lid': 2848, 'rejection': 2849, 'calmed': 2850, 'graceful': 2851, 'nosy': 2852, 'chances': 2853, 'frankly': 2854, 'puzzle': 2855, 'doubtful': 2856, 'damp': 2857, 'net': 2858, 'cure': 2859, 'pilots': 2860, 'gifts': 2861, 'wasting': 2862, 'acted': 2863, 'tailor': 2864, 'giggling': 2865, 'knocking': 2866, 'perverse': 2867, 'pleasant': 2868, 'spirited': 2869, 'unafraid': 2870, 'unnerved': 2871, 'stops': 2872, 'sees': 2873, 'sleeps': 2874, 'slowed': 2875, 'fools': 2876, 'retreat': 2877, 'sailing': 2878, 'fixing': 2879, 'newcomers': 2880, 'newlyweds': 2881, 'resigning': 2882, 'survivors': 2883, 'unrelated': 2884, 'treasure': 2885, 'oar': 2886, 'devil': 2887, 'menace': 2888, 'than': 2889, 'wings': 2890, 'accidents': 2891, 'invisible': 2892, 'golfer': 2893, 'maniac': 2894, 'typist': 2895, 'wizard': 2896, 'boxing': 2897, 'brace': 2898, 'normally': 2899, 'spell': 2900, 'blinds': 2901, 'supply': 2902, 'bridge': 2903, 'wire': 2904, 'delicately': 2905, 'faces': 2906, 'yell': 2907, 'meals': 2908, 'veggies': 2909, 'hamster': 2910, 'costs': 2911, 'gardening': 2912, 'without': 2913, 'stairs': 2914, 'flow': 2915, 'croissant': 2916, 'recently': 2917, 'backward': 2918, 'pajamas': 2919, 'hunting': 2920, 'oranges': 2921, 'moves': 2922, 'ratted': 2923, 'france': 2924, 'bartender': 2925, 'senile': 2926, 'intelligent': 2927, 'heaven': 2928, 'professor': 2929, 'brazil': 2930, 'reschedule': 2931, 'trout': 2932, 'confiscated': 2933, 'protected': 2934, 'chemistry': 2935, 'computers': 2936, 'hypocrisy': 2937, 'paperwork': 2938, 'website': 2939, 'gunshots': 2940, 'lifted': 2941, 'ocean': 2942, 'temper': 2943, 'adventure': 2944, 'hedgehogs': 2945, 'band': 2946, 'view': 2947, 'kleenex': 2948, 'escort': 2949, 'pointed': 2950, 'recommend': 2951, 'rematch': 2952, 'vengeance': 2953, 'unprepared': 2954, 'victorious': 2955, 'farm': 2956, 'demonstrate': 2957, 'clerk': 2958, 'alcoholic': 2959, 'conservative': 2960, 'disorganized': 2961, 'dissatisfied': 2962, 'homeschooled': 2963, 'ignoring': 2964, 'stressed': 2965, 'super': 2966, 'volunteering': 2967, 'trick': 2968, 'freaks': 2969, 'virus': 2970, 'hype': 2971, 'mandatory': 2972, 'tradition': 2973, 'frightening': 2974, 'drug': 2975, 'lower': 2976, 'itchy': 2977, 'pulse': 2978, 'windows': 2979, 'button': 2980, 'bellyaching': 2981, 'hassling': 2982, 'italy': 2983, 'despises': 2984, 'obstinate': 2985, 'rode': 2986, 'camel': 2987, 'worships': 2988, 'shots': 2989, 'nit': 2990, 'picking': 2991, 'million': 2992, 'brilliant': 2993, 'curtain': 2994, 'rough': 2995, 'switch': 2996, 'icy': 2997, 'scoffed': 2998, 'artists': 2999, 'accurate': 3000, 'required': 3001, 'bounced': 3002, 'forgives': 3003, 'rabbit': 3004, 'chickens': 3005, 'delirious': 3006, 'indignant': 3007, 'merciless': 3008, 'observing': 3009, 'sighing': 3010, 'tulips': 3011, 'smiles': 3012, 'overheard': 3013, 'stepped': 3014, 'tickled': 3015, 'appalled': 3016, 'watches': 3017, 'innovative': 3018, 'instead': 3019, 'slower': 3020, 'competed': 3021, 'demand': 3022, 'depend': 3023, 'warning': 3024, 'pictures': 3025, 'classmates': 3026, 'seek': 3027, 'score': 3028, 'belt': 3029, 'wherever': 3030, 'cheaper': 3031, 'developed': 3032, 'lady': 3033, 'notified': 3034, 'nicely': 3035, 'x': 3036, 'marks': 3037, 'seventh': 3038, 'unethical': 3039, 'zip': 3040, 'steps': 3041, 'bachelors': 3042, 'religious': 3043, 'policeman': 3044, 'ambulance': 3045, 'link': 3046, 'cocaine': 3047, 'startle': 3048, 'disable': 3049, 'kratom': 3050, 'fuss': 3051, 'threaten': 3052, 'haste': 3053, 'employs': 3054, 'gives': 3055, 'grabbed': 3056, 'blond': 3057, 'physicist': 3058, 'forty': 3059, 'incompetent': 3060, 'influential': 3061, 'unrealistic': 3062, 'frugally': 3063, 'requested': 3064, 'sailor': 3065, 'russian': 3066, 'travels': 3067, 'rapidly': 3068, 'imprisoned': 3069, 'journalist': 3070, 'pink': 3071, 'handrail': 3072, 'spelled': 3073, 'bolted': 3074, 'clothes': 3075, 'bags': 3076, 'tutor': 3077, 'other': 3078, 'mosquitoes': 3079, 'hangover': 3080, 'passport': 3081, 'proposal': 3082, 'chest': 3083, 'skirt': 3084, 'hats': 3085, 'outlive': 3086, 'picked': 3087, 'muscle': 3088, 'jest': 3089, 'inchworm': 3090, 'victory': 3091, 'shouldn': 3092, 'sometimes': 3093, 'plate': 3094, 'notebook': 3095, 'apology': 3096, 'passenger': 3097, 'discredited': 3098, 'total': 3099, 'wreck': 3100, 'aware': 3101, 'awfully': 3102, 'concentrating': 3103, 'flabbergasted': 3104, 'lab': 3105, 'insure': 3106, 'nonstop': 3107, 'deliberate': 3108, 'horrendous': 3109, 'unexpected': 3110, 'flimsy': 3111, 'conspiracy': 3112, 'knock': 3113, 'investigate': 3114, 'enjoyable': 3115, 'prediction': 3116, 'mosquitos': 3117, 'aching': 3118, 'shoulder': 3119, 'misses': 3120, 'none': 3121, 'toy': 3122, 'beginner': 3123, 'attractive': 3124, 'unsociable': 3125, 'fashionable': 3126, 'hyperactive': 3127, 'turning': 3128, 'flower': 3129, 'somehow': 3130, 'badgering': 3131, 'exaggerating': 3132, 'following': 3133, 'interrupting': 3134, 'wood': 3135, 'rings': 3136, 'classified': 3137, 'disturbing': 3138, 'opinion': 3139, 'bland': 3140, 'dull': 3141, 'lovers': 3142, 'shop': 3143, 'thick': 3144, 'system': 3145, 'damage': 3146, 'hunted': 3147, 'tortured': 3148, 'identical': 3149, 'appalling': 3150, 'offensive': 3151, 'permanent': 3152, 'sickening': 3153, 'fishy': 3154, 'praying': 3155, 'claims': 3156, 'deserves': 3157, 'freed': 3158, 'imitated': 3159, 'despondent': 3160, 'protective': 3161, 'crawling': 3162, 'peeked': 3163, 'peered': 3164, 'recognized': 3165, 'patiently': 3166, 'sensed': 3167, 'strangled': 3168, 'hose': 3169, 'beers': 3170, 'flaws': 3171, 'p': 3172, '.m': 3173, 'due': 3174, 'handling': 3175, 'killers': 3176, 'pessimistic': 3177, 'revelation': 3178, 'happiness': 3179, 'major': 3180, 'stitches': 3181, 'murderer': 3182, 'hurting': 3183, 'mocking': 3184, 'fascinate': 3185, 'flute': 3186, 'advised': 3187, 'subject': 3188, 'pockets': 3189, 'tells': 3190, 'blog': 3191, 'stones': 3192, 'weekend': 3193, 'applauded': 3194, 'blanks': 3195, 'desire': 3196, 'traffic': 3197, 'breathed': 3198, 'cartwheel': 3199, 'gripped': 3200, 'alzheimer': 3201, 'classmate': 3202, 'colleague': 3203, 'memory': 3204, 'chinese': 3205, '.d': 3206, 'filthy': 3207, 'aristocrat': 3208, 'print': 3209, 'completely': 3210, 'sin': 3211, 'chilly': 3212, 'loads': 3213, 'roommate': 3214, 'carpet': 3215, 'spare': 3216, 'patience': 3217, 'explosions': 3218, 'emailed': 3219, 'mission': 3220, 'mathematics': 3221, 'pot': 3222, 'roast': 3223, 'blamed': 3224, 'oiled': 3225, 'report': 3226, 'repeated': 3227, 'sliced': 3228, 'suggest': 3229, 'disqualified': 3230, 'consulted': 3231, 'learner': 3232, 'beginning': 3233, 'laying': 3234, 'supporting': 3235, 'supposed': 3236, 'board': 3237, 'compliment': 3238, 'boggles': 3239, 'astonishing': 3240, 'mesmerizing': 3241, 'concern': 3242, 'recipe': 3243, 'fridge': 3244, 'knowledge': 3245, 'rephrase': 3246, 'moons': 3247, 'goals': 3248, 'lofty': 3249, 'suitcase': 3250, 'cucumbers': 3251, 'bandage': 3252, 'schools': 3253, 'manners': 3254, 'charity': 3255, 'slip': 3256, 'correcting': 3257, 'tickles': 3258, 'sip': 3259, 'unimportant': 3260, 'attempt': 3261, 'buzzer': 3262, 'melting': 3263, 'rallied': 3264, 'path': 3265, 'wandered': 3266, 'wrestlers': 3267, 'th': 3268, 'families': 3269, 'hostages': 3270, 'tents': 3271, 'peaceful': 3272, 'disposable': 3273, 'foreigners': 3274, 'bigger': 3275, 'follows': 3276, 'chosen': 3277, 'launders': 3278, 'blankly': 3279, 'persistent': 3280, 'tuck': 3281, 'fled': 3282, 'pair': 3283, 'cheer': 3284, 'cuff': 3285, 'cursed': 3286, 'frowned': 3287, 'gloated': 3288, 'grunted': 3289, 'prepaid': 3290, 'shouted': 3291, 'needy': 3292, 'poured': 3293, 'dived': 3294, 'knits': 3295, 'limps': 3296, 'rocks': 3297, 'r': 3298, 'shivered': 3299, 'flabby': 3300, 'begun': 3301, 'bulky': 3302, 'taboo': 3303, 'lasts': 3304, 'cheats': 3305, 'cusses': 3306, 'farted': 3307, 'sobbed': 3308, 'yawned': 3309, 'blink': 3310, 'nasty': 3311, 'faking': 3312, 'taller': 3313, 'assume': 3314, 'tapes': 3315, 'glue': 3316, 'curt': 3317, 'gambles': 3318, 'gargled': 3319, 'meek': 3320, 'vain': 3321, 'reacted': 3322, 'sneered': 3323, 'sniffed': 3324, 'snorted': 3325, 'hell': 3326, 'dump': 3327, 'heel': 3328, 'drew': 3329, 'abandon': 3330, 'backup': 3331, 'litter': 3332, 'warmly': 3333, 'spoon': 3334, 'mocked': 3335, 'caviar': 3336, 'carded': 3337, 'ax': 3338, 'hives': 3339, 'improvised': 3340, 'rugby': 3341, 'suppose': 3342, 'sympathize': 3343, 'canned': 3344, 'framed': 3345, 'weighed': 3346, 'priest': 3347, 'purist': 3348, 'agent': 3349, 'famished': 3350, 'hungover': 3351, 'rebel': 3352, 'worn': 3353, 'solid': 3354, 'elk': 3355, 'noisy': 3356, 'heal': 3357, 'plant': 3358, 'setup': 3359, 'hearsay': 3360, 'suicide': 3361, 'bounce': 3362, 'mull': 3363, 'hip': 3364, 'cared': 3365, 'filming': 3366, 'gawking': 3367, 'whiff': 3368, 'rare': 3369, 'spam': 3370, 'approves': 3371, 'insisted': 3372, 'pudgy': 3373, 'sniffled': 3374, 'stutters': 3375, 'arabs': 3376, 'starve': 3377, 'ufo': 3378, 'amuse': 3379, 'gross': 3380, 'drown': 3381, 'mock': 3382, 'sass': 3383, 'healthily': 3384, 'bloom': 3385, 'riddance': 3386, 'advises': 3387, 'dug': 3388, 'british': 3389, 'grouch': 3390, 'jesuit': 3391, 'tycoon': 3392, 'acquired': 3393, 'added': 3394, 'classes': 3395, 'poker': 3396, 'exaggerated': 3397, 'drowsy': 3398, 'unwell': 3399, 'forbid': 3400, 'bonus': 3401, 'fleeced': 3402, 'crowds': 3403, 'flying': 3404, 'sirens': 3405, 'clocks': 3406, 'prunes': 3407, 'yacht': 3408, 'squash': 3409, 'resent': 3410, 'queen': 3411, 'firefox': 3412, 'pony': 3413, 'nights': 3414, 'trainee': 3415, 'parole': 3416, 'resentful': 3417, 'damaged': 3418, 'sickens': 3419, 'bomb': 3420, 'hoax': 3421, 'parody': 3422, 'sequel': 3423, 'indecent': 3424, 'instinct': 3425, 'obsolete': 3426, 'paddling': 3427, 'mortal': 3428, 'motion': 3429, 'aches': 3430, 'lungs': 3431, 'cage': 3432, 'active': 3433, 'obeys': 3434, 'livid': 3435, 'cutie': 3436, 'ease': 3437, 'frowning': 3438, 'scowling': 3439, 'heap': 3440, 'rad': 3441, 'mooed': 3442, 'embraced': 3443, 'pun': 3444, 'basic': 3445, 'exercises': 3446, 'graduated': 3447, 'goats': 3448, 'sexist': 3449, 'somber': 3450, 'stable': 3451, 'overdosed': 3452, 'shuddered': 3453, 'stiffened': 3454, 'tensed': 3455, 'testified': 3456, 'untie': 3457, 'assumed': 3458, 'trees': 3459, 'tools': 3460, 'opposed': 3461, 'candy': 3462, 'rebuild': 3463, 'anxious': 3464, 'winners': 3465, 'matured': 3466, 'hassle': 3467, 'disagrees': 3468, 'absent': 3469, 'coke': 3470, 'intruding': 3471, 'boats': 3472, 'sink': 3473, 'shovel': 3474, 'contact': 3475, 'tigers': 3476, 'purr': 3477, 'farts': 3478, 'gasps': 3479, 'lines': 3480, 'birthday': 3481, 'holidays': 3482, 'tan': 3483, 'gazed': 3484, 'writer': 3485, 'bankrupt': 3486, 'jelly': 3487, 'owes': 3488, 'hungarian': 3489, 'con': 3490, 'outlaw': 3491, 'henpecked': 3492, 'ached': 3493, 'perceptive': 3494, 'nail': 3495, 'draft': 3496, 'seasick': 3497, 'snubbed': 3498, 'guarantee': 3499, 'mishap': 3500, 'hailed': 3501, 'mondays': 3502, 'insects': 3503, 'ironing': 3504, 'karaoke': 3505, 'zealots': 3506, 'amnesia': 3507, 'thud': 3508, 'almonds': 3509, 'castles': 3510, 'oysters': 3511, 'sashimi': 3512, 'seafood': 3513, 'upstate': 3514, 'lasagna': 3515, 'sunsets': 3516, 'muffins': 3517, 'decline': 3518, 'insulin': 3519, 'asap': 3520, 'surgery': 3521, 'predicted': 3522, 'cattle': 3523, 'serve': 3524, 'sneeze': 3525, 'urge': 3526, 'memo': 3527, 'scold': 3528, 'merchant': 3529, 'minister': 3530, 'salesman': 3531, 'thumbs': 3532, 'farsighted': 3533, 'remodeling': 3534, 'killer': 3535, 'credible': 3536, 'common': 3537, 'fluke': 3538, 'magical': 3539, 'classic': 3540, 'firefly': 3541, 'ambush': 3542, 'dishonest': 3543, 'forbidden': 3544, 'cream': 3545, 'inspiring': 3546, 'vibrating': 3547, 'worthless': 3548, 'lend': 3549, 'clues': 3550, 'mum': 3551, 'joints': 3552, 'itches': 3553, 'tummy': 3554, 'ow': 3555, 'ditched': 3556, 'brains': 3557, 'prudish': 3558, 'swims': 3559, 'types': 3560, 'hottie': 3561, 'looker': 3562, 'poking': 3563, 'resisting': 3564, 'sir': 3565, 'plastic': 3566, 'honked': 3567, 'quarreled': 3568, 'babies': 3569, 'unsafe': 3570, 'hectic': 3571, 'draws': 3572, 'issues': 3573, 'scurvy': 3574, 'talent': 3575, 'felon': 3576, 'giant': 3577, 'lefty': 3578, 'mason': 3579, 'pilot': 3580, 'cynical': 3581, 'devoted': 3582, 'pompous': 3583, 'radical': 3584, 'shaving': 3585, 'slender': 3586, 'spoiled': 3587, 'unkempt': 3588, 'tofu': 3589, 'maps': 3590, 'stranded': 3591, 'unstable': 3592, 'sauce': 3593, 'rear': 3594, 'landed': 3595, 'couple': 3596, 'butchers': 3597, 'letdown': 3598, 'atm': 3599, 'reinstated': 3600, 'suggestions': 3601, 'purple': 3602, 'balls': 3603, 'bears': 3604, 'anytime': 3605, 'clip': 3606, 'crows': 3607, 'rap': 3608, 'freak': 3609, 'danced': 3610, 'fasten': 3611, 'fetch': 3612, 'whirl': 3613, 'onto': 3614, 'daddy': 3615, 'toyota': 3616, 'racket': 3617, 'intrigues': 3618, 'ethiopian': 3619, 'sweets': 3620, 'puts': 3621, 'airs': 3622, 'whisky': 3623, 'shouts': 3624, 'swindled': 3625, 'comedian': 3626, 'frat': 3627, 'gardener': 3628, 'newcomer': 3629, 'mud': 3630, 'hoist': 3631, 'sails': 3632, 'hypnotism': 3633, 'egypt': 3634, 'booked': 3635, 'carp': 3636, 'dealt': 3637, 'funerals': 3638, 'politics': 3639, 'raccoons': 3640, 'reptiles': 3641, 'heat': 3642, 'rug': 3643, 'alibi': 3644, 'dandruff': 3645, 'diabetes': 3646, 'immunity': 3647, 'thump': 3648, 'rains': 3649, 'elbow': 3650, 'imagined': 3651, 'lent': 3652, 'cartoons': 3653, 'westerns': 3654, 'interest': 3655, 'barbecue': 3656, 'comedies': 3657, 'eggplant': 3658, 'brownies': 3659, 'internet': 3660, 'caffeine': 3661, 'guidance': 3662, 'tape': 3663, 'shave': 3664, 'bills': 3665, 'orchids': 3666, 'relied': 3667, 'respected': 3668, 'pattern': 3669, 'coma': 3670, 'patrol': 3671, 'petrified': 3672, 'cameraman': 3673, 'chauffeur': 3674, 'housewife': 3675, 'lifeguard': 3676, 'masochist': 3677, 'owl': 3678, 'stutterer': 3679, 'frying': 3680, 'nearsighted': 3681, 'deck': 3682, 'replaceable': 3683, 'captain': 3684, 'hazardous': 3685, 'poisonous': 3686, 'zebra': 3687, 'ethical': 3688, 'poorly': 3689, 'option': 3690, 'burnt': 3691, 'ages': 3692, 'enticing': 3693, 'mushroom': 3694, 'travesty': 3695, 'artificial': 3696, 'dirt': 3697, 'loan': 3698, 'secure': 3699, 'tax': 3700, 'narrow': 3701, 'scarce': 3702, 'knead': 3703, 'dough': 3704, 'koalas': 3705, 'celebrate': 3706, 'kites': 3707, 'shrank': 3708, 'natto': 3709, 'october': 3710, 'wonders': 3711, 'planning': 3712, 'rake': 3713, 'saddle': 3714, 'sharks': 3715, 'brazilian': 3716, 'silk': 3717, 'spanish': 3718, 'nagging': 3719, 'squabbling': 3720, 'whimpering': 3721, 'pagoda': 3722, 'shadow': 3723, 'cast': 3724, 'growled': 3725, 'stank': 3726, 'tub': 3727, 'howled': 3728, 'actors': 3729, 'melons': 3730, 'interns': 3731, 'farce': 3732, 'private': 3733, 'pleases': 3734, 'each': 3735, 'burps': 3736, 'dances': 3737, 'exaggerates': 3738, 'ipad': 3739, 'client': 3740, 'jockey': 3741, 'player': 3742, 'welder': 3743, 'adapting': 3744, 'anorexic': 3745, 'athletic': 3746, 'cautious': 3747, 'childish': 3748, 'depraved': 3749, 'drenched': 3750, 'eloquent': 3751, 'immobile': 3752, 'insolent': 3753, 'likeable': 3754, 'reckless': 3755, 'sneezing': 3756, 'studious': 3757, 'tireless': 3758, 'tolerant': 3759, 'learns': 3760, 'dazed': 3761, 'falls': 3762, 'moose': 3763, 'photos': 3764, 'evasive': 3765, 'moaning': 3766, 'paralyzed': 3767, 'earned': 3768, 'yawn': 3769, 'walls': 3770, 'declared': 3771, 'raw': 3772, 'ponchos': 3773, 'waffles': 3774, 'experts': 3775, 'shared': 3776, 'farmers': 3777, 'camp': 3778, 'attorneys': 3779, 'comedians': 3780, 'gardeners': 3781, 'gentlemen': 3782, 'incorrect': 3783, 'neighbors': 3784, 'past': 3785, 'relatives': 3786, 'soulmates': 3787, 'blessing': 3788, 'prospect': 3789, 'weakling': 3790, 'stake': 3791, 'gpa': 3792, 'jello': 3793, 'unsure': 3794, 'mustn': 3795, 'rut': 3796, 'atlantis': 3797, 'snakes': 3798, 'beaks': 3799, 'climb': 3800, 'consult': 3801, 'pasta': 3802, 'rashly': 3803, 'disturb': 3804, 'exaggerate': 3805, 'groans': 3806, 'gossips': 3807, 'floating': 3808, 'purpose': 3809, 'useful': 3810, 'hobo': 3811, 'noon': 3812, 'speech': 3813, 'joker': 3814, 'acrobat': 3815, 'shares': 3816, 'soundly': 3817, 'tenacious': 3818, 'winked': 3819, 'lover': 3820, 'historian': 3821, 'nonsmoker': 3822, 'sophomore': 3823, 'hone': 3824, 'skills': 3825, 'melodramatic': 3826, 'norway': 3827, 'witch': 3828, 'weekly': 3829, 'appreciated': 3830, 'bumped': 3831, 'reach': 3832, 'deliver': 3833, 'pizzas': 3834, 'disregarded': 3835, 'drugs': 3836, 'dilemma': 3837, 'refreshed': 3838, 'drift': 3839, 'goosebumps': 3840, 'texts': 3841, 'reasons': 3842, 'fireworks': 3843, 'diploma': 3844, 'grenade': 3845, 'request': 3846, 'heartburn': 3847, 'insurance': 3848, 'pneumonia': 3849, 'wavy': 3850, 'journal': 3851, 'astrology': 3852, 'elephants': 3853, 'novel': 3854, 'mushrooms': 3855, 'uncles': 3856, 'mysteries': 3857, 'pop': 3858, 'papers': 3859, 'australia': 3860, 'astronomy': 3861, 'libraries': 3862, 'fortune': 3863, 'spaghetti': 3864, 'envelopes': 3865, 'soap': 3866, 'subtitles': 3867, 'planted': 3868, 'regret': 3869, 'require': 3870, 'rubbed': 3871, 'umbrellas': 3872, 'lease': 3873, 'strongly': 3874, 'divorce': 3875, 'martini': 3876, 'pal': 3877, 'raccoon': 3878, 'scooter': 3879, 'dumbstruck': 3880, 'raffle': 3881, 'bookkeeper': 3882, 'riser': 3883, 'programmer': 3884, 'shutterbug': 3885, 'ambidextrous': 3886, 'enthusiastic': 3887, 'freaking': 3888, 'fbi': 3889, 'housesitting': 3890, 'attic': 3891, 'inviting': 3892, 'beggar': 3893, 'paranoid': 3894, 'row': 3895, 'youngest': 3896, 'drawn': 3897, 'conscious': 3898, 'accessible': 3899, 'euros': 3900, 'perks': 3901, 'excessive': 3902, 'april': 3903, 'snowstorm': 3904, 'sunflower': 3905, 'balmy': 3906, 'conceivable': 3907, 'cooler': 3908, 'fetched': 3909, 'regrettable': 3910, 'transparent': 3911, 'unnecessary': 3912, 'asia': 3913, 'camping': 3914, 'darts': 3915, 'fleas': 3916, 'inbox': 3917, 'sunburn': 3918, 'beats': 3919, 'stung': 3920, 'oil': 3921, 'pets': 3922, 'pump': 3923, 'ending': 3924, 'rome': 3925, 'idolized': 3926, 'scene': 3927, 'repulses': 3928, 'bench': 3929, 'pitied': 3930, 'apologizing': 3931, 'taunting': 3932, 'touching': 3933, 'precautions': 3934, 'kindly': 3935, 'explains': 3936, 'avoidable': 3937, 'blackmail': 3938, 'idle': 3939, 'affair': 3940, 'issue': 3941, 'troubling': 3942, 'ticked': 3943, 'creaked': 3944, 'bucked': 3945, 'jury': 3946, 'mass': 3947, 'noes': 3948, 'limits': 3949, 'singers': 3950, 'plenty': 3951, 'amateurs': 3952, 'traitors': 3953, 'insanity': 3954, 'official': 3955, 'puzzling': 3956, 'relaxing': 3957, 'sabotage': 3958, 'shameful': 3959, 'shocking': 3960, 'norm': 3961, 'precious': 3962, 'admires': 3963, 'avoided': 3964, 'raft': 3965, 'coughs': 3966, 'fried': 3967, 'charisma': 3968, 'onions': 3969, 'drummer': 3970, 'gourmet': 3971, 'gymnast': 3972, 'hipster': 3973, 'pianist': 3974, 'realtor': 3975, 'trucker': 3976, 'intern': 3977, 'competent': 3978, 'deceitful': 3979, 'emotional': 3980, 'improving': 3981, 'inventive': 3982, 'legendary': 3983, 'oblivious': 3984, 'campus': 3985, 'overjoyed': 3986, 'perplexed': 3987, 'regretful': 3988, 'reluctant': 3989, 'shameless': 3990, 'suspended': 3991, 'owner': 3992, 'ponies': 3993, 'steals': 3994, 'suggested': 3995, 'swears': 3996, 'abducted': 3997, 'babbling': 3998, 'cremated': 3999, 'ecstatic': 4000, 'executed': 4001, 'selected': 4002, 'unshaven': 4003, 'berserk': 4004, 'bonkers': 4005, 'headstrong': 4006, 'undefeated': 4007, 'robbery': 4008, 'swordfish': 4009, 'crisis': 4010, 'theory': 4011, 'injuries': 4012, 'evacuate': 4013, 'withdraw': 4014, 'supplies': 4015, 'downsizing': 4016, 'historians': 4017, 'lifeguards': 4018, 'mates': 4019, 'fails': 4020, 'razor': 4021, 'uses': 4022, 'hamlet': 4023, 'wool': 4024, 'dyes': 4025, 'quote': 4026, 'distant': 4027, 'failure': 4028, 'lunatic': 4029, 'practical': 4030, 'leaf': 4031, 'under': 4032, 'arrest': 4033, 'nests': 4034, 'champagne': 4035, 'chuck': 4036, 'click': 4037, 'compare': 4038, 'imminent': 4039, 'ants': 4040, 'lager': 4041, 'latin': 4042, 'wanna': 4043, 'ignorant': 4044, 'crass': 4045, 'petty': 4046, 'pushy': 4047, 'fry': 4048, 'rung': 4049, 'blackmailed': 4050, 'carried': 4051, 'chewed': 4052, 'gum': 4053, 'deals': 4054, 'grain': 4055, 'roughly': 4056, 'vase': 4057, 'earns': 4058, 'fills': 4059, 'hanged': 4060, 'ego': 4061, 'daredevil': 4062, 'osaka': 4063, 'miles': 4064, 'wakes': 4065, 'raging': 4066, 'scripts': 4067, 'buff': 4068, 'timer': 4069, 'undergrad': 4070, 'georgia': 4071, 'trusting': 4072, 'heed': 4073, 'warnings': 4074, 'darkened': 4075, 'hamburger': 4076, 'sandwich': 4077, 'baited': 4078, 'hook': 4079, 'bid': 4080, 'cactus': 4081, 'webcam': 4082, 'shelter': 4083, 'upfront': 4084, 'chopin': 4085, 'register': 4086, 'vulnerable': 4087, 'grades': 4088, 'bee': 4089, 'sting': 4090, 'ground': 4091, 'breakdown': 4092, 'hypocrites': 4093, 'interviews': 4094, 'desert': 4095, 'backache': 4096, 'migraine': 4097, 'sailboat': 4098, 'earache': 4099, 'discs': 4100, 'savings': 4101, 'sleeve': 4102, 'jackpot': 4103, 'intend': 4104, 'navy': 4105, 'bitten': 4106, 'practicing': 4107, 'confidence': 4108, 'adventures': 4109, 'challenges': 4110, 'folk': 4111, 'sauerkraut': 4112, 'spicy': 4113, 'odds': 4114, 'watermelon': 4115, 'hotel': 4116, 'dam': 4117, 'earring': 4118, 'balance': 4119, 'hamburgers': 4120, 'performing': 4121, 'album': 4122, 'minutes': 4123, 'keyboard': 4124, 'protection': 4125, 'toothpaste': 4126, 'oversleep': 4127, 'abroad': 4128, 'hood': 4129, 'paused': 4130, 'tambourine': 4131, 'volleyball': 4132, 'pruned': 4133, 'jaw': 4134, 'pushed': 4135, 'recommended': 4136, 'airplane': 4137, 'sunrise': 4138, 'known': 4139, 'swallowed': 4140, 'bug': 4141, 'swept': 4142, 'geography': 4143, 'otherwise': 4144, 'highway': 4145, 'plates': 4146, 'confess': 4147, 'workout': 4148, 'sympathy': 4149, 'mugged': 4150, 'misinformed': 4151, 'outnumbered': 4152, 'trespassing': 4153, 'flirting': 4154, 'harvard': 4155, 'shotgun': 4156, 'sagittarius': 4157, 'trainer': 4158, 'worker': 4159, 'salesperson': 4160, 'accountant': 4161, 'astronomer': 4162, 'boiling': 4163, 'bringing': 4164, 'extremely': 4165, 'irreplaceable': 4166, 'materialistic': 4167, 'strongest': 4168, 'uncomfortable': 4169, 'evicted': 4170, 'diarrhea': 4171, 'pride': 4172, 'rumors': 4173, 'smoked': 4174, 'notarized': 4175, 'warranted': 4176, 'curfew': 4177, 'remedy': 4178, 'reward': 4179, 'stunning': 4180, 'pieces': 4181, 'ways': 4182, 'cooled': 4183, 'optional': 4184, 'massacre': 4185, 'convenient': 4186, 'disastrous': 4187, 'wobbly': 4188, 'club': 4189, 'dictionary': 4190, 'confidential': 4191, 'questionable': 4192, 'imprecise': 4193, 'starting': 4194, 'unauthorized': 4195, 'onerous': 4196, 'chin': 4197, 'wrestle': 4198, 'hut': 4199, 'straws': 4200, 'peek': 4201, 'ephemeral': 4202, 'conquers': 4203, 'transient': 4204, 'vivacious': 4205, 'opposites': 4206, 'attract': 4207, 'production': 4208, 'thorns': 4209, 'appeals': 4210, 'figure': 4211, 'turner': 4212, 'golden': 4213, 'lullaby': 4214, 'sloths': 4215, 'scale': 4216, 'mimicking': 4217, 'termites': 4218, 'essential': 4219, 'fir': 4220, 'exactly': 4221, 'defense': 4222, 'undeniable': 4223, 'handy': 4224, 'cable': 4225, 'snapped': 4226, 'crowd': 4227, 'donkey': 4228, 'brayed': 4229, 'squeaked': 4230, 'ajar': 4231, 'rotates': 4232, 'jammed': 4233, 'lemon': 4234, 'motor': 4235, 'meager': 4236, 'tactic': 4237, 'verdict': 4238, 'gods': 4239, 'cannibals': 4240, 'murderers': 4241, 'bucket': 4242, 'coconut': 4243, 'extortion': 4244, 'gibberish': 4245, 'insulting': 4246, 'irregular': 4247, 'justified': 4248, 'pointless': 4249, 'priceless': 4250, 'skim': 4251, 'tasteless': 4252, 'temporary': 4253, 'worrisome': 4254, 'silver': 4255, 'thursday': 4256, 'arrives': 4257, 'behaved': 4258, 'despised': 4259, 'appear': 4260, 'flinch': 4261, 'expects': 4262, 'iq': 4263, 'iphone': 4264, 'arthritis': 4265, 'skin': 4266, 'frostbite': 4267, 'seniority': 4268, 'hasn': 4269, 'juan': 4270, 'bookworm': 4271, 'jeweller': 4272, 'pushover': 4273, 'teenager': 4274, 'werewolf': 4275, 'believable': 4276, 'determined': 4277, 'custody': 4278, 'therapy': 4279, 'indecisive': 4280, 'insightful': 4281, 'intolerant': 4282, 'passionate': 4283, 'perspiring': 4284, 'possessive': 4285, 'stuttering': 4286, 'unfaithful': 4287, 'minor': 4288, 'trained': 4289, 'mumbles': 4290, 'outlived': 4291, 'poisoned': 4292, 'served': 4293, 'humbly': 4294, 'sneezes': 4295, 'bait': 4296, 'vomited': 4297, 'updates': 4298, 'fanatic': 4299, 'fireman': 4300, 'negligent': 4301, 'imaginative': 4302, 'acrylic': 4303, 'longer': 4304, 'liquid': 4305, 'vaccine': 4306, 'warrant': 4307, 'suppliers': 4308, 'witnesses': 4309, 'parks': 4310, 'canoe': 4311, 'battle': 4312, 'mothers': 4313, 'journalists': 4314, 'pulling': 4315, 'collection': 4316, 'tacky': 4317, 'delay': 4318, 'achieved': 4319, 'asking': 4320, 'target': 4321, 'arrive': 4322, 'melon': 4323, 'confucius': 4324, 'drama': 4325, 'c': 4326, 'woods': 4327, 'wriggle': 4328, 'actresses': 4329, 'error': 4330, 'bugging': 4331, 'particular': 4332, 'scaring': 4333, 'telling': 4334, 'unfriendly': 4335, 'scratched': 4336, 'comma': 4337, 'revolt': 4338, 'storm': 4339, 'brewing': 4340, 'admission': 4341, 'demanding': 4342, 'buddhist': 4343, 'believer': 4344, 'attendance': 4345, 'contains': 4346, 'hops': 4347, 'chirping': 4348, 'pillow': 4349, 'rackets': 4350, 'menu': 4351, 'caption': 4352, 'divide': 4353, 'conquer': 4354, 'mozart': 4355, 'copycat': 4356, 'patronize': 4357, 'relaxes': 4358, 'dust': 4359, 'shelf': 4360, 'endorse': 4361, 'dollar': 4362, 'tore': 4363, 'portion': 4364, 'breakable': 4365, 'broom': 4366, 'remote': 4367, 'wrench': 4368, 'thanksgiving': 4369, 'od': 4370, 'foolishly': 4371, 'mile': 4372, 'cycling': 4373, 'footsteps': 4374, 'daydreamer': 4375, 'fishmonger': 4376, 'heartless': 4377, 'lacks': 4378, 'judgement': 4379, 'retaliate': 4380, 'rolled': 4381, 'thrust': 4382, 'weighs': 4383, 'kilos': 4384, 'lottery': 4385, 'walker': 4386, 'critic': 4387, 'ghostwriter': 4388, 'keeper': 4389, 'meth': 4390, 'englishman': 4391, 'overconfident': 4392, 'fifty': 4393, 'scapegoat': 4394, 'torn': 4395, 'sooty': 4396, 'baggage': 4397, 'eludes': 4398, 'pace': 4399, 'quickened': 4400, 'untidy': 4401, 'refill': 4402, 'economy': 4403, 'museum': 4404, 'cope': 4405, 'absolutely': 4406, 'advise': 4407, 'customers': 4408, 'fond': 4409, 'prophet': 4410, 'fries': 4411, 'potato': 4412, 'chips': 4413, 'peanuts': 4414, 'clutch': 4415, 'exclude': 4416, 'imagine': 4417, 'clicked': 4418, 'detest': 4419, 'vodka': 4420, 'miserably': 4421, 'tests': 4422, 'fractured': 4423, 'bureaucracy': 4424, 'goat': 4425, 'most': 4426, 'complaint': 4427, 'nosebleed': 4428, 'telescope': 4429, 'blonde': 4430, 'frizzy': 4431, 'appetite': 4432, 'siblings': 4433, 'invoice': 4434, 'rehearse': 4435, 'cameras': 4436, 'nephews': 4437, 'tickets': 4438, 'hid': 4439, 'pans': 4440, 'jog': 4441, 'redecorated': 4442, 'imagination': 4443, 'irish': 4444, 'places': 4445, 'disco': 4446, 'photography': 4447, 'raspberries': 4448, 'translating': 4449, 'windsurfing': 4450, 'poverty': 4451, 'bearded': 4452, 'butterflies': 4453, 'fairy': 4454, 'tales': 4455, 'melody': 4456, 'promises': 4457, 'photocopies': 4458, 'mopped': 4459, 'pad': 4460, 'secretary': 4461, 'envelope': 4462, 'lotion': 4463, 'inspiration': 4464, 'nutmeg': 4465, 'doubted': 4466, 'trumpet': 4467, 'couch': 4468, 'explosion': 4469, 'slammed': 4470, 'nine': 4471, 'hours': 4472, 'cigarettes': 4473, 'psychology': 4474, 'ankle': 4475, 'unloaded': 4476, 'unplugged': 4477, 'fooling': 4478, 'paraphrasing': 4479, 'stiff': 4480, 'television': 4481, 'nagasaki': 4482, 'election': 4483, 'introduce': 4484, 'fianc': 4485, 'e': 4486, 'rusty': 4487, 'photographer': 4488, 'bats': 4489, 'harassed': 4490, 'claustrophobic': 4491, 'singapore': 4492, 'gaining': 4493, 'poorer': 4494, 'mood': 4495, 'health': 4496, 'bathtub': 4497, 'deadbeat': 4498, 'gangster': 4499, 'magician': 4500, 'pacifist': 4501, 'delusional': 4502, 'denying': 4503, 'invincible': 4504, 'slave': 4505, 'balcony': 4506, 'selling': 4507, 'somewhat': 4508, 'terribly': 4509, 'unenthusiastic': 4510, 'laid': 4511, 'gained': 4512, 'bliss': 4513, 'christian': 4514, 'satisfactory': 4515, 'chained': 4516, 'milkman': 4517, 'recyclable': 4518, 'breaks': 4519, 'improved': 4520, 'deadly': 4521, 'parallel': 4522, 'frustrating': 4523, 'preventable': 4524, 'relevant': 4525, 'extreme': 4526, 'coincidence': 4527, 'distraction': 4528, 'possibility': 4529, 'proven': 4530, 'effort': 4531, 'typo': 4532, 'seven': 4533, 'experiment': 4534, 'investment': 4535, 'booby': 4536, 'bound': 4537, 'disappointing': 4538, 'disconcerting': 4539, 'heartbreaking': 4540, 'plague': 4541, 'brass': 4542, 'merely': 4543, 'disease': 4544, 'pertinent': 4545, 'unforgettable': 4546, 'greece': 4547, 'anywhere': 4548, 'profile': 4549, 'lesson': 4550, 'trade': 4551, 'squabble': 4552, 'luckily': 4553, 'monopolies': 4554, 'universal': 4555, 'final': 4556, 'budget': 4557, 'meows': 4558, 'fuel': 4559, 'hunch': 4560, 'mailbox': 4561, 'zipper': 4562, 'immortal': 4563, 'forever': 4564, 'restored': 4565, 'owls': 4566, 'breed': 4567, 'strength': 4568, 'postcard': 4569, 'aid': 4570, 'pigeon': 4571, 'toed': 4572, 'ghostly': 4573, 'lonesome': 4574, 'antiques': 4575, 'happily': 4576, 'teaser': 4577, 'supermodel': 4578, 'losers': 4579, 'phoning': 4580, 'destroyed': 4581, 'intent': 4582, 'promising': 4583, 'sloppy': 4584, 'biggest': 4585, 'maximum': 4586, 'packed': 4587, 'stale': 4588, 'case': 4589, 'coast': 4590, 'concert': 4591, 'crow': 4592, 'doorknob': 4593, 'flame': 4594, 'wilted': 4595, 'fog': 4596, 'caved': 4597, 'waxing': 4598, 'drying': 4599, 'backfired': 4600, 'pond': 4601, 'server': 4602, 'shops': 4603, 'brightened': 4604, 'cleared': 4605, 'stars': 4606, 'telephone': 4607, 'squealed': 4608, 'waves': 4609, 'urgency': 4610, 'christians': 4611, 'carnations': 4612, 'fits': 4613, 'shaggy': 4614, 'painting': 4615, 'triangle': 4616, 'apricot': 4617, 'octagon': 4618, 'astounding': 4619, 'project': 4620, 'outlandish': 4621, 'outrageous': 4622, 'plagiarism': 4623, 'surprising': 4624, 'unbearable': 4625, 'unheard': 4626, 'rag': 4627, 'tighten': 4628, 'sniff': 4629, 'contacted': 4630, 'instantly': 4631, 'lemonade': 4632, 'enjoys': 4633, 'unwanted': 4634, 'headaches': 4635, 'mustache': 4636, 'ponytail': 4637, 'narcolepsy': 4638, 'john': 4639, 'candidate': 4640, 'librarian': 4641, 'machinist': 4642, 'activist': 4643, 'imposter': 4644, 'fart': 4645, 'bars': 4646, 'competitive': 4647, 'independent': 4648, 'inefficient': 4649, 'insensitive': 4650, 'intoxicated': 4651, 'stark': 4652, 'supervising': 4653, 'parent': 4654, 'names': 4655, 'partying': 4656, 'potatoes': 4657, 'pays': 4658, 'drum': 4659, 'refuses': 4660, 'remains': 4661, 'pacing': 4662, 'traveled': 4663, 'crusader': 4664, 'distraught': 4665, 'distressed': 4666, 'hysterical': 4667, 'irrational': 4668, 'subpoenaed': 4669, 'unbeatable': 4670, 'payday': 4671, 'affects': 4672}\n"
          ]
        }
      ],
      "source": [
        "## 영어 토큰 수\n",
        "print(len(src_to_index), src_to_index)"
      ]
    },
    {
      "cell_type": "code",
      "execution_count": null,
      "metadata": {
        "colab": {
          "base_uri": "https://localhost:8080/"
        },
        "id": "1rvbID1l74sG",
        "outputId": "427dffd0-4a35-4670-8b52-edf4c1d8f0fb"
      },
      "outputs": [
        {
          "output_type": "stream",
          "name": "stdout",
          "text": [
            "4672 {1: '.', 2: 'i', 3: 'you', 4: '?', 5: 'tom', 6: 'it', 7: 'is', 8: 's', 9: 'a', 10: 're', 11: 'm', 12: 'we', 13: 't', 14: 'the', 15: 'that', 16: 'he', 17: 'was', 18: 'me', 19: 'this', 20: 'they', 21: 'are', 22: 'to', 23: '!', 24: 'do', 25: 'can', 26: 'my', 27: 'your', 28: 'go', 29: 'have', 30: 'not', 31: 'don', 32: 'll', 33: 'be', 34: 'she', 35: 'no', 36: 'did', 37: 'what', 38: 'all', 39: 'let', 40: 'here', 41: 'like', 42: 'in', 43: 'get', 44: 'up', 45: 'how', 46: 'very', 47: 'on', 48: 'need', 49: 'one', 50: 'want', 51: 'him', 52: 'out', 53: 'love', 54: 'come', 55: 'who', 56: 'please', 57: 'us', 58: 'there', 59: 'just', 60: 'know', 61: 'now', 62: 'stop', 63: 'so', 64: 'of', 65: 'got', 66: 'too', 67: 'help', 68: 'look', 69: 'take', 70: 'good', 71: 'for', 72: 'has', 73: 'at', 74: 'see', 75: 'will', 76: 'were', 77: 've', 78: 'keep', 79: 'had', 80: 'am', 81: 'back', 82: 'give', 83: 'feel', 84: 'saw', 85: 'try', 86: 'stay', 87: 'must', 88: 'happy', 89: 'where', 90: 'home', 91: 'alone', 92: 'didn', 93: 'car', 94: 'leave', 95: 'her', 96: 'work', 97: 'hate', 98: 'won', 99: 'everyone', 100: 'busy', 101: 'his', 102: 'again', 103: 'why', 104: 'an', 105: 'right', 106: 'made', 107: 'isn', 108: 'lost', 109: 'them', 110: 'mary', 111: 'looks', 112: 'dog', 113: 'eat', 114: 'never', 115: 'went', 116: 'felt', 117: 'may', 118: 'time', 119: 'down', 120: 'big', 121: 'job', 122: 'away', 123: 'still', 124: 'well', 125: 'nice', 126: 'wait', 127: 'going', 128: 'ready', 129: 'with', 130: 'bad', 131: 'off', 132: 'tell', 133: 'does', 134: 'drink', 135: 'say', 136: 'fun', 137: 'make', 138: 'think', 139: 'done', 140: 'book', 141: 'tired', 142: 'could', 143: 'left', 144: 'safe', 145: 'over', 146: 'about', 147: 'call', 148: 'kept', 149: 'really', 150: 'some', 151: 'old', 152: 'mine', 153: 'should', 154: 'french', 155: 'hurt', 156: 'lot', 157: 'late', 158: 'came', 159: 'enough', 160: 'money', 161: 'wasn', 162: 'open', 163: 'cold', 164: 'talk', 165: 'room', 166: 'new', 167: 'easy', 168: 'our', 169: 'way', 170: 'careful', 171: 'likes', 172: 'today', 173: 'live', 174: 'hard', 175: 'water', 176: 'read', 177: 'ok', 178: 'died', 179: 'watch', 180: 'broke', 181: 'loves', 182: 'gave', 183: 'hurry', 184: 'said', 185: 'idea', 186: 'much', 187: 'house', 188: 'd', 189: 'wrong', 190: 'more', 191: 'seems', 192: 'find', 193: 'bed', 194: 'funny', 195: 'day', 196: 'run', 197: 'dead', 198: 'door', 199: 'sure', 200: 'sit', 201: 'better', 202: 'everybody', 203: 'nobody', 204: 'found', 205: 'miss', 206: 'nothing', 207: 'cat', 208: 'man', 209: 'sleep', 210: 'upset', 211: 'both', 212: 'everything', 213: 'ask', 214: 'trust', 215: 'crazy', 216: 'turn', 217: 'hope', 218: 'hear', 219: 'sick', 220: 'yours', 221: 'true', 222: 'by', 223: 'show', 224: 'hungry', 225: 'free', 226: 'anyone', 227: 'life', 228: 'play', 229: 'pay', 230: 'die', 231: 'angry', 232: 'sad', 233: 'win', 234: 'these', 235: 'early', 236: 'mad', 237: 'school', 238: 'bring', 239: 'called', 240: 'stupid', 241: 'put', 242: 'sing', 243: 'check', 244: 'buy', 245: 'quit', 246: 'swim', 247: 'sat', 248: 'gone', 249: 'eyes', 250: 'took', 251: 'friends', 252: 'lucky', 253: 'quiet', 254: 'fine', 255: 'tall', 256: 'knew', 257: 'coming', 258: 'boy', 259: 'yourself', 260: 'forget', 261: 'mean', 262: 'fast', 263: 'walk', 264: 'drunk', 265: 'serious', 266: 'close', 267: 'working', 268: 'and', 269: 'name', 270: 'looked', 271: 'heard', 272: 'cool', 273: 'move', 274: 'care', 275: 'speak', 276: 'shot', 277: 'wine', 278: 'beer', 279: 'hand', 280: 'sorry', 281: 'calm', 282: 'perfect', 283: 'first', 284: 'knows', 285: 'kidding', 286: 'bit', 287: 'being', 288: 'fat', 289: 'stand', 290: 'outside', 291: 'remember', 292: 'problem', 293: 'friend', 294: 'almost', 295: 'thanks', 296: 'answer', 297: 'been', 298: 'loved', 299: 'great', 300: 'handle', 301: 'fell', 302: 'hold', 303: 'cry', 304: 'start', 305: 'anybody', 306: 'needs', 307: 'something', 308: 'hair', 309: 'doing', 310: 'only', 311: 'listen', 312: 'ahead', 313: 'hat', 314: 'aren', 315: 'yet', 316: 'from', 317: 'fired', 318: 'use', 319: 'follow', 320: 'liked', 321: 'met', 322: 'bus', 323: 'naive', 324: 'ate', 325: 'wants', 326: 'running', 327: 'coffee', 328: 'shut', 329: 'wake', 330: 'inside', 331: 'once', 332: 'best', 333: 'key', 334: 'finished', 335: 'plan', 336: 'kind', 337: 'tried', 338: 'long', 339: 'rich', 340: 'hot', 341: 'seat', 342: 'someone', 343: 'already', 344: 'quite', 345: 'touch', 346: 'write', 347: 'food', 348: 'son', 349: 'kids', 350: 'married', 351: 'nervous', 352: 'myself', 353: 'enjoy', 354: 'wanted', 355: 'as', 356: 'doesn', 357: 'began', 358: 'drive', 359: 'works', 360: 'red', 361: 'caught', 362: 'needed', 363: 'those', 364: 'stopped', 365: 'sign', 366: 'clean', 367: 'around', 368: 'scared', 369: 'fish', 370: 'change', 371: 'quickly', 372: 'gun', 373: 'music', 374: 'bag', 375: 'confused', 376: 'hates', 377: 'drop', 378: 'hit', 379: 'lie', 380: 'dogs', 381: 'two', 382: 'told', 383: 'sweet', 384: 'break', 385: 'girls', 386: 'believe', 387: 'wife', 388: 'word', 389: 'sounds', 390: 'beat', 391: 'ran', 392: 'fix', 393: 'lazy', 394: 'hurts', 395: 'lying', 396: 'changed', 397: 'nuts', 398: 'invited', 399: 'seen', 400: 'boston', 401: 'teacher', 402: 'tomorrow', 403: 'paid', 404: 'soon', 405: 'weird', 406: 'tv', 407: 'normal', 408: 'talking', 409: 'lunch', 410: 'crying', 411: 'laughed', 412: 'joke', 413: 'doctor', 414: 'owe', 415: 'when', 416: 'somebody', 417: 'awesome', 418: 'spoke', 419: 'catch', 420: 'luck', 421: 'waited', 422: 'missed', 423: 'child', 424: 'choice', 425: 'grab', 426: 'cute', 427: 'game', 428: 'strong', 429: 'smart', 430: 'prepared', 431: 'excited', 432: 'lose', 433: 'pretty', 434: 'would', 435: 'arrived', 436: 'if', 437: 'mother', 438: 'brave', 439: 'forgot', 440: 'after', 441: 'wonderful', 442: 'deal', 443: 'fight', 444: 'young', 445: 'milk', 446: 'song', 447: 'arm', 448: 'empty', 449: 'father', 450: 'boss', 451: 'important', 452: 'tie', 453: 'seem', 454: 'cried', 455: 'lock', 456: 'helped', 457: 'rest', 458: 'tea', 459: 'joking', 460: 'lonely', 461: 'study', 462: 'started', 463: 'bought', 464: 'light', 465: 'lied', 466: 'agree', 467: 'smoke', 468: 'shy', 469: 'rude', 470: 'awful', 471: 'worked', 472: 'cut', 473: 'guess', 474: 'asked', 475: 'small', 476: 'dream', 477: 'became', 478: 'horse', 479: 'amazing', 480: 'guy', 481: 'trouble', 482: 'getting', 483: 'sound', 484: 'terrific', 485: 'hands', 486: 'head', 487: 'alive', 488: 'walked', 489: 'saved', 490: 'slowly', 491: 'next', 492: 'upstairs', 493: 'slept', 494: 'afraid', 495: 'killed', 496: 'dinner', 497: 'oldest', 498: 'fair', 499: 'timid', 500: 'smell', 501: 'moving', 502: 'last', 503: 'drank', 504: 'leaving', 505: 'winning', 506: 'whose', 507: 'pen', 508: 'books', 509: 'which', 510: 'betrayed', 511: 'fault', 512: 'couldn', 513: 'phone', 514: 'slow', 515: 'real', 516: 'smiled', 517: 'honest', 518: 'cheated', 519: 'sleepy', 520: 'trying', 521: 'count', 522: 'often', 523: 'reading', 524: 'send', 525: 'pain', 526: 'trusted', 527: 'minute', 528: 'story', 529: 'relax', 530: 'hang', 531: 'fit', 532: 'kill', 533: 'wise', 534: 'full', 535: 'weak', 536: 'short', 537: 'dark', 538: 'step', 539: 'yes', 540: 'eating', 541: 'town', 542: 'mind', 543: 'laugh', 544: 'age', 545: 'cats', 546: 'unlucky', 547: 'happened', 548: 'always', 549: 'together', 550: 'place', 551: 'relaxed', 552: 'retired', 553: 'tough', 554: 'skinny', 555: 'ignore', 556: 'vote', 557: 'asleep', 558: 'correct', 559: 'heart', 560: 'might', 561: 'shoes', 562: 'warned', 563: 'sent', 564: 'own', 565: 'student', 566: 'turned', 567: 'join', 568: 'kiss', 569: 'push', 570: 'warm', 571: 'bored', 572: 'wish', 573: 'singing', 574: 'exhausted', 575: 'little', 576: 'family', 577: 'end', 578: 'bike', 579: 'into', 580: 'woke', 581: 'cook', 582: 'awake', 583: 'tight', 584: 'hired', 585: 'girl', 586: 'famous', 587: 'box', 588: 'trapped', 589: 'maybe', 590: 'smiling', 591: 'coat', 592: 'beautiful', 593: 'mom', 594: 'surprised', 595: 'behind', 596: 'continue', 597: 'wet', 598: 'failed', 599: 'save', 600: 'obey', 601: 'blind', 602: 'dying', 603: 'ours', 604: 'duty', 605: 'face', 606: 'liar', 607: 'night', 608: 'cake', 609: 'set', 610: 'thirsty', 611: 'broken', 612: 'silent', 613: 'closer', 614: 'many', 615: 'refused', 616: 'kid', 617: 'shopping', 618: 'blame', 619: 'black', 620: 'cops', 621: 'followed', 622: 'guilty', 623: 'point', 624: 'used', 625: 'doors', 626: 'bill', 627: 'every', 628: 'born', 629: 'choose', 630: 'naked', 631: 'far', 632: 'pardon', 633: 'thank', 634: 'blue', 635: 'curious', 636: 'news', 637: 'jealous', 638: 'shocked', 639: 'worried', 640: 'fake', 641: 'party', 642: 'bite', 643: 'kissed', 644: 'mess', 645: 'anything', 646: 'understand', 647: 'explain', 648: 'innocent', 649: 'involved', 650: 'law', 651: 'cruel', 652: 'god', 653: 'japanese', 654: 'listening', 655: 'throw', 656: 'trip', 657: 'movie', 658: 'fire', 659: 'smile', 660: 'wash', 661: 'refuse', 662: 'ugly', 663: 'helps', 664: 'warn', 665: 'patient', 666: 'men', 667: 'war', 668: 'creative', 669: 'finish', 670: 'bet', 671: 'driving', 672: 'shall', 673: 'meet', 674: 'meat', 675: 'feet', 676: 'things', 677: 'meant', 678: 'downstairs', 679: 'foolish', 680: 'or', 681: 'nose', 682: 'believed', 683: 'satisfied', 684: 'boring', 685: 'terrible', 686: 'boat', 687: 'ball', 688: 'lives', 689: 'watching', 690: 'dangerous', 691: 'desk', 692: 'side', 693: 'jump', 694: 'hello', 695: 'hug', 696: 'low', 697: 'welcome', 698: 'fly', 699: 'clear', 700: 'hero', 701: 'pick', 702: 'dance', 703: 'cash', 704: 'cooking', 705: 'fool', 706: 'useless', 707: 'rain', 708: 'team', 709: 'another', 710: 'map', 711: 'pizza', 712: 'writing', 713: 'yelling', 714: 'control', 715: 'ride', 716: 'raise', 717: 'danger', 718: 'camera', 719: 'keys', 720: 'carefully', 721: 'sister', 722: 'three', 723: 'ill', 724: 'guys', 725: 'taste', 726: 'excuse', 727: 'dirty', 728: 'agreed', 729: 'idiot', 730: 'along', 731: 'forgive', 732: 'worry', 733: 'sharp', 734: 'merciful', 735: 'snow', 736: 'list', 737: 'remain', 738: 'dress', 739: 'positive', 740: 'nearby', 741: 'happen', 742: 'shame', 743: 'looking', 744: 'polite', 745: 'survive', 746: 'week', 747: 'ambitious', 748: 'motivated', 749: 'raining', 750: 'laughing', 751: 'cup', 752: 'seemed', 753: 'second', 754: 'rid', 755: 'park', 756: 'disgusting', 757: 'baby', 758: 'brother', 759: 'feeling', 760: 'opened', 761: 'hi', 762: 'attack', 763: 'stood', 764: 'cover', 765: 'talked', 766: 'bald', 767: 'seated', 768: 'armed', 769: 'dizzy', 770: 'clever', 771: 'wrote', 772: 'shoot', 773: 'direct', 774: 'drives', 775: 'even', 776: 'friendly', 777: 'fear', 778: 'dancing', 779: 'stunned', 780: 'touched', 781: 'simple', 782: 'date', 783: 'bath', 784: 'hey', 785: 'silly', 786: 'proof', 787: 'risk', 788: 'decided', 789: 'jobs', 790: 'dry', 791: 'feels', 792: 'comes', 793: 'pleased', 794: 'impressed', 795: 'resilient', 796: 'helping', 797: 'bell', 798: 'chance', 799: 'tree', 800: 'rules', 801: 'brought', 802: 'knife', 803: 'mistake', 804: 'truth', 805: 'train', 806: 'same', 807: 'children', 808: 'enemy', 809: 'bicycle', 810: 'speaks', 811: 'begin', 812: 'high', 813: 'deep', 814: 'stayed', 815: 'glad', 816: 'okay', 817: 'beg', 818: 'stuck', 819: 'content', 820: 'lovely', 821: 'losing', 822: 'punctual', 823: 'hated', 824: 'scream', 825: 'starved', 826: 'secret', 827: 'escaped', 828: 'objective', 829: 'fearless', 830: 'cancer', 831: 'special', 832: 'focused', 833: 'while', 834: 'unbelievable', 835: 'matter', 836: 'favor', 837: 'tricked', 838: 'finally', 839: 'nearly', 840: 'different', 841: 'sense', 842: 'trusts', 843: 'makes', 844: 'rather', 845: 'having', 846: 'order', 847: 'escape', 848: 'relieved', 849: 'ordered', 850: 'productive', 851: 'oh', 852: 'deaf', 853: 'fantastic', 854: 'giggled', 855: 'burned', 856: 'loosen', 857: 'air', 858: 'green', 859: 'aside', 860: 'discreet', 861: 'also', 862: 'dumb', 863: 'baffled', 864: 'sincere', 865: 'unhappy', 866: 'loud', 867: 'teach', 868: 'resist', 869: 'deserve', 870: 'powerful', 871: 'strange', 872: 'sang', 873: 'tense', 874: 'closed', 875: 'woman', 876: 'any', 877: 'clock', 878: 'smells', 879: 'studying', 880: 'fed', 881: 'badly', 882: 'people', 883: 'skiing', 884: 'horses', 885: 'prefer', 886: 'concerned', 887: 'depressed', 888: 'leak', 889: 'window', 890: 'moment', 891: 'insane', 892: 'nonsense', 893: 'yourselves', 894: 'plays', 895: 'lit', 896: 'travel', 897: 'interested', 898: 'expensive', 899: 'apple', 900: 'tonight', 901: 'fate', 902: 'sore', 903: 'proud', 904: 'person', 905: 'pull', 906: 'birds', 907: 'rush', 908: 'poor', 909: 'promised', 910: 'loaded', 911: 'happens', 912: 'drinks', 913: 'decide', 914: 'dressed', 915: 'grew', 916: 'chose', 917: 'fined', 918: 'certain', 919: 'monday', 920: 'talks', 921: 'says', 922: 'confident', 923: 'dumped', 924: 'horrible', 925: 'pathetic', 926: 'paint', 927: 'lawyer', 928: 'singer', 929: 'divorced', 930: 'fighting', 931: 'pregnant', 932: 'sleeping', 933: 'stubborn', 934: 'white', 935: 'closely', 936: 'ended', 937: 'crime', 938: 'part', 939: 'fever', 940: 'summer', 941: 'rescued', 942: 'convinced', 943: 'forgetful', 944: 'screaming', 945: 'terrified', 946: 'later', 947: 'table', 948: 'near', 949: 'injured', 950: 'charge', 951: 'fishing', 952: 'panting', 953: 'chair', 954: 'christmas', 955: 'road', 956: 'store', 957: 'bank', 958: 'message', 959: 'drinking', 960: 'yesterday', 961: 'headache', 962: 'eye', 963: 'protect', 964: 'fortunate', 965: 'shirt', 966: 'hide', 967: 'pass', 968: 'faster', 969: 'ski', 970: 'cheered', 971: 'noticed', 972: 'promise', 973: 'fussy', 974: 'stinks', 975: 'hers', 976: 'then', 977: 'built', 978: 'amused', 979: 'buying', 980: 'ruined', 981: 'single', 982: 'sneaky', 983: 'matters', 984: 'cheap', 985: 'bother', 986: 'apologize', 987: 'soup', 988: 'messed', 989: 'eggs', 990: 'manage', 991: 'ashamed', 992: 'chicken', 993: 'staying', 994: 'memorize', 995: 'grow', 996: 'hugged', 997: 'drowned', 998: 'watched', 999: 'act', 1000: 'twins', 1001: 'half', 1002: 'apples', 1003: 'plans', 1004: 'saint', 1005: 'speaking', 1006: 'missing', 1007: 'walking', 1008: 'goes', 1009: 'arguing', 1010: 'dreaming', 1011: 'bird', 1012: 'gear', 1013: 'few', 1014: 'line', 1015: 'baked', 1016: 'soccer', 1017: 'note', 1018: 'advice', 1019: 'played', 1020: 'surrendered', 1021: 'volunteered', 1022: 'available', 1023: 'powerless', 1024: 'worth', 1025: 'breath', 1026: 'shoe', 1027: 'six', 1028: 'floor', 1029: 'bright', 1030: 'crafty', 1031: 'animals', 1032: 'attacked', 1033: 'reply', 1034: 'goal', 1035: 'charming', 1036: 'stalling', 1037: 'alike', 1038: 'students', 1039: 'envious', 1040: 'death', 1041: 'swimming', 1042: 'truly', 1043: 'sounded', 1044: 'fabulous', 1045: 'himself', 1046: 'frightened', 1047: 'briefly', 1048: 'power', 1049: 'flight', 1050: 'example', 1051: 'goodbye', 1052: 'runs', 1053: 'brief', 1054: 'phoned', 1055: 'crashed', 1056: 'fainted', 1057: 'hurried', 1058: 'seriously', 1059: 'voted', 1060: 'prudent', 1061: 'breathe', 1062: 'quick', 1063: 'facts', 1064: 'doubt', 1065: 'ice', 1066: 'panicked', 1067: 'screamed', 1068: 'thirty', 1069: 'pray', 1070: 'boys', 1071: 'cheerful', 1072: 'ruthless', 1073: 'bread', 1074: 'moved', 1075: 'healthy', 1076: 'psychic', 1077: 'doll', 1078: 'locked', 1079: 'surprise', 1080: 'coughed', 1081: 'rifle', 1082: 'admire', 1083: 'sugar', 1084: 'hopeless', 1085: 'thrilled', 1086: 'digging', 1087: 'quietly', 1088: 'forward', 1089: 'smoking', 1090: 'stole', 1091: 'stoned', 1092: 'uneasy', 1093: 'else', 1094: 'fooled', 1095: 'demented', 1096: 'blood', 1097: 'wore', 1098: 'prove', 1099: 'artist', 1100: 'impatient', 1101: 'gets', 1102: 'foot', 1103: 'peace', 1104: 'suit', 1105: 'shower', 1106: 'tastes', 1107: 'cousins', 1108: 'enemies', 1109: 'cows', 1110: 'complain', 1111: 'year', 1112: 'eaten', 1113: 'spot', 1114: 'cookies', 1115: 'harm', 1116: 'holiday', 1117: 'overworked', 1118: 'large', 1119: 'prices', 1120: 'blew', 1121: 'afford', 1122: 'glass', 1123: 'dad', 1124: 'noise', 1125: 'match', 1126: 'kidnapped', 1127: 'alarmed', 1128: 'sour', 1129: 'decision', 1130: 'believes', 1131: 'daughter', 1132: 'threatened', 1133: 'fingers', 1134: 'surrounded', 1135: 'knees', 1136: 'thing', 1137: 'parents', 1138: 'burn', 1139: 'jumped', 1140: 'thin', 1141: 'odd', 1142: 'bless', 1143: 'pack', 1144: 'destroy', 1145: 'fill', 1146: 'canceled', 1147: 'envy', 1148: 'flinched', 1149: 'greedy', 1150: 'shaken', 1151: 'strict', 1152: 'generous', 1153: 'thorough', 1154: 'class', 1155: 'disagreed', 1156: 'golf', 1157: 'sell', 1158: 'struggled', 1159: 'attend', 1160: 'finicky', 1161: 'wealthy', 1162: 'paper', 1163: 'dope', 1164: 'safely', 1165: 'annoying', 1166: 'arrogant', 1167: 'romantic', 1168: 'doubts', 1169: 'cab', 1170: 'star', 1171: 'thought', 1172: 'learn', 1173: 'sue', 1174: 'canadian', 1175: 'ears', 1176: 'mistaken', 1177: 'offended', 1178: 'obvious', 1179: 'snowing', 1180: 'staring', 1181: 'gold', 1182: 'pale', 1183: 'words', 1184: 'talented', 1185: 'beware', 1186: 'deny', 1187: 'feed', 1188: 'flowers', 1189: 'maid', 1190: 'thief', 1191: 'deserved', 1192: 'winter', 1193: 'ring', 1194: 'copy', 1195: 'taxi', 1196: 'outrank', 1197: 'delighted', 1198: 'intrigued', 1199: 'coach', 1200: 'weapon', 1201: 'number', 1202: 'gambling', 1203: 'doctors', 1204: 'grass', 1205: 'scolded', 1206: 'truck', 1207: 'astonished', 1208: 'contagious', 1209: 'making', 1210: 'vegetarian', 1211: 'picture', 1212: 'their', 1213: 'harmless', 1214: 'escaping', 1215: 'congratulations', 1216: 'hour', 1217: 'pencil', 1218: 'learned', 1219: 'rang', 1220: 'embarrassed', 1221: 'fresh', 1222: 'ridiculous', 1223: 'smaller', 1224: 'mouth', 1225: 'answered', 1226: 'straight', 1227: 'sale', 1228: 'forgiven', 1229: 'remained', 1230: 'overreacting', 1231: 'conceited', 1232: 'murdered', 1233: 'unique', 1234: 'weapons', 1235: 'loudly', 1236: 'familiar', 1237: 'overwhelmed', 1238: 'unconscious', 1239: 'sort', 1240: 'rained', 1241: 'courageous', 1242: 'knocked', 1243: 'leader', 1244: 'master', 1245: 'banged', 1246: 'drove', 1247: 'obeyed', 1248: 'rested', 1249: 'snowed', 1250: 'course', 1251: 'walks', 1252: 'admit', 1253: 'chuckled', 1254: 'exercise', 1255: 'twin', 1256: 'humble', 1257: 'comment', 1258: 'nap', 1259: 'cheat', 1260: 'yelled', 1261: 'harder', 1262: 'cancel', 1263: 'argue', 1264: 'resigned', 1265: 'share', 1266: 'fruit', 1267: 'rice', 1268: 'gas', 1269: 'smashed', 1270: 'teasing', 1271: 'through', 1272: 'split', 1273: 'shake', 1274: 'leg', 1275: 'guessed', 1276: 'huge', 1277: 'evil', 1278: 'fall', 1279: 'denied', 1280: 'kicked', 1281: 'exciting', 1282: 'apologized', 1283: 'draw', 1284: 'chess', 1285: 'jokes', 1286: 'robbed', 1287: 'twice', 1288: 'genius', 1289: 'bluffing', 1290: 'grateful', 1291: 'obedient', 1292: 'reliable', 1293: 'checked', 1294: 'waste', 1295: 'diary', 1296: 'command', 1297: 'scary', 1298: 'translate', 1299: 'pitch', 1300: 'ignored', 1301: 'english', 1302: 'adorable', 1303: 'despise', 1304: 'tempted', 1305: 'allow', 1306: 'fan', 1307: 'treat', 1308: 'personal', 1309: 'possible', 1310: 'standing', 1311: 'bragging', 1312: 'adores', 1313: 'misled', 1314: 'remembers', 1315: 'succeed', 1316: 'judge', 1317: 'disappeared', 1318: 'outgoing', 1319: 'slapped', 1320: 'wide', 1321: 'spiders', 1322: 'painted', 1323: 'glasses', 1324: 'speechless', 1325: 'successful', 1326: 'roses', 1327: 'counting', 1328: 'whistling', 1329: 'helpful', 1330: 'similar', 1331: 'remembered', 1332: 'troubled', 1333: 'earlier', 1334: 'cleaned', 1335: 'excused', 1336: 'expect', 1337: 'towel', 1338: 'partner', 1339: 'tongue', 1340: 'sons', 1341: 'haven', 1342: 'tennis', 1343: 'unusual', 1344: 'city', 1345: 'incredible', 1346: 'its', 1347: 'office', 1348: 'gray', 1349: 'remove', 1350: 'repeat', 1351: 'separated', 1352: 'startled', 1353: 'fuse', 1354: 'blown', 1355: 'flexible', 1356: 'cap', 1357: 'candle', 1358: 'breakfast', 1359: 'rarely', 1360: 'criminal', 1361: 'weight', 1362: 'ever', 1363: 'showed', 1364: 'tire', 1365: 'promoted', 1366: 'hilarious', 1367: 'talkative', 1368: 'skipped', 1369: 'pants', 1370: 'weather', 1371: 'candles', 1372: 'downtown', 1373: 'forced', 1374: 'volume', 1375: 'stink', 1376: 'cop', 1377: 'cooks', 1378: 'unlock', 1379: 'cares', 1380: 'disagree', 1381: 'fixed', 1382: 'art', 1383: 'survived', 1384: 'accept', 1385: 'alert', 1386: 'replace', 1387: 'sec', 1388: 'fail', 1389: 'eight', 1390: 'jerk', 1391: 'confessed', 1392: 'cars', 1393: 'washed', 1394: 'dieting', 1395: 'popular', 1396: 'puzzled', 1397: 'selfish', 1398: 'legal', 1399: 'flat', 1400: 'trap', 1401: 'spring', 1402: 'numb', 1403: 'easily', 1404: 'games', 1405: 'understood', 1406: 'addicted', 1407: 'bleeding', 1408: 'faithful', 1409: 'freezing', 1410: 'grounded', 1411: 'outraged', 1412: 'reserved', 1413: 'starving', 1414: 'unfair', 1415: 'hideous', 1416: 'legs', 1417: 'recess', 1418: 'dreams', 1419: 'approved', 1420: 'overslept', 1421: 'mature', 1422: 'years', 1423: 'type', 1424: 'rope', 1425: 'fought', 1426: 'clue', 1427: 'nature', 1428: 'ought', 1429: 'stabbed', 1430: 'disgusted', 1431: 'expecting', 1432: 'impulsive', 1433: 'uninsured', 1434: 'apart', 1435: 'unlocked', 1436: 'climbing', 1437: 'proceed', 1438: 'attention', 1439: 'clearly', 1440: 'stuff', 1441: 'creepy', 1442: 'crept', 1443: 'vulgar', 1444: 'remarried', 1445: 'scares', 1446: 'violent', 1447: 'wounded', 1448: 'till', 1449: 'waiting', 1450: 'grumpy', 1451: 'annoy', 1452: 'guns', 1453: 'form', 1454: 'van', 1455: 'keeps', 1456: 'arrested', 1457: 'playing', 1458: 'sun', 1459: 'welcomed', 1460: 'devastated', 1461: 'bargain', 1462: 'prepare', 1463: 'meter', 1464: 'awkward', 1465: 'price', 1466: 'radio', 1467: 'complained', 1468: 'precise', 1469: 'prude', 1470: 'interrupt', 1471: 'mercy', 1472: 'dreamer', 1473: 'mentioned', 1474: 'notice', 1475: 'evidence', 1476: 'homework', 1477: 'lay', 1478: 'misjudged', 1479: 'tissue', 1480: 'mayor', 1481: 'totally', 1482: 'horrified', 1483: 'wouldn', 1484: 'volunteer', 1485: 'able', 1486: 'training', 1487: 'such', 1488: 'handsome', 1489: 'windy', 1490: 'niece', 1491: 'leaves', 1492: 'alarm', 1493: 'church', 1494: 'sky', 1495: 'held', 1496: 'deranged', 1497: 'repulsive', 1498: 'punched', 1499: 'cannot', 1500: 'disloyal', 1501: 'cross', 1502: 'juice', 1503: 'debt', 1504: 'embarrassing', 1505: 'sweat', 1506: 'bowed', 1507: 'politely', 1508: 'traveling', 1509: 'bar', 1510: 'search', 1511: 'entered', 1512: 'abandoned', 1513: 'courteous', 1514: 'weren', 1515: 'heavy', 1516: 'screw', 1517: 'advance', 1518: 'but', 1519: 'arms', 1520: 'days', 1521: 'brainer', 1522: 'bothering', 1523: 'letting', 1524: 'wow', 1525: 'bury', 1526: 'fold', 1527: 'waved', 1528: 'aim', 1529: 'tries', 1530: 'nodded', 1531: 'east', 1532: 'west', 1533: 'hung', 1534: 'north', 1535: 'biased', 1536: 'fad', 1537: 'cooked', 1538: 'sensible', 1539: 'watchful', 1540: 'panic', 1541: 'mice', 1542: 'rock', 1543: 'taxes', 1544: 'recovered', 1545: 'succeeded', 1546: 'jittery', 1547: 'sloshed', 1548: 'unarmed', 1549: 'fact', 1550: 'pipe', 1551: 'cloudy', 1552: 'ironic', 1553: 'timing', 1554: 'card', 1555: 'plants', 1556: 'return', 1557: 'caution', 1558: 'guest', 1559: 'beef', 1560: 'snack', 1561: 'poet', 1562: 'enjoyed', 1563: 'faint', 1564: 'giddy', 1565: 'handled', 1566: 'honey', 1567: 'women', 1568: 'rose', 1569: 'smelled', 1570: 'farmer', 1571: 'member', 1572: 'drowning', 1573: 'rumor', 1574: 'garbage', 1575: 'genuine', 1576: 'stir', 1577: 'pushing', 1578: 'trash', 1579: 'bores', 1580: 'focus', 1581: 'dating', 1582: 'shock', 1583: 'respectful', 1584: 'blow', 1585: 'kite', 1586: 'dropped', 1587: 'sells', 1588: 'american', 1589: 'contributed', 1590: 'movies', 1591: 'salmon', 1592: 'hiking', 1593: 'insist', 1594: 'object', 1595: 'respect', 1596: 'plane', 1597: 'pool', 1598: 'contented', 1599: 'flattered', 1600: 'miserable', 1601: 'observant', 1602: 'saying', 1603: 'worse', 1604: 'takes', 1605: 'test', 1606: 'business', 1607: 'differ', 1608: 'anyway', 1609: 'suits', 1610: 'texted', 1611: 'growing', 1612: 'related', 1613: 'add', 1614: 'racist', 1615: 'mug', 1616: 'video', 1617: 'uncle', 1618: 'borrow', 1619: 'corrected', 1620: 'secrets', 1621: 'dessert', 1622: 'protest', 1623: 'punished', 1624: 'details', 1625: 'revenge', 1626: 'insulted', 1627: 'wear', 1628: 'testify', 1629: 'survivor', 1630: 'optimistic', 1631: 'untalented', 1632: 'miracle', 1633: 'peel', 1634: 'teased', 1635: 'beauty', 1636: 'appeared', 1637: 'snap', 1638: 'calmly', 1639: 'brothers', 1640: 'helpless', 1641: 'country', 1642: 'causes', 1643: 'wind', 1644: 'capsized', 1645: 'police', 1646: 'trunk', 1647: 'signed', 1648: 'dawn', 1649: 'hardly', 1650: 'stared', 1651: 'cheating', 1652: 'writes', 1653: 'husband', 1654: 'photogenic', 1655: 'interesting', 1656: 'appreciate', 1657: 'violence', 1658: 'hammer', 1659: 'color', 1660: 'introverted', 1661: 'minded', 1662: 'modest', 1663: 'happening', 1664: 'allowed', 1665: 'irrelevant', 1666: 'negotiate', 1667: 'bottle', 1668: 'tied', 1669: 'lake', 1670: 'moon', 1671: 'exit', 1672: 'times', 1673: 'immature', 1674: 'sipped', 1675: 'dishes', 1676: 'visit', 1677: 'organized', 1678: 'prisoners', 1679: 'stolen', 1680: 'prize', 1681: 'teaches', 1682: 'crack', 1683: 'blushing', 1684: 'top', 1685: 'drawer', 1686: 'concentrate', 1687: 'umbrella', 1688: 'dumbfounded', 1689: 'knee', 1690: 'coughing', 1691: 'led', 1692: 'chocolate', 1693: 'beach', 1694: 'computer', 1695: 'retire', 1696: 'aggressive', 1697: 'humiliated', 1698: 'sunday', 1699: 'letter', 1700: 'belongs', 1701: 'difficult', 1702: 'rainy', 1703: 'sunny', 1704: 'gain', 1705: 'elaborate', 1706: 'complaining', 1707: 'studies', 1708: 'sports', 1709: 'released', 1710: 'mistakes', 1711: 'taking', 1712: 'five', 1713: 'hobby', 1714: 'traitor', 1715: 'obnoxious', 1716: 'question', 1717: 'pet', 1718: 'brown', 1719: 'raised', 1720: 'shook', 1721: 'raking', 1722: 'graduate', 1723: 'style', 1724: 'photo', 1725: 'garden', 1726: 'wild', 1727: 'lights', 1728: 'driver', 1729: 'responsible', 1730: 'prisoner', 1731: 'registered', 1732: 'using', 1733: 'comic', 1734: 'log', 1735: 'gotten', 1736: 'strive', 1737: 'unreliable', 1738: 'duck', 1739: 'cheers', 1740: 'knit', 1741: 'dozed', 1742: 'snore', 1743: 'skip', 1744: 'marry', 1745: 'cringed', 1746: 'exhaled', 1747: 'loyal', 1748: 'sand', 1749: 'seize', 1750: 'swam', 1751: 'aboard', 1752: 'carry', 1753: 'fret', 1754: 'south', 1755: 'tragic', 1756: 'listened', 1757: 'squinted', 1758: 'baking', 1759: 'chubby', 1760: 'paying', 1761: 'safer', 1762: 'wept', 1763: 'lighten', 1764: 'notes', 1765: 'flies', 1766: 'winced', 1767: 'comfort', 1768: 'guts', 1769: 'beans', 1770: 'hesitated', 1771: 'math', 1772: 'third', 1773: 'baker', 1774: 'medic', 1775: 'blessed', 1776: 'engaged', 1777: 'falling', 1778: 'furious', 1779: 'stuffed', 1780: 'rule', 1781: 'scam', 1782: 'poison', 1783: 'urgent', 1784: 'means', 1785: 'blushed', 1786: 'stick', 1787: 'grim', 1788: 'pity', 1789: 'attentive', 1790: 'realistic', 1791: 'evening', 1792: 'donut', 1793: 'bigot', 1794: 'lousy', 1795: 'opera', 1796: 'sushi', 1797: 'risks', 1798: 'coward', 1799: 'homeless', 1800: 'homesick', 1801: 'angel', 1802: 'rational', 1803: 'truthful', 1804: 'deer', 1805: 'wolf', 1806: 'bedtime', 1807: 'pigs', 1808: 'plug', 1809: 'sued', 1810: 'louder', 1811: 'pig', 1812: 'loser', 1813: 'ink', 1814: 'bossy', 1815: 'ain', 1816: 'included', 1817: 'supportive', 1818: 'skate', 1819: 'gamble', 1820: 'wins', 1821: 'deeply', 1822: 'hole', 1823: 'pinched', 1824: 'admired', 1825: 'muslim', 1826: 'caused', 1827: 'cough', 1828: 'dislike', 1829: 'bananas', 1830: 'freaked', 1831: 'elected', 1832: 'orders', 1833: 'tenure', 1834: 'cheese', 1835: 'rescheduled', 1836: 'ghost', 1837: 'behave', 1838: 'budge', 1839: 'plumber', 1840: 'tourist', 1841: 'committed', 1842: 'dedicated', 1843: 'desperate', 1844: 'expert', 1845: 'shivering', 1846: 'skeptical', 1847: 'gift', 1848: 'saturday', 1849: 'relief', 1850: 'outdated', 1851: 'seal', 1852: 'model', 1853: 'shouting', 1854: 'sweep', 1855: 'cow', 1856: 'oven', 1857: 'japan', 1858: 'joined', 1859: 'adopted', 1860: 'annoyed', 1861: 'packing', 1862: 'page', 1863: 'before', 1864: 'respond', 1865: 'thinks', 1866: 'mail', 1867: 'wicked', 1868: 'qualified', 1869: 'hiring', 1870: 'flew', 1871: 'beard', 1872: 'sold', 1873: 'gambler', 1874: 'prison', 1875: 'flunk', 1876: 'honored', 1877: 'nauseous', 1878: 'vision', 1879: 'carrots', 1880: 'parties', 1881: 'sisters', 1882: 'flu', 1883: 'college', 1884: 'plead', 1885: 'puppy', 1886: 'captured', 1887: 'careless', 1888: 'cooperate', 1889: 'guide', 1890: 'against', 1891: 'diplomatic', 1892: 'exercising', 1893: 'fascinated', 1894: 'undressing', 1895: 'redundant', 1896: 'risky', 1897: 'larger', 1898: 'biting', 1899: 'bunch', 1900: 'hogwash', 1901: 'illegal', 1902: 'rubbish', 1903: 'barked', 1904: 'leaks', 1905: 'annoys', 1906: 'fork', 1907: 'intervened', 1908: 'unmoved', 1909: 'volunteers', 1910: 'sweating', 1911: 'retiring', 1912: 'tragedy', 1913: 'taken', 1914: 'wipe', 1915: 'present', 1916: 'bees', 1917: 'brush', 1918: 'dismissed', 1919: 'insult', 1920: 'overdo', 1921: 'solution', 1922: 'studied', 1923: 'adventurous', 1924: 'abhor', 1925: 'seizure', 1926: 'resign', 1927: 'football', 1928: 'leukemia', 1929: 'returned', 1930: 'showered', 1931: 'baseball', 1932: 'seldom', 1933: 'witness', 1934: 'solve', 1935: 'detective', 1936: 'calling', 1937: 'celebrating', 1938: 'comfortable', 1939: 'cracking', 1940: 'defenseless', 1941: 'extroverted', 1942: 'interfering', 1943: 'handed', 1944: 'persevering', 1945: 'resourceful', 1946: 'trustworthy', 1947: 'breathing', 1948: 'natural', 1949: 'moldy', 1950: 'ago', 1951: 'impossible', 1952: 'impressive', 1953: 'terrifying', 1954: 'neither', 1955: 'seeing', 1956: 'orange', 1957: 'assertive', 1958: 'sea', 1959: 'feared', 1960: 'rabbits', 1961: 'dejected', 1962: 'wears', 1963: 'suffer', 1964: 'panicking', 1965: 'suffered', 1966: 'ideas', 1967: 'giving', 1968: 'disaster', 1969: 'cost', 1970: 'naughty', 1971: 'barking', 1972: 'apply', 1973: 'teeth', 1974: 'street', 1975: 'mention', 1976: 'reason', 1977: 'suddenly', 1978: 'distracted', 1979: 'arabic', 1980: 'blanket', 1981: 'ticket', 1982: 'sneezed', 1983: 'hybrid', 1984: 'empowered', 1985: 'egg', 1986: 'month', 1987: 'cousin', 1988: 'between', 1989: 'fairly', 1990: 'shape', 1991: 'company', 1992: 'washing', 1993: 'necessary', 1994: 'size', 1995: 'sofa', 1996: 'informed', 1997: 'repair', 1998: 'cards', 1999: 'planet', 2000: 'socks', 2001: 'rejected', 2002: 'wisely', 2003: 'showing', 2004: 'ludicrous', 2005: 'limit', 2006: 'guard', 2007: 'monster', 2008: 'sarcastic', 2009: 'texting', 2010: 'soldiers', 2011: 'dozing', 2012: 'whatever', 2013: 'mirror', 2014: 'younger', 2015: 'others', 2016: 'thieves', 2017: 'earth', 2018: 'goodnight', 2019: 'ballistic', 2020: 'barely', 2021: 'grade', 2022: 'lightly', 2023: 'accident', 2024: 'pulled', 2025: 'discouraged', 2026: 'heavily', 2027: 'world', 2028: 'rage', 2029: 'emergency', 2030: 'sight', 2031: 'rats', 2032: 'rising', 2033: 'bitterly', 2034: 'harassing', 2035: 'wall', 2036: 'worst', 2037: 'handcuffed', 2038: 'suspicious', 2039: 'changing', 2040: 'jacket', 2041: 'terms', 2042: 'european', 2043: 'robots', 2044: 'gloves', 2045: 'offend', 2046: 'address', 2047: 'confirm', 2048: 'jail', 2049: 'lived', 2050: 'offense', 2051: 'kissing', 2052: 'scout', 2053: 'sighed', 2054: 'tidy', 2055: 'speed', 2056: 'lies', 2057: 'bark', 2058: 'film', 2059: 'grinned', 2060: 'groaned', 2061: 'sober', 2062: 'aah', 2063: 'dig', 2064: 'calls', 2065: 'absurd', 2066: 'cpr', 2067: 'relented', 2068: 'hiding', 2069: 'pooped', 2070: 'fox', 2071: 'cd', 2072: 'phony', 2073: 'jesus', 2074: 'scoot', 2075: 'agrees', 2076: 'snores', 2077: 'cds', 2078: 'gloat', 2079: 'coin', 2080: 'nerd', 2081: 'adore', 2082: 'exercised', 2083: 'jazz', 2084: 'nailed', 2085: 'protested', 2086: 'lips', 2087: 'widow', 2088: 'fasting', 2089: 'humming', 2090: 'psyched', 2091: 'fatal', 2092: 'lift', 2093: 'burns', 2094: 'clap', 2095: 'press', 2096: 'enter', 2097: 'release', 2098: 'lame', 2099: 'glum', 2100: 'neat', 2101: 'slim', 2102: 'sweated', 2103: 'bore', 2104: 'owns', 2105: 'describe', 2106: 'ghosts', 2107: 'exist', 2108: 'morning', 2109: 'cranky', 2110: 'driven', 2111: 'barbaric', 2112: 'liars', 2113: 'piano', 2114: 'lion', 2115: 'beaten', 2116: 'wonder', 2117: 'gullible', 2118: 'reformed', 2119: 'restless', 2120: 'shooting', 2121: 'thinking', 2122: 'ticklish', 2123: 'unbiased', 2124: 'identify', 2125: 'vague', 2126: 'robot', 2127: 'archaic', 2128: 'complex', 2129: 'ladies', 2130: 'lead', 2131: 'spy', 2132: 'heroes', 2133: 'minors', 2134: 'nerve', 2135: 'vanished', 2136: 'passed', 2137: 'scare', 2138: 'slipping', 2139: 'questions', 2140: 'reasonable', 2141: 'body', 2142: 'security', 2143: 'circle', 2144: 'exhale', 2145: 'cookie', 2146: 'eats', 2147: 'toys', 2148: 'senior', 2149: 'insecure', 2150: 'diabetic', 2151: 'pie', 2152: 'belong', 2153: 'steal', 2154: 'queasy', 2155: 'visa', 2156: 'garlic', 2157: 'yellow', 2158: 'hockey', 2159: 'violin', 2160: 'funds', 2161: 'rat', 2162: 'bacon', 2163: 'mask', 2164: 'dentist', 2165: 'easygoing', 2166: 'diet', 2167: 'plastered', 2168: 'sensitive', 2169: 'unmarried', 2170: 'voting', 2171: 'painful', 2172: 'wig', 2173: 'flaw', 2174: 'viral', 2175: 'gorgeous', 2176: 'stealing', 2177: 'offer', 2178: 'beside', 2179: 'worrying', 2180: 'symptoms', 2181: 'vary', 2182: 'dvd', 2183: 'sheep', 2184: 'touchy', 2185: 'sinking', 2186: 'responded', 2187: 'hypocrite', 2188: 'idiots', 2189: 'morons', 2190: 'crude', 2191: 'hint', 2192: 'wheel', 2193: 'counts', 2194: 'author', 2195: 'brakes', 2196: 'spinach', 2197: 'picnics', 2198: 'turtles', 2199: 'answers', 2200: 'data', 2201: 'usually', 2202: 'cleaning', 2203: 'detained', 2204: 'outdoors', 2205: 'unharmed', 2206: 'freshman', 2207: 'dehydrated', 2208: 'illiterate', 2209: 'methodical', 2210: 'quitter', 2211: 'overweight', 2212: 'winner', 2213: 'unemployed', 2214: 'forgotten', 2215: 'bear', 2216: 'likely', 2217: 'planned', 2218: 'wednesday', 2219: 'snowman', 2220: 'beyond', 2221: 'brand', 2222: 'undamaged', 2223: 'ache', 2224: 'choked', 2225: 'alright', 2226: 'evident', 2227: 'logical', 2228: 'roof', 2229: 'ford', 2230: 'callous', 2231: 'immoral', 2232: 'nodding', 2233: 'sobbing', 2234: 'recover', 2235: 'brain', 2236: 'refugees', 2237: 'paris', 2238: 'adjust', 2239: 'defend', 2240: 'rub', 2241: 'meal', 2242: 'prayed', 2243: 'acts', 2244: 'painter', 2245: 'gloomy', 2246: 'surfing', 2247: 'lad', 2248: 'southpaw', 2249: 'id', 2250: 'unfortunate', 2251: 'salad', 2252: 'disobeyed', 2253: 'expected', 2254: 'sunburned', 2255: 'voice', 2256: 'screams', 2257: 'teaching', 2258: 'tokyo', 2259: 'misunderstood', 2260: 'helmet', 2261: 'sword', 2262: 'land', 2263: 'biking', 2264: 'shifted', 2265: 'gears', 2266: 'taught', 2267: 'refund', 2268: 'acquitted', 2269: 'rent', 2270: 'tipsy', 2271: 'attorney', 2272: 'daydreaming', 2273: 'experienced', 2274: 'heartbroken', 2275: 'vacation', 2276: 'sympathetic', 2277: 'manager', 2278: 'unambitious', 2279: 'river', 2280: 'soft', 2281: 'disgrace', 2282: 'shortcut', 2283: 'acceptable', 2284: 'inadequate', 2285: 'sweltering', 2286: 'season', 2287: 'practice', 2288: 'jeans', 2289: 'sticky', 2290: 'changes', 2291: 'forgave', 2292: 'reads', 2293: 'roll', 2294: 'silence', 2295: 'steady', 2296: 'engine', 2297: 'breather', 2298: 'peculiar', 2299: 'salt', 2300: 'blocked', 2301: 'greeted', 2302: 'visited', 2303: 'reality', 2304: 'friday', 2305: 'agitated', 2306: 'dyslexic', 2307: 'resolute', 2308: 'skittish', 2309: 'tactless', 2310: 'wavering', 2311: 'mouse', 2312: 'understands', 2313: 'front', 2314: 'toes', 2315: 'teachers', 2316: 'freedom', 2317: 'lack', 2318: 'realize', 2319: 'rented', 2320: 'canadians', 2321: 'impartial', 2322: 'pleasure', 2323: 'comb', 2324: 'loo', 2325: 'picky', 2326: 'less', 2327: 'catholic', 2328: 'cane', 2329: 'immediately', 2330: 'consider', 2331: 'dial', 2332: 'deceive', 2333: 'garage', 2334: 'joy', 2335: 'picasso', 2336: 'hunt', 2337: 'biologist', 2338: 'grown', 2339: 'struck', 2340: 'pork', 2341: 'ripped', 2342: 'halloween', 2343: 'surprises', 2344: 'receipt', 2345: 'allergies', 2346: 'hay', 2347: 'standards', 2348: 'toothache', 2349: 'drill', 2350: 'ropes', 2351: 'wallet', 2352: 'yolks', 2353: 'soul', 2354: 'tires', 2355: 'frustrated', 2356: 'gladly', 2357: 'disappointed', 2358: 'america', 2359: 'heading', 2360: 'killing', 2361: 'living', 2362: 'riddle', 2363: 'threat', 2364: 'valuable', 2365: 'effective', 2366: 'race', 2367: 'habit', 2368: 'settled', 2369: 'complicated', 2370: 'compromise', 2371: 'mars', 2372: 'smokes', 2373: 'tiny', 2374: 'stomach', 2375: 'parrots', 2376: 'article', 2377: 'defeated', 2378: 'tb', 2379: 'disliked', 2380: 'spit', 2381: 'upsetting', 2382: 'tank', 2383: 'ambushed', 2384: 'deceived', 2385: 'glanced', 2386: 'problems', 2387: 'mystery', 2388: 'excellent', 2389: 'guitar', 2390: 'silently', 2391: 'deported', 2392: 'goggles', 2393: 'headed', 2394: 'considered', 2395: 'visitors', 2396: 'owners', 2397: 'eater', 2398: 'nightmare', 2399: 'build', 2400: 'copies', 2401: 'rely', 2402: 'pens', 2403: 'gentleman', 2404: 'scientist', 2405: 'twisted', 2406: 'bathe', 2407: 'brushed', 2408: 'verify', 2409: 'intervene', 2410: 'scarf', 2411: 'soaking', 2412: 'schedule', 2413: 'privacy', 2414: 'regrets', 2415: 'everywhere', 2416: 'colors', 2417: 'ignorance', 2418: 'gym', 2419: 'guessing', 2420: 'persuaded', 2421: 'dubious', 2422: 'neighbor', 2423: 'inflation', 2424: 'pure', 2425: 'depends', 2426: 'cumbersome', 2427: 'depressing', 2428: 'destiny', 2429: 'greasy', 2430: 'moot', 2431: 'reconsider', 2432: 'pretend', 2433: 'teen', 2434: 'aspirin', 2435: 'market', 2436: 'foxes', 2437: 'articulate', 2438: 'recovering', 2439: 'remarkable', 2440: 'hopeful', 2441: 'suffocating', 2442: 'meeting', 2443: 'cowards', 2444: 'stain', 2445: 'future', 2446: 'applause', 2447: 'invite', 2448: 'murder', 2449: 'snails', 2450: 'choosy', 2451: 'king', 2452: 'hospital', 2453: 'unimpressed', 2454: 'position', 2455: 'information', 2456: 'religion', 2457: 'somewhere', 2458: 'custom', 2459: 'challenge', 2460: 'candlelight', 2461: 'outfit', 2462: 'spilled', 2463: 'boyfriend', 2464: 'hire', 2465: 'chef', 2466: 'learning', 2467: 'handcrafted', 2468: 'unavoidable', 2469: 'corner', 2470: 'crowded', 2471: 'battery', 2472: 'frozen', 2473: 'template', 2474: 'shoelaces', 2475: 'comforted', 2476: 'downhearted', 2477: 'frazzled', 2478: 'hop', 2479: 'froze', 2480: 'swore', 2481: 'kick', 2482: 'goofed', 2483: 'moaned', 2484: 'chill', 2485: 'dj', 2486: 'sexy', 2487: 'humor', 2488: 'blinked', 2489: 'inhaled', 2490: 'tripped', 2491: 'leo', 2492: 'cured', 2493: 'above', 2494: 'below', 2495: 'higher', 2496: 'bottoms', 2497: 'swiss', 2498: 'human', 2499: 'b', 2500: 'objected', 2501: 'shrugged', 2502: 'threw', 2503: 'whistled', 2504: 'immune', 2505: 'soaked', 2506: 'wasted', 2507: 'bogus', 2508: 'magic', 2509: 'chat', 2510: 'mama', 2511: 'braked', 2512: 'gasped', 2513: 'unscrew', 2514: 'sunk', 2515: 'specific', 2516: 'bowl', 2517: 'shout', 2518: 'stare', 2519: 'flip', 2520: 'hunk', 2521: 'slob', 2522: 'monk', 2523: 'buried', 2524: 'oppose', 2525: 'snickered', 2526: 'surrender', 2527: 'frantic', 2528: 'neutral', 2529: 'stumped', 2530: 'foggy', 2531: 'yen', 2532: 'futile', 2533: 'warmer', 2534: 'across', 2535: 'record', 2536: 'settle', 2537: 'icky', 2538: 'wary', 2539: 'listens', 2540: 'older', 2541: 'drag', 2542: 'loss', 2543: 'ship', 2544: 'ramble', 2545: 'slouch', 2546: 'examine', 2547: 'avoids', 2548: 'heroic', 2549: 'dare', 2550: 'chased', 2551: 'jogging', 2552: 'honor', 2553: 'trips', 2554: 'space', 2555: 'rewrote', 2556: 'wimped', 2557: 'gemini', 2558: 'taurus', 2559: 'barber', 2560: 'dancer', 2561: 'surfer', 2562: 'adult', 2563: 'autistic', 2564: 'cultured', 2565: 'eighteen', 2566: 'managing', 2567: 'iron', 2568: 'amazed', 2569: 'curse', 2570: 'review', 2571: 'itch', 2572: 'shrieked', 2573: 'pouting', 2574: 'whining', 2575: 'yawning', 2576: 'approve', 2577: 'enlisted', 2578: 'grumbled', 2579: 'obese', 2580: 'stoic', 2581: 'vegan', 2582: 'adults', 2583: 'doomed', 2584: 'imbecile', 2585: 'moody', 2586: 'futon', 2587: 'blindfold', 2588: 'despair', 2589: 'peas', 2590: 'dies', 2591: 'haircut', 2592: 'ham', 2593: 'cracked', 2594: 'braces', 2595: 'skating', 2596: 'bled', 2597: 'honk', 2598: 'horn', 2599: 'delicious', 2600: 'thrilling', 2601: 'runner', 2602: 'borrowed', 2603: 'bribed', 2604: 'designed', 2605: 'reborn', 2606: 'scammed', 2607: 'asthma', 2608: 'rights', 2609: 'camels', 2610: 'cities', 2611: 'grapes', 2612: 'poetry', 2613: 'trains', 2614: 'sock', 2615: 'autumn', 2616: 'crew', 2617: 'lamp', 2618: 'support', 2619: 'crushed', 2620: 'dazzled', 2621: 'drugged', 2622: 'poems', 2623: 'songs', 2624: 'scorpio', 2625: 'soldier', 2626: 'surgeon', 2627: 'adaptable', 2628: 'orphan', 2629: 'bilingual', 2630: 'efficient', 2631: 'strike', 2632: 'surviving', 2633: 'bat', 2634: 'gag', 2635: 'superb', 2636: 'rental', 2637: 'homemade', 2638: 'midnight', 2639: 'occupied', 2640: 'suicidal', 2641: 'unlikely', 2642: 'hustling', 2643: 'aloud', 2644: 'russia', 2645: 'clapping', 2646: 'spitting', 2647: 'straighten', 2648: 'saturn', 2649: 'myth', 2650: 'doable', 2651: 'untrue', 2652: 'asian', 2653: 'spies', 2654: 'false', 2655: 'online', 2656: 'unhurt', 2657: 'upbeat', 2658: 'winded', 2659: 'rushed', 2660: 'staggered', 2661: 'frank', 2662: 'choking', 2663: 'elderly', 2664: 'snoring', 2665: 'wax', 2666: 'prevail', 2667: 'group', 2668: 'sync', 2669: 'lawyers', 2670: 'stalled', 2671: 'bummer', 2672: 'fiasco', 2673: 'legibly', 2674: 'charlatan', 2675: 'hoot', 2676: 'snob', 2677: 'unkind', 2678: 'avoid', 2679: 'clich', 2680: 'juggle', 2681: 'gate', 2682: 'recycle', 2683: 'force', 2684: 'struggle', 2685: 'tease', 2686: 'tempt', 2687: 'dude', 2688: 'afternoon', 2689: 'lip', 2690: 'dislikes', 2691: 'actor', 2692: 'respects', 2693: 'ex', 2694: 'banana', 2695: 'decorated', 2696: 'gossip', 2697: 'suntan', 2698: 'expelled', 2699: 'stroke', 2700: 'sundays', 2701: 'hiccups', 2702: 'voices', 2703: 'hiccup', 2704: 'bowling', 2705: 'history', 2706: 'lobster', 2707: 'mahjong', 2708: 'puzzles', 2709: 'stories', 2710: 'stamp', 2711: 'file', 2712: 'korean', 2713: 'justice', 2714: 'barefoot', 2715: 'hammered', 2716: 'impolite', 2717: 'agony', 2718: 'pardoned', 2719: 'prosper', 2720: 'musician', 2721: 'dependable', 2722: 'firing', 2723: 'meditating', 2724: 'bitter', 2725: 'prejudiced', 2726: 'revolting', 2727: 'searching', 2728: 'tooth', 2729: 'tune', 2730: 'science', 2731: 'nurse', 2732: 'bach', 2733: 'sings', 2734: 'gossiping', 2735: 'grumbling', 2736: 'quibbling', 2737: 'sniffling', 2738: 'tower', 2739: 'flag', 2740: 'melted', 2741: 'siren', 2742: 'snag', 2743: 'muddy', 2744: 'bites', 2745: 'theirs', 2746: 'tricky', 2747: 'dice', 2748: 'pear', 2749: 'crook', 2750: 'moron', 2751: 'sitting', 2752: 'smarter', 2753: 'unfazed', 2754: 'retaliated', 2755: 'improve', 2756: 'clueless', 2757: 'crash', 2758: 'blast', 2759: 'guests', 2760: 'action', 2761: 'partners', 2762: 'quitting', 2763: 'stronger', 2764: 'rip', 2765: 'disgust', 2766: 'screwed', 2767: 'amusing', 2768: 'elusive', 2769: 'obscene', 2770: 'pro', 2771: 'insured', 2772: 'round', 2773: 'hibernate', 2774: 'bullet', 2775: 'boil', 2776: 'whistle', 2777: 'boxes', 2778: 'nails', 2779: 'hatch', 2780: 'jam', 2781: 'stingy', 2782: 'interfere', 2783: 'remind', 2784: 'popcorn', 2785: 'bottom', 2786: 'ambition', 2787: 'ten', 2788: 'slowpoke', 2789: 'humiliating', 2790: 'bachelor', 2791: 'compete', 2792: 'chickened', 2793: 'downloaded', 2794: 'dried', 2795: 'feverish', 2796: 'isolated', 2797: 'tomatoes', 2798: 'fanatics', 2799: 'weddings', 2800: 'bruise', 2801: 'laptop', 2802: 'epilepsy', 2803: 'area', 2804: 'army', 2805: 'supper', 2806: 'outwitted', 2807: 'scored', 2808: 'vitamins', 2809: 'parrot', 2810: 'assaulted', 2811: 'convicted', 2812: 'wondering', 2813: 'zoo', 2814: 'arrange', 2815: 'assist', 2816: 'double', 2817: 'capricorn', 2818: 'addict', 2819: 'carpenter', 2820: 'foreigner', 2821: 'geologist', 2822: 'engineer', 2823: 'begging', 2824: 'catching', 2825: 'cooperating', 2826: 'hardworking', 2827: 'ammo', 2828: 'spontaneous', 2829: 'unconvinced', 2830: 'tasted', 2831: 'handmade', 2832: 'outrage', 2833: 'improbable', 2834: 'inevitable', 2835: 'misleading', 2836: 'refreshing', 2837: 'typical', 2838: 'sufficient', 2839: 'humid', 2840: 'paging', 2841: 'covered', 2842: 'lemons', 2843: 'improvise', 2844: 'merry', 2845: 'shift', 2846: 'squeak', 2847: 'pour', 2848: 'lid', 2849: 'rejection', 2850: 'calmed', 2851: 'graceful', 2852: 'nosy', 2853: 'chances', 2854: 'frankly', 2855: 'puzzle', 2856: 'doubtful', 2857: 'damp', 2858: 'net', 2859: 'cure', 2860: 'pilots', 2861: 'gifts', 2862: 'wasting', 2863: 'acted', 2864: 'tailor', 2865: 'giggling', 2866: 'knocking', 2867: 'perverse', 2868: 'pleasant', 2869: 'spirited', 2870: 'unafraid', 2871: 'unnerved', 2872: 'stops', 2873: 'sees', 2874: 'sleeps', 2875: 'slowed', 2876: 'fools', 2877: 'retreat', 2878: 'sailing', 2879: 'fixing', 2880: 'newcomers', 2881: 'newlyweds', 2882: 'resigning', 2883: 'survivors', 2884: 'unrelated', 2885: 'treasure', 2886: 'oar', 2887: 'devil', 2888: 'menace', 2889: 'than', 2890: 'wings', 2891: 'accidents', 2892: 'invisible', 2893: 'golfer', 2894: 'maniac', 2895: 'typist', 2896: 'wizard', 2897: 'boxing', 2898: 'brace', 2899: 'normally', 2900: 'spell', 2901: 'blinds', 2902: 'supply', 2903: 'bridge', 2904: 'wire', 2905: 'delicately', 2906: 'faces', 2907: 'yell', 2908: 'meals', 2909: 'veggies', 2910: 'hamster', 2911: 'costs', 2912: 'gardening', 2913: 'without', 2914: 'stairs', 2915: 'flow', 2916: 'croissant', 2917: 'recently', 2918: 'backward', 2919: 'pajamas', 2920: 'hunting', 2921: 'oranges', 2922: 'moves', 2923: 'ratted', 2924: 'france', 2925: 'bartender', 2926: 'senile', 2927: 'intelligent', 2928: 'heaven', 2929: 'professor', 2930: 'brazil', 2931: 'reschedule', 2932: 'trout', 2933: 'confiscated', 2934: 'protected', 2935: 'chemistry', 2936: 'computers', 2937: 'hypocrisy', 2938: 'paperwork', 2939: 'website', 2940: 'gunshots', 2941: 'lifted', 2942: 'ocean', 2943: 'temper', 2944: 'adventure', 2945: 'hedgehogs', 2946: 'band', 2947: 'view', 2948: 'kleenex', 2949: 'escort', 2950: 'pointed', 2951: 'recommend', 2952: 'rematch', 2953: 'vengeance', 2954: 'unprepared', 2955: 'victorious', 2956: 'farm', 2957: 'demonstrate', 2958: 'clerk', 2959: 'alcoholic', 2960: 'conservative', 2961: 'disorganized', 2962: 'dissatisfied', 2963: 'homeschooled', 2964: 'ignoring', 2965: 'stressed', 2966: 'super', 2967: 'volunteering', 2968: 'trick', 2969: 'freaks', 2970: 'virus', 2971: 'hype', 2972: 'mandatory', 2973: 'tradition', 2974: 'frightening', 2975: 'drug', 2976: 'lower', 2977: 'itchy', 2978: 'pulse', 2979: 'windows', 2980: 'button', 2981: 'bellyaching', 2982: 'hassling', 2983: 'italy', 2984: 'despises', 2985: 'obstinate', 2986: 'rode', 2987: 'camel', 2988: 'worships', 2989: 'shots', 2990: 'nit', 2991: 'picking', 2992: 'million', 2993: 'brilliant', 2994: 'curtain', 2995: 'rough', 2996: 'switch', 2997: 'icy', 2998: 'scoffed', 2999: 'artists', 3000: 'accurate', 3001: 'required', 3002: 'bounced', 3003: 'forgives', 3004: 'rabbit', 3005: 'chickens', 3006: 'delirious', 3007: 'indignant', 3008: 'merciless', 3009: 'observing', 3010: 'sighing', 3011: 'tulips', 3012: 'smiles', 3013: 'overheard', 3014: 'stepped', 3015: 'tickled', 3016: 'appalled', 3017: 'watches', 3018: 'innovative', 3019: 'instead', 3020: 'slower', 3021: 'competed', 3022: 'demand', 3023: 'depend', 3024: 'warning', 3025: 'pictures', 3026: 'classmates', 3027: 'seek', 3028: 'score', 3029: 'belt', 3030: 'wherever', 3031: 'cheaper', 3032: 'developed', 3033: 'lady', 3034: 'notified', 3035: 'nicely', 3036: 'x', 3037: 'marks', 3038: 'seventh', 3039: 'unethical', 3040: 'zip', 3041: 'steps', 3042: 'bachelors', 3043: 'religious', 3044: 'policeman', 3045: 'ambulance', 3046: 'link', 3047: 'cocaine', 3048: 'startle', 3049: 'disable', 3050: 'kratom', 3051: 'fuss', 3052: 'threaten', 3053: 'haste', 3054: 'employs', 3055: 'gives', 3056: 'grabbed', 3057: 'blond', 3058: 'physicist', 3059: 'forty', 3060: 'incompetent', 3061: 'influential', 3062: 'unrealistic', 3063: 'frugally', 3064: 'requested', 3065: 'sailor', 3066: 'russian', 3067: 'travels', 3068: 'rapidly', 3069: 'imprisoned', 3070: 'journalist', 3071: 'pink', 3072: 'handrail', 3073: 'spelled', 3074: 'bolted', 3075: 'clothes', 3076: 'bags', 3077: 'tutor', 3078: 'other', 3079: 'mosquitoes', 3080: 'hangover', 3081: 'passport', 3082: 'proposal', 3083: 'chest', 3084: 'skirt', 3085: 'hats', 3086: 'outlive', 3087: 'picked', 3088: 'muscle', 3089: 'jest', 3090: 'inchworm', 3091: 'victory', 3092: 'shouldn', 3093: 'sometimes', 3094: 'plate', 3095: 'notebook', 3096: 'apology', 3097: 'passenger', 3098: 'discredited', 3099: 'total', 3100: 'wreck', 3101: 'aware', 3102: 'awfully', 3103: 'concentrating', 3104: 'flabbergasted', 3105: 'lab', 3106: 'insure', 3107: 'nonstop', 3108: 'deliberate', 3109: 'horrendous', 3110: 'unexpected', 3111: 'flimsy', 3112: 'conspiracy', 3113: 'knock', 3114: 'investigate', 3115: 'enjoyable', 3116: 'prediction', 3117: 'mosquitos', 3118: 'aching', 3119: 'shoulder', 3120: 'misses', 3121: 'none', 3122: 'toy', 3123: 'beginner', 3124: 'attractive', 3125: 'unsociable', 3126: 'fashionable', 3127: 'hyperactive', 3128: 'turning', 3129: 'flower', 3130: 'somehow', 3131: 'badgering', 3132: 'exaggerating', 3133: 'following', 3134: 'interrupting', 3135: 'wood', 3136: 'rings', 3137: 'classified', 3138: 'disturbing', 3139: 'opinion', 3140: 'bland', 3141: 'dull', 3142: 'lovers', 3143: 'shop', 3144: 'thick', 3145: 'system', 3146: 'damage', 3147: 'hunted', 3148: 'tortured', 3149: 'identical', 3150: 'appalling', 3151: 'offensive', 3152: 'permanent', 3153: 'sickening', 3154: 'fishy', 3155: 'praying', 3156: 'claims', 3157: 'deserves', 3158: 'freed', 3159: 'imitated', 3160: 'despondent', 3161: 'protective', 3162: 'crawling', 3163: 'peeked', 3164: 'peered', 3165: 'recognized', 3166: 'patiently', 3167: 'sensed', 3168: 'strangled', 3169: 'hose', 3170: 'beers', 3171: 'flaws', 3172: 'p', 3173: '.m', 3174: 'due', 3175: 'handling', 3176: 'killers', 3177: 'pessimistic', 3178: 'revelation', 3179: 'happiness', 3180: 'major', 3181: 'stitches', 3182: 'murderer', 3183: 'hurting', 3184: 'mocking', 3185: 'fascinate', 3186: 'flute', 3187: 'advised', 3188: 'subject', 3189: 'pockets', 3190: 'tells', 3191: 'blog', 3192: 'stones', 3193: 'weekend', 3194: 'applauded', 3195: 'blanks', 3196: 'desire', 3197: 'traffic', 3198: 'breathed', 3199: 'cartwheel', 3200: 'gripped', 3201: 'alzheimer', 3202: 'classmate', 3203: 'colleague', 3204: 'memory', 3205: 'chinese', 3206: '.d', 3207: 'filthy', 3208: 'aristocrat', 3209: 'print', 3210: 'completely', 3211: 'sin', 3212: 'chilly', 3213: 'loads', 3214: 'roommate', 3215: 'carpet', 3216: 'spare', 3217: 'patience', 3218: 'explosions', 3219: 'emailed', 3220: 'mission', 3221: 'mathematics', 3222: 'pot', 3223: 'roast', 3224: 'blamed', 3225: 'oiled', 3226: 'report', 3227: 'repeated', 3228: 'sliced', 3229: 'suggest', 3230: 'disqualified', 3231: 'consulted', 3232: 'learner', 3233: 'beginning', 3234: 'laying', 3235: 'supporting', 3236: 'supposed', 3237: 'board', 3238: 'compliment', 3239: 'boggles', 3240: 'astonishing', 3241: 'mesmerizing', 3242: 'concern', 3243: 'recipe', 3244: 'fridge', 3245: 'knowledge', 3246: 'rephrase', 3247: 'moons', 3248: 'goals', 3249: 'lofty', 3250: 'suitcase', 3251: 'cucumbers', 3252: 'bandage', 3253: 'schools', 3254: 'manners', 3255: 'charity', 3256: 'slip', 3257: 'correcting', 3258: 'tickles', 3259: 'sip', 3260: 'unimportant', 3261: 'attempt', 3262: 'buzzer', 3263: 'melting', 3264: 'rallied', 3265: 'path', 3266: 'wandered', 3267: 'wrestlers', 3268: 'th', 3269: 'families', 3270: 'hostages', 3271: 'tents', 3272: 'peaceful', 3273: 'disposable', 3274: 'foreigners', 3275: 'bigger', 3276: 'follows', 3277: 'chosen', 3278: 'launders', 3279: 'blankly', 3280: 'persistent', 3281: 'tuck', 3282: 'fled', 3283: 'pair', 3284: 'cheer', 3285: 'cuff', 3286: 'cursed', 3287: 'frowned', 3288: 'gloated', 3289: 'grunted', 3290: 'prepaid', 3291: 'shouted', 3292: 'needy', 3293: 'poured', 3294: 'dived', 3295: 'knits', 3296: 'limps', 3297: 'rocks', 3298: 'r', 3299: 'shivered', 3300: 'flabby', 3301: 'begun', 3302: 'bulky', 3303: 'taboo', 3304: 'lasts', 3305: 'cheats', 3306: 'cusses', 3307: 'farted', 3308: 'sobbed', 3309: 'yawned', 3310: 'blink', 3311: 'nasty', 3312: 'faking', 3313: 'taller', 3314: 'assume', 3315: 'tapes', 3316: 'glue', 3317: 'curt', 3318: 'gambles', 3319: 'gargled', 3320: 'meek', 3321: 'vain', 3322: 'reacted', 3323: 'sneered', 3324: 'sniffed', 3325: 'snorted', 3326: 'hell', 3327: 'dump', 3328: 'heel', 3329: 'drew', 3330: 'abandon', 3331: 'backup', 3332: 'litter', 3333: 'warmly', 3334: 'spoon', 3335: 'mocked', 3336: 'caviar', 3337: 'carded', 3338: 'ax', 3339: 'hives', 3340: 'improvised', 3341: 'rugby', 3342: 'suppose', 3343: 'sympathize', 3344: 'canned', 3345: 'framed', 3346: 'weighed', 3347: 'priest', 3348: 'purist', 3349: 'agent', 3350: 'famished', 3351: 'hungover', 3352: 'rebel', 3353: 'worn', 3354: 'solid', 3355: 'elk', 3356: 'noisy', 3357: 'heal', 3358: 'plant', 3359: 'setup', 3360: 'hearsay', 3361: 'suicide', 3362: 'bounce', 3363: 'mull', 3364: 'hip', 3365: 'cared', 3366: 'filming', 3367: 'gawking', 3368: 'whiff', 3369: 'rare', 3370: 'spam', 3371: 'approves', 3372: 'insisted', 3373: 'pudgy', 3374: 'sniffled', 3375: 'stutters', 3376: 'arabs', 3377: 'starve', 3378: 'ufo', 3379: 'amuse', 3380: 'gross', 3381: 'drown', 3382: 'mock', 3383: 'sass', 3384: 'healthily', 3385: 'bloom', 3386: 'riddance', 3387: 'advises', 3388: 'dug', 3389: 'british', 3390: 'grouch', 3391: 'jesuit', 3392: 'tycoon', 3393: 'acquired', 3394: 'added', 3395: 'classes', 3396: 'poker', 3397: 'exaggerated', 3398: 'drowsy', 3399: 'unwell', 3400: 'forbid', 3401: 'bonus', 3402: 'fleeced', 3403: 'crowds', 3404: 'flying', 3405: 'sirens', 3406: 'clocks', 3407: 'prunes', 3408: 'yacht', 3409: 'squash', 3410: 'resent', 3411: 'queen', 3412: 'firefox', 3413: 'pony', 3414: 'nights', 3415: 'trainee', 3416: 'parole', 3417: 'resentful', 3418: 'damaged', 3419: 'sickens', 3420: 'bomb', 3421: 'hoax', 3422: 'parody', 3423: 'sequel', 3424: 'indecent', 3425: 'instinct', 3426: 'obsolete', 3427: 'paddling', 3428: 'mortal', 3429: 'motion', 3430: 'aches', 3431: 'lungs', 3432: 'cage', 3433: 'active', 3434: 'obeys', 3435: 'livid', 3436: 'cutie', 3437: 'ease', 3438: 'frowning', 3439: 'scowling', 3440: 'heap', 3441: 'rad', 3442: 'mooed', 3443: 'embraced', 3444: 'pun', 3445: 'basic', 3446: 'exercises', 3447: 'graduated', 3448: 'goats', 3449: 'sexist', 3450: 'somber', 3451: 'stable', 3452: 'overdosed', 3453: 'shuddered', 3454: 'stiffened', 3455: 'tensed', 3456: 'testified', 3457: 'untie', 3458: 'assumed', 3459: 'trees', 3460: 'tools', 3461: 'opposed', 3462: 'candy', 3463: 'rebuild', 3464: 'anxious', 3465: 'winners', 3466: 'matured', 3467: 'hassle', 3468: 'disagrees', 3469: 'absent', 3470: 'coke', 3471: 'intruding', 3472: 'boats', 3473: 'sink', 3474: 'shovel', 3475: 'contact', 3476: 'tigers', 3477: 'purr', 3478: 'farts', 3479: 'gasps', 3480: 'lines', 3481: 'birthday', 3482: 'holidays', 3483: 'tan', 3484: 'gazed', 3485: 'writer', 3486: 'bankrupt', 3487: 'jelly', 3488: 'owes', 3489: 'hungarian', 3490: 'con', 3491: 'outlaw', 3492: 'henpecked', 3493: 'ached', 3494: 'perceptive', 3495: 'nail', 3496: 'draft', 3497: 'seasick', 3498: 'snubbed', 3499: 'guarantee', 3500: 'mishap', 3501: 'hailed', 3502: 'mondays', 3503: 'insects', 3504: 'ironing', 3505: 'karaoke', 3506: 'zealots', 3507: 'amnesia', 3508: 'thud', 3509: 'almonds', 3510: 'castles', 3511: 'oysters', 3512: 'sashimi', 3513: 'seafood', 3514: 'upstate', 3515: 'lasagna', 3516: 'sunsets', 3517: 'muffins', 3518: 'decline', 3519: 'insulin', 3520: 'asap', 3521: 'surgery', 3522: 'predicted', 3523: 'cattle', 3524: 'serve', 3525: 'sneeze', 3526: 'urge', 3527: 'memo', 3528: 'scold', 3529: 'merchant', 3530: 'minister', 3531: 'salesman', 3532: 'thumbs', 3533: 'farsighted', 3534: 'remodeling', 3535: 'killer', 3536: 'credible', 3537: 'common', 3538: 'fluke', 3539: 'magical', 3540: 'classic', 3541: 'firefly', 3542: 'ambush', 3543: 'dishonest', 3544: 'forbidden', 3545: 'cream', 3546: 'inspiring', 3547: 'vibrating', 3548: 'worthless', 3549: 'lend', 3550: 'clues', 3551: 'mum', 3552: 'joints', 3553: 'itches', 3554: 'tummy', 3555: 'ow', 3556: 'ditched', 3557: 'brains', 3558: 'prudish', 3559: 'swims', 3560: 'types', 3561: 'hottie', 3562: 'looker', 3563: 'poking', 3564: 'resisting', 3565: 'sir', 3566: 'plastic', 3567: 'honked', 3568: 'quarreled', 3569: 'babies', 3570: 'unsafe', 3571: 'hectic', 3572: 'draws', 3573: 'issues', 3574: 'scurvy', 3575: 'talent', 3576: 'felon', 3577: 'giant', 3578: 'lefty', 3579: 'mason', 3580: 'pilot', 3581: 'cynical', 3582: 'devoted', 3583: 'pompous', 3584: 'radical', 3585: 'shaving', 3586: 'slender', 3587: 'spoiled', 3588: 'unkempt', 3589: 'tofu', 3590: 'maps', 3591: 'stranded', 3592: 'unstable', 3593: 'sauce', 3594: 'rear', 3595: 'landed', 3596: 'couple', 3597: 'butchers', 3598: 'letdown', 3599: 'atm', 3600: 'reinstated', 3601: 'suggestions', 3602: 'purple', 3603: 'balls', 3604: 'bears', 3605: 'anytime', 3606: 'clip', 3607: 'crows', 3608: 'rap', 3609: 'freak', 3610: 'danced', 3611: 'fasten', 3612: 'fetch', 3613: 'whirl', 3614: 'onto', 3615: 'daddy', 3616: 'toyota', 3617: 'racket', 3618: 'intrigues', 3619: 'ethiopian', 3620: 'sweets', 3621: 'puts', 3622: 'airs', 3623: 'whisky', 3624: 'shouts', 3625: 'swindled', 3626: 'comedian', 3627: 'frat', 3628: 'gardener', 3629: 'newcomer', 3630: 'mud', 3631: 'hoist', 3632: 'sails', 3633: 'hypnotism', 3634: 'egypt', 3635: 'booked', 3636: 'carp', 3637: 'dealt', 3638: 'funerals', 3639: 'politics', 3640: 'raccoons', 3641: 'reptiles', 3642: 'heat', 3643: 'rug', 3644: 'alibi', 3645: 'dandruff', 3646: 'diabetes', 3647: 'immunity', 3648: 'thump', 3649: 'rains', 3650: 'elbow', 3651: 'imagined', 3652: 'lent', 3653: 'cartoons', 3654: 'westerns', 3655: 'interest', 3656: 'barbecue', 3657: 'comedies', 3658: 'eggplant', 3659: 'brownies', 3660: 'internet', 3661: 'caffeine', 3662: 'guidance', 3663: 'tape', 3664: 'shave', 3665: 'bills', 3666: 'orchids', 3667: 'relied', 3668: 'respected', 3669: 'pattern', 3670: 'coma', 3671: 'patrol', 3672: 'petrified', 3673: 'cameraman', 3674: 'chauffeur', 3675: 'housewife', 3676: 'lifeguard', 3677: 'masochist', 3678: 'owl', 3679: 'stutterer', 3680: 'frying', 3681: 'nearsighted', 3682: 'deck', 3683: 'replaceable', 3684: 'captain', 3685: 'hazardous', 3686: 'poisonous', 3687: 'zebra', 3688: 'ethical', 3689: 'poorly', 3690: 'option', 3691: 'burnt', 3692: 'ages', 3693: 'enticing', 3694: 'mushroom', 3695: 'travesty', 3696: 'artificial', 3697: 'dirt', 3698: 'loan', 3699: 'secure', 3700: 'tax', 3701: 'narrow', 3702: 'scarce', 3703: 'knead', 3704: 'dough', 3705: 'koalas', 3706: 'celebrate', 3707: 'kites', 3708: 'shrank', 3709: 'natto', 3710: 'october', 3711: 'wonders', 3712: 'planning', 3713: 'rake', 3714: 'saddle', 3715: 'sharks', 3716: 'brazilian', 3717: 'silk', 3718: 'spanish', 3719: 'nagging', 3720: 'squabbling', 3721: 'whimpering', 3722: 'pagoda', 3723: 'shadow', 3724: 'cast', 3725: 'growled', 3726: 'stank', 3727: 'tub', 3728: 'howled', 3729: 'actors', 3730: 'melons', 3731: 'interns', 3732: 'farce', 3733: 'private', 3734: 'pleases', 3735: 'each', 3736: 'burps', 3737: 'dances', 3738: 'exaggerates', 3739: 'ipad', 3740: 'client', 3741: 'jockey', 3742: 'player', 3743: 'welder', 3744: 'adapting', 3745: 'anorexic', 3746: 'athletic', 3747: 'cautious', 3748: 'childish', 3749: 'depraved', 3750: 'drenched', 3751: 'eloquent', 3752: 'immobile', 3753: 'insolent', 3754: 'likeable', 3755: 'reckless', 3756: 'sneezing', 3757: 'studious', 3758: 'tireless', 3759: 'tolerant', 3760: 'learns', 3761: 'dazed', 3762: 'falls', 3763: 'moose', 3764: 'photos', 3765: 'evasive', 3766: 'moaning', 3767: 'paralyzed', 3768: 'earned', 3769: 'yawn', 3770: 'walls', 3771: 'declared', 3772: 'raw', 3773: 'ponchos', 3774: 'waffles', 3775: 'experts', 3776: 'shared', 3777: 'farmers', 3778: 'camp', 3779: 'attorneys', 3780: 'comedians', 3781: 'gardeners', 3782: 'gentlemen', 3783: 'incorrect', 3784: 'neighbors', 3785: 'past', 3786: 'relatives', 3787: 'soulmates', 3788: 'blessing', 3789: 'prospect', 3790: 'weakling', 3791: 'stake', 3792: 'gpa', 3793: 'jello', 3794: 'unsure', 3795: 'mustn', 3796: 'rut', 3797: 'atlantis', 3798: 'snakes', 3799: 'beaks', 3800: 'climb', 3801: 'consult', 3802: 'pasta', 3803: 'rashly', 3804: 'disturb', 3805: 'exaggerate', 3806: 'groans', 3807: 'gossips', 3808: 'floating', 3809: 'purpose', 3810: 'useful', 3811: 'hobo', 3812: 'noon', 3813: 'speech', 3814: 'joker', 3815: 'acrobat', 3816: 'shares', 3817: 'soundly', 3818: 'tenacious', 3819: 'winked', 3820: 'lover', 3821: 'historian', 3822: 'nonsmoker', 3823: 'sophomore', 3824: 'hone', 3825: 'skills', 3826: 'melodramatic', 3827: 'norway', 3828: 'witch', 3829: 'weekly', 3830: 'appreciated', 3831: 'bumped', 3832: 'reach', 3833: 'deliver', 3834: 'pizzas', 3835: 'disregarded', 3836: 'drugs', 3837: 'dilemma', 3838: 'refreshed', 3839: 'drift', 3840: 'goosebumps', 3841: 'texts', 3842: 'reasons', 3843: 'fireworks', 3844: 'diploma', 3845: 'grenade', 3846: 'request', 3847: 'heartburn', 3848: 'insurance', 3849: 'pneumonia', 3850: 'wavy', 3851: 'journal', 3852: 'astrology', 3853: 'elephants', 3854: 'novel', 3855: 'mushrooms', 3856: 'uncles', 3857: 'mysteries', 3858: 'pop', 3859: 'papers', 3860: 'australia', 3861: 'astronomy', 3862: 'libraries', 3863: 'fortune', 3864: 'spaghetti', 3865: 'envelopes', 3866: 'soap', 3867: 'subtitles', 3868: 'planted', 3869: 'regret', 3870: 'require', 3871: 'rubbed', 3872: 'umbrellas', 3873: 'lease', 3874: 'strongly', 3875: 'divorce', 3876: 'martini', 3877: 'pal', 3878: 'raccoon', 3879: 'scooter', 3880: 'dumbstruck', 3881: 'raffle', 3882: 'bookkeeper', 3883: 'riser', 3884: 'programmer', 3885: 'shutterbug', 3886: 'ambidextrous', 3887: 'enthusiastic', 3888: 'freaking', 3889: 'fbi', 3890: 'housesitting', 3891: 'attic', 3892: 'inviting', 3893: 'beggar', 3894: 'paranoid', 3895: 'row', 3896: 'youngest', 3897: 'drawn', 3898: 'conscious', 3899: 'accessible', 3900: 'euros', 3901: 'perks', 3902: 'excessive', 3903: 'april', 3904: 'snowstorm', 3905: 'sunflower', 3906: 'balmy', 3907: 'conceivable', 3908: 'cooler', 3909: 'fetched', 3910: 'regrettable', 3911: 'transparent', 3912: 'unnecessary', 3913: 'asia', 3914: 'camping', 3915: 'darts', 3916: 'fleas', 3917: 'inbox', 3918: 'sunburn', 3919: 'beats', 3920: 'stung', 3921: 'oil', 3922: 'pets', 3923: 'pump', 3924: 'ending', 3925: 'rome', 3926: 'idolized', 3927: 'scene', 3928: 'repulses', 3929: 'bench', 3930: 'pitied', 3931: 'apologizing', 3932: 'taunting', 3933: 'touching', 3934: 'precautions', 3935: 'kindly', 3936: 'explains', 3937: 'avoidable', 3938: 'blackmail', 3939: 'idle', 3940: 'affair', 3941: 'issue', 3942: 'troubling', 3943: 'ticked', 3944: 'creaked', 3945: 'bucked', 3946: 'jury', 3947: 'mass', 3948: 'noes', 3949: 'limits', 3950: 'singers', 3951: 'plenty', 3952: 'amateurs', 3953: 'traitors', 3954: 'insanity', 3955: 'official', 3956: 'puzzling', 3957: 'relaxing', 3958: 'sabotage', 3959: 'shameful', 3960: 'shocking', 3961: 'norm', 3962: 'precious', 3963: 'admires', 3964: 'avoided', 3965: 'raft', 3966: 'coughs', 3967: 'fried', 3968: 'charisma', 3969: 'onions', 3970: 'drummer', 3971: 'gourmet', 3972: 'gymnast', 3973: 'hipster', 3974: 'pianist', 3975: 'realtor', 3976: 'trucker', 3977: 'intern', 3978: 'competent', 3979: 'deceitful', 3980: 'emotional', 3981: 'improving', 3982: 'inventive', 3983: 'legendary', 3984: 'oblivious', 3985: 'campus', 3986: 'overjoyed', 3987: 'perplexed', 3988: 'regretful', 3989: 'reluctant', 3990: 'shameless', 3991: 'suspended', 3992: 'owner', 3993: 'ponies', 3994: 'steals', 3995: 'suggested', 3996: 'swears', 3997: 'abducted', 3998: 'babbling', 3999: 'cremated', 4000: 'ecstatic', 4001: 'executed', 4002: 'selected', 4003: 'unshaven', 4004: 'berserk', 4005: 'bonkers', 4006: 'headstrong', 4007: 'undefeated', 4008: 'robbery', 4009: 'swordfish', 4010: 'crisis', 4011: 'theory', 4012: 'injuries', 4013: 'evacuate', 4014: 'withdraw', 4015: 'supplies', 4016: 'downsizing', 4017: 'historians', 4018: 'lifeguards', 4019: 'mates', 4020: 'fails', 4021: 'razor', 4022: 'uses', 4023: 'hamlet', 4024: 'wool', 4025: 'dyes', 4026: 'quote', 4027: 'distant', 4028: 'failure', 4029: 'lunatic', 4030: 'practical', 4031: 'leaf', 4032: 'under', 4033: 'arrest', 4034: 'nests', 4035: 'champagne', 4036: 'chuck', 4037: 'click', 4038: 'compare', 4039: 'imminent', 4040: 'ants', 4041: 'lager', 4042: 'latin', 4043: 'wanna', 4044: 'ignorant', 4045: 'crass', 4046: 'petty', 4047: 'pushy', 4048: 'fry', 4049: 'rung', 4050: 'blackmailed', 4051: 'carried', 4052: 'chewed', 4053: 'gum', 4054: 'deals', 4055: 'grain', 4056: 'roughly', 4057: 'vase', 4058: 'earns', 4059: 'fills', 4060: 'hanged', 4061: 'ego', 4062: 'daredevil', 4063: 'osaka', 4064: 'miles', 4065: 'wakes', 4066: 'raging', 4067: 'scripts', 4068: 'buff', 4069: 'timer', 4070: 'undergrad', 4071: 'georgia', 4072: 'trusting', 4073: 'heed', 4074: 'warnings', 4075: 'darkened', 4076: 'hamburger', 4077: 'sandwich', 4078: 'baited', 4079: 'hook', 4080: 'bid', 4081: 'cactus', 4082: 'webcam', 4083: 'shelter', 4084: 'upfront', 4085: 'chopin', 4086: 'register', 4087: 'vulnerable', 4088: 'grades', 4089: 'bee', 4090: 'sting', 4091: 'ground', 4092: 'breakdown', 4093: 'hypocrites', 4094: 'interviews', 4095: 'desert', 4096: 'backache', 4097: 'migraine', 4098: 'sailboat', 4099: 'earache', 4100: 'discs', 4101: 'savings', 4102: 'sleeve', 4103: 'jackpot', 4104: 'intend', 4105: 'navy', 4106: 'bitten', 4107: 'practicing', 4108: 'confidence', 4109: 'adventures', 4110: 'challenges', 4111: 'folk', 4112: 'sauerkraut', 4113: 'spicy', 4114: 'odds', 4115: 'watermelon', 4116: 'hotel', 4117: 'dam', 4118: 'earring', 4119: 'balance', 4120: 'hamburgers', 4121: 'performing', 4122: 'album', 4123: 'minutes', 4124: 'keyboard', 4125: 'protection', 4126: 'toothpaste', 4127: 'oversleep', 4128: 'abroad', 4129: 'hood', 4130: 'paused', 4131: 'tambourine', 4132: 'volleyball', 4133: 'pruned', 4134: 'jaw', 4135: 'pushed', 4136: 'recommended', 4137: 'airplane', 4138: 'sunrise', 4139: 'known', 4140: 'swallowed', 4141: 'bug', 4142: 'swept', 4143: 'geography', 4144: 'otherwise', 4145: 'highway', 4146: 'plates', 4147: 'confess', 4148: 'workout', 4149: 'sympathy', 4150: 'mugged', 4151: 'misinformed', 4152: 'outnumbered', 4153: 'trespassing', 4154: 'flirting', 4155: 'harvard', 4156: 'shotgun', 4157: 'sagittarius', 4158: 'trainer', 4159: 'worker', 4160: 'salesperson', 4161: 'accountant', 4162: 'astronomer', 4163: 'boiling', 4164: 'bringing', 4165: 'extremely', 4166: 'irreplaceable', 4167: 'materialistic', 4168: 'strongest', 4169: 'uncomfortable', 4170: 'evicted', 4171: 'diarrhea', 4172: 'pride', 4173: 'rumors', 4174: 'smoked', 4175: 'notarized', 4176: 'warranted', 4177: 'curfew', 4178: 'remedy', 4179: 'reward', 4180: 'stunning', 4181: 'pieces', 4182: 'ways', 4183: 'cooled', 4184: 'optional', 4185: 'massacre', 4186: 'convenient', 4187: 'disastrous', 4188: 'wobbly', 4189: 'club', 4190: 'dictionary', 4191: 'confidential', 4192: 'questionable', 4193: 'imprecise', 4194: 'starting', 4195: 'unauthorized', 4196: 'onerous', 4197: 'chin', 4198: 'wrestle', 4199: 'hut', 4200: 'straws', 4201: 'peek', 4202: 'ephemeral', 4203: 'conquers', 4204: 'transient', 4205: 'vivacious', 4206: 'opposites', 4207: 'attract', 4208: 'production', 4209: 'thorns', 4210: 'appeals', 4211: 'figure', 4212: 'turner', 4213: 'golden', 4214: 'lullaby', 4215: 'sloths', 4216: 'scale', 4217: 'mimicking', 4218: 'termites', 4219: 'essential', 4220: 'fir', 4221: 'exactly', 4222: 'defense', 4223: 'undeniable', 4224: 'handy', 4225: 'cable', 4226: 'snapped', 4227: 'crowd', 4228: 'donkey', 4229: 'brayed', 4230: 'squeaked', 4231: 'ajar', 4232: 'rotates', 4233: 'jammed', 4234: 'lemon', 4235: 'motor', 4236: 'meager', 4237: 'tactic', 4238: 'verdict', 4239: 'gods', 4240: 'cannibals', 4241: 'murderers', 4242: 'bucket', 4243: 'coconut', 4244: 'extortion', 4245: 'gibberish', 4246: 'insulting', 4247: 'irregular', 4248: 'justified', 4249: 'pointless', 4250: 'priceless', 4251: 'skim', 4252: 'tasteless', 4253: 'temporary', 4254: 'worrisome', 4255: 'silver', 4256: 'thursday', 4257: 'arrives', 4258: 'behaved', 4259: 'despised', 4260: 'appear', 4261: 'flinch', 4262: 'expects', 4263: 'iq', 4264: 'iphone', 4265: 'arthritis', 4266: 'skin', 4267: 'frostbite', 4268: 'seniority', 4269: 'hasn', 4270: 'juan', 4271: 'bookworm', 4272: 'jeweller', 4273: 'pushover', 4274: 'teenager', 4275: 'werewolf', 4276: 'believable', 4277: 'determined', 4278: 'custody', 4279: 'therapy', 4280: 'indecisive', 4281: 'insightful', 4282: 'intolerant', 4283: 'passionate', 4284: 'perspiring', 4285: 'possessive', 4286: 'stuttering', 4287: 'unfaithful', 4288: 'minor', 4289: 'trained', 4290: 'mumbles', 4291: 'outlived', 4292: 'poisoned', 4293: 'served', 4294: 'humbly', 4295: 'sneezes', 4296: 'bait', 4297: 'vomited', 4298: 'updates', 4299: 'fanatic', 4300: 'fireman', 4301: 'negligent', 4302: 'imaginative', 4303: 'acrylic', 4304: 'longer', 4305: 'liquid', 4306: 'vaccine', 4307: 'warrant', 4308: 'suppliers', 4309: 'witnesses', 4310: 'parks', 4311: 'canoe', 4312: 'battle', 4313: 'mothers', 4314: 'journalists', 4315: 'pulling', 4316: 'collection', 4317: 'tacky', 4318: 'delay', 4319: 'achieved', 4320: 'asking', 4321: 'target', 4322: 'arrive', 4323: 'melon', 4324: 'confucius', 4325: 'drama', 4326: 'c', 4327: 'woods', 4328: 'wriggle', 4329: 'actresses', 4330: 'error', 4331: 'bugging', 4332: 'particular', 4333: 'scaring', 4334: 'telling', 4335: 'unfriendly', 4336: 'scratched', 4337: 'comma', 4338: 'revolt', 4339: 'storm', 4340: 'brewing', 4341: 'admission', 4342: 'demanding', 4343: 'buddhist', 4344: 'believer', 4345: 'attendance', 4346: 'contains', 4347: 'hops', 4348: 'chirping', 4349: 'pillow', 4350: 'rackets', 4351: 'menu', 4352: 'caption', 4353: 'divide', 4354: 'conquer', 4355: 'mozart', 4356: 'copycat', 4357: 'patronize', 4358: 'relaxes', 4359: 'dust', 4360: 'shelf', 4361: 'endorse', 4362: 'dollar', 4363: 'tore', 4364: 'portion', 4365: 'breakable', 4366: 'broom', 4367: 'remote', 4368: 'wrench', 4369: 'thanksgiving', 4370: 'od', 4371: 'foolishly', 4372: 'mile', 4373: 'cycling', 4374: 'footsteps', 4375: 'daydreamer', 4376: 'fishmonger', 4377: 'heartless', 4378: 'lacks', 4379: 'judgement', 4380: 'retaliate', 4381: 'rolled', 4382: 'thrust', 4383: 'weighs', 4384: 'kilos', 4385: 'lottery', 4386: 'walker', 4387: 'critic', 4388: 'ghostwriter', 4389: 'keeper', 4390: 'meth', 4391: 'englishman', 4392: 'overconfident', 4393: 'fifty', 4394: 'scapegoat', 4395: 'torn', 4396: 'sooty', 4397: 'baggage', 4398: 'eludes', 4399: 'pace', 4400: 'quickened', 4401: 'untidy', 4402: 'refill', 4403: 'economy', 4404: 'museum', 4405: 'cope', 4406: 'absolutely', 4407: 'advise', 4408: 'customers', 4409: 'fond', 4410: 'prophet', 4411: 'fries', 4412: 'potato', 4413: 'chips', 4414: 'peanuts', 4415: 'clutch', 4416: 'exclude', 4417: 'imagine', 4418: 'clicked', 4419: 'detest', 4420: 'vodka', 4421: 'miserably', 4422: 'tests', 4423: 'fractured', 4424: 'bureaucracy', 4425: 'goat', 4426: 'most', 4427: 'complaint', 4428: 'nosebleed', 4429: 'telescope', 4430: 'blonde', 4431: 'frizzy', 4432: 'appetite', 4433: 'siblings', 4434: 'invoice', 4435: 'rehearse', 4436: 'cameras', 4437: 'nephews', 4438: 'tickets', 4439: 'hid', 4440: 'pans', 4441: 'jog', 4442: 'redecorated', 4443: 'imagination', 4444: 'irish', 4445: 'places', 4446: 'disco', 4447: 'photography', 4448: 'raspberries', 4449: 'translating', 4450: 'windsurfing', 4451: 'poverty', 4452: 'bearded', 4453: 'butterflies', 4454: 'fairy', 4455: 'tales', 4456: 'melody', 4457: 'promises', 4458: 'photocopies', 4459: 'mopped', 4460: 'pad', 4461: 'secretary', 4462: 'envelope', 4463: 'lotion', 4464: 'inspiration', 4465: 'nutmeg', 4466: 'doubted', 4467: 'trumpet', 4468: 'couch', 4469: 'explosion', 4470: 'slammed', 4471: 'nine', 4472: 'hours', 4473: 'cigarettes', 4474: 'psychology', 4475: 'ankle', 4476: 'unloaded', 4477: 'unplugged', 4478: 'fooling', 4479: 'paraphrasing', 4480: 'stiff', 4481: 'television', 4482: 'nagasaki', 4483: 'election', 4484: 'introduce', 4485: 'fianc', 4486: 'e', 4487: 'rusty', 4488: 'photographer', 4489: 'bats', 4490: 'harassed', 4491: 'claustrophobic', 4492: 'singapore', 4493: 'gaining', 4494: 'poorer', 4495: 'mood', 4496: 'health', 4497: 'bathtub', 4498: 'deadbeat', 4499: 'gangster', 4500: 'magician', 4501: 'pacifist', 4502: 'delusional', 4503: 'denying', 4504: 'invincible', 4505: 'slave', 4506: 'balcony', 4507: 'selling', 4508: 'somewhat', 4509: 'terribly', 4510: 'unenthusiastic', 4511: 'laid', 4512: 'gained', 4513: 'bliss', 4514: 'christian', 4515: 'satisfactory', 4516: 'chained', 4517: 'milkman', 4518: 'recyclable', 4519: 'breaks', 4520: 'improved', 4521: 'deadly', 4522: 'parallel', 4523: 'frustrating', 4524: 'preventable', 4525: 'relevant', 4526: 'extreme', 4527: 'coincidence', 4528: 'distraction', 4529: 'possibility', 4530: 'proven', 4531: 'effort', 4532: 'typo', 4533: 'seven', 4534: 'experiment', 4535: 'investment', 4536: 'booby', 4537: 'bound', 4538: 'disappointing', 4539: 'disconcerting', 4540: 'heartbreaking', 4541: 'plague', 4542: 'brass', 4543: 'merely', 4544: 'disease', 4545: 'pertinent', 4546: 'unforgettable', 4547: 'greece', 4548: 'anywhere', 4549: 'profile', 4550: 'lesson', 4551: 'trade', 4552: 'squabble', 4553: 'luckily', 4554: 'monopolies', 4555: 'universal', 4556: 'final', 4557: 'budget', 4558: 'meows', 4559: 'fuel', 4560: 'hunch', 4561: 'mailbox', 4562: 'zipper', 4563: 'immortal', 4564: 'forever', 4565: 'restored', 4566: 'owls', 4567: 'breed', 4568: 'strength', 4569: 'postcard', 4570: 'aid', 4571: 'pigeon', 4572: 'toed', 4573: 'ghostly', 4574: 'lonesome', 4575: 'antiques', 4576: 'happily', 4577: 'teaser', 4578: 'supermodel', 4579: 'losers', 4580: 'phoning', 4581: 'destroyed', 4582: 'intent', 4583: 'promising', 4584: 'sloppy', 4585: 'biggest', 4586: 'maximum', 4587: 'packed', 4588: 'stale', 4589: 'case', 4590: 'coast', 4591: 'concert', 4592: 'crow', 4593: 'doorknob', 4594: 'flame', 4595: 'wilted', 4596: 'fog', 4597: 'caved', 4598: 'waxing', 4599: 'drying', 4600: 'backfired', 4601: 'pond', 4602: 'server', 4603: 'shops', 4604: 'brightened', 4605: 'cleared', 4606: 'stars', 4607: 'telephone', 4608: 'squealed', 4609: 'waves', 4610: 'urgency', 4611: 'christians', 4612: 'carnations', 4613: 'fits', 4614: 'shaggy', 4615: 'painting', 4616: 'triangle', 4617: 'apricot', 4618: 'octagon', 4619: 'astounding', 4620: 'project', 4621: 'outlandish', 4622: 'outrageous', 4623: 'plagiarism', 4624: 'surprising', 4625: 'unbearable', 4626: 'unheard', 4627: 'rag', 4628: 'tighten', 4629: 'sniff', 4630: 'contacted', 4631: 'instantly', 4632: 'lemonade', 4633: 'enjoys', 4634: 'unwanted', 4635: 'headaches', 4636: 'mustache', 4637: 'ponytail', 4638: 'narcolepsy', 4639: 'john', 4640: 'candidate', 4641: 'librarian', 4642: 'machinist', 4643: 'activist', 4644: 'imposter', 4645: 'fart', 4646: 'bars', 4647: 'competitive', 4648: 'independent', 4649: 'inefficient', 4650: 'insensitive', 4651: 'intoxicated', 4652: 'stark', 4653: 'supervising', 4654: 'parent', 4655: 'names', 4656: 'partying', 4657: 'potatoes', 4658: 'pays', 4659: 'drum', 4660: 'refuses', 4661: 'remains', 4662: 'pacing', 4663: 'traveled', 4664: 'crusader', 4665: 'distraught', 4666: 'distressed', 4667: 'hysterical', 4668: 'irrational', 4669: 'subpoenaed', 4670: 'unbeatable', 4671: 'payday', 4672: 'affects'}\n"
          ]
        }
      ],
      "source": [
        "print(len(index_to_src), index_to_src)"
      ]
    },
    {
      "cell_type": "code",
      "execution_count": null,
      "metadata": {
        "colab": {
          "base_uri": "https://localhost:8080/"
        },
        "id": "Pv2Rku5v74sG",
        "outputId": "5dff5805-32ea-47d9-d1d8-f9538ab74adb"
      },
      "outputs": [
        {
          "output_type": "stream",
          "name": "stdout",
          "text": [
            "8512 {'.': 1, '<sos>': 2, '<eos>': 3, 'je': 4, 'est': 5, '?': 6, 'tom': 7, '!': 8, 'vous': 9, 'j': 10, 'pas': 11, 'il': 12, 'ai': 13, 'le': 14, 'de': 15, 'nous': 16, 'a': 17, 'c': 18, 'ne': 19, 'suis': 20, 'tu': 21, 'l': 22, 'un': 23, 'la': 24, 'en': 25, 'à': 26, 'ce': 27, 'n': 28, 'me': 29, 'êtes': 30, 'une': 31, 'ça': 32, 'que': 33, 'les': 34, 'moi': 35, 'es': 36, 'd': 37, 'elle': 38, 's': 39, 'sont': 40, 'ils': 41, 'y': 42, 'était': 43, 'sommes': 44, 't': 45, 'm': 46, 'fait': 47, 'tout': 48, 'elles': 49, 'qui': 50, 'des': 51, 'mon': 52, 'aime': 53, 'toi': 54, 'te': 55, 'bien': 56, 'as': 57, 'ici': 58, 'très': 59, 'été': 60, 'se': 61, 'du': 62, 'besoin': 63, 'air': 64, 'faire': 65, 'avez': 66, 'peux': 67, 'avons': 68, 'ont': 69, 'cela': 70, 'personne': 71, 'va': 72, 'veux': 73, 'votre': 74, 'qu': 75, 'on': 76, 'étais': 77, 'fais': 78, 'là': 79, 'ton': 80, 'faut': 81, 'comment': 82, 'tous': 83, 'aller': 84, 'ma': 85, 'trop': 86, 'monde': 87, 'adore': 88, 'au': 89, 'maintenant': 90, 'pour': 91, 'train': 92, 'être': 93, 'bon': 94, 'soyez': 95, 'où': 96, 'si': 97, 'mal': 98, 'cette': 99, 'dans': 100, 'lui': 101, 'ceci': 102, 'peut': 103, 'maison': 104, 'partir': 105, 'sois': 106, 'toutes': 107, 'voiture': 108, 'sens': 109, 'déteste': 110, 'plaît': 111, 'dois': 112, 'puis': 113, 'vu': 114, 'plus': 115, 'avec': 116, 'faites': 117, 'comme': 118, 'vais': 119, 'jamais': 120, 'pourquoi': 121, 'dit': 122, 'laisse': 123, 'chien': 124, 'ta': 125, 'sur': 126, 'arrête': 127, 'fort': 128, 'sais': 129, 'vraiment': 130, 'quelle': 131, 'encore': 132, 'aider': 133, 'quel': 134, 'voir': 135, 'juste': 136, 'beaucoup': 137, 'temps': 138, 'rien': 139, 'laissez': 140, 'deux': 141, 'viens': 142, 'seul': 143, 'aide': 144, 'reste': 145, 'son': 146, 'travail': 147, 'prends': 148, 'avait': 149, 'porte': 150, 'bonne': 151, 'mes': 152, 'allez': 153, 'nouveau': 154, 'perdu': 155, 'prie': 156, 'restez': 157, 'quelqu': 158, 'marie': 159, 'livre': 160, 'tellement': 161, 'chez': 162, 'heureux': 163, 'français': 164, 'arrêtez': 165, 'pouvez': 166, 'argent': 167, 'dis': 168, 'prenez': 169, 'semble': 170, 'peu': 171, 'eu': 172, 'quoi': 173, 'regarde': 174, 'confiance': 175, 'assez': 176, 'pris': 177, 'idée': 178, 'chose': 179, 'aujourd': 180, 'hui': 181, 'donne': 182, 'non': 183, 'pouvons': 184, 'agit': 185, 'allons': 186, 'grand': 187, 'eau': 188, 'coup': 189, 'mort': 190, 'vie': 191, 'connais': 192, 'notre': 193, 'manger': 194, 'accord': 195, 'occupé': 196, 'parle': 197, 'quelque': 198, 'fini': 199, 'terminé': 200, 'vrai': 201, 'faim': 202, 'calme': 203, 'même': 204, 'heure': 205, 'yeux': 206, 'prêt': 207, 'pense': 208, 'voici': 209, 'mieux': 210, 'tes': 211, 'malade': 212, 'parler': 213, 'arrive': 214, 'vite': 215, 'lit': 216, 'ci': 217, 'veuillez': 218, 'fut': 219, 'sait': 220, 'homme': 221, 'simplement': 222, 'sans': 223, 'gros': 224, 'tête': 225, 'sécurité': 226, 'avoir': 227, 'attention': 228, 'raison': 229, 'mauvais': 230, 'avais': 231, 'essaie': 232, 'entendu': 233, 'toujours': 234, 'froid': 235, 'boulot': 236, 'fatigué': 237, 'par': 238, 'chercher': 239, 'aussi': 240, 'main': 241, 'regardez': 242, 'senti': 243, 'école': 244, 'tard': 245, 'colère': 246, 'trouvé': 247, 'dire': 248, 'apprécie': 249, 'vos': 250, 'tranquille': 251, 'triste': 252, 'mary': 253, 'devrais': 254, 'pourrait': 255, 'chat': 256, 'peur': 257, 'déjà': 258, 'tomber': 259, 'dites': 260, 'essayer': 261, 'retard': 262, 'chance': 263, 'venir': 264, 'sa': 265, 'chambre': 266, 'et': 267, 'problème': 268, 'travaille': 269, 'dehors': 270, 'presque': 271, 'parti': 272, 'passe': 273, 'nager': 274, 'étions': 275, 'gagné': 276, 'merci': 277, 'vas': 278, 'donnez': 279, 'trouve': 280, 'vois': 281, 'seule': 282, 'fou': 283, 'chanter': 284, 'aux': 285, 'prendre': 286, 'facile': 287, 'venez': 288, 'vue': 289, 'mourir': 290, 'vin': 291, 'blessé': 292, 'bière': 293, 'vient': 294, 'aimes': 295, 'vieux': 296, 'pleurer': 297, 'allé': 298, 'enfants': 299, 'entrer': 300, 'travailler': 301, 'idiot': 302, 'heureuse': 303, 'dispose': 304, 'veut': 305, 'arme': 306, 'femme': 307, 'aucun': 308, 'grande': 309, 'courir': 310, 'vis': 311, 'assis': 312, 'fils': 313, 'mangé': 314, 'doit': 315, 'verre': 316, 'mange': 317, 'sûr': 318, 'dormir': 319, 'sérieux': 320, 'lire': 321, 'petit': 322, 'journée': 323, 'enfant': 324, 'gentil': 325, 'dessus': 326, 'venu': 327, 'rester': 328, 'bus': 329, 'cheveux': 330, 'mère': 331, 'chaud': 332, 'amour': 333, 'bas': 334, 'étaient': 335, 'marche': 336, 'debout': 337, 'bras': 338, 'garde': 339, 'bizarre': 340, 'mis': 341, 'espère': 342, 'café': 343, 'aucune': 344, 'continue': 345, 'prête': 346, 'tôt': 347, 'cassé': 348, 'chapeau': 349, 'arrêter': 350, 'côté': 351, 'occupée': 352, 'dur': 353, 'tort': 354, 'marcher': 355, 'garçon': 356, 'appelé': 357, 'place': 358, 'bois': 359, 'amis': 360, 'attends': 361, 'continuez': 362, 'demande': 363, 'irai': 364, 'montre': 365, 'attendre': 366, 'drôle': 367, 'serai': 368, 'ur': 369, 'donné': 370, 'choix': 371, 'arrêté': 372, 'appelle': 373, 'joue': 374, 'passé': 375, 'ville': 376, 'sortir': 377, 'pourrais': 378, 'peuvent': 379, 'plan': 380, 'essayez': 381, 'riche': 382, 'voilà': 383, 'sac': 384, 'difficile': 385, 'plein': 386, 'quiconque': 387, 'devenu': 388, 'fois': 389, 'filles': 390, 'demain': 391, 'libre': 392, 'chiens': 393, 'soit': 394, 'prudent': 395, 'gagner': 396, 'déjeuner': 397, 'ami': 398, 'quand': 399, 'plutôt': 400, 'partie': 401, 'sors': 402, 'ferme': 403, 'après': 404, 'intérieur': 405, 'payer': 406, 'arrivé': 407, 'crois': 408, 'musique': 409, 'boston': 410, 'nom': 411, 'voulez': 412, 'continué': 413, 'attendez': 414, 'avance': 415, 'davantage': 416, 'voulons': 417, 'faisons': 418, 'père': 419, 'importe': 420, 'prudente': 421, 'super': 422, 'mets': 423, 'heures': 424, 'compte': 425, 'pièce': 426, 'laissé': 427, 'sympa': 428, 'cheval': 429, 'sera': 430, 'essayé': 431, 'autre': 432, 'aimé': 433, 'fille': 434, 'amusant': 435, 'devons': 436, 'également': 437, 'chanson': 438, 'chemin': 439, 'point': 440, 'espoir': 441, 'manque': 442, 'ses': 443, 'trouver': 444, 'veulent': 445, 'pars': 446, 'tiens': 447, 'timide': 448, 'pied': 449, 'parfait': 450, 'content': 451, 'marrant': 452, 'marché': 453, 'blague': 454, 'écrit': 455, 'nuit': 456, 'âge': 457, 'acheté': 458, 'savoir': 459, 'rire': 460, 'feu': 461, 'leur': 462, 'parlé': 463, 'oublié': 464, 'désolé': 465, 'arriver': 466, 'mauvaise': 467, 'jeune': 468, 'lentement': 469, 'médecin': 470, 'ceux': 471, 'dormi': 472, 'celui': 473, 'cet': 474, 'désormais': 475, 'sortez': 476, 'tiré': 477, 'plait': 478, 'mien': 479, 'thé': 480, 'lait': 481, 'carte': 482, 'faute': 483, 'étiez': 484, 'histoire': 485, 'vélo': 486, 'route': 487, 'menti': 488, 'court': 489, 'ouvre': 490, 'bientôt': 491, 'rouge': 492, 'premier': 493, 'près': 494, 'souvent': 495, 'écoute': 496, 'asseoir': 497, 'vide': 498, 'clé': 499, 'aimez': 500, 'tenez': 501, 'haut': 502, 'nourriture': 503, 'lis': 504, 'plaisir': 505, 'faux': 506, 'seconde': 507, 'poisson': 508, 'chats': 509, 'changé': 510, 'tour': 511, 'moment': 512, 'payé': 513, 'entre': 514, 'signe': 515, 'beau': 516, 'parole': 517, 'resté': 518, 'ferai': 519, 'rendu': 520, 'stylo': 521, 'tué': 522, 'rapidement': 523, 'toute': 524, 'famille': 525, 'voyage': 526, 'bureau': 527, 'rendre': 528, 'réveillé': 529, 'ainsi': 530, 'derrière': 531, 'seuls': 532, 'vieille': 533, 'oui': 534, 'danger': 535, 'occupés': 536, 'prêtes': 537, 'savez': 538, 'demandé': 539, 'nez': 540, 'faisait': 541, 'stupide': 542, 'manqué': 543, 'regarder': 544, 'incroyable': 545, 'ensemble': 546, 'photo': 547, 'réponse': 548, 'suffit': 549, 'gardez': 550, 'lâche': 551, 'horrible': 552, 'folle': 553, 'seules': 554, 'normal': 555, 'prêts': 556, 'danser': 557, 'honte': 558, 'nerveux': 559, 'entendre': 560, 'invité': 561, 'combien': 562, 'rêve': 563, 'jouer': 564, 'vit': 565, 'prix': 566, 'mains': 567, 'terre': 568, 'essaye': 569, 'honnête': 570, 'gentille': 571, 'fous': 572, 'mettez': 573, 'rapide': 574, 'paresseux': 575, 'parlez': 576, 'reviens': 577, 'oubliez': 578, 'emploi': 579, 'mienne': 580, 'ouvert': 581, 'rends': 582, 'envie': 583, 'sentis': 584, 'souviens': 585, 'commencé': 586, 'boîte': 587, 'fatiguée': 588, 'connaît': 589, 'réparer': 590, 'celles': 591, 'erreur': 592, 'boire': 593, 'dîner': 594, 'aimerais': 595, 'note': 596, 'jusqu': 597, 'celle': 598, 'téléphone': 599, 'ans': 600, 'aidez': 601, 'ouvrez': 602, 'belle': 603, 'faible': 604, 'génial': 605, 'oublie': 606, 'ri': 607, 'savais': 608, 'retraite': 609, 'vus': 610, 'sentie': 611, 'sommeil': 612, 'mit': 613, 'aimons': 614, 'horreur': 615, 'neige': 616, 'fit': 617, 'devrions': 618, 'sentait': 619, 'battre': 620, 'devez': 621, 'fermez': 622, 'dieu': 623, 'part': 624, 'voulais': 625, 'ces': 626, 'cours': 627, 'vers': 628, 'regardé': 629, 'télé': 630, 'chante': 631, 'entends': 632, 'type': 633, 'pouvais': 634, 'livres': 635, 'patron': 636, 'vérité': 637, 'cesse': 638, 'morts': 639, 'manteau': 640, 'appeler': 641, 'bonjour': 642, 'comprends': 643, 'entrez': 644, 'avant': 645, 'extérieur': 646, 'forme': 647, 'mignon': 648, 'morte': 649, 'touche': 650, 'nouvelle': 651, 'propre': 652, 'saoul': 653, 'mentir': 654, 'petite': 655, 'rentrer': 656, 'cuisine': 657, 'réussi': 658, 'satisfait': 659, 'apporte': 660, 'intelligent': 661, 'préparé': 662, 'fus': 663, 'important': 664, 'droite': 665, 'occupées': 666, 'contrarié': 667, 'soif': 668, 'thomas': 669, 'courant': 670, 'fis': 671, 'chaussures': 672, 'flics': 673, 'ou': 674, 'dû': 675, 'bateau': 676, 'surpris': 677, 'minute': 678, 'prenons': 679, 'portes': 680, 'continuait': 681, 'jour': 682, 'bouge': 683, 'commence': 684, 'lève': 685, 'appelez': 686, 'grosse': 687, 'assieds': 688, 'asseyez': 689, 'amusé': 690, 'sombre': 691, 'simple': 692, 'rendez': 693, 'cuisiner': 694, 'héros': 695, 'perdre': 696, 'étudie': 697, 'guerre': 698, 'attrapé': 699, 'conduire': 700, 'service': 701, 'viande': 702, 'bonnes': 703, 'meilleur': 704, 'affaire': 705, 'noir': 706, 'sourire': 707, 'pieds': 708, 'vont': 709, 'gâteau': 710, 'contente': 711, 'addition': 712, 'bruit': 713, 'film': 714, 'salut': 715, 'santé': 716, 'camp': 717, 'équipe': 718, 'attrape': 719, 'sortie': 720, 'souri': 721, 'neuf': 722, 'vues': 723, 'serais': 724, 'trois': 725, 'soin': 726, 'hommes': 727, 'confectionné': 728, 'retour': 729, 'curieux': 730, 'contrariée': 731, 'fête': 732, 'ferais': 733, 'buvez': 734, 'taxi': 735, 'pizza': 736, 'loi': 737, 'aise': 738, 'disparu': 739, 'bu': 740, 'semaine': 741, 'lumière': 742, 'voix': 743, 'paix': 744, 'devrait': 745, 'semblez': 746, 'clés': 747, 'cool': 748, 'mangez': 749, 'compris': 750, 'tombé': 751, 'sincère': 752, 'pleuré': 753, 'montrez': 754, 'demandez': 755, 'aidé': 756, 'sûre': 757, 'sentez': 758, 'cessez': 759, 'abandonné': 760, 'aveugle': 761, 'sale': 762, 'chanceux': 763, 'loin': 764, 'hais': 765, 'rappelle': 766, 'silencieux': 767, 'emporter': 768, 'heureuses': 769, 'compter': 770, 'gagne': 771, 'naïf': 772, 'marié': 773, 'liste': 774, 'mille': 775, 'bain': 776, 'dingue': 777, 'immédiatement': 778, 'droit': 779, 'étage': 780, 'chatte': 781, 'amie': 782, 'écrire': 783, 'attentivement': 784, 'nos': 785, 'hurler': 786, 'choses': 787, 'chef': 788, 'mesure': 789, 'étudiant': 790, 'cloche': 791, 'tasse': 792, 'règles': 793, 'trahi': 794, 'frère': 795, 'souris': 796, 'monte': 797, 'dégage': 798, 'rentre': 799, 'conduis': 800, 'promis': 801, 'touché': 802, 'grave': 803, 'réveille': 804, 'lâchez': 805, 'échoué': 806, 'paie': 807, 'venue': 808, 'magnifique': 809, 'savait': 810, 'pleure': 811, 'suivez': 812, 'frappé': 813, 'énervé': 814, 'tourne': 815, 'fonctionné': 816, 'trente': 817, 'idiote': 818, 'sérieuse': 819, 'souci': 820, 'quitté': 821, 'changer': 822, 'parviens': 823, 'nouvelles': 824, 'confus': 825, 'amoureux': 826, 'secret': 827, 'commençons': 828, 'pommes': 829, 'refusé': 830, 'grossier': 831, 'actuellement': 832, 'coupable': 833, 'avions': 834, 'envoyé': 835, 'rhume': 836, 'pleut': 837, 'lequel': 838, 'embrasser': 839, 'endroit': 840, 'intention': 841, 'couteau': 842, 'dangereux': 843, 'attraper': 844, 'jours': 845, 'ouverte': 846, 'alors': 847, 'tombée': 848, 'hors': 849, 'question': 850, 'fantastique': 851, 'quitte': 852, 'pue': 853, 'malheureux': 854, 'courageux': 855, 'chouette': 856, 'sorti': 857, 'fonctionne': 858, 'formidable': 859, 'écris': 860, 'choisis': 861, 'ivre': 862, 'désolée': 863, 'dure': 864, 'sent': 865, 'voté': 866, 'attendu': 867, 'cassée': 868, 'doute': 869, 'forte': 870, 'partons': 871, 'taille': 872, 'méchant': 873, 'siège': 874, 'jetez': 875, 'liquide': 876, 'habite': 877, 'parie': 878, 'sauvé': 879, 'naïve': 880, 'perplexe': 881, 'risque': 882, 'laissée': 883, 'réveillée': 884, 'demander': 885, 'preuve': 886, 'volé': 887, 'cancer': 888, 'lisez': 889, 'continuer': 890, 'douleur': 891, 'fumer': 892, 'aiment': 893, 'mortes': 894, 'possède': 895, 'préfère': 896, 'professeur': 897, 'complètement': 898, 'peine': 899, 'table': 900, 'douche': 901, 'arbre': 902, 'folles': 903, 'jeu': 904, 'amies': 905, 'sembles': 906, 'pleine': 907, 'balle': 908, 'apporté': 909, 'soleil': 910, 'assit': 911, 'magasin': 912, 'commandé': 913, 'froide': 914, 'emporté': 915, 'montez': 916, 'écoutez': 917, 'manière': 918, 'fiche': 919, 'doucement': 920, 'fume': 921, 'partez': 922, 'utilise': 923, 'clair': 924, 'skier': 925, 'huit': 926, 'nôtre': 927, 'arrière': 928, 'bouger': 929, 'sang': 930, 'prudents': 931, 'partis': 932, 'dedans': 933, 'allés': 934, 'ira': 935, 'trompé': 936, 'levé': 937, 'patient': 938, 'apportez': 939, 'sentais': 940, 'sujet': 941, 'tien': 942, 'proximité': 943, 'conduit': 944, 'devint': 945, 'mec': 946, 'endormi': 947, 'allée': 948, 'viré': 949, 'fâché': 950, 'eux': 951, 'ufs': 952, 'plaisante': 953, 'malchanceux': 954, 'mercis': 955, 'instant': 956, 'exact': 957, 'libres': 958, 'âgé': 959, 'reposer': 960, 'bons': 961, 'hé': 962, 'étudier': 963, 'font': 964, 'souhaite': 965, 'rêver': 966, 'but': 967, 'acheter': 968, 'fallait': 969, 'gens': 970, 'dirai': 971, 'vol': 972, 'fenêtre': 973, 'suffisant': 974, 'répondu': 975, 'appareil': 976, 'changement': 977, 'connaissez': 978, 'bicyclette': 979, 'rencontré': 980, 'chaise': 981, 'seulement': 982, 'pomme': 983, 'travaillent': 984, 'cravate': 985, 'enseignant': 986, 'classe': 987, 'né': 988, 'goût': 989, 'ennemi': 990, 'vraie': 991, 'pu': 992, 'jambes': 993, 'possible': 994, 'verrouille': 995, 'pousse': 996, 'savons': 997, 'joué': 998, 'attrapez': 999, 'amuse': 1000, 'téléphoné': 1001, 'refuse': 1002, 'certain': 1003, 'donc': 1004, 'ment': 1005, 'oiseaux': 1006, 'mens': 1007, 'abandonne': 1008, 'amusée': 1009, 'remarqué': 1010, 'nu': 1011, 'approche': 1012, 'prudentes': 1013, 'miennes': 1014, 'rencontrés': 1015, 'dernier': 1016, 'terrible': 1017, 'vôtre': 1018, 'maman': 1019, 'sourit': 1020, 'loupé': 1021, 'grands': 1022, 'dingues': 1023, 'donner': 1024, 'nerveuse': 1025, 'lundi': 1026, 'piège': 1027, 'bête': 1028, 'rencontrer': 1029, 'fatigués': 1030, 'ambitieux': 1031, 'aimait': 1032, 'souffre': 1033, 'excuses': 1034, 'facilement': 1035, 'dépêcher': 1036, 'avocat': 1037, 'courses': 1038, 'meilleure': 1039, 'suite': 1040, 'essayons': 1041, 'pause': 1042, 'étrange': 1043, 'suivi': 1044, 'célèbre': 1045, 'mots': 1046, 'emmène': 1047, 'oiseau': 1048, 'fallu': 1049, 'volontaire': 1050, 'fil': 1051, 'prendrai': 1052, 'vivre': 1053, 'coffre': 1054, 'silence': 1055, 'arrivent': 1056, 'coupe': 1057, 'semblait': 1058, 'pêcher': 1059, 'retourne': 1060, 'suffisamment': 1061, 'jaloux': 1062, 'dort': 1063, 'noël': 1064, 'cher': 1065, 'soyons': 1066, 'télévision': 1067, 'bébé': 1068, 'montrer': 1069, 'commença': 1070, 'soulagé': 1071, 'rarement': 1072, 'aurais': 1073, 'banque': 1074, 'message': 1075, 'croit': 1076, 'disposons': 1077, 'hier': 1078, 'voyager': 1079, 'chemise': 1080, 'unique': 1081, 'commencez': 1082, 'détends': 1083, 'pardon': 1084, 'détendu': 1085, 'quittez': 1086, 'avis': 1087, 'gras': 1088, 'passez': 1089, 'poussez': 1090, 'descends': 1091, 'amusez': 1092, 'chauve': 1093, 'disponible': 1094, 'langue': 1095, 'mise': 1096, 'pleura': 1097, 'chaude': 1098, 'assise': 1099, 'miens': 1100, 'vérifie': 1101, 'devoir': 1102, 'pardonne': 1103, 'pauvre': 1104, 'malin': 1105, 'menteur': 1106, 'célibataire': 1107, 'ignore': 1108, 'garçons': 1109, 'riches': 1110, 'grandes': 1111, 'commencer': 1112, 'crie': 1113, 'vérifier': 1114, 'licencié': 1115, 'dix': 1116, 'furieux': 1117, 'amoureuse': 1118, 'appartient': 1119, 'pleuvoir': 1120, 'mettre': 1121, 'papier': 1122, 'dors': 1123, 'utile': 1124, 'rouges': 1125, 'rit': 1126, 'ennuie': 1127, 'blessée': 1128, 'aie': 1129, 'boisson': 1130, 'donna': 1131, 'adoré': 1132, 'perds': 1133, 'enseigne': 1134, 'tendu': 1135, 'décidé': 1136, 'brisé': 1137, 'fin': 1138, 'contrôle': 1139, 'effrayé': 1140, 'choc': 1141, 'affaires': 1142, 'pitié': 1143, 'japonais': 1144, 'football': 1145, 'convaincu': 1146, 'motivé': 1147, 'surprise': 1148, 'douloureux': 1149, 'fuite': 1150, 'crier': 1151, 'voulait': 1152, 'surveille': 1153, 'coûte': 1154, 'lunettes': 1155, 'voudrais': 1156, 'continua': 1157, 'échapper': 1158, 'garder': 1159, 'portait': 1160, 'partout': 1161, 'ennuis': 1162, 'impressionné': 1163, 'responsable': 1164, 'parfaite': 1165, 'ridicule': 1166, 'mangent': 1167, 'visite': 1168, 'brièvement': 1169, 'exemple': 1170, 'oh': 1171, 'cas': 1172, 'ah': 1173, 'calmes': 1174, 'tire': 1175, 'décampe': 1176, 'cassez': 1177, 'recule': 1178, 'bougez': 1179, 'verrouillez': 1180, 'reculez': 1181, 'courage': 1182, 'trouvez': 1183, 'descendez': 1184, 'agréable': 1185, 'dépêche': 1186, 'paierai': 1187, 'sourd': 1188, 'mince': 1189, 'partit': 1190, 'revenez': 1191, 'cinq': 1192, 'voler': 1193, 'triché': 1194, 'crié': 1195, 'vivant': 1196, 'chanceuse': 1197, 'brûlé': 1198, 'correct': 1199, 'allées': 1200, 'réponds': 1201, 'satisfaits': 1202, 'choisissez': 1203, 'faits': 1204, 'exercice': 1205, 'suppose': 1206, 'reçu': 1207, 'apprécié': 1208, 'dernière': 1209, 'crevé': 1210, 'bleu': 1211, 'vote': 1212, 'ski': 1213, 'inutile': 1214, 'jette': 1215, 'pain': 1216, 'sauvés': 1217, 'lavé': 1218, 'choqué': 1219, 'répondre': 1220, 'autour': 1221, 'penses': 1222, 'largué': 1223, 'viendra': 1224, 'démissionner': 1225, 'séparés': 1226, 'travaillez': 1227, 'joindre': 1228, 'pourrions': 1229, 'ayez': 1230, 'moitié': 1231, 'présenté': 1232, 'sucre': 1233, 'preuves': 1234, 'enceinte': 1235, 'ravi': 1236, 'injuste': 1237, 'blanc': 1238, 'lieu': 1239, 'abord': 1240, 'finie': 1241, 'or': 1242, 'abattu': 1243, 'horloge': 1244, 'cru': 1245, 'cessé': 1246, 'obtenu': 1247, 'cesser': 1248, 'fallut': 1249, 'mot': 1250, 'coin': 1251, 'conclu': 1252, 'artiste': 1253, 'restons': 1254, 'inquiet': 1255, 'mariés': 1256, 'vaches': 1257, 'congé': 1258, 'utiliser': 1259, 'animaux': 1260, 'occuper': 1261, 'bouche': 1262, 'nul': 1263, 'siffler': 1264, 'truc': 1265, 'allume': 1266, 'visage': 1267, 'chaque': 1268, 'ordinateur': 1269, 'frais': 1270, 'prit': 1271, 'vent': 1272, 'soir': 1273, 'posez': 1274, 'dirigeons': 1275, 'fier': 1276, 'appelles': 1277, 'doigts': 1278, 'parents': 1279, 'baisse': 1280, 'attaque': 1281, 'achète': 1282, 'casse': 1283, 'déguerpissez': 1284, 'câlin': 1285, 'ronfle': 1286, 'tenu': 1287, 'devant': 1288, 'mignonne': 1289, 'revenu': 1290, 'laid': 1291, 'sienne': 1292, 'épouse': 1293, 'goûte': 1294, 'écrivez': 1295, 'répondez': 1296, 'excuse': 1297, 'rentré': 1298, 'aille': 1299, 'éveillé': 1300, 'viendrai': 1301, 'aiderai': 1302, 'courageuse': 1303, 'brave': 1304, 'écart': 1305, 'immobile': 1306, 'mais': 1307, 'voyez': 1308, 'merveilleux': 1309, 'engagé': 1310, 'vigilant': 1311, 'satisfaites': 1312, 'face': 1313, 'ressenti': 1314, 'devenue': 1315, 'écouté': 1316, 'partirai': 1317, 'resterai': 1318, 'abri': 1319, 'accepté': 1320, 'mordu': 1321, 'boit': 1322, 'coupé': 1323, 'cria': 1324, 'arrives': 1325, 'dérange': 1326, 'discuter': 1327, 'rendue': 1328, 'fâchée': 1329, 'golf': 1330, 'soupe': 1331, 'régime': 1332, 'jalouse': 1333, 'long': 1334, 'attendons': 1335, 'réfléchis': 1336, 'pensez': 1337, 'lent': 1338, 'fermé': 1339, 'gueule': 1340, 'connaissons': 1341, 'manques': 1342, 'manquez': 1343, 'jumeaux': 1344, 'dommage': 1345, 'grossière': 1346, 'invitée': 1347, 'objectif': 1348, 'moque': 1349, 'embrassé': 1350, 'endormie': 1351, 'justice': 1352, 'papa': 1353, 'pays': 1354, 'vérifié': 1355, 'mensonge': 1356, 'hideux': 1357, 'journal': 1358, 'creuser': 1359, 'terminée': 1360, 'leva': 1361, 'fera': 1362, 'cruel': 1363, 'entré': 1364, 'effrayant': 1365, 'tirer': 1366, 'stupéfait': 1367, 'poli': 1368, 'vivons': 1369, 'sortons': 1370, 'démissionné': 1371, 'idiots': 1372, 'talent': 1373, 'tient': 1374, 'fleurs': 1375, 'anglais': 1376, 'adorable': 1377, 'poids': 1378, 'poste': 1379, 'fièvre': 1380, 'hiver': 1381, 'clef': 1382, 'chevaux': 1383, 'refuser': 1384, 'sous': 1385, 'armes': 1386, 'pouvoir': 1387, 'entraîneur': 1388, 'sucré': 1389, 'vaut': 1390, 'contact': 1391, 'voit': 1392, 'paraît': 1393, 'numéro': 1394, 'lacet': 1395, 'six': 1396, 'médecins': 1397, 'travailles': 1398, 'match': 1399, 'grimpe': 1400, 'camionnette': 1401, 'vacances': 1402, 'prison': 1403, 'trahie': 1404, 'peint': 1405, 'laisser': 1406, 'contre': 1407, 'convient': 1408, 'différent': 1409, 'venus': 1410, 'sympathique': 1411, 'esprit': 1412, 'dents': 1413, 'étudiante': 1414, 'devient': 1415, 'crayon': 1416, 'lu': 1417, 'crime': 1418, 'amuser': 1419, 'décision': 1420, 'ciel': 1421, 'urgence': 1422, 'firent': 1423, 'gérer': 1424, 'nécessaire': 1425, 'bar': 1426, 'sport': 1427, 'pantalon': 1428, 'robe': 1429, 'file': 1430, 'saute': 1431, 'serre': 1432, 'serrez': 1433, 'honnêtes': 1434, 'disparais': 1435, 'brûle': 1436, 'décampez': 1437, 'tenue': 1438, 'tenté': 1439, 'réveillez': 1440, 'bienvenue': 1441, 'avancez': 1442, 'mecs': 1443, 'joli': 1444, 'sauté': 1445, 'détendue': 1446, 'perdue': 1447, 'sien': 1448, 'meurs': 1449, 'prépare': 1450, 'gloussé': 1451, 'ricané': 1452, 'attendrai': 1453, 'armé': 1454, 'veinard': 1455, 'regard': 1456, 'pleurait': 1457, 'bord': 1458, 'satisfaite': 1459, 'dépêchez': 1460, 'art': 1461, 'rencontrées': 1462, 'glace': 1463, 'direct': 1464, 'normale': 1465, 'produit': 1466, 'tranquilles': 1467, 'arrêtons': 1468, 'cherche': 1469, 'étudiez': 1470, 'couvrez': 1471, 'pété': 1472, 'souffle': 1473, 'vieilles': 1474, 'cinglé': 1475, 'créatif': 1476, 'raisonnable': 1477, 'arrivez': 1478, 'nettoyez': 1479, 'finis': 1480, 'lance': 1481, 'désaccord': 1482, 'piqué': 1483, 'fruits': 1484, 'riz': 1485, 'aimais': 1486, 'vends': 1487, 'fie': 1488, 'crédule': 1489, 'tombe': 1490, 'mariée': 1491, 'égoïste': 1492, 'bourré': 1493, 'piégé': 1494, 'poupée': 1495, 'arnaque': 1496, 'avancer': 1497, 'moins': 1498, 'vint': 1499, 'pose': 1500, 'frappa': 1501, 'mauvaises': 1502, 'deviné': 1503, 'refusa': 1504, 'saura': 1505, 'agissait': 1506, 'sûres': 1507, 'sûrs': 1508, 'uf': 1509, 'amène': 1510, 'terminer': 1511, 'chanté': 1512, 'levez': 1513, 'fusil': 1514, 'laissa': 1515, 'laissés': 1516, 'laissées': 1517, 'eut': 1518, 'romantique': 1519, 'mérite': 1520, 'plans': 1521, 'échecs': 1522, 'pari': 1523, 'nage': 1524, 'compatis': 1525, 'génie': 1526, 'drogué': 1527, 'innocent': 1528, 'impliqué': 1529, 'fiable': 1530, 'spécial': 1531, 'apprends': 1532, 'devriez': 1533, 'connaissent': 1534, 'travaillé': 1535, 'renvoyé': 1536, 'fiez': 1537, 'concentrer': 1538, 'mentez': 1539, 'jeunes': 1540, 'chic': 1541, 'capable': 1542, 'faveur': 1543, 'savent': 1544, 'petits': 1545, 'quelques': 1546, 'accorde': 1547, 'bénisse': 1548, 'genre': 1549, 'acquisition': 1550, 'failli': 1551, 'expliquer': 1552, 'chienne': 1553, 'nature': 1554, 'résister': 1555, 'rend': 1556, 'prend': 1557, 'personnel': 1558, 'oublions': 1559, 'dos': 1560, 'perdit': 1561, 'sonne': 1562, 'positif': 1563, 'chacun': 1564, 'mangea': 1565, 'ennuyeux': 1566, 'ligne': 1567, 'agité': 1568, 'excusé': 1569, 'aviez': 1570, 'plaisantes': 1571, 'amenez': 1572, 'toucher': 1573, 'promenade': 1574, 'prouver': 1575, 'arrêtée': 1576, 'dépourvu': 1577, 'dimanche': 1578, 'araignées': 1579, 'lourd': 1580, 'urs': 1581, 'tourné': 1582, 'prisonnier': 1583, 'commande': 1584, 'roses': 1585, 'absurde': 1586, 'adorent': 1587, 'marre': 1588, 'choisi': 1589, 'gaucher': 1590, 'arrêta': 1591, 'plaisanter': 1592, 'serviette': 1593, 'gars': 1594, 'mourut': 1595, 'appris': 1596, 'enseigner': 1597, 'tennis': 1598, 'expérience': 1599, 'alarme': 1600, 'dont': 1601, 'suivre': 1602, 'ordre': 1603, 'lac': 1604, 'attendait': 1605, 'autres': 1606, 'destin': 1607, 'restait': 1608, 'avisé': 1609, 'feriez': 1610, 'enfin': 1611, 'entendit': 1612, 'promesse': 1613, 'emplettes': 1614, 'plaindre': 1615, 'parles': 1616, 'pire': 1617, 'casquette': 1618, 'jouons': 1619, 'pneu': 1620, 'envoyer': 1621, 'genoux': 1622, 'plu': 1623, 'rendrai': 1624, 'sorte': 1625, 'pouvait': 1626, 'harceler': 1627, 'cache': 1628, 'poursuis': 1629, 'caméra': 1630, 'remercie': 1631, 'gentils': 1632, 'gentilles': 1633, 'revoir': 1634, 'mouillée': 1635, 'sol': 1636, 'prochaine': 1637, 'bienvenu': 1638, 'brève': 1639, 'rouler': 1640, 'bravo': 1641, 'gaffe': 1642, 'paresseuse': 1643, 'sauve': 1644, 'touchez': 1645, 'utilisez': 1646, 'coucher': 1647, 'humeur': 1648, 'nue': 1649, 'gratuit': 1650, 'mangeons': 1651, 'sérieusement': 1652, 'baissé': 1653, 'parties': 1654, 'imbécile': 1655, 'vérifiez': 1656, 'nord': 1657, 'admets': 1658, 'sauter': 1659, 'b': 1660, 'paniqué': 1661, 'survécu': 1662, 'humble': 1663, 'rigole': 1664, 'déménager': 1665, 'maigrichon': 1666, 'maigrichonne': 1667, 'fonctionnera': 1668, 'met': 1669, 'commentaire': 1670, 'voyait': 1671, 'apprécions': 1672, 'perdus': 1673, 'perdues': 1674, 'faibles': 1675, 'bizarres': 1676, 'créative': 1677, 'nettoie': 1678, 'change': 1679, 'démissionna': 1680, 'puissant': 1681, 'cuisinier': 1682, 'déprimé': 1683, 'ennuyer': 1684, 'devais': 1685, 'détestais': 1686, 'aimée': 1687, 'emporte': 1688, 'paye': 1689, 'sauvées': 1690, 'voitures': 1691, 'achèterai': 1692, 'excité': 1693, 'sèche': 1694, 'sidéré': 1695, 'neiger': 1696, 'printemps': 1697, 'minable': 1698, 'chauffeur': 1699, 'sage': 1700, 'mordre': 1701, 'aimable': 1702, 'dérangé': 1703, 'agir': 1704, 'fatiguées': 1705, 'bordel': 1706, 'échappé': 1707, 'irez': 1708, 'ailles': 1709, 'méchante': 1710, 'blessés': 1711, 'blessées': 1712, 'rappelez': 1713, 'finir': 1714, 'signé': 1715, 'admire': 1716, 'identité': 1717, 'femmes': 1718, 'jeux': 1719, 'étoile': 1720, 'sieste': 1721, 'prévenu': 1722, 'reviendrai': 1723, 'procès': 1724, 'membre': 1725, 'divorcé': 1726, 'saint': 1727, 'réservé': 1728, 'épuisé': 1729, 'environs': 1730, 'évident': 1731, 'disputer': 1732, 'pousser': 1733, 'commandes': 1734, 'battu': 1735, 'décédé': 1736, 'pâle': 1737, 'repos': 1738, 'rendons': 1739, 'poissons': 1740, 'manges': 1741, 'profondément': 1742, 'corde': 1743, 'mérité': 1744, 'nourri': 1745, 'raconte': 1746, 'avion': 1747, 'porté': 1748, 'malchanceuse': 1749, 'allais': 1750, 'manquer': 1751, 'intrigué': 1752, 'dépassé': 1753, 'détendre': 1754, 'noue': 1755, 'chaussure': 1756, 'optimiste': 1757, 'violent': 1758, 'ennemis': 1759, 'nerveuses': 1760, 'arrêt': 1761, 'arrivés': 1762, 'laquelle': 1763, 'volant': 1764, 'plaisantez': 1765, 'revenir': 1766, 'ballon': 1767, 'pourriez': 1768, 'plaira': 1769, 'importance': 1770, 'contrariés': 1771, 'reproche': 1772, 'grimpez': 1773, 'débarrassez': 1774, 'parc': 1775, 'année': 1776, 'mer': 1777, 'dépourvue': 1778, 'biscuits': 1779, 'allumé': 1780, 'réfléchir': 1781, 'essence': 1782, 'aisé': 1783, 'écouter': 1784, 'parlons': 1785, 'cherchez': 1786, 'repas': 1787, 'compteur': 1788, 'envoie': 1789, 'fondu': 1790, 'radio': 1791, 'venues': 1792, 'difficulté': 1793, 'perturbé': 1794, 'allumez': 1795, 'invités': 1796, 'manquerez': 1797, 'frères': 1798, 'étudiants': 1799, 'grosses': 1800, 'vôtres': 1801, 'police': 1802, 'moyens': 1803, 'profond': 1804, 'allait': 1805, 'devoirs': 1806, 'pressé': 1807, 'pluie': 1808, 'chocolat': 1809, 'travers': 1810, 'mouchoir': 1811, 'réglé': 1812, 'entièrement': 1813, 'née': 1814, 'longtemps': 1815, 'joie': 1816, 'corriger': 1817, 'japonaise': 1818, 'nièce': 1819, 'répondit': 1820, 'emmenez': 1821, 'église': 1822, 'lune': 1823, 'avaient': 1824, 'vivent': 1825, 'surprises': 1826, 'effrayée': 1827, 'retourner': 1828, 'fusible': 1829, 'sauver': 1830, 'vivez': 1831, 'jus': 1832, 'conseil': 1833, 'longs': 1834, 'transpirer': 1835, 'poliment': 1836, 'nouvel': 1837, 'panne': 1838, 'informé': 1839, 'salle': 1840, 'garer': 1841, 'gare': 1842, 'animal': 1843, 'demanda': 1844, 'bougies': 1845, 'forcé': 1846, 'courez': 1847, 'détendez': 1848, 'relaxe': 1849, 'calmez': 1850, 'souriez': 1851, 'impossible': 1852, 'fichez': 1853, 'touchée': 1854, 'mouillé': 1855, 'tuez': 1856, 'tue': 1857, 'lave': 1858, 'lavez': 1859, 'fûmes': 1860, 'battus': 1861, 'retire': 1862, 'bref': 1863, 'couvre': 1864, 'écarte': 1865, 'ailleurs': 1866, 'réaliste': 1867, 'obéi': 1868, 'usage': 1869, 'sers': 1870, 'rigolo': 1871, 'poil': 1872, 'préparez': 1873, 'ouest': 1874, 'supplie': 1875, 'écrasé': 1876, 'eus': 1877, 'promets': 1878, 'lion': 1879, 'flic': 1880, 'ok': 1881, 'dessous': 1882, 'signez': 1883, 'écoulé': 1884, 'gauche': 1885, 'timides': 1886, 'soucie': 1887, 'conduisez': 1888, 'espèce': 1889, 'trompe': 1890, 'levée': 1891, 'sec': 1892, 'chantez': 1893, 'charmant': 1894, 'tragédie': 1895, 'construit': 1896, 'annulé': 1897, 'couru': 1898, 'connu': 1899, 'sournois': 1900, 'strict': 1901, 'ignorez': 1902, 'inoffensif': 1903, 'mode': 1904, 'vert': 1905, 'tienne': 1906, 'inquiète': 1907, 'recommence': 1908, 'notes': 1909, 'regarda': 1910, 'parlait': 1911, 'hurlait': 1912, 'joyeux': 1913, 'ferons': 1914, 'raté': 1915, 'marrante': 1916, 'discret': 1917, 'généreux': 1918, 'ponctuel': 1919, 'impitoyable': 1920, 'jouez': 1921, 'panique': 1922, 'filé': 1923, 'excuser': 1924, 'séché': 1925, 'déprimée': 1926, 'vertiges': 1927, 'bol': 1928, 'foiré': 1929, 'cacher': 1930, 'impôts': 1931, 'trouvais': 1932, 'présent': 1933, 'excitée': 1934, 'populaire': 1935, 'estomac': 1936, 'préoccupé': 1937, 'légal': 1938, 'règle': 1939, 'ironique': 1940, 'verrouillé': 1941, 'sert': 1942, 'mémorise': 1943, 'plantes': 1944, 'devenait': 1945, 'allumée': 1946, 'eue': 1947, 'embrassés': 1948, 'nouveaux': 1949, 'entra': 1950, 'chaussettes': 1951, 'énorme': 1952, 'paralysé': 1953, 'insensible': 1954, 'mourant': 1955, 'demi': 1956, 'éteins': 1957, 'marchez': 1958, 'séparées': 1959, 'armés': 1960, 'iras': 1961, 'sauf': 1962, 'confiant': 1963, 'objectifs': 1964, 'enseignante': 1965, 'crainte': 1966, 'véhicule': 1967, 'soutiens': 1968, 'excitant': 1969, 'pathétique': 1970, 'impatient': 1971, 'affreusement': 1972, 'blagues': 1973, 'peinture': 1974, 'risques': 1975, 'prévenue': 1976, 'joindrai': 1977, 'chanteur': 1978, 'chanteuse': 1979, 'fidèle': 1980, 'affamé': 1981, 'intrépide': 1982, 'rue': 1983, 'impliquée': 1984, 'offensé': 1985, 'indigné': 1986, 'patronne': 1987, 'loup': 1988, 'vague': 1989, 'rumeur': 1990, 'compliqué': 1991, 'devinez': 1992, 'interrompre': 1993, 'jambe': 1994, 'récréation': 1995, 'fixer': 1996, 'rêves': 1997, 'porc': 1998, 'apeuré': 1999, 'emplois': 2000, 'venons': 2001, 'envoyée': 2002, 'encre': 2003, 'permission': 2004, 'cruelle': 2005, 'renversé': 2006, 'contents': 2007, 'contentes': 2008, 'passer': 2009, 'danse': 2010, 'hâte': 2011, 'nourris': 2012, 'voleur': 2013, 'vend': 2014, 'aîné': 2015, 'causé': 2016, 'méprise': 2017, 'élu': 2018, 'lever': 2019, 'cinéma': 2020, 'saumon': 2021, 'perdis': 2022, 'objection': 2023, 'conseils': 2024, 'respecte': 2025, 'fumée': 2026, 'piscine': 2027, 'appartement': 2028, 'droguée': 2029, 'ambitieuse': 2030, 'efficace': 2031, 'distrait': 2032, 'impressionnée': 2033, 'malheureuse': 2034, 'leurs': 2035, 'terrifié': 2036, 'assuré': 2037, 'fuit': 2038, 'cadeau': 2039, 'grimper': 2040, 'folie': 2041, 'mouillés': 2042, 'vanter': 2043, 'mannequin': 2044, 'certains': 2045, 'basse': 2046, 'nettoyer': 2047, 'vache': 2048, 'four': 2049, 'attache': 2050, 'sentit': 2051, 'crise': 2052, 'perd': 2053, 'maigre': 2054, 'souvient': 2055, 'agacé': 2056, 'étouffe': 2057, 'bagages': 2058, 'proches': 2059, 'cousins': 2060, 'amoureuses': 2061, 'inutiles': 2062, 'partage': 2063, 'menteuse': 2064, 'jolie': 2065, 'raciste': 2066, 'herbe': 2067, 'contrariées': 2068, 'spectacle': 2069, 'retournez': 2070, 'réveiller': 2071, 'jeta': 2072, 'barbe': 2073, 'vidéo': 2074, 'oncle': 2075, 'extraverti': 2076, 'alla': 2077, 'compagnie': 2078, 'pétrin': 2079, 'désorienté': 2080, 'secrets': 2081, 'prudence': 2082, 'attaqué': 2083, 'vire': 2084, 'succès': 2085, 'miracle': 2086, 'dépend': 2087, 'charger': 2088, 'ouvrir': 2089, 'poulet': 2090, 'projet': 2091, 'éteinte': 2092, 'découvert': 2093, 'viennent': 2094, 'aimaient': 2095, 'mord': 2096, 'lacets': 2097, 'plaint': 2098, 'précis': 2099, 'mine': 2100, 'cartes': 2101, 'calmement': 2102, 'docteur': 2103, 'étudions': 2104, 'volontaires': 2105, 'pension': 2106, 'regardons': 2107, 'dirait': 2108, 'terrifiant': 2109, 'aube': 2110, 'rêveur': 2111, 'partenaire': 2112, 'photogénique': 2113, 'dirais': 2114, 'intéressant': 2115, 'supporter': 2116, 'ressens': 2117, 'admettre': 2118, 'défaite': 2119, 'violence': 2120, 'connaissais': 2121, 'allumette': 2122, 'marteau': 2123, 'vitesse': 2124, 'quasiment': 2125, 'gêné': 2126, 'modeste': 2127, 'impressionnant': 2128, 'bouteille': 2129, 'gris': 2130, 'dérobé': 2131, 'alentours': 2132, 'croyez': 2133, 'feuilles': 2134, 'pardonné': 2135, 'énigme': 2136, 'particulier': 2137, 'bleue': 2138, 'issue': 2139, 'tueront': 2140, 'semblables': 2141, 'destinée': 2142, 'immature': 2143, 'gardé': 2144, 'retourné': 2145, 'menace': 2146, 'flexible': 2147, 'tiroir': 2148, 'rencontrée': 2149, 'applaudi': 2150, 'expliquez': 2151, 'parapluie': 2152, 'ouvrage': 2153, 'genou': 2154, 'tousser': 2155, 'obtenir': 2156, 'plage': 2157, 'patience': 2158, 'jaunes': 2159, 'menacé': 2160, 'vendre': 2161, 'lettre': 2162, 'course': 2163, 'canapé': 2164, 'bleus': 2165, 'montré': 2166, 'embêter': 2167, 'tués': 2168, 'finalement': 2169, 'arrêtait': 2170, 'pratique': 2171, 'trouvera': 2172, 'erreurs': 2173, 'camion': 2174, 'parfaits': 2175, 'parfaites': 2176, 'importante': 2177, 'religion': 2178, 'remplissez': 2179, 'formulaire': 2180, 'monnaie': 2181, 'blâmer': 2182, 'tant': 2183, 'style': 2184, 'manquent': 2185, 'longue': 2186, 'faisais': 2187, 'jardin': 2188, 'productif': 2189, 'tache': 2190, 'serez': 2191, 'veste': 2192, 'dégoûtant': 2193, 'croire': 2194, 'amélioré': 2195, 'filez': 2196, 'achetez': 2197, 'capté': 2198, 'sensass': 2199, 'enterre': 2200, 'dégagez': 2201, 'rentrez': 2202, 'ciao': 2203, 'retirez': 2204, 'reposé': 2205, 'restée': 2206, 'sourde': 2207, 'défense': 2208, 'goûtez': 2209, 'emploie': 2210, 'irons': 2211, 'puissante': 2212, 'aboient': 2213, 'excusez': 2214, 'déplace': 2215, 'déplacez': 2216, 'saisis': 2217, 'saisissez': 2218, 'dirige': 2219, 'affreux': 2220, 'mouvement': 2221, 'connaissance': 2222, 'précipité': 2223, 'passerai': 2224, 'arrêterai': 2225, 'armée': 2226, 'fauché': 2227, 'veinarde': 2228, 'sobre': 2229, 'cuire': 2230, 'h': 2231, 'sable': 2232, 'allongé': 2233, 'repose': 2234, 'relais': 2235, 'relève': 2236, 'tombés': 2237, 'tombées': 2238, 'nageaient': 2239, 'première': 2240, 'sérieuses': 2241, 'cul': 2242, 'insiste': 2243, 'cédé': 2244, 'ruiné': 2245, 'sud': 2246, 'astucieux': 2247, 'imagine': 2248, 'plais': 2249, 'jumeau': 2250, 'directe': 2251, 'proche': 2252, 'cd': 2253, 'discutons': 2254, 'travaillons': 2255, 'cou': 2256, 'recommencez': 2257, 'application': 2258, 'sauta': 2259, 'obéit': 2260, 'discrète': 2261, 'préparée': 2262, 'ponctuelle': 2263, 'bowling': 2264, 'joues': 2265, 'battez': 2266, 'fumez': 2267, 'finissez': 2268, 'trouva': 2269, 'gosse': 2270, 'attrapée': 2271, 'confessé': 2272, 'haricots': 2273, 'prise': 2274, 'maths': 2275, 'rock': 2276, 'merdé': 2277, 'pagaille': 2278, 'obéir': 2279, 'colle': 2280, 'sauvée': 2281, 'parvenu': 2282, 'troisième': 2283, 'tenterai': 2284, 'foies': 2285, 'curieuse': 2286, 'taquine': 2287, 'plat': 2288, 'pipe': 2289, 'urgent': 2290, 'dépêchons': 2291, 'souhait': 2292, 'mémorisez': 2293, 'roi': 2294, 'applaudir': 2295, 'remets': 2296, 'souvenez': 2297, 'monter': 2298, 'noyé': 2299, 'sinistre': 2300, 'défoncé': 2301, 'bruyant': 2302, 'impoli': 2303, 'armées': 2304, 'fauchés': 2305, 'propres': 2306, 'détient': 2307, 'comporte': 2308, 'prudemment': 2309, 'videz': 2310, 'crains': 2311, 'beignet': 2312, 'poète': 2313, 'attendra': 2314, 'appelés': 2315, 'appelée': 2316, 'débrouiller': 2317, 'incapable': 2318, 'impatiente': 2319, 'poursuivi': 2320, 'égal': 2321, 'doutes': 2322, 'su': 2323, 'élève': 2324, 'moyen': 2325, 'opéra': 2326, 'espace': 2327, 'secoué': 2328, 'poursuivrai': 2329, 'accro': 2330, 'ouïe': 2331, 'adulte': 2332, 'bats': 2333, 'gelé': 2334, 'innocente': 2335, 'ange': 2336, 'sainte': 2337, 'certaine': 2338, 'impartial': 2339, 'cerf': 2340, 'serait': 2341, 'véritable': 2342, 'défaut': 2343, 'concentré': 2344, 'concentrée': 2345, 'deviner': 2346, 'devine': 2347, 'hypothèse': 2348, 'fout': 2349, 'parla': 2350, 'libère': 2351, 'apprécia': 2352, 'demeure': 2353, 'râler': 2354, 'beaux': 2355, 'aidera': 2356, 'ordures': 2357, 'abandonnèrent': 2358, 'détendus': 2359, 'détendues': 2360, 'viendront': 2361, 'meurt': 2362, 'détesté': 2363, 'savions': 2364, 'années': 2365, 'matinal': 2366, 'matinale': 2367, 'heurté': 2368, 'solidaire': 2369, 'corps': 2370, 'nie': 2371, 'deviens': 2372, 'bouchon': 2373, 'cercle': 2374, 'essuie': 2375, 'assiette': 2376, 'matériel': 2377, 'accrochez': 2378, 'accroche': 2379, 'trou': 2380, 'servante': 2381, 'tua': 2382, 'efforce': 2383, 'américain': 2384, 'diabétique': 2385, 'sentir': 2386, 'bananes': 2387, 'nausée': 2388, 'coups': 2389, 'trouille': 2390, 'moindre': 2391, 'atteint': 2392, 'ordres': 2393, 'fromage': 2394, 'copie': 2395, 'dépasse': 2396, 'courus': 2397, 'abandonner': 2398, 'odeur': 2399, 'domicile': 2400, 'monté': 2401, 'réveillées': 2402, 'réveillés': 2403, 'travaillais': 2404, 'tuer': 2405, 'plombier': 2406, 'touriste': 2407, 'rentrée': 2408, 'épuisée': 2409, 'impulsif': 2410, 'motivée': 2411, 'gamin': 2412, 'liberté': 2413, 'tenace': 2414, 'sceptique': 2415, 'présente': 2416, 'logique': 2417, 'samedi': 2418, 'soulagement': 2419, 'superbe': 2420, 'atroce': 2421, 'improbable': 2422, 'déverrouillé': 2423, 'courte': 2424, 'offre': 2425, 'mortel': 2426, 'sentent': 2427, 'changent': 2428, 'haute': 2429, 'française': 2430, 'clairement': 2431, 'inquiéter': 2432, 'trucs': 2433, 'bagnole': 2434, 'doivent': 2435, 'courageuses': 2436, 'verts': 2437, 'mentent': 2438, 'japon': 2439, 'aidait': 2440, 'mature': 2441, 'indemne': 2442, 'remarié': 2443, 'sms': 2444, 'adopté': 2445, 'page': 2446, 'tournez': 2447, 'admirons': 2448, 'auparavant': 2449, 'comprenons': 2450, 'groupe': 2451, 'cousines': 2452, 'jalouses': 2453, 'bourrés': 2454, 'cri': 2455, 'brillant': 2456, 'fric': 2457, 'vilaine': 2458, 'agace': 2459, 'entendez': 2460, 'connait': 2461, 'déçue': 2462, 'obéis': 2463, 'joueur': 2464, 'auteur': 2465, 'dégueulasse': 2466, 'cause': 2467, 'prévenus': 2468, 'prévenues': 2469, 'capte': 2470, 'expulsé': 2471, 'accident': 2472, 'carottes': 2473, 'fêtes': 2474, 'hoquet': 2475, 'toit': 2476, 'grippe': 2477, 'entendis': 2478, 'tromper': 2479, 'augmentation': 2480, 'léger': 2481, 'détails': 2482, 'vengeance': 2483, 'ventilateur': 2484, 'préférerais': 2485, 'aurai': 2486, 'réessayer': 2487, 'maladroit': 2488, 'contagieux': 2489, 'intéressé': 2490, 'ras': 2491, 'habitué': 2492, 'végétarienne': 2493, 'embuscade': 2494, 'risqué': 2495, 'ignorer': 2496, 'décider': 2497, 'continuons': 2498, 'amusons': 2499, 'nombreux': 2500, 'charmante': 2501, 'réserve': 2502, 'appela': 2503, 'canon': 2504, 'attend': 2505, 'mêle': 2506, 'illégal': 2507, 'partaient': 2508, 'laissèrent': 2509, 'détruit': 2510, 'effrayés': 2511, 'effrayées': 2512, 'fourchette': 2513, 'libéré': 2514, 'immoral': 2515, 'remettra': 2516, 'survivra': 2517, 'transpire': 2518, 'acclamèrent': 2519, 'adorons': 2520, 'serons': 2521, 'ouverts': 2522, 'ouvertes': 2523, 'fiables': 2524, 'eh': 2525, 'quelles': 2526, 'intelligente': 2527, 'trompés': 2528, 'seras': 2529, 'incroyables': 2530, 'invitées': 2531, 'chanceuses': 2532, 'abeilles': 2533, 'taire': 2534, 'félicitations': 2535, 'trouvée': 2536, 'cardiaque': 2537, 'séjour': 2538, 'attendit': 2539, 'solution': 2540, 'envoya': 2541, 'ambition': 2542, 'foot': 2543, 'mentionné': 2544, 'diriez': 2545, 'enfreint': 2546, 'respirer': 2547, 'attendais': 2548, 'impuissant': 2549, 'leucémie': 2550, 'baseball': 2551, 'pensais': 2552, 'rende': 2553, 'témoin': 2554, 'kidnappé': 2555, 'suivrai': 2556, 'double': 2557, 'coopérer': 2558, 'conducteur': 2559, 'ressources': 2560, 'compassion': 2561, 'inhabituel': 2562, 'verrouillée': 2563, 'moisi': 2564, 'inévitable': 2565, 'humide': 2566, 'préparer': 2567, 'emprunter': 2568, 'costume': 2569, 'comprend': 2570, 'orange': 2571, 'ôtez': 2572, 'moteur': 2573, 'sort': 2574, 'arriva': 2575, 'puits': 2576, 'sourient': 2577, 'méritent': 2578, 'devenus': 2579, 'trouveront': 2580, 'difficiles': 2581, 'lapins': 2582, 'frappe': 2583, 'épouvantable': 2584, 'embarrassé': 2585, 'oreilles': 2586, 'souffert': 2587, 'idées': 2588, 'prisonniers': 2589, 'désastre': 2590, 'ressemble': 2591, 'retenu': 2592, 'terme': 2593, 'terriblement': 2594, 'paraissez': 2595, 'rougis': 2596, 'crack': 2597, 'étudies': 2598, 'coupez': 2599, 'habitez': 2600, 'explique': 2601, 'éloigne': 2602, 'éloignez': 2603, 'escaliers': 2604, 'problèmes': 2605, 'aimer': 2606, 'ferma': 2607, 'arabe': 2608, 'tourna': 2609, 'couverture': 2610, 'remettre': 2611, 'rappeler': 2612, 'tenir': 2613, 'accepte': 2614, 'hybride': 2615, 'mari': 2616, 'quitter': 2617, 'mois': 2618, 'criminel': 2619, 'protègerai': 2620, 'laver': 2621, 'cousin': 2622, 'enthousiaste': 2623, 'habitude': 2624, 'planète': 2625, 'onéreux': 2626, 'article': 2627, 'verrai': 2628, 'promue': 2629, 'limite': 2630, 'méprisent': 2631, 'jouent': 2632, 'faisaient': 2633, 'monstre': 2634, 'inconscient': 2635, 'organisé': 2636, 'sarcastique': 2637, 'gosses': 2638, 'dépourvus': 2639, 'soldats': 2640, 'célibataires': 2641, 'apprécies': 2642, 'miroir': 2643, 'resplendissant': 2644, 'resplendissante': 2645, 'fûtes': 2646, 'auras': 2647, 'aurez': 2648, 'comprendre': 2649, 'avisée': 2650, 'écoutes': 2651, 'portez': 2652, 'saviez': 2653, 'occupe': 2654, 'longueur': 2655, 'moustiques': 2656, 'voulu': 2657, 'inconsciente': 2658, 'choisirai': 2659, 'façon': 2660, 'âgée': 2661, 'profonde': 2662, 'familier': 2663, 'cierges': 2664, 'bazar': 2665, 'rats': 2666, 'connaissait': 2667, 'exagérer': 2668, 'mur': 2669, 'chèque': 2670, 'mangeront': 2671, 'rapport': 2672, 'nôtres': 2673, 'conditions': 2674, 'productive': 2675, 'maître': 2676, 'maîtresse': 2677, 'doyen': 2678, 'doyenne': 2679, 'aînée': 2680, 'craintif': 2681, 'craintive': 2682, 'robots': 2683, 'gants': 2684, 'inspiration': 2685, 'parvient': 2686, 'adresse': 2687, 'cuisis': 2688, 'bandes': 2689, 'dessinées': 2690, 'offenser': 2691, 'bêtises': 2692, 'cous': 2693, 'fuyez': 2694, 'poursuivez': 2695, 'pigé': 2696, 'tricote': 2697, 'exclu': 2698, 'équitable': 2699, 'foutre': 2700, 'oust': 2701, 'secoue': 2702, 'balai': 2703, 'joignez': 2704, 'embrasse': 2705, 'tirez': 2706, 'courait': 2707, 'visez': 2708, 'vise': 2709, 'répare': 2710, 'exprimé': 2711, 'sagesse': 2712, 'grouille': 2713, 'magne': 2714, 'magnez': 2715, 'essaierai': 2716, 'claire': 2717, 'rassasié': 2718, 'paumé': 2719, 'ordonné': 2720, 'laide': 2721, 'tentative': 2722, 'sauvez': 2723, 'informez': 2724, 'excellent': 2725, 'gagnèrent': 2726, 'essaies': 2727, 'avertis': 2728, 'démissionne': 2729, 'volent': 2730, 'dirigez': 2731, 'marré': 2732, 'marrée': 2733, 'appellerai': 2734, 'valise': 2735, 'abandonnerai': 2736, 'travaillerai': 2737, 'tatillon': 2738, 'tatillonne': 2739, 'coincée': 2740, 'distance': 2741, 'retrait': 2742, 'abandonnez': 2743, 'demandons': 2744, 'voyons': 2745, 'assises': 2746, 'assure': 2747, 'déverrouille': 2748, 'entretenus': 2749, 'entretenues': 2750, 'cuit': 2751, 'engagée': 2752, 'alentour': 2753, 'inspirez': 2754, 'creuse': 2755, 'tragique': 2756, 'adorais': 2757, 'vomi': 2758, 'cuis': 2759, 'grassouillet': 2760, 'connue': 2761, 'alité': 2762, 'alitée': 2763, 'sournoise': 2764, 'parfois': 2765, 'renard': 2766, 'pipeau': 2767, 'jésus': 2768, 'permettez': 2769, 'abandonnons': 2770, 'ramasse': 2771, 'remplace': 2772, 'geste': 2773, 'écartez': 2774, 'siens': 2775, 'passée': 2776, 'triche': 2777, 'cuisiné': 2778, 'aida': 2779, 'gémissait': 2780, 'hurla': 2781, 'augmente': 2782, 'virez': 2783, 'mourons': 2784, 'achetons': 2785, 'tenter': 2786, 'travaillerons': 2787, 'foutu': 2788, 'hurlé': 2789, 'décide': 2790, 'vilain': 2791, 'discrets': 2792, 'amical': 2793, 'généreuse': 2794, 'clément': 2795, 'miséricordieuse': 2796, 'miséricordieux': 2797, 'raisonnables': 2798, 'minutieux': 2799, 'appellez': 2800, 'nombre': 2801, 'vaincu': 2802, 'discussion': 2803, 'habillez': 2804, 'partager': 2805, 'marqué': 2806, 'jazz': 2807, 'lèvres': 2808, 'remis': 2809, 'ému': 2810, 'lavée': 2811, 'essayerai': 2812, 'boulanger': 2813, 'toubib': 2814, 'veuve': 2815, 'confuse': 2816, 'diète': 2817, 'frousse': 2818, 'patiente': 2819, 'voyant': 2820, 'bourrée': 2821, 'piégée': 2822, 'fatal': 2823, 'brouillard': 2824, 'casser': 2825, 'couvert': 2826, 'métier': 2827, 'mettons': 2828, 'rapprochez': 2829, 'pile': 2830, 'date': 2831, 'voter': 2832, 'patienter': 2833, 'charme': 2834, 'bouchée': 2835, 'collant': 2836, 'parvenus': 2837, 'réfléchissez': 2838, 'glacée': 2839, 'doux': 2840, 'méfiant': 2841, 'reniflé': 2842, 'transpiré': 2843, 'coriace': 2844, 'démissionnons': 2845, 'éclaté': 2846, 'rompu': 2847, 'aidons': 2848, 'ennuyons': 2849, 'fauchées': 2850, 'intelligents': 2851, 'intelligentes': 2852, 'désolés': 2853, 'perte': 2854, 'passera': 2855, 'décontracté': 2856, 'paresseuses': 2857, 'grossiers': 2858, 'grossières': 2859, 'confiante': 2860, 'envoyez': 2861, 'approchez': 2862, 'fumes': 2863, 'fatigue': 2864, 'oublier': 2865, 'fantômes': 2866, 'bonsoir': 2867, 'évite': 2868, 'meure': 2869, 'effectué': 2870, 'effet': 2871, 'veine': 2872, 'miel': 2873, 'projets': 2874, 'piano': 2875, 'rose': 2876, 'forces': 2877, 'esseulé': 2878, 'esseulée': 2879, 'perdrai': 2880, 'demanderai': 2881, 'ensuite': 2882, 'lirai': 2883, 'canadienne': 2884, 'canadien': 2885, 'avocate': 2886, 'mélange': 2887, 'noyer': 2888, 'reconnaissant': 2889, 'privé': 2890, 'désespéré': 2891, 'désespérée': 2892, 'obéissant': 2893, 'offensée': 2894, 'crève': 2895, 'têtu': 2896, 'obstinée': 2897, 'ravie': 2898, 'nuageux': 2899, 'chiqué': 2900, 'net': 2901, 'arrivera': 2902, 'fruit': 2903, 'robot': 2904, 'archaïque': 2905, 'effarant': 2906, 'roule': 2907, 'concentrés': 2908, 'contrôler': 2909, 'écoutons': 2910, 'cochons': 2911, 'priez': 2912, 'tira': 2913, 'détestent': 2914, 'aident': 2915, 'froides': 2916, 'mignons': 2917, 'courriel': 2918, 'égaré': 2919, 'cran': 2920, 'espion': 2921, 'étourdi': 2922, 'écouta': 2923, 'adorait': 2924, 'sain': 2925, 'stone': 2926, 'réveil': 2927, 'mangerons': 2928, 'préjugés': 2929, 'plaisantons': 2930, 'mineurs': 2931, 'normaux': 2932, 'normales': 2933, 'forts': 2934, 'soirée': 2935, 'charlatan': 2936, 'importants': 2937, 'amuses': 2938, 'cruels': 2939, 'saoule': 2940, 'manières': 2941, 'naïfs': 2942, 'naïves': 2943, 'idiotes': 2944, 'planté': 2945, 'durs': 2946, 'inclus': 2947, 'questions': 2948, 'ennuyez': 2949, 'ennuies': 2950, 'respectueuse': 2951, 'respectueux': 2952, 'vendu': 2953, 'captes': 2954, 'captez': 2955, 'mesquin': 2956, 'impolie': 2957, 'impertinent': 2958, 'égard': 2959, 'trace': 2960, 'chanta': 2961, 'nourrissez': 2962, 'couper': 2963, 'rétablissement': 2964, 'uns': 2965, 'biscuit': 2966, 'ménage': 2967, 'ignoré': 2968, 'jouets': 2969, 'lapidé': 2970, 'fesses': 2971, 'saignait': 2972, 'délicieux': 2973, 'musulman': 2974, 'survivre': 2975, 'contribué': 2976, 'prêté': 2977, 'pèse': 2978, 'apeurée': 2979, 'prime': 2980, 'bague': 2981, 'jumelle': 2982, 'visa': 2983, 'droits': 2984, 'ail': 2985, 'jogging': 2986, 'automne': 2987, 'contrat': 2988, 'lampe': 2989, 'véhiculé': 2990, 'véhiculée': 2991, 'hockey': 2992, 'violon': 2993, 'fonds': 2994, 'fantôme': 2995, 'élue': 2996, 'poignardé': 2997, 'préoccupée': 2998, 'masque': 2999, 'mangerai': 3000, 'dentiste': 3001, 'convaincue': 3002, 'e': 3003, 'dégoûté': 3004, 'dégoûtée': 3005, 'fourbu': 3006, 'flatté': 3007, 'distraite': 3008, 'expert': 3009, 'éprouve': 3010, 'endurant': 3011, 'endurante': 3012, 'sensible': 3013, 'perruque': 3014, 'plaisanterie': 3015, 'location': 3016, 'laissons': 3017, 'descendons': 3018, 'hait': 3019, 'embauché': 3020, 'beauté': 3021, 'démarre': 3022, 'symptômes': 3023, 'ramène': 3024, 'goûts': 3025, 'dément': 3026, 'brisée': 3027, 'savaient': 3028, 'trouvés': 3029, 'trouvées': 3030, 'ennuient': 3031, 'dvd': 3032, 'nouez': 3033, 'attachez': 3034, 'exerce': 3035, 'ressentait': 3036, 'berné': 3037, 'coincé': 3038, 'offensa': 3039, 'déterminé': 3040, 'délicat': 3041, 'rejoint': 3042, 'appréciait': 3043, 'induit': 3044, 'pédales': 3045, 'obéira': 3046, 'mangera': 3047, 'valises': 3048, 'changeons': 3049, 'supposé': 3050, 'voulions': 3051, 'survivrons': 3052, 'ennemies': 3053, 'avocats': 3054, 'couler': 3055, 'bourrées': 3056, 'piégés': 3057, 'piégées': 3058, 'poisse': 3059, 'recruté': 3060, 'recrutée': 3061, 'hypocrite': 3062, 'adorerais': 3063, 'brillante': 3064, 'maline': 3065, 'malins': 3066, 'ajoute': 3067, 'permets': 3068, 'pleurez': 3069, 'annuler': 3070, 'donnent': 3071, 'sortis': 3072, 'sorties': 3073, 'embête': 3074, 'gobe': 3075, 'jugez': 3076, 'juge': 3077, 'obéissez': 3078, 'frimer': 3079, 'péter': 3080, 'tentez': 3081, 'débarrasse': 3082, 'indice': 3083, 'bisou': 3084, 'admirait': 3085, 'marque': 3086, 'gelée': 3087, 'gronda': 3088, 'crue': 3089, 'corrigé': 3090, 'pige': 3091, 'honteux': 3092, 'trompée': 3093, 'suivie': 3094, 'désorientée': 3095, 'vision': 3096, 'épinards': 3097, 'toux': 3098, 'cookies': 3099, 'pique': 3100, 'niques': 3101, 'causer': 3102, 'tortues': 3103, 'état': 3104, 'dessert': 3105, 'réponses': 3106, 'puni': 3107, 'données': 3108, 'éternue': 3109, 'chiot': 3110, 'chargerai': 3111, 'prierai': 3112, 'survivant': 3113, 'contagieuse': 3114, 'anéanti': 3115, 'anéantie': 3116, 'entraîner': 3117, 'intéressée': 3118, 'surpoids': 3119, 'consommer': 3120, 'probable': 3121, 'fonctionnait': 3122, 'mercredi': 3123, 'bonhomme': 3124, 'valeur': 3125, 'rentrons': 3126, 'réalistes': 3127, 'retournons': 3128, 'asseyons': 3129, 'déplacement': 3130, 'force': 3131, 'nomme': 3132, 'gratte': 3133, 'dent': 3134, 'morceau': 3135, 'augmenté': 3136, 'étranglé': 3137, 'embrassa': 3138, 'bruyante': 3139, 'mêlez': 3140, 'renifler': 3141, 'monsieur': 3142, 'désir': 3143, 'aboyait': 3144, 'éteignit': 3145, 'sonné': 3146, 'brûlant': 3147, 'hic': 3148, 'disposent': 3149, 'aidaient': 3150, 'plaisantent': 3151, 'efforts': 3152, 'sécurisé': 3153, 'avenir': 3154, 'dira': 3155, 'soixante': 3156, 'ford': 3157, 'riposté': 3158, 'taisait': 3159, 'tut': 3160, 'améliorera': 3161, 'vacille': 3162, 'anges': 3163, 'cerveau': 3164, 'connaissions': 3165, 'stupides': 3166, 'manqueras': 3167, 'impliqués': 3168, 'impliquées': 3169, 'réfugiés': 3170, 'massif': 3171, 'paris': 3172, 'plainte': 3173, 'pendule': 3174, 'parais': 3175, 'fière': 3176, 'puritain': 3177, 'puritaine': 3178, 'voleuse': 3179, 'excusée': 3180, 'gagnes': 3181, 'boissons': 3182, 'bouillir': 3183, 'brosse': 3184, 'perdez': 3185, 'exagérez': 3186, 'appétit': 3187, 'pop': 3188, 'acheta': 3189, 'peintre': 3190, 'tenait': 3191, 'surf': 3192, 'facture': 3193, 'midi': 3194, 'aventure': 3195, 'salade': 3196, 'saurais': 3197, 'permettre': 3198, 'désobéi': 3199, 'épilepsie': 3200, 'tapis': 3201, 'portable': 3202, 'étendu': 3203, 'auto': 3204, 'actuelle': 3205, 'tokyo': 3206, 'réalisé': 3207, 'casque': 3208, 'épée': 3209, 'clefs': 3210, 'maire': 3211, 'répète': 3212, 'totalement': 3213, 'acquitté': 3214, 'horrifié': 3215, 'horrifiée': 3216, 'apporterai': 3217, 'porter': 3218, 'semblant': 3219, 'détective': 3220, 'étranger': 3221, 'pressée': 3222, 'introverti': 3223, 'ivrogne': 3224, 'pont': 3225, 'blaguer': 3226, 'tel': 3227, 'sincèrement': 3228, 'respire': 3229, 'rivière': 3230, 'naturel': 3231, 'neuve': 3232, 'fraîche': 3233, 'fabuleux': 3234, 'finira': 3235, 'raccourci': 3236, 'acceptable': 3237, 'acide': 3238, 'sushi': 3239, 'requis': 3240, 'tomba': 3241, 'répétez': 3242, 'giflé': 3243, 'toussait': 3244, 'toussa': 3245, 'fonctionner': 3246, 'jeté': 3247, 'ouvrit': 3248, 'potage': 3249, 'sel': 3250, 'devinrent': 3251, 'devenues': 3252, 'restent': 3253, 'parlent': 3254, 'réalité': 3255, 'lancez': 3256, 'vendredi': 3257, 'trahis': 3258, 'peindre': 3259, 'arrogant': 3260, 'découragé': 3261, 'dyslexique': 3262, 'gravement': 3263, 'vif': 3264, 'craint': 3265, 'troublé': 3266, 'resta': 3267, 'tranquillement': 3268, 'texto': 3269, 'emballé': 3270, 'souffrir': 3271, 'répugnant': 3272, 'souvenir': 3273, 'vaisselle': 3274, 'orteils': 3275, 'canadiens': 3276, 'flexibles': 3277, 'apparentés': 3278, 'apparentées': 3279, 'mène': 3280, 'trouvait': 3281, 'peigne': 3282, 'bénévolat': 3283, 'comptez': 3284, 'chiant': 3285, 'intrépides': 3286, 'splendide': 3287, 'malades': 3288, 'talentueux': 3289, 'grasse': 3290, 'policier': 3291, 'étudiantes': 3292, 'canne': 3293, 'maîtrisez': 3294, 'possèdes': 3295, 'alarmé': 3296, 'oblige': 3297, 'garage': 3298, 'décidée': 3299, 'dîné': 3300, 'soudainement': 3301, 'envolé': 3302, 'tableau': 3303, 'picasso': 3304, 'utilisé': 3305, 'biologiste': 3306, 'observe': 3307, 'ressent': 3308, 'embarrassant': 3309, 'éternuer': 3310, 'cogné': 3311, 'drogue': 3312, 'impuissante': 3313, 'poule': 3314, 'crâne': 3315, 'halloween': 3316, 'allergies': 3317, 'rage': 3318, 'sonnerie': 3319, 'détonations': 3320, 'manche': 3321, 'allumai': 3322, 'cierge': 3323, 'bougie': 3324, 'commis': 3325, 'pneus': 3326, 'agressive': 3327, 'humilié': 3328, 'menacée': 3329, 'protéger': 3330, 'pendant': 3331, 'solitaire': 3332, 'amérique': 3333, 'ferait': 3334, 'pluvieux': 3335, 'contentez': 3336, 'exactement': 3337, 'mars': 3338, 'rythme': 3339, 'perroquets': 3340, 'polie': 3341, 'garez': 3342, 'bouton': 3343, 'tuberculose': 3344, 'rejeté': 3345, 'sursauter': 3346, 'hilarant': 3347, 'dangereuses': 3348, 'drôles': 3349, 'avancé': 3350, 'mystère': 3351, 'courtois': 3352, 'regrets': 3353, 'guitare': 3354, 'marchait': 3355, 'matière': 3356, 'calmer': 3357, 'dépourvues': 3358, 'visiteurs': 3359, 'régler': 3360, 'pressés': 3361, 'contrôlons': 3362, 'intéressés': 3363, 'coupables': 3364, 'propriétaires': 3365, 'finit': 3366, 'traître': 3367, 'bavard': 3368, 'sages': 3369, 'fermeture': 3370, 'copies': 3371, 'vécu': 3372, 'envoyés': 3373, 'envoyées': 3374, 'encombre': 3375, 'stylos': 3376, 'courts': 3377, 'mouise': 3378, 'poches': 3379, 'vêtements': 3380, 'intervenir': 3381, 'pus': 3382, 'ignorais': 3383, 'inscrit': 3384, 'descendu': 3385, 'couleur': 3386, 'proposition': 3387, 'intimité': 3388, 'couleurs': 3389, 'électricité': 3390, 'serrure': 3391, 'ignorance': 3392, 'victoire': 3393, 'dissuadé': 3394, 'penser': 3395, 'abasourdi': 3396, 'maladie': 3397, 'inflation': 3398, 'plut': 3399, 'fortement': 3400, 'chargée': 3401, 'déprimant': 3402, 'délicieuse': 3403, 'chantons': 3404, 'pardonner': 3405, 'tourner': 3406, 'enfile': 3407, 'enfilez': 3408, 'aspirine': 3409, 'sonna': 3410, 'massifs': 3411, 'rirent': 3412, 'renards': 3413, 'relâché': 3414, 'suspect': 3415, 'blesser': 3416, 'écoutait': 3417, 'remarquable': 3418, 'empoisonné': 3419, 'venger': 3420, 'mariées': 3421, 'réunion': 3422, 'lâches': 3423, 'bonheur': 3424, 'vive': 3425, 'gratuite': 3426, 'criminelle': 3427, 'escargots': 3428, 'hôpital': 3429, 'remercier': 3430, 'théâtre': 3431, 'position': 3432, 'confirmer': 3433, 'informations': 3434, 'avertir': 3435, 'coutume': 3436, 'promu': 3437, 'fermée': 3438, 'uvre': 3439, 'profil': 3440, 'pelouse': 3441, 'furent': 3442, 'batterie': 3443, 'efforcez': 3444, 'ébahi': 3445, 'insulte': 3446, 'fuyons': 3447, 'baissez': 3448, 'stop': 3449, 'aha': 3450, 'max': 3451, 'raoul': 3452, 'attaquez': 3453, 'tchin': 3454, 'façons': 3455, 'justes': 3456, 'brûlez': 3457, 'enterrez': 3458, 'secouez': 3459, 'pliez': 3460, 'plie': 3461, 'assoupi': 3462, 'assoupie': 3463, 'juré': 3464, 'cafard': 3465, 'bibi': 3466, 'appuie': 3467, 'taisez': 3468, 'tais': 3469, 'bouclez': 3470, 'perdîmes': 3471, 'battues': 3472, 'défaits': 3473, 'défaites': 3474, 'réparez': 3475, 'barrez': 3476, 'barre': 3477, 'profondeur': 3478, 'reposée': 3479, 'revoilà': 3480, 'peau': 3481, 'teint': 3482, 'fainéant': 3483, 'nickel': 3484, 'payait': 3485, 'employez': 3486, 'préviens': 3487, 'mourez': 3488, 'dodo': 3489, 'dj': 3490, 'sexy': 3491, 'cligné': 3492, 'recul': 3493, 'sourcils': 3494, 'rigolé': 3495, 'grogné': 3496, 'dépêché': 3497, 'dépêchée': 3498, 'précipitée': 3499, 'voyais': 3500, 'obéirai': 3501, 'marcherai': 3502, 'vivante': 3503, 'décroché': 3504, 'soûl': 3505, 'loyal': 3506, 'pleuvait': 3507, 'verse': 3508, 'neigé': 3509, 'allongée': 3510, 'immobiles': 3511, 'tranquillisez': 3512, 'reposez': 3513, 'aaah': 3514, 'capturez': 3515, 'attirante': 3516, 'patientez': 3517, 'calmos': 3518, 'restes': 3519, 'nagèrent': 3520, 'boite': 3521, 'déverrouillez': 3522, 'entretînmes': 3523, 'attendîmes': 3524, 'emporterons': 3525, 'extra': 3526, 'merveille': 3527, 'pues': 3528, 'partant': 3529, 'levés': 3530, 'chantent': 3531, 'inspire': 3532, 'détruisez': 3533, 'détruis': 3534, 'pleurent': 3535, 'tracasse': 3536, 'tracassez': 3537, 'sautez': 3538, 'précipitez': 3539, 'évidence': 3540, 'pardonnez': 3541, 'échauffer': 3542, 'céda': 3543, 'raccroché': 3544, 'absurdité': 3545, 'construite': 3546, 'entraîne': 3547, 'réparé': 3548, 'réparai': 3549, 'tressailli': 3550, 'rencontrai': 3551, 'protestais': 3552, 'enfuit': 3553, 'épaules': 3554, 'plissé': 3555, 'tirerai': 3556, 'cupide': 3557, 'ruinée': 3558, 'remué': 3559, 'remuée': 3560, 'trempée': 3561, 'stricte': 3562, 'sept': 3563, 'marchera': 3564, 'phénomène': 3565, 'bidon': 3566, 'bougeons': 3567, 'voiles': 3568, 'passons': 3569, 'votons': 3570, 'vigilants': 3571, 'blesse': 3572, 'remplacez': 3573, 'gardes': 3574, 'alerte': 3575, 'trichent': 3576, 'freiné': 3577, 'jure': 3578, 'hocha': 3579, 'soupira': 3580, 'sanglotait': 3581, 'grimace': 3582, 'grimacé': 3583, 'paiera': 3584, 'augmentez': 3585, 'échouerons': 3586, 'réussirons': 3587, 'attendrons': 3588, 'égalité': 3589, 'décidez': 3590, 'créatives': 3591, 'créatifs': 3592, 'discrètes': 3593, 'amicale': 3594, 'clémente': 3595, 'ponctuelles': 3596, 'ponctuels': 3597, 'impitoyables': 3598, 'spécifique': 3599, 'minutieuse': 3600, 'refais': 3601, 'refaites': 3602, 'trichez': 3603, 'ris': 3604, 'fixe': 3605, 'changez': 3606, 'endors': 3607, 'riait': 3608, 'tripes': 3609, 'binoclard': 3610, 'flemmard': 3611, 'thune': 3612, 'moine': 3613, 'brûlée': 3614, 'parvenir': 3615, 'buvais': 3616, 'amende': 3617, 'prune': 3618, 'contravention': 3619, 'contredanse': 3620, 'hésité': 3621, 'plaisent': 3622, 'gâteaux': 3623, 'cloué': 3624, 'opposé': 3625, 'protesté': 3626, 'remise': 3627, 'gaz': 3628, 'débattu': 3629, 'parvenue': 3630, 'sou': 3631, 'tournait': 3632, 'saqué': 3633, 'crierai': 3634, 'annulerai': 3635, 'changerai': 3636, 'déciderai': 3637, 'arriverai': 3638, 'chocottes': 3639, 'fiancée': 3640, 'affolé': 3641, 'neutre': 3642, 'remonté': 3643, 'voyante': 3644, 'retraité': 3645, 'pensionné': 3646, 'pensionnée': 3647, 'choquée': 3648, 'dalle': 3649, 'crocs': 3650, 'gavé': 3651, 'désarmé': 3652, 'briser': 3653, 'poison': 3654, 'dansons': 3655, 'buvons': 3656, 'célébrons': 3657, 'amusante': 3658, 'croissent': 3659, 'votez': 3660, 'appuyez': 3661, 'entrée': 3662, 'rougi': 3663, 'cinglée': 3664, 'crème': 3665, 'trichait': 3666, 'noya': 3667, 'respirait': 3668, 'moral': 3669, 'vaniteux': 3670, 'méfie': 3671, 'réagi': 3672, 'salue': 3673, 'éteignez': 3674, 'tirés': 3675, 'souvenons': 3676, 'combattrons': 3677, 'désolées': 3678, 'coincés': 3679, 'coincées': 3680, 'jumelles': 3681, 'naze': 3682, 'malheur': 3683, 'dessiné': 3684, 'rendras': 3685, 'givré': 3686, 'givrée': 3687, 'givrées': 3688, 'neufs': 3689, 'neuves': 3690, 'chauves': 3691, 'armez': 3692, 'attentif': 3693, 'attentive': 3694, 'objective': 3695, 'objectives': 3696, 'rejoindre': 3697, 'accompagne': 3698, 'décris': 3699, 'vexé': 3700, 'dérangez': 3701, 'résiste': 3702, 'pièces': 3703, 'carabine': 3704, 'existent': 3705, 'nié': 3706, 'héroïque': 3707, 'moqué': 3708, 'fanatique': 3709, 'embêtant': 3710, 'barbare': 3711, 'pitoyable': 3712, 'appelées': 3713, 'coupée': 3714, 'mords': 3715, 'évanouir': 3716, 'malaise': 3717, 'larguée': 3718, 'tremper': 3719, 'menteurs': 3720, 'plaisanteries': 3721, 'voyages': 3722, 'grouiller': 3723, 'démarré': 3724, 'douté': 3725, 'frappée': 3726, 'reprises': 3727, 'battrai': 3728, 'apprendrai': 3729, 'expliquerai': 3730, 'mettrai': 3731, 'tuerai': 3732, 'signerai': 3733, 'gémeaux': 3734, 'taureau': 3735, 'barbier': 3736, 'fermier': 3737, 'agriculteur': 3738, 'assuétude': 3739, 'autiste': 3740, 'saigne': 3741, 'divorcée': 3742, 'reconnaissante': 3743, 'ingénu': 3744, 'ingénue': 3745, 'rationnel': 3746, 'las': 3747, 'obstiné': 3748, 'chatouilleux': 3749, 'affairé': 3750, 'affairée': 3751, 'identifiez': 3752, 'fer': 3753, 'élan': 3754, 'aura': 3755, 'malédiction': 3756, 'gaspillage': 3757, 'manquant': 3758, 'coule': 3759, 'concentrées': 3760, 'revue': 3761, 'hasarde': 3762, 'égoïstes': 3763, 'bougé': 3764, 'pépère': 3765, 'libérez': 3766, 'descendit': 3767, 'sortit': 3768, 'quereller': 3769, 'fredonner': 3770, 'bouder': 3771, 'geindre': 3772, 'bailler': 3773, 'commandement': 3774, 'conte': 3775, 'approuvent': 3776, 'entrés': 3777, 'connaissaient': 3778, 'dirent': 3779, 'appelleront': 3780, 'téléphoner': 3781, 'grandiront': 3782, 'sauront': 3783, 'froids': 3784, 'mignonnes': 3785, 'décédés': 3786, 'décédées': 3787, 'rare': 3788, 'approuvé': 3789, 'bronché': 3790, 'obèse': 3791, 'stoïque': 3792, 'végan': 3793, 'rencontra': 3794, 'céder': 3795, 'abattue': 3796, 'bégaie': 3797, 'décollé': 3798, 'traduisez': 3799, 'traduis': 3800, 'déjeuné': 3801, 'aimions': 3802, 'mourions': 3803, 'chair': 3804, 'suivrons': 3805, 'gérerons': 3806, 'mourrons': 3807, 'adultes': 3808, 'directs': 3809, 'condamnés': 3810, 'perdons': 3811, 'crevées': 3812, 'sournoises': 3813, 'fortes': 3814, 'souhaitez': 3815, 'cruelles': 3816, 'saouls': 3817, 'saoules': 3818, 'passes': 3819, 'marrants': 3820, 'marrantes': 3821, 'plantée': 3822, 'dures': 3823, 'futon': 3824, 'doté': 3825, 'bande': 3826, 'démonte': 3827, 'lancer': 3828, 'patiner': 3829, 'criminalité': 3830, 'pigez': 3831, 'mesquine': 3832, 'désespère': 3833, 'raccroche': 3834, 'raccrochez': 3835, 'pois': 3836, 'expirez': 3837, 'jambon': 3838, 'conseille': 3839, 'cassés': 3840, 'plombs': 3841, 'enlaça': 3842, 'enlacée': 3843, 'ignorée': 3844, 'patin': 3845, 'mentit': 3846, 'aima': 3847, 'pincé': 3848, 'arnaqué': 3849, 'arnaquée': 3850, 'ancien': 3851, 'tarte': 3852, 'acquérir': 3853, 'ressentir': 3854, 'tousse': 3855, 'vole': 3856, 'renaître': 3857, 'gratuitement': 3858, 'devenais': 3859, 'enrhumé': 3860, 'galant': 3861, 'claque': 3862, 'craques': 3863, 'chameaux': 3864, 'villes': 3865, 'raisin': 3866, 'poésie': 3867, 'trains': 3868, 'films': 3869, 'insister': 3870, 'émettre': 3871, 'formuler': 3872, 'équipage': 3873, 'préséance': 3874, 'priorité': 3875, 'poulets': 3876, 'flingue': 3877, 'capitulé': 3878, 'montée': 3879, 'excursion': 3880, 'tiendrai': 3881, 'poèmes': 3882, 'chansons': 3883, 'permettrai': 3884, 'trouverai': 3885, 'continuerai': 3886, 'sauverai': 3887, 'regarderai': 3888, 'scorpion': 3889, 'soldat': 3890, 'chirurgien': 3891, 'adapte': 3892, 'orphelin': 3893, 'bilingue': 3894, 'dévoué': 3895, 'différente': 3896, 'événement': 3897, 'étourdie': 3898, 'intriguée': 3899, 'intrigue': 3900, 'admirateurs': 3901, 'grève': 3902, 'bombe': 3903, 'canular': 3904, 'test': 3905, 'examen': 3906, 'épidémie': 3907, 'parodie': 3908, 'passionnant': 3909, 'indécent': 3910, 'minuit': 3911, 'traite': 3912, 'rat': 3913, 'suicidaire': 3914, 'protégez': 3915, 'protège': 3916, 'lutter': 3917, 'démener': 3918, 'champ': 3919, 'gardons': 3920, 'douce': 3921, 'brûlent': 3922, 'sonnez': 3923, 'russie': 3924, 'scellez': 3925, 'scelle': 3926, 'descendre': 3927, 'renvoyez': 3928, 'renvoie': 3929, 'arrivée': 3930, 'queue': 3931, 'cracher': 3932, 'varient': 3933, 'ramenez': 3934, 'saturne': 3935, 'mythe': 3936, 'faisable': 3937, 'con': 3938, 'prenait': 3939, 'trouvèrent': 3940, 'asiatiques': 3941, 'géniaux': 3942, 'géniales': 3943, 'formidables': 3944, 'petites': 3945, 'trompent': 3946, 'ineptie': 3947, 'exercé': 3948, 'diplôme': 3949, 'moutons': 3950, 'hésita': 3951, 'entrain': 3952, 'vulgaire': 3953, 'quitta': 3954, 'overdose': 3955, 'effraie': 3956, 'perdait': 3957, 'pâli': 3958, 'travaillera': 3959, 'changera': 3960, 'arrières': 3961, 'échouer': 3962, 'pouvions': 3963, 'opposés': 3964, 'eûmes': 3965, 'prendrons': 3966, 'acceptons': 3967, 'formons': 3968, 'perplexes': 3969, 'certaines': 3970, 'veinards': 3971, 'veinardes': 3972, 'populaires': 3973, 'choqués': 3974, 'choquées': 3975, 'sincères': 3976, 'spéciaux': 3977, 'malchanceuses': 3978, 'déception': 3979, 'lisible': 3980, 'courrier': 3981, 'snob': 3982, 'célébrité': 3983, 'rusé': 3984, 'rusée': 3985, 'astucieuse': 3986, 'avide': 3987, 'bougon': 3988, 'bougonne': 3989, 'grognon': 3990, 'maigrichonnes': 3991, 'maigrichons': 3992, 'endormis': 3993, 'endormies': 3994, 'agis': 3995, 'ajoutez': 3996, 'qualifié': 3997, 'critères': 3998, 'réels': 3999, 'clichés': 4000, 'vivants': 4001, 'vivantes': 4002, 'pelle': 4003, 'payez': 4004, 'offrez': 4005, 'jongler': 4006, 'espèces': 4007, 'nourrissent': 4008, 'produisent': 4009, 'recyclage': 4010, 'salace': 4011, 'plains': 4012, 'assois': 4013, 'tente': 4014, 'gaspille': 4015, 'profite': 4016, 'haleine': 4017, 'prêtez': 4018, 'baiser': 4019, 'lèvre': 4020, 'disparut': 4021, 'détestait': 4022, 'acteur': 4023, 'sociable': 4024, 'sensé': 4025, 'tirait': 4026, 'haletait': 4027, 'détenu': 4028, 'maniez': 4029, 'banane': 4030, 'pénétrer': 4031, 'recalé': 4032, 'aversion': 4033, 'échappe': 4034, 'honoré': 4035, 'honorée': 4036, 'énervée': 4037, 'grandi': 4038, 'repasser': 4039, 'fiévreux': 4040, 'dénué': 4041, 'homard': 4042, 'énigmes': 4043, 'desserts': 4044, 'foyer': 4045, 'nostalgie': 4046, 'fac': 4047, 'soulever': 4048, 'protestation': 4049, 'timbre': 4050, 'plaide': 4051, 'fermer': 4052, 'reprends': 4053, 'pensé': 4054, 'nus': 4055, 'insouciant': 4056, 'déchiré': 4057, 'agonie': 4058, 'oublierai': 4059, 'présenterai': 4060, 'coopérerai': 4061, 'guiderai': 4062, 'débrouillerai': 4063, 'occuperai': 4064, 'épouserai': 4065, 'payerai': 4066, 'fierai': 4067, 'novice': 4068, 'marchand': 4069, 'vendeur': 4070, 'vieil': 4071, 'déshydraté': 4072, 'diplomate': 4073, 'analphabète': 4074, 'méditer': 4075, 'méthodique': 4076, 'congés': 4077, 'vainqueur': 4078, 'chômage': 4079, 'habituée': 4080, 'remariée': 4081, 'crédible': 4082, 'ours': 4083, 'améliore': 4084, 'réel': 4085, 'magique': 4086, 'prévu': 4087, 'dorénavant': 4088, 'classique': 4089, 'interdit': 4090, 'immonde': 4091, 'finissons': 4092, 'accompagner': 4093, 'évadé': 4094, 'remarqua': 4095, 'précaution': 4096, 'poursuivre': 4097, 'procéder': 4098, 'fauteuil': 4099, 'redis': 4100, 'redites': 4101, 'science': 4102, 'vénère': 4103, 'infirmière': 4104, 'bach': 4105, 'taquina': 4106, 'esprits': 4107, 'bavarder': 4108, 'ergoter': 4109, 'tait': 4110, 'visible': 4111, 'foutaises': 4112, 'poupon': 4113, 'chantaient': 4114, 'aboya': 4115, 'drapeau': 4116, 'sirène': 4117, 'burent': 4118, 'boueux': 4119, 'démasqué': 4120, 'arrivées': 4121, 'puent': 4122, 'morflé': 4123, 'attaquer': 4124, 'attaqueront': 4125, 'essaient': 4126, 'essayent': 4127, 'positivement': 4128, 'chouettes': 4129, 'dé': 4130, 'poire': 4131, 'libéra': 4132, 'judicieux': 4133, 'buvait': 4134, 'dessine': 4135, 'escroc': 4136, 'pareil': 4137, 'impassible': 4138, 'débile': 4139, 'gardait': 4140, 'battra': 4141, 'réussira': 4142, 'bluffe': 4143, 'noie': 4144, 'surveillez': 4145, 'précautions': 4146, 'rîmes': 4147, 'arrêtions': 4148, 'cessions': 4149, 'rendues': 4150, 'rendus': 4151, 'plaisantait': 4152, 'aiderons': 4153, 'manquera': 4154, 'gèle': 4155, 'impuissants': 4156, 'impuissantes': 4157, 'innocents': 4158, 'partenaires': 4159, 'puissants': 4160, 'puissantes': 4161, 'causes': 4162, 'échoue': 4163, 'nettoyée': 4164, 'embrassée': 4165, 'embrassées': 4166, 'fautif': 4167, 'feras': 4168, 'chandelle': 4169, 'marrer': 4170, 'géniale': 4171, 'insaisissable': 4172, 'imprudent': 4173, 'imprudente': 4174, 'hideuse': 4175, 'héroïne': 4176, 'obscène': 4177, 'professionnel': 4178, 'gagnez': 4179, 'inquiets': 4180, 'chavira': 4181, 'chaviré': 4182, 'ajuste': 4183, 'rétabli': 4184, 'inscrire': 4185, 'gratuites': 4186, 'habillé': 4187, 'habillée': 4188, 'habillés': 4189, 'habillées': 4190, 'envieux': 4191, 'envieuse': 4192, 'hibernent': 4193, 'parvenez': 4194, 'lâcher': 4195, 'boîtes': 4196, 'ongles': 4197, 'trappe': 4198, 'jusque': 4199, 'noirs': 4200, 'défendez': 4201, 'défends': 4202, 'débarqué': 4203, 'massage': 4204, 'confiture': 4205, 'radin': 4206, 'fâche': 4207, 'interrompez': 4208, 'interromps': 4209, 'exagère': 4210, 'résistez': 4211, 'regardait': 4212, 'prié': 4213, 'corn': 4214, 'écriteau': 4215, 'pancarte': 4216, 'recommencé': 4217, 'instituteur': 4218, 'mentionna': 4219, 'sauva': 4220, 'pêche': 4221, 'quarante': 4222, 'humiliation': 4223, 'barré': 4224, 'mangeais': 4225, 'nier': 4226, 'contracté': 4227, 'prochain': 4228, 'méritais': 4229, 'réellement': 4230, 'fiévreuse': 4231, 'isolé': 4232, 'exclue': 4233, 'soulagée': 4234, 'cultive': 4235, 'tomates': 4236, 'correctement': 4237, 'fanatiques': 4238, 'bagarre': 4239, 'chaleur': 4240, 'mariages': 4241, 'boulots': 4242, 'guide': 4243, 'nouba': 4244, 'souper': 4245, 'sonner': 4246, 'résonner': 4247, 'retentir': 4248, 'dormis': 4249, 'vitamines': 4250, 'enseigné': 4251, 'promené': 4252, 'perroquet': 4253, 'remboursement': 4254, 'revenue': 4255, 'partiez': 4256, 'quérir': 4257, 'combat': 4258, 'risquer': 4259, 'tairai': 4260, 'zoo': 4261, 'arrangerai': 4262, 'choisir': 4263, 'détruirai': 4264, 'commanderai': 4265, 'dormirai': 4266, 'résoudre': 4267, 'capricorne': 4268, 'éméché': 4269, 'géologue': 4270, 'apprête': 4271, 'ingénieur': 4272, 'arrose': 4273, 'daltonien': 4274, 'extravertie': 4275, 'devenir': 4276, 'munitions': 4277, 'persévère': 4278, 'avalé': 4279, 'croyons': 4280, 'bat': 4281, 'autorisé': 4282, 'possibilité': 4283, 'glacial': 4284, 'déverrouillée': 4285, 'valait': 4286, 'étape': 4287, 'outrage': 4288, 'insuffisant': 4289, 'propos': 4290, 'passagère': 4291, 'balaise': 4292, 'rafraîchissant': 4293, 'néanmoins': 4294, 'époque': 4295, 'souriante': 4296, 'souriant': 4297, 'biper': 4298, 'connaître': 4299, 'citron': 4300, 'répéter': 4301, 'taisons': 4302, 'cerfs': 4303, 'préparons': 4304, 'improvisons': 4305, 'reposons': 4306, 'songe': 4307, 'noire': 4308, 'enfui': 4309, 'jeans': 4310, 'furieuse': 4311, 'mensonges': 4312, 'pelez': 4313, 'pèle': 4314, 'élevés': 4315, 'rejet': 4316, 'enlève': 4317, 'ôte': 4318, 'détourna': 4319, 'détourné': 4320, 'épousé': 4321, 'épousa': 4322, 'gifla': 4323, 'attaché': 4324, 'assurance': 4325, 'baraka': 4326, 'taquiner': 4327, 'apprenez': 4328, 'franchement': 4329, 'racontez': 4330, 'douteux': 4331, 'filet': 4332, 'brûlante': 4333, 'couché': 4334, 'baignoire': 4335, 'remède': 4336, 'prirent': 4337, 'pilotes': 4338, 'bloquée': 4339, 'fichent': 4340, 'craignaient': 4341, 'souhaité': 4342, 'tenaient': 4343, 'semblent': 4344, 'eurent': 4345, 'crédules': 4346, 'rigolent': 4347, 'similaires': 4348, 'farce': 4349, 'balivernes': 4350, 'cadeaux': 4351, 'rappelé': 4352, 'tailleur': 4353, 'trempé': 4354, 'éloquent': 4355, 'incertain': 4356, 'lamentable': 4357, 'pervers': 4358, 'réformé': 4359, 'entêté': 4360, 'tact': 4361, 'tolérant': 4362, 'placé': 4363, 'dupe': 4364, 'témoigner': 4365, 'témoigne': 4366, 'trompait': 4367, 'siroté': 4368, 'photos': 4369, 'désirait': 4370, 'souffrira': 4371, 'souviendra': 4372, 'repoussant': 4373, 'tâche': 4374, 'précisément': 4375, 'secouru': 4376, 'détestons': 4377, 'imbéciles': 4378, 'assister': 4379, 'comptons': 4380, 'parlions': 4381, 'conscience': 4382, 'partagé': 4383, 'récupérer': 4384, 'faisions': 4385, 'voile': 4386, 'camper': 4387, 'attraperons': 4388, 'viendrons': 4389, 'canadiennes': 4390, 'ambitieuses': 4391, 'différents': 4392, 'différentes': 4393, 'épuisés': 4394, 'épuisées': 4395, 'impatients': 4396, 'impatientes': 4397, 'motivés': 4398, 'chichis': 4399, 'endurants': 4400, 'endurantes': 4401, 'enneigés': 4402, 'enneigées': 4403, 'âmes': 4404, 'scores': 4405, 'serrés': 4406, 'trésor': 4407, 'récompense': 4408, 'coût': 4409, 'précipitation': 4410, 'trousses': 4411, 'pauvres': 4412, 'manquèrent': 4413, 'déçu': 4414, 'réjoui': 4415, 'réjouie': 4416, 'arrogante': 4417, 'négligent': 4418, 'déloyal': 4419, 'déloyale': 4420, 'fidèles': 4421, 'pardonnée': 4422, 'incorrigible': 4423, 'trompez': 4424, 'agitée': 4425, 'autoritaire': 4426, 'talentueuse': 4427, 'responsables': 4428, 'lente': 4429, 'ailes': 4430, 'accidents': 4431, 'surviennent': 4432, 'invisible': 4433, 'bienvenus': 4434, 'bienvenues': 4435, 'moururent': 4436, 'candidature': 4437, 'catholique': 4438, 'maniaque': 4439, 'dactylo': 4440, 'sorcière': 4441, 'réelle': 4442, 'normalement': 4443, 'renseigner': 4444, 'épeler': 4445, 'soigneusement': 4446, 'sommet': 4447, 'stores': 4448, 'considère': 4449, 'traverse': 4450, 'délicatement': 4451, 'possédez': 4452, 'précipitamment': 4453, 'alarmée': 4454, 'obligez': 4455, 'ramassez': 4456, 'comprenez': 4457, 'verres': 4458, 'légumes': 4459, 'applaudit': 4460, 'triomphe': 4461, 'hamster': 4462, 'termine': 4463, 'jardiner': 4464, 'accordez': 4465, 'croissant': 4466, 'nettoya': 4467, 'nettoyé': 4468, 'récemment': 4469, 'pyjama': 4470, 'prof': 4471, 'tint': 4472, 'chasser': 4473, 'oranges': 4474, 'natation': 4475, 'pensait': 4476, 'endetté': 4477, 'muet': 4478, 'dormait': 4479, 'france': 4480, 'parviendra': 4481, 'tenancier': 4482, 'deuxième': 4483, 'types': 4484, 'ticket': 4485, 'trouves': 4486, 'bonnard': 4487, 'ressentez': 4488, 'noyée': 4489, 'brésil': 4490, 'payée': 4491, 'procédé': 4492, 'incliné': 4493, 'remplacer': 4494, 'stopper': 4495, 'truite': 4496, 'entendue': 4497, 'investi': 4498, 'investie': 4499, 'pouvoirs': 4500, 'sentiment': 4501, 'chimie': 4502, 'ordinateurs': 4503, 'hypocrisie': 4504, 'paperasse': 4505, 'bouquin': 4506, 'site': 4507, 'web': 4508, 'mené': 4509, 'océan': 4510, 'portefeuille': 4511, 'hérissons': 4512, 'rôle': 4513, 'énormément': 4514, 'prévenir': 4515, 'kleenex': 4516, 'aides': 4517, 'ouvris': 4518, 'dette': 4519, 'restaurant': 4520, 'refusai': 4521, 'regrette': 4522, 'bail': 4523, 'étudié': 4524, 'revanche': 4525, 'affection': 4526, 'étonné': 4527, 'humiliée': 4528, 'victorieux': 4529, 'coller': 4530, 'pardonnerai': 4531, 'employé': 4532, 'comptable': 4533, 'alcoolique': 4534, 'côtés': 4535, 'traditionaliste': 4536, 'conscient': 4537, 'vente': 4538, 'virus': 4539, 'avouer': 4540, 'signifie': 4541, 'battage': 4542, 'an': 4543, 'obligatoire': 4544, 'tempête': 4545, 'ensoleillé': 4546, 'tradition': 4547, 'venteux': 4548, 'saison': 4549, 'drame': 4550, 'compromis': 4551, 'enchanté': 4552, 'humour': 4553, 'effort': 4554, 'fenêtres': 4555, 'meurent': 4556, 'polis': 4557, 'polies': 4558, 'développer': 4559, 'italie': 4560, 'fouillez': 4561, 'certainement': 4562, 'chevelure': 4563, 'insulté': 4564, 'décontractée': 4565, 'chameau': 4566, 'mordue': 4567, 'crache': 4568, 'interférer': 4569, 'constitue': 4570, 'inquiétant': 4571, 'pénible': 4572, 'rideau': 4573, 'aigre': 4574, 'interrupteur': 4575, 'cds': 4576, 'entrèrent': 4577, 'raillé': 4578, 'artistes': 4579, 'croient': 4580, 'boivent': 4581, 'tues': 4582, 'approchèrent': 4583, 'apprécient': 4584, 'assassinés': 4585, 'tuées': 4586, 'reviendra': 4587, 'souviendront': 4588, 'échappent': 4589, 'évadent': 4590, 'enfuient': 4591, 'craignent': 4592, 'rient': 4593, 'temporiser': 4594, 'choquant': 4595, 'précieux': 4596, 'tabassé': 4597, 'calmé': 4598, 'changea': 4599, 'lapin': 4600, 'poules': 4601, 'observer': 4602, 'soupirer': 4603, 'textos': 4604, 'tulipes': 4605, 'poing': 4606, 'consterné': 4607, 'agresser': 4608, 'déporté': 4609, 'prendra': 4610, 'protection': 4611, 'innovateur': 4612, 'rigoler': 4613, 'paniquer': 4614, 'assassiné': 4615, 'arrivâmes': 4616, 'premiers': 4617, 'concouru': 4618, 'parvenons': 4619, 'dépendons': 4620, 'donnâmes': 4621, 'avertissement': 4622, 'diviser': 4623, 'dès': 4624, 'partîmes': 4625, 'prises': 4626, 'fiers': 4627, 'entraînons': 4628, 'cernés': 4629, 'mangeur': 4630, 'ceinture': 4631, 'apprendre': 4632, 'mentirait': 4633, 'aiderait': 4634, 'x': 4635, 'indique': 4636, 'mérites': 4637, 'arrêtes': 4638, 'septième': 4639, 'rêveuse': 4640, 'traîtresse': 4641, 'belles': 4642, 'suffisante': 4643, 'courtoise': 4644, 'dangereuse': 4645, 'importantes': 4646, 'virée': 4647, 'odieux': 4648, 'odieuse': 4649, 'bavarde': 4650, 'tendue': 4651, 'avisés': 4652, 'avisées': 4653, 'merveilleuse': 4654, 'merveilleuses': 4655, 'braguette': 4656, 'dévalisé': 4657, 'abattit': 4658, 'compréhensible': 4659, 'japonaises': 4660, 'valent': 4661, 'autrui': 4662, 'voleurs': 4663, 'voleuses': 4664, 'ambulance': 4665, 'directement': 4666, 'traduire': 4667, 'lien': 4668, 'cocaïne': 4669, 'rapproche': 4670, 'prêter': 4671, 'pouviez': 4672, 'domestique': 4673, 'kratom': 4674, 'cochonneries': 4675, 'appréciez': 4676, 'pleins': 4677, 'foin': 4678, 'paraissait': 4679, 'bruyamment': 4680, 'saisit': 4681, 'saisi': 4682, 'blonds': 4683, 'marron': 4684, 'gentleman': 4685, 'physicien': 4686, 'scientifique': 4687, 'incompétent': 4688, 'influent': 4689, 'irréaliste': 4690, 'déménagé': 4691, 'marin': 4692, 'russe': 4693, 'tordu': 4694, 'emprisonné': 4695, 'excusera': 4696, 'journaliste': 4697, 'billet': 4698, 'rampe': 4699, 'courais': 4700, 'couraient': 4701, 'coûtent': 4702, 'appât': 4703, 'baigne': 4704, 'quotidiennement': 4705, 'verrouillai': 4706, 'accordé': 4707, 'diplômé': 4708, 'diplômée': 4709, 'tapé': 4710, 'grincé': 4711, 'cauchemar': 4712, 'migraine': 4713, 'passeport': 4714, 'poitrine': 4715, 'fond': 4716, 'laissai': 4717, 'défis': 4718, 'jupe': 4719, 'chapeaux': 4720, 'écharpe': 4721, 'souliers': 4722, 'fabriqué': 4723, 'prévois': 4724, 'appréciais': 4725, 'arpenteuse': 4726, 'planche': 4727, 'plates': 4728, 'passager': 4729, 'défenses': 4730, 'embarrassée': 4731, 'bouleversé': 4732, 'punie': 4733, 'remporté': 4734, 'candidat': 4735, 'libèrerai': 4736, 'voterai': 4737, 'loque': 4738, 'indisponible': 4739, 'supérieur': 4740, 'débordé': 4741, 'voisin': 4742, 'pur': 4743, 'survenu': 4744, 'vieillit': 4745, 'délibéré': 4746, 'inattendu': 4747, 'début': 4748, 'discutable': 4749, 'dru': 4750, 'distances': 4751, 'refaisons': 4752, 'tirons': 4753, 'paille': 4754, 'jetons': 4755, 'prédiction': 4756, 'désordre': 4757, 'aiguisé': 4758, 'épaule': 4759, 'vies': 4760, 'jouet': 4761, 'adolescent': 4762, 'amèrement': 4763, 'fleur': 4764, 'réagir': 4765, 'excessive': 4766, 'dramatiser': 4767, 'risquez': 4768, 'foule': 4769, 'phares': 4770, 'allumés': 4771, 'écrasa': 4772, 'système': 4773, 'jugement': 4774, 'pure': 4775, 'chassaient': 4776, 'cessent': 4777, 'enlevé': 4778, 'enlevée': 4779, 'convenait': 4780, 'torturé': 4781, 'tiraient': 4782, 'haletaient': 4783, 'survivront': 4784, 'négocieront': 4785, 'essayeront': 4786, 'identiques': 4787, 'caisse': 4788, 'noix': 4789, 'permanent': 4790, 'éc': 4791, 'urant': 4792, 'prier': 4793, 'comporté': 4794, 'prétend': 4795, 'agressif': 4796, 'menotté': 4797, 'protecteur': 4798, 'formé': 4799, 'ramper': 4800, 'tricoter': 4801, 'déconcerté': 4802, 'reconnu': 4803, 'patiemment': 4804, 'servi': 4805, 'serré': 4806, 'mises': 4807, 'imagination': 4808, 'alimentation': 4809, 'tuyau': 4810, 'bières': 4811, 'défauts': 4812, 'arrivons': 4813, 'fermons': 4814, 'fourré': 4815, 'préoccupés': 4816, 'préoccupées': 4817, 'protégerons': 4818, 'averties': 4819, 'obéissante': 4820, 'révélation': 4821, 'caché': 4822, 'révélé': 4823, 'spécialité': 4824, 'habites': 4825, 'satisfaisant': 4826, 'blanche': 4827, 'servir': 4828, 'waou': 4829, 'européen': 4830, 'européenne': 4831, 'points': 4832, 'suture': 4833, 'tirera': 4834, 'fusillé': 4835, 'fusillée': 4836, 'meurtrier': 4837, 'survivante': 4838, 'dégoûtante': 4839, 'surmené': 4840, 'surmenée': 4841, 'productifs': 4842, 'productives': 4843, 'cerné': 4844, 'cernée': 4845, 'braves': 4846, 'craintifs': 4847, 'craintives': 4848, 'peureux': 4849, 'peureuse': 4850, 'permis': 4851, 'applaudissements': 4852, 'intéressées': 4853, 'moquez': 4854, 'inscrite': 4855, 'végétarien': 4856, 'participation': 4857, 'flûte': 4858, 'traire': 4859, 'culpabilité': 4860, 'blog': 4861, 'exemplaire': 4862, 'conduise': 4863, 'offense': 4864, 'offusque': 4865, 'pierres': 4866, 'aussitôt': 4867, 'week': 4868, 'end': 4869, 'obtiens': 4870, 'obtenez': 4871, 'passage': 4872, 'enquis': 4873, 'roue': 4874, 'chèvre': 4875, 'alzheimer': 4876, 'respiration': 4877, 'environ': 4878, 'camarade': 4879, 'collègue': 4880, 'érudit': 4881, 'effrontément': 4882, 'mémoire': 4883, 'auprès': 4884, 'montra': 4885, 'chinois': 4886, 'repoussé': 4887, 'fausse': 4888, 'aristocrate': 4889, 'imprimer': 4890, 'grises': 4891, 'bruns': 4892, 'cuite': 4893, 'supporte': 4894, 'colocataire': 4895, 'sensation': 4896, 'mission': 4897, 'défi': 4898, 'rôti': 4899, 'détruire': 4900, 'blâmé': 4901, 'oubliée': 4902, 'suggère': 4903, 'chantes': 4904, 'cent': 4905, 'laisserai': 4906, 'essai': 4907, 'jouerai': 4908, 'licencie': 4909, 'ennemie': 4910, 'méjugé': 4911, 'méjugée': 4912, 'compliment': 4913, 'ensoleillée': 4914, 'évitable': 4915, 'pertinent': 4916, 'recette': 4917, 'entraînement': 4918, 'mêmes': 4919, 'apparue': 4920, 'reformuler': 4921, 'taillons': 4922, 'existe': 4923, 'lunes': 4924, 'commises': 4925, 'crut': 4926, 'suivit': 4927, 'occasion': 4928, 'concombres': 4929, 'ayant': 4930, 'bond': 4931, 'pansement': 4932, 'écoles': 4933, 'fermées': 4934, 'secours': 4935, 'apparition': 4936, 'gère': 4937, 'chahuter': 4938, 'dévisager': 4939, 'chatouille': 4940, 'gorgée': 4941, 'lumières': 4942, 'verte': 4943, 'rampant': 4944, 'familles': 4945, 'otages': 4946, 'continuèrent': 4947, 'tentes': 4948, 'parlèrent': 4949, 'allaient': 4950, 'paisibles': 4951, 'passeront': 4952, 'arriveront': 4953, 'parviendront': 4954, 'jetables': 4955, 'furieuses': 4956, 'férié': 4957, 'retrouvé': 4958, 'scout': 4959, 'éclaireur': 4960, 'persévérant': 4961, 'digne': 4962, 'frappait': 4963, 'vivait': 4964, 'essaya': 4965, 'mouiller': 4966, 'waouh': 4967, 'wah': 4968, 'cachez': 4969, 'fui': 4970, 'payais': 4971, 'payai': 4972, 'gagnâmes': 4973, 'emportâmes': 4974, 'équitables': 4975, 'foutez': 4976, 'adieu': 4977, 'revoyure': 4978, 'conduisis': 4979, 'figé': 4980, 'figée': 4981, 'essayai': 4982, 'embrassez': 4983, 'inscrivez': 4984, 'inscris': 4985, 'soucions': 4986, 'brefs': 4987, 'brèves': 4988, 'menottez': 4989, 'criss': 4990, 'icit': 4991, 'diable': 4992, 'délires': 4993, 'grossièreté': 4994, 'pressez': 4995, 'fiça': 4996, 'râlé': 4997, 'téléphonai': 4998, 'soupiré': 4999, 'repu': 5000, 'fainéante': 5001, 'ordonnée': 5002, 'moche': 5003, 'épousez': 5004, 'fuis': 5005, 'enfuyez': 5006, 'enfuis': 5007, 'accélère': 5008, 'accélérez': 5009, 'stoppez': 5010, 'impeccable': 5011, 'chrome': 5012, 'marrés': 5013, 'marrées': 5014, 'souhaits': 5015, 'rattrape': 5016, 'filmez': 5017, 'filme': 5018, 'continuation': 5019, 'dollars': 5020, 'halte': 5021, 'conjure': 5022, 'acclamais': 5023, 'écrasée': 5024, 'expiré': 5025, 'syncope': 5026, 'froncé': 5027, 'jubilé': 5028, 'gémi': 5029, 'inspiré': 5030, 'trébuché': 5031, 'plané': 5032, 'partirais': 5033, 'cuisinerai': 5034, 'vivrai': 5035, 'plierai': 5036, 'gaules': 5037, 'chanterai': 5038, 'nagerai': 5039, 'parlerai': 5040, 'guéri': 5041, 'guérie': 5042, 'loyale': 5043, 'pot': 5044, 'éloigné': 5045, 'demie': 5046, 'romps': 5047, 'rompez': 5048, 'renonce': 5049, 'allongés': 5050, 'allongées': 5051, 'détourne': 5052, 'échauffe': 5053, 'échauffez': 5054, 'ouais': 5055, 'pardi': 5056, 'hein': 5057, 'ahhh': 5058, 'ralentis': 5059, 'ralentissez': 5060, 'plongée': 5061, 'choisissait': 5062, 'discutâmes': 5063, 'discuté': 5064, 'essayerons': 5065, 'tenterons': 5066, 'gagnerons': 5067, 'tristes': 5068, 'préoccupe': 5069, 'commences': 5070, 'trépasser': 5071, 'levées': 5072, 'jouis': 5073, 'creusez': 5074, 'insistez': 5075, 'précipite': 5076, 'raccrocha': 5077, 'suisse': 5078, 'helvète': 5079, 'ingéniosité': 5080, 'humain': 5081, 'décommandé': 5082, 'décommandée': 5083, 'tristesse': 5084, 'réparée': 5085, 'sursauté': 5086, 'trouvai': 5087, 'gagnant': 5088, 'gagnante': 5089, 'rcp': 5090, 'r': 5091, 'plaisez': 5092, 'tremblé': 5093, 'haussé': 5094, 'sifflé': 5095, 'accepterais': 5096, 'vérifierai': 5097, 'conduirai': 5098, 'entrerai': 5099, 'dépêcherai': 5100, 'commencerai': 5101, 'grassouillette': 5102, 'flasque': 5103, 'gourmand': 5104, 'gourmande': 5105, 'immunisé': 5106, 'immunisée': 5107, 'affaiblie': 5108, 'brûler': 5109, 'passade': 5110, 'tocade': 5111, 'encombrant': 5112, 'magie': 5113, 'tabou': 5114, 'embrassons': 5115, 'arrache': 5116, 'bouts': 5117, 'prions': 5118, 'renonçons': 5119, 'procédons': 5120, 'taillez': 5121, 'somme': 5122, 'envole': 5123, 'oublia': 5124, 'haleté': 5125, 'reposait': 5126, 'reposa': 5127, 'grimaça': 5128, 'bailla': 5129, 'dévissez': 5130, 'dévisse': 5131, 'mentons': 5132, 'accompli': 5133, 'apporterons': 5134, 'obéirons': 5135, 'nagerons': 5136, 'marcherons': 5137, 'quittes': 5138, 'fainéantes': 5139, 'foutus': 5140, 'soucier': 5141, 'décides': 5142, 'vainqueurs': 5143, 'amicales': 5144, 'amicaux': 5145, 'cléments': 5146, 'clémentes': 5147, 'miséricordieuses': 5148, 'préparées': 5149, 'préparés': 5150, 'rigoureux': 5151, 'annule': 5152, 'annulez': 5153, 'revérifie': 5154, 'char': 5155, 'consolez': 5156, 'console': 5157, 'cuisinez': 5158, 'participe': 5159, 'camouflez': 5160, 'pêchez': 5161, 'discute': 5162, 'discutez': 5163, 'cligne': 5164, 'jubilez': 5165, 'jubile': 5166, 'riez': 5167, 'paniquez': 5168, 'fixez': 5169, 'inquiétez': 5170, 'habille': 5171, 'endormez': 5172, 'gloussa': 5173, 'ricanait': 5174, 'haï': 5175, 'loucha': 5176, 'louché': 5177, 'dressa': 5178, 'simule': 5179, 'blindé': 5180, 're': 5181, 'enterré': 5182, 'enterrée': 5183, 'cassettes': 5184, 'entraîné': 5185, 'entraînée': 5186, 'collé': 5187, 'verbalisé': 5188, 'verbalisée': 5189, 'verbaliser': 5190, 'dégueulassé': 5191, 'sali': 5192, 'souk': 5193, 'poche': 5194, 'parié': 5195, 'skie': 5196, 'oppose': 5197, 'accises': 5198, 'lutté': 5199, 'débattue': 5200, 'veillé': 5201, 'ennuyais': 5202, 'tenais': 5203, 'pleurerai': 5204, 'assisterai': 5205, 'lèverai': 5206, 'sortirai': 5207, 'boulangère': 5208, 'béni': 5209, 'bénie': 5210, 'fiancé': 5211, 'méticuleux': 5212, 'méticuleuse': 5213, 'affolée': 5214, 'fredonne': 5215, 'retraitée': 5216, 'fracassé': 5217, 'talons': 5218, 'gavée': 5219, 'sidérée': 5220, 'mécontent': 5221, 'mécontente': 5222, 'schcoumoune': 5223, 'poissard': 5224, 'fortuné': 5225, 'fortunée': 5226, 'plate': 5227, 'biser': 5228, 'rompre': 5229, 'yen': 5230, 'contrefaçon': 5231, 'équerre': 5232, 'vain': 5233, 'futile': 5234, 'avise': 5235, 'divisons': 5236, 'séparons': 5237, 'calculé': 5238, 'attristé': 5239, 'pioche': 5240, 'piochez': 5241, 'poussent': 5242, 'applaudis': 5243, 'enregistrez': 5244, 'enregistre': 5245, 'relâche': 5246, 'relâchez': 5247, 'riposte': 5248, 'ripostez': 5249, 'enfoirée': 5250, 'dormez': 5251, 'alités': 5252, 'alitées': 5253, 'surprenez': 5254, 'surprends': 5255, 'croque': 5256, 'croquez': 5257, 'gnangnan': 5258, 'enlacés': 5259, 'enlacées': 5260, 'repenses': 5261, 'toussota': 5262, 'expirait': 5263, 'gargarisé': 5264, 'souriait': 5265, 'inspira': 5266, 'zéro': 5267, 'plane': 5268, 'immense': 5269, 'soigné': 5270, 'engourdi': 5271, 'mental': 5272, 'quittée': 5273, 'détendait': 5274, 'appellera': 5275, 'enfer': 5276, 'mangions': 5277, 'mangeâmes': 5278, 'séparâmes': 5279, 'éclatâmes': 5280, 'tirées': 5281, 'promîmes': 5282, 'survécûmes': 5283, 'vérifierons': 5284, 'danserons': 5285, 'conduirons': 5286, 'dépêcherons': 5287, 'partagerons': 5288, 'partagera': 5289, 'tirerons': 5290, 'tiendrons': 5291, 'commencerons': 5292, 'emmerde': 5293, 'emmerdeur': 5294, 'emmerdeuse': 5295, 'andouille': 5296, 'couillon': 5297, 'boulet': 5298, 'galère': 5299, 'taudis': 5300, 'malandrin': 5301, 'ordure': 5302, 'plaie': 5303, 'adaptera': 5304, 'rendrez': 5305, 'évanoui': 5306, 'évanouie': 5307, 'sympas': 5308, 'givrés': 5309, 'saufs': 5310, 'sauves': 5311, 'minces': 5312, 'navire': 5313, 'selon': 5314, 'comportez': 5315, 'régnait': 5316, 'confiants': 5317, 'confiantes': 5318, 'copine': 5319, 'renforts': 5320, 'nagé': 5321, 'alcool': 5322, 'enseignes': 5323, 'gênez': 5324, 'charrie': 5325, 'charriez': 5326, 'déverser': 5327, 'immondices': 5328, 'radote': 5329, 'radotez': 5330, 'examinez': 5331, 'examine': 5332, 'craignez': 5333, 'cuillère': 5334, 'remettez': 5335, 'nia': 5336, 'plaquée': 5337, 'excentrique': 5338, 'bigot': 5339, 'sectaire': 5340, 'illuminé': 5341, 'soutenez': 5342, 'encouragez': 5343, 'encourage': 5344, 'arrogance': 5345, 'barbarie': 5346, 'oses': 5347, 'osez': 5348, 'romantisme': 5349, 'caviar': 5350, 'dessiner': 5351, 'coupai': 5352, 'courtise': 5353, 'vertige': 5354, 'hache': 5355, 'géré': 5356, 'mouches': 5357, 'urticaire': 5358, 'besoins': 5359, 'honore': 5360, 'étreignis': 5361, 'improvisé': 5362, 'muté': 5363, 'sushis': 5364, 'tripe': 5365, 'inventé': 5366, 'élaboré': 5367, 'hâter': 5368, 'rugby': 5369, 'réécrit': 5370, 'réécrivis': 5371, 'démarrée': 5372, 'initié': 5373, 'initiée': 5374, 'cambriolé': 5375, 'cambriolée': 5376, 'secouée': 5377, 'pesé': 5378, 'dégonflé': 5379, 'dégonflée': 5380, 'achèterais': 5381, 'goberais': 5382, 'saisirai': 5383, 'attraperai': 5384, 'ouvrirai': 5385, 'couard': 5386, 'danseur': 5387, 'danseuse': 5388, 'prêtre': 5389, 'puriste': 5390, 'surfeur': 5391, 'surfeuse': 5392, 'agent': 5393, 'saigner': 5394, 'flan': 5395, 'pinceaux': 5396, 'cultivé': 5397, 'cultivée': 5398, 'clouée': 5399, 'rebelle': 5400, 'abruti': 5401, 'abrutie': 5402, 'indignée': 5403, 'rationnelle': 5404, 'amendé': 5405, 'amendée': 5406, 'fringale': 5407, 'têtue': 5408, 'consciencieux': 5409, 'consciencieuse': 5410, 'chatouilleuse': 5411, 'impartiale': 5412, 'eues': 5413, 'solide': 5414, 'louve': 5415, 'imitation': 5416, 'simulation': 5417, 'pastiche': 5418, 'épaté': 5419, 'guérira': 5420, 'surviendra': 5421, 'plante': 5422, 'complexe': 5423, 'conneries': 5424, 'daube': 5425, 'détritus': 5426, 'ouï': 5427, 'matin': 5428, 'patent': 5429, 'source': 5430, 'déchaîné': 5431, 'suicide': 5432, 'roulez': 5433, 'dames': 5434, 'informe': 5435, 'rebondissons': 5436, 'démangent': 5437, 'hanche': 5438, 'souciait': 5439, 'bougea': 5440, 'corrigez': 5441, 'disposer': 5442, 'croisés': 5443, 'branche': 5444, 'récrée': 5445, 'chançarde': 5446, 'tranchante': 5447, 'affûtée': 5448, 'perturbée': 5449, 'poursuivit': 5450, 'chantait': 5451, 'demeurez': 5452, 'mélangez': 5453, 'filmer': 5454, 'bayer': 5455, 'corneilles': 5456, 'bouffée': 5457, 'faudra': 5458, 'écrasés': 5459, 'écrasées': 5460, 'échappés': 5461, 'échappées': 5462, 'rapides': 5463, 'laids': 5464, 'moches': 5465, 'cassent': 5466, 'siennes': 5467, 'indésirable': 5468, 'chier': 5469, 'effraction': 5470, 'irruption': 5471, 'débrouillé': 5472, 'enrôlé': 5473, 'tabasser': 5474, 'grogna': 5475, 'grognait': 5476, 'insisté': 5477, 'haussa': 5478, 'blême': 5479, 'chaleureux': 5480, 'siffla': 5481, 'inimaginable': 5482, 'inconcevable': 5483, 'croyable': 5484, 'buvant': 5485, 'présentons': 5486, 'arabes': 5487, 'entendons': 5488, 'entend': 5489, 'apprêtés': 5490, 'apprêtées': 5491, 'discutions': 5492, 'entendîmes': 5493, 'attaquerons': 5494, 'assisterons': 5495, 'déciderons': 5496, 'arriverons': 5497, 'débrouillerons': 5498, 'biaisé': 5499, 'fermés': 5500, 'cachons': 5501, 'matures': 5502, 'crevés': 5503, 'ruinés': 5504, 'ruinées': 5505, 'remués': 5506, 'remuées': 5507, 'stricts': 5508, 'culot': 5509, 'toupet': 5510, 'insolence': 5511, 'gâchis': 5512, 'ovni': 5513, 'bâti': 5514, 'bâtie': 5515, 'raconté': 5516, 'éclipsé': 5517, 'mourra': 5518, 'vivra': 5519, 'mourras': 5520, 'sales': 5521, 'assures': 5522, 'malpoli': 5523, 'lunatique': 5524, 'plantés': 5525, 'plantées': 5526, 'passa': 5527, 'aère': 5528, 'aérez': 5529, 'approuve': 5530, 'incluse': 5531, 'glisse': 5532, 'dérape': 5533, 'glisser': 5534, 'quelconques': 5535, 'lasses': 5536, 'redemandez': 5537, 'redemande': 5538, 'interrogez': 5539, 'respectueuses': 5540, 'gamins': 5541, 'bandez': 5542, 'courent': 5543, 'démontez': 5544, 'réunissez': 5545, 'cuisez': 5546, 'dansez': 5547, 'mèche': 5548, 'rêvent': 5549, 'dorment': 5550, 'piges': 5551, 'niez': 5552, 'désespérez': 5553, 'grossis': 5554, 'veille': 5555, 'veillez': 5556, 'tracez': 5557, 'larmes': 5558, 'sainement': 5559, 'expire': 5560, 'éclosent': 5561, 'débarras': 5562, 'cassées': 5563, 'disjoncté': 5564, 'creusé': 5565, 'dupa': 5566, 'bagues': 5567, 'dentaires': 5568, 'bretelles': 5569, 'ignora': 5570, 'britannique': 5571, 'patine': 5572, 'pincée': 5573, 'émue': 5574, 'floué': 5575, 'flouée': 5576, 'rouspéteur': 5577, 'jésuite': 5578, 'magnat': 5579, 'poursuit': 5580, 'servez': 5581, 'retiens': 5582, 'retenez': 5583, 'klaxonne': 5584, 'klaxonnez': 5585, 'palpitant': 5586, 'ajoutais': 5587, 'admirais': 5588, 'musulmane': 5589, 'coureur': 5590, 'devins': 5591, 'emprunté': 5592, 'empruntée': 5593, 'soudoyés': 5594, 'soudoyées': 5595, 'brûlés': 5596, 'brûlées': 5597, 'annulée': 5598, 'conçu': 5599, 'conçue': 5600, 'abstiens': 5601, 'poker': 5602, 'exagéré': 5603, 'somnolent': 5604, 'interdis': 5605, 'flippé': 5606, 'pétoche': 5607, 'plumer': 5608, 'rêvé': 5609, 'foules': 5610, 'rencard': 5611, 'asthmatique': 5612, 'asthme': 5613, 'atteinte': 5614, 'titulaire': 5615, 'sirènes': 5616, 'montres': 5617, 'pruneaux': 5618, 'jaune': 5619, 'baissai': 5620, 'chaussette': 5621, 'excursions': 5622, 'dressé': 5623, 'dressai': 5624, 'plaisance': 5625, 'squash': 5626, 'collecte': 5627, 'recueille': 5628, 'quant': 5629, 'décalé': 5630, 'déplaît': 5631, 'reine': 5632, 'anguille': 5633, 'roche': 5634, 'flaire': 5635, 'firefox': 5636, 'portée': 5637, 'poney': 5638, 'ébloui': 5639, 'éblouie': 5640, 'blaguais': 5641, 'poignardée': 5642, 'poignarder': 5643, 'scié': 5644, 'sciée': 5645, 'tentée': 5646, 'pénétré': 5647, 'céderai': 5648, 'nettoierai': 5649, 'obtiendrai': 5650, 'prouverai': 5651, 'montrerai': 5652, 'préviendrai': 5653, 'stagiaire': 5654, 'dévouée': 5655, 'déprime': 5656, 'dépressif': 5657, 'dépressive': 5658, 'vanné': 5659, 'vannée': 5660, 'crevée': 5661, 'impulsive': 5662, 'gamine': 5663, 'observateur': 5664, 'observatrice': 5665, 'conditionnelle': 5666, 'désarmée': 5667, 'ressentiment': 5668, 'tremble': 5669, 'survis': 5670, 'terrifiée': 5671, 'assurée': 5672, 'pourvu': 5673, 'parages': 5674, 'endommagé': 5675, 'licite': 5676, 'empire': 5677, 'aggrave': 5678, 'barbant': 5679, 'viral': 5680, 'évanouira': 5681, 'agaçant': 5682, 'grisant': 5683, 'instinct': 5684, 'tournée': 5685, 'vieillot': 5686, 'démodé': 5687, 'obsolète': 5688, 'ténu': 5689, 'pagayer': 5690, 'poursuivons': 5691, 'rencontrez': 5692, 'motion': 5693, 'rejetée': 5694, 'bouffé': 5695, 'poumons': 5696, 'cage': 5697, 'rejoue': 5698, 'rejouez': 5699, 'débranche': 5700, 'haïssait': 5701, 'active': 5702, 'livide': 5703, 'distinctement': 5704, 'démarrez': 5705, 'positive': 5706, 'touille': 5707, 'touillez': 5708, 'froncer': 5709, 'redresse': 5710, 'balayer': 5711, 'varier': 5712, 'variables': 5713, 'diffèrent': 5714, 'tonnes': 5715, 'signifiait': 5716, 'arrange': 5717, 'horripilant': 5718, 'flippant': 5719, 'ravissant': 5720, 'meuglait': 5721, 'emportèrent': 5722, 'éveillés': 5723, 'éveillées': 5724, 'vertes': 5725, 'silencieuses': 5726, 'espions': 5727, 'espionnes': 5728, 'basique': 5729, 'bêtise': 5730, 'incorrect': 5731, 'écoulait': 5732, 'ramait': 5733, 'mangeait': 5734, 'avoué': 5735, 'démenti': 5736, 'affaibli': 5737, 'chèvres': 5738, 'dodu': 5739, 'mûr': 5740, 'sexiste': 5741, 'stable': 5742, 'susceptible': 5743, 'essoufflé': 5744, 'joint': 5745, 'manquait': 5746, 'comptant': 5747, 'protestait': 5748, 'rétablissait': 5749, 'empressé': 5750, 'effraye': 5751, 'frissonné': 5752, 'chancela': 5753, 'vacilla': 5754, 'raidi': 5755, 'crispé': 5756, 'témoigné': 5757, 'pourri': 5758, 'échouera': 5759, 'démissionnera': 5760, 'pleurerait': 5761, 'détache': 5762, 'ronfler': 5763, 'cirez': 5764, 'plancher': 5765, 'cire': 5766, 'excusés': 5767, 'excusées': 5768, 'attrapés': 5769, 'attrapées': 5770, 'buvions': 5771, 'aidions': 5772, 'restâmes': 5773, 'arbres': 5774, 'intentions': 5775, 'focaliser': 5776, 'outils': 5777, 'nageons': 5778, 'préférons': 5779, 'bonbons': 5780, 'ennuyions': 5781, 'expliquerons': 5782, 'reconstruirons': 5783, 'anxieux': 5784, 'fiancés': 5785, 'grandissons': 5786, 'agrandissons': 5787, 'expansion': 5788, 'souffrons': 5789, 'synchronisés': 5790, 'synchronisées': 5791, 'patients': 5792, 'lisons': 5793, 'coulons': 5794, 'affamés': 5795, 'affamées': 5796, 'gavés': 5797, 'gavées': 5798, 'sidérés': 5799, 'sidérées': 5800, 'touchés': 5801, 'touchées': 5802, 'gagneurs': 5803, 'mûri': 5804, 'fiasco': 5805, 'échec': 5806, 'désirez': 5807, 'dîne': 5808, 'recrutés': 5809, 'recrutées': 5810, 'absent': 5811, 'hurle': 5812, 'accuser': 5813, 'reposes': 5814, 'partiale': 5815, 'partial': 5816, 'brillants': 5817, 'brillantes': 5818, 'malines': 5819, 'rusés': 5820, 'rusées': 5821, 'sinistres': 5822, 'connus': 5823, 'connues': 5824, 'avides': 5825, 'crétins': 5826, 'attardés': 5827, 'mentaux': 5828, 'coca': 5829, 'agissez': 5830, 'qualifiée': 5831, 'pleures': 5832, 'célèbres': 5833, 'embauches': 5834, 'embauchez': 5835, 'recrutes': 5836, 'recrutez': 5837, 'évitez': 5838, 'mouche': 5839, 'bateaux': 5840, 'bénéfique': 5841, 'portail': 5842, 'objections': 5843, 'tigres': 5844, 'ronronnent': 5845, 'nies': 5846, 'détestes': 5847, 'promettez': 5848, 'pratiques': 5849, 'pratiquez': 5850, 'fâchés': 5851, 'fâchées': 5852, 'reprochez': 5853, 'plaignez': 5854, 'tombez': 5855, 'forcez': 5856, 'assoyez': 5857, 'lutte': 5858, 'débats': 5859, 'taquinez': 5860, 'pète': 5861, 'formez': 5862, 'lignes': 5863, 'enfourche': 5864, 'enfourchez': 5865, 'mug': 5866, 'joyeuse': 5867, 'anniversaire': 5868, 'mordit': 5869, 'antipathie': 5870, 'bronze': 5871, 'quittés': 5872, 'écrivain': 5873, 'faillite': 5874, 'grondée': 5875, 'giflée': 5876, 'vendus': 5877, 'vendues': 5878, 'fié': 5879, 'souffrait': 5880, 'travailla': 5881, 'hongrois': 5882, 'harcelé': 5883, 'freinez': 5884, 'freine': 5885, 'perspicacité': 5886, 'largeur': 5887, 'croyais': 5888, 'crus': 5889, 'crues': 5890, 'emprunte': 5891, 'ongle': 5892, 'corrigée': 5893, 'décoré': 5894, 'décorée': 5895, 'disputé': 5896, 'disputée': 5897, 'transigé': 5898, 'copié': 5899, 'recalée': 5900, 'insère': 5901, 'commère': 5902, 'ragote': 5903, 'honteuse': 5904, 'bénit': 5905, 'bénite': 5906, 'cocufiée': 5907, 'cocufié': 5908, 'suivis': 5909, 'suivies': 5910, 'hâlé': 5911, 'hâlée': 5912, 'mélangé': 5913, 'expulsée': 5914, 'garantis': 5915, 'mésaventure': 5916, 'vasculaire': 5917, 'cérébral': 5918, 'avc': 5919, 'démuni': 5920, 'démunie': 5921, 'hélé': 5922, 'lundis': 5923, 'régimes': 5924, 'insectes': 5925, 'karaoké': 5926, 'prosélytes': 5927, 'amnésie': 5928, 'filai': 5929, 'tins': 5930, 'continuai': 5931, 'amandes': 5932, 'châteaux': 5933, 'mah': 5934, 'jong': 5935, 'huîtres': 5936, 'sashimi': 5937, 'histoires': 5938, 'récits': 5939, 'réside': 5940, 'lasagnes': 5941, 'couchers': 5942, 'muffins': 5943, 'lycée': 5944, 'décliner': 5945, 'protester': 5946, 'collation': 5947, 'insuline': 5948, 'soutien': 5949, 'opération': 5950, 'fréquemment': 5951, 'avoue': 5952, 'prédit': 5953, 'bétail': 5954, 'revient': 5955, 'dossier': 5956, 'fichier': 5957, 'parlais': 5958, 'coréen': 5959, 'tournai': 5960, 'exhorte': 5961, 'habituellement': 5962, 'cheminé': 5963, 'désire': 5964, 'éventail': 5965, 'attaquée': 5966, 'bluffer': 5967, 'insouciante': 5968, 'incarcéré': 5969, 'incarcérée': 5970, 'gracié': 5971, 'graciée': 5972, 'crevais': 5973, 'accueilli': 5974, 'accueillie': 5975, 'reçue': 5976, 'embauchée': 5977, 'prospérer': 5978, 'prospérerai': 5979, 'survivrai': 5980, 'témoignerai': 5981, 'rédigé': 5982, 'téléphonerai': 5983, 'gérerai': 5984, 'gronderai': 5985, 'inviterai': 5986, 'ministre': 5987, 'musicien': 5988, 'musicienne': 5989, 'stupéfaite': 5990, 'déshydratée': 5991, 'fasciné': 5992, 'fascinée': 5993, 'amer': 5994, 'amère': 5995, 'grincheux': 5996, 'grincheuse': 5997, 'surchargé': 5998, 'surchargée': 5999, 'réaménager': 6000, 'tueur': 6001, 'déshabille': 6002, 'dévêts': 6003, 'accoutumé': 6004, 'éveillée': 6005, 'froissé': 6006, 'neigeait': 6007, 'conclue': 6008, 'ver': 6009, 'luisant': 6010, 'flambant': 6011, 'malhonnête': 6012, 'exaltant': 6013, 'placement': 6014, 'inexact': 6015, 'superflu': 6016, 'redondant': 6017, 'intact': 6018, 'vibre': 6019, 'clairs': 6020, 'francs': 6021, 'appelons': 6022, 'terminons': 6023, 'espérons': 6024, 'partageons': 6025, 'indices': 6026, 'agrandissez': 6027, 'agrandis': 6028, 'élargissez': 6029, 'élargis': 6030, 'simplifie': 6031, 'péri': 6032, 'périrent': 6033, 'simples': 6034, 'motus': 6035, 'cousue': 6036, 'calé': 6037, 'gobelet': 6038, 'articulations': 6039, 'bide': 6040, 'tricha': 6041, 'réchappé': 6042, 'réchappa': 6043, 'sut': 6044, 'aïe': 6045, 'emballe': 6046, 'emballez': 6047, 'épluche': 6048, 'montèrent': 6049, 'prouve': 6050, 'relevez': 6051, 'étrangla': 6052, 'plaqué': 6053, 'berna': 6054, 'cultivait': 6055, 'jugeotte': 6056, 'enlacé': 6057, 'maladroite': 6058, 'prude': 6059, 'exprimer': 6060, 'vienne': 6061, 'taquiné': 6062, 'tape': 6063, 'apparut': 6064, 'reprenez': 6065, 'ronchonner': 6066, 'asticoter': 6067, 'délit': 6068, 'manifeste': 6069, 'plastique': 6070, 'établit': 6071, 'telles': 6072, 'klaxonné': 6073, 'hissé': 6074, 'retenti': 6075, 'regards': 6076, 'croisèrent': 6077, 'haïssaient': 6078, 'disputées': 6079, 'bébés': 6080, 'ennuyeuses': 6081, 'abîmés': 6082, 'balèzes': 6083, 'gave': 6084, 'escroquerie': 6085, 'excusa': 6086, 'effondré': 6087, 'écroulé': 6088, 'larguer': 6089, 'fuir': 6090, 'scorbut': 6091, 'intervint': 6092, 'intervenait': 6093, 'félon': 6094, 'géant': 6095, 'maçon': 6096, 'aviateur': 6097, 'cynique': 6098, 'sot': 6099, 'serviable': 6100, 'acquiesce': 6101, 'hoche': 6102, 'faction': 6103, 'halète': 6104, 'pompeux': 6105, 'radical': 6106, 'rase': 6107, 'similaire': 6108, 'sanglote': 6109, 'sanglots': 6110, 'gâté': 6111, 'taquin': 6112, 'assoiffé': 6113, 'imperturbable': 6114, 'débraillé': 6115, 'indifférent': 6116, 'flingues': 6117, 'tofu': 6118, 'allure': 6119, 'routières': 6120, 'mentait': 6121, 'souvenait': 6122, 'rappelait': 6123, 'représailles': 6124, 'tendit': 6125, 'faudrait': 6126, 'roulé': 6127, 'vérifiera': 6128, 'conduira': 6129, 'commencera': 6130, 'dérangera': 6131, 'gai': 6132, 'démission': 6133, 'instable': 6134, 'sauce': 6135, 'cerveaux': 6136, 'écraser': 6137, 'bûmes': 6138, 'éclatés': 6139, 'éclatées': 6140, 'établi': 6141, 'atterrir': 6142, 'action': 6143, 'rendîmes': 6144, 'portâmes': 6145, 'portés': 6146, 'portées': 6147, 'partions': 6148, 'plaisantions': 6149, 'cuits': 6150, 'enterrerons': 6151, 'appellerons': 6152, 'continuerons': 6153, 'peindrons': 6154, 'sauverons': 6155, 'couple': 6156, 'bouchers': 6157, 'divorcés': 6158, 'échappons': 6159, 'reconnaissants': 6160, 'reconnaissantes': 6161, 'rentrés': 6162, 'sourds': 6163, 'obéissants': 6164, 'obéissantes': 6165, 'positifs': 6166, 'réservés': 6167, 'têtus': 6168, 'têtues': 6169, 'meilleurs': 6170, 'meilleures': 6171, 'derniers': 6172, 'dernières': 6173, 'pareils': 6174, 'pareilles': 6175, 'dab': 6176, 'bourse': 6177, 'assistait': 6178, 'intervenu': 6179, 'soucierait': 6180, 'poile': 6181, 'demandes': 6182, 'remonte': 6183, 'essuyez': 6184, 'dégoûtes': 6185, 'dégoutez': 6186, 'mentis': 6187, 'mentîtes': 6188, 'fasses': 6189, 'aimeriez': 6190, 'tatillons': 6191, 'tatillonnes': 6192, 'imprudents': 6193, 'imprudentes': 6194, 'conviens': 6195, 'convenez': 6196, 'précise': 6197, 'remontée': 6198, 'méchants': 6199, 'méchantes': 6200, 'emportes': 6201, 'emportez': 6202, 'retourna': 6203, 'ajustez': 6204, 'présents': 6205, 'présentes': 6206, 'fonctions': 6207, 'suggestions': 6208, 'violets': 6209, 'tiennes': 6210, 'envieuses': 6211, 'énervés': 6212, 'énervées': 6213, 'regardes': 6214, 'drogués': 6215, 'droguées': 6216, 'balles': 6217, 'rondes': 6218, 'arranger': 6219, 'attrapent': 6220, 'félicitation': 6221, 'v': 6222, 'ux': 6223, 'félicite': 6224, 'corbeaux': 6225, 'soucié': 6226, 'rap': 6227, 'rappelles': 6228, 'fies': 6229, 'cède': 6230, 'cédez': 6231, 'pattes': 6232, 'flipe': 6233, 'insultez': 6234, 'serine': 6235, 'serinez': 6236, 'mouton': 6237, 'dansait': 6238, 'pria': 6239, 'servait': 6240, 'attendît': 6241, 'espérez': 6242, 'grille': 6243, 'repliez': 6244, 'bargeots': 6245, 'panneau': 6246, 'sied': 6247, 'trahissait': 6248, 'abandonna': 6249, 'guère': 6250, 'toyota': 6251, 'raquette': 6252, 'éthiopien': 6253, 'médium': 6254, 'sucreries': 6255, 'mentionnée': 6256, 'airs': 6257, 'whisky': 6258, 'fixa': 6259, 'étudiait': 6260, 'étudia': 6261, 'escroquée': 6262, 'tricher': 6263, 'outré': 6264, 'comédien': 6265, 'fraternité': 6266, 'bizuth': 6267, 'jardinier': 6268, 'lambin': 6269, 'lourdaud': 6270, 'époux': 6271, 'associé': 6272, 'compagnon': 6273, 'décéda': 6274, 'falsifiée': 6275, 'réputation': 6276, 'hissez': 6277, 'quart': 6278, 'humiliant': 6279, 'grouillez': 6280, 'pressons': 6281, 'hypnose': 6282, 'égypte': 6283, 'barrée': 6284, 'mesurer': 6285, 'simuler': 6286, 'percevoir': 6287, 'perçois': 6288, 'empêcher': 6289, 'carpe': 6290, 'contractai': 6291, 'téléchargé': 6292, 'téléchargée': 6293, 'délaissé': 6294, 'délaissée': 6295, 'détoner': 6296, 'surmonté': 6297, 'débarrassé': 6298, 'débarrassée': 6299, 'débarrassai': 6300, 'flairé': 6301, 'dus': 6302, 'obsèques': 6303, 'politique': 6304, 'ratons': 6305, 'laveurs': 6306, 'reptiles': 6307, 'ecchymose': 6308, 'alibi': 6309, 'pellicules': 6310, 'immunité': 6311, 'dorme': 6312, 'hurlements': 6313, 'gagnera': 6314, 'pleuvra': 6315, 'coude': 6316, 'imaginé': 6317, 'recevoir': 6318, 'emporterions': 6319, 'gagnerions': 6320, 'étendue': 6321, 'dessins': 6322, 'animés': 6323, 'westerns': 6324, 'craquai': 6325, 'enflammai': 6326, 'craqué': 6327, 'enflammé': 6328, 'intérêt': 6329, 'dissipé': 6330, 'barbecues': 6331, 'comédies': 6332, 'aubergines': 6333, 'java': 6334, 'moelleux': 6335, 'dise': 6336, 'internet': 6337, 'caféine': 6338, 'scotch': 6339, 'raser': 6340, 'rencontre': 6341, 'terrain': 6342, 'factures': 6343, 'réglais': 6344, 'jouais': 6345, 'orchidées': 6346, 'mayeur': 6347, 'maïeur': 6348, 'bourgmestre': 6349, 'relu': 6350, 'souvenais': 6351, 'souvins': 6352, 'respectais': 6353, 'pressenti': 6354, 'motif': 6355, 'parlai': 6356, 'éteint': 6357, 'rembourser': 6358, 'combattre': 6359, 'revenus': 6360, 'revenues': 6361, 'condamné': 6362, 'condamnée': 6363, 'coma': 6364, 'kidnappée': 6365, 'patrouille': 6366, 'pétrifié': 6367, 'demandais': 6368, 'posais': 6369, 'avertirai': 6370, 'effectue': 6371, 'ficherais': 6372, 'préoccuperais': 6373, 'referais': 6374, 'rechercherai': 6375, 'cesserai': 6376, 'louerai': 6377, 'éméchée': 6378, 'caméraman': 6379, 'menuisier': 6380, 'sauveteur': 6381, 'masochiste': 6382, 'bègue': 6383, 'bénévole': 6384, 'aventureuse': 6385, 'craque': 6386, 'frire': 6387, 'vieillis': 6388, 'appliqué': 6389, 'appliquée': 6390, 'vaincre': 6391, 'formation': 6392, 'introvertie': 6393, 'myope': 6394, 'dispute': 6395, 'remplaçable': 6396, 'spontanée': 6397, 'spontané': 6398, 'capitaine': 6399, 'gérant': 6400, 'gobé': 6401, 'supporté': 6402, 'périlleux': 6403, 'toxique': 6404, 'zèbre': 6405, 'éthique': 6406, 'explosé': 6407, 'halluciner': 6408, 'révéler': 6409, 'sembler': 6410, 'goûtait': 6411, 'stimulant': 6412, 'mou': 6413, 'repoussera': 6414, 'impasse': 6415, 'champignon': 6416, 'onze': 6417, 'artificiel': 6418, 'basses': 6419, 'uvres': 6420, 'inapproprié': 6421, 'inadapté': 6422, 'trompeur': 6423, 'spécieux': 6424, 'stéréotypé': 6425, 'étouffant': 6426, 'étouffante': 6427, 'étroit': 6428, 'maintenez': 6429, 'maintiens': 6430, 'souriants': 6431, 'souriantes': 6432, 'pétrissez': 6433, 'pâte': 6434, 'koalas': 6435, 'commentez': 6436, 'citrons': 6437, 'acides': 6438, 'collaborons': 6439, 'volants': 6440, 'enivrons': 6441, 'assurons': 6442, 'négocions': 6443, 'disputons': 6444, 'battons': 6445, 'jubilons': 6446, 'paniquons': 6447, 'ralentissons': 6448, 'devraient': 6449, 'téléviseur': 6450, 'rétréci': 6451, 'grincent': 6452, 'couinent': 6453, 'natto': 6454, 'terrifiante': 6455, 'flancha': 6456, 'flanché': 6457, 'déroba': 6458, 'émis': 6459, 'téloche': 6460, 'octobre': 6461, 'amusantes': 6462, 'planification': 6463, 'essentielle': 6464, 'presser': 6465, 'presse': 6466, 'versez': 6467, 'ratissez': 6468, 'sellez': 6469, 'requins': 6470, 'calmée': 6471, 'pardonna': 6472, 'disposait': 6473, 'coureuse': 6474, 'gracieuse': 6475, 'pinça': 6476, 'sermonna': 6477, 'sermonné': 6478, 'grondé': 6479, 'poignarda': 6480, 'incita': 6481, 'incité': 6482, 'tenta': 6483, 'attacha': 6484, 'ligota': 6485, 'ligoté': 6486, 'essayera': 6487, 'réveilla': 6488, 'travaillait': 6489, 'brésilienne': 6490, 'poupe': 6491, 'soie': 6492, 'toussé': 6493, 'espagnol': 6494, 'enquiquiner': 6495, 'chamailler': 6496, 'balaie': 6497, 'durer': 6498, 'inquiétait': 6499, 'pagode': 6500, 'ombre': 6501, 'branle': 6502, 'puait': 6503, 'tombèrent': 6504, 'rougit': 6505, 'mugissait': 6506, 'traitement': 6507, 'précipiter': 6508, 'fraîches': 6509, 'acteurs': 6510, 'melons': 6511, 'soucient': 6512, 'partirent': 6513, 'stagiaires': 6514, 'partent': 6515, 'spéciales': 6516, 'particuliers': 6517, 'particulières': 6518, 'grasses': 6519, 'attendent': 6520, 'inquiètes': 6521, 'produites': 6522, 'mahjong': 6523, 'promo': 6524, 'déchet': 6525, 'singulier': 6526, 'insolite': 6527, 'agi': 6528, 'approuvée': 6529, 'agressé': 6530, 'rote': 6531, 'rappela': 6532, 'poursuivait': 6533, 'contribua': 6534, 'suivait': 6535, 'répliqué': 6536, 'défendu': 6537, 'combattu': 6538, 'ipad': 6539, 'client': 6540, 'jockey': 6541, 'soudeur': 6542, 'anorexique': 6543, 'sportif': 6544, 'démence': 6545, 'dépravé': 6546, 'glousse': 6547, 'ricane': 6548, 'élégant': 6549, 'avenant': 6550, 'résolu': 6551, 'surexcité': 6552, 'studieux': 6553, 'infatigable': 6554, 'franc': 6555, 'venait': 6556, 'apprend': 6557, 'hébété': 6558, 'lisait': 6559, 'sirotait': 6560, 'ralenti': 6561, 'ralentit': 6562, 'bizarrement': 6563, 'durcit': 6564, 'provoqué': 6565, 'taquinait': 6566, 'réessayé': 6567, 'rebroussa': 6568, 'porta': 6569, 'avertit': 6570, 'évasif': 6571, 'randonnée': 6572, 'assistera': 6573, 'participera': 6574, 'décidera': 6575, 'corrigera': 6576, 'réparera': 6577, 'partirait': 6578, 'acquiert': 6579, 'bâiller': 6580, 'papillon': 6581, 'murs': 6582, 'poses': 6583, 'enseignants': 6584, 'enseignantes': 6585, 'déclaré': 6586, 'disposions': 6587, 'changés': 6588, 'ponchos': 6589, 'manquons': 6590, 'converser': 6591, 'gaufres': 6592, 'réussir': 6593, 'experts': 6594, 'conscients': 6595, 'réalisons': 6596, 'loué': 6597, 'respectons': 6598, 'courons': 6599, 'voyageons': 6600, 'allâmes': 6601, 'agriculteurs': 6602, 'coopérerons': 6603, 'parviendrons': 6604, 'resterons': 6605, 'arrêterons': 6606, 'rendrons': 6607, 'disponibles': 6608, 'comédiens': 6609, 'engagés': 6610, 'engagées': 6611, 'dévoués': 6612, 'dévouées': 6613, 'déprimés': 6614, 'flattés': 6615, 'jardiniers': 6616, 'gentilshommes': 6617, 'impartiaux': 6618, 'impulsifs': 6619, 'charge': 6620, 'fautifs': 6621, 'voisins': 6622, 'organisés': 6623, 'prisonnières': 6624, 'crions': 6625, 'sensibles': 6626, 'survivons': 6627, 'survivants': 6628, 'survivantes': 6629, 'assurés': 6630, 'assurées': 6631, 'pleurais': 6632, 'pleuriez': 6633, 'bénédiction': 6634, 'catastrophe': 6635, 'perspective': 6636, 'personnage': 6637, 'coûtera': 6638, 'moyenne': 6639, 'générale': 6640, 'toilettes': 6641, 'chiottes': 6642, 'wc': 6643, 'rame': 6644, 'aviron': 6645, 'participé': 6646, 'reprogrammé': 6647, 'reporté': 6648, 'jouait': 6649, 'perdant': 6650, 'rêvons': 6651, 'notez': 6652, 'comptes': 6653, 'sacré': 6654, 'séjourner': 6655, 'alliez': 6656, 'gagneur': 6657, 'adorables': 6658, 'finies': 6659, 'chiante': 6660, 'arrogants': 6661, 'arrogantes': 6662, 'saignez': 6663, 'négligente': 6664, 'charmantes': 6665, 'charmants': 6666, 'triches': 6667, 'embrouilles': 6668, 'déloyales': 6669, 'déloyaux': 6670, 'pardonnés': 6671, 'pardonnées': 6672, 'hideuses': 6673, 'encroûtes': 6674, 'innocentes': 6675, 'trompes': 6676, 'pathétiques': 6677, 'temporises': 6678, 'temporisez': 6679, 'entêtée': 6680, 'talentueuses': 6681, 'bruyants': 6682, 'bruyantes': 6683, 'lents': 6684, 'lentes': 6685, 'débout': 6686, 'aboie': 6687, 'aboyer': 6688, 'plomb': 6689, 'postulez': 6690, 'postule': 6691, 'catholiques': 6692, 'golfeur': 6693, 'golfeuse': 6694, 'sorcier': 6695, 'rougissez': 6696, 'existes': 6697, 'existez': 6698, 'atlantis': 6699, 'serpents': 6700, 'bec': 6701, 'mordez': 6702, 'boxe': 6703, 'ennuyante': 6704, 'boxer': 6705, 'ennuyant': 6706, 'respirez': 6707, 'brossez': 6708, 'avancent': 6709, 'concentre': 6710, 'concentrez': 6711, 'considérez': 6712, 'consulte': 6713, 'maîtrise': 6714, 'traversez': 6715, 'téléphonez': 6716, 'amusées': 6717, 'amusés': 6718, 'aimiez': 6719, 'aurait': 6720, 'pâtes': 6721, 'résides': 6722, 'soucies': 6723, 'souciez': 6724, 'connard': 6725, 'alarmés': 6726, 'alarmées': 6727, 'morose': 6728, 'décourage': 6729, 'découragez': 6730, 'grimaces': 6731, 'balancez': 6732, 'deviennent': 6733, 'râle': 6734, 'cané': 6735, 'jase': 6736, 'combattez': 6737, 'terminez': 6738, 'flotter': 6739, 'surfe': 6740, 'surfez': 6741, 'grandis': 6742, 'grandissez': 6743, 'reparti': 6744, 'décidés': 6745, 'décidées': 6746, 'diné': 6747, 'vagabond': 6748, 'sabordé': 6749, 'trompa': 6750, 'renverse': 6751, 'répara': 6752, 'discours': 6753, 'longues': 6754, 'joker': 6755, 'acrobate': 6756, 'soucis': 6757, 'intime': 6758, 'meut': 6759, 'peignit': 6760, 'dénoncés': 6761, 'dénoncées': 6762, 'dormit': 6763, 'clin': 6764, 'historien': 6765, 'fumeur': 6766, 'sénile': 6767, 'gâteux': 6768, 'foudre': 6769, 'resurgit': 6770, 'perfectionnez': 6771, 'compétences': 6772, 'chope': 6773, 'portent': 6774, 'mélodrame': 6775, 'mesures': 6776, 'norvège': 6777, 'relativement': 6778, 'inclinai': 6779, 'inclinée': 6780, 'atteindre': 6781, 'redresser': 6782, 'chopé': 6783, 'confisqué': 6784, 'confisquée': 6785, 'aperçu': 6786, 'aperçue': 6787, 'arriverais': 6788, 'livreur': 6789, 'pizzas': 6790, 'plaisait': 6791, 'exprès': 6792, 'charles': 6793, 'opposée': 6794, 'noisettes': 6795, 'épris': 6796, 'dilemme': 6797, 'flattée': 6798, 'protégé': 6799, 'protégée': 6800, 'revigoré': 6801, 'merveilleusement': 6802, 'arnaquer': 6803, 'textes': 6804, 'vacciner': 6805, 'raisons': 6806, 'feux': 6807, 'artifice': 6808, 'tâches': 6809, 'administratives': 6810, 'bourgade': 6811, 'audace': 6812, 'grenade': 6813, 'quittance': 6814, 'requête': 6815, 'sujette': 6816, 'foins': 6817, 'brûlures': 6818, 'pneumonie': 6819, 'étendards': 6820, 'principes': 6821, 'ondulés': 6822, 'souffrant': 6823, 'virer': 6824, 'ficelles': 6825, 'affranchi': 6826, 'soulevé': 6827, 'astrologie': 6828, 'éléphants': 6829, 'roman': 6830, 'champignons': 6831, 'oncles': 6832, 'mystères': 6833, 'papiers': 6834, 'australie': 6835, 'astronomie': 6836, 'bibliothèques': 6837, 'ouvrages': 6838, 'anciens': 6839, 'nourritures': 6840, 'coton': 6841, 'amassé': 6842, 'fortune': 6843, 'confectionnée': 6844, 'spaghettis': 6845, 'mourus': 6846, 'escorte': 6847, 'hôtesse': 6848, 'enveloppes': 6849, 'savon': 6850, 'titres': 6851, 'matinée': 6852, 'envers': 6853, 'dettes': 6854, 'désigné': 6855, 'précipitai': 6856, 'tombai': 6857, 'kiffe': 6858, 'recommande': 6859, 'requiers': 6860, 'frotté': 6861, 'aperçus': 6862, 'parapluies': 6863, 'visité': 6864, 'attendis': 6865, 'marchant': 6866, 'divorcer': 6867, 'martini': 6868, 'correspondant': 6869, 'raton': 6870, 'laveur': 6871, 'trottinette': 6872, 'gagnions': 6873, 'treize': 6874, 'agacée': 6875, 'amusais': 6876, 'cloîtré': 6877, 'cloîtrée': 6878, 'fourbue': 6879, 'fréquenté': 6880, 'buter': 6881, 'flinguer': 6882, 'enseignerai': 6883, 'traduirai': 6884, 'tombola': 6885, 'plaindrais': 6886, 'écrivis': 6887, 'cogner': 6888, 'revérifierai': 6889, 'démontrerai': 6890, 'manifesterai': 6891, 'volontiers': 6892, 'déjeunerai': 6893, 'étudierai': 6894, 'plats': 6895, 'vingt': 6896, 'programmeur': 6897, 'ambidextre': 6898, 'postes': 6899, 'désorganisé': 6900, 'désorganisée': 6901, 'déjeune': 6902, 'flippe': 6903, 'f': 6904, '.b': 6905, '.i': 6906, 'scolarisé': 6907, 'scolarisée': 6908, 'grenier': 6909, 'invite': 6910, 'mendiant': 6911, 'frime': 6912, 'paranoïaque': 6913, 'couloir': 6914, 'réagis': 6915, 'glandes': 6916, 'stressée': 6917, 'relax': 6918, 'accessible': 6919, 'euros': 6920, 'flipper': 6921, 'avantages': 6922, 'paraître': 6923, 'homo': 6924, 'foncé': 6925, 'excessif': 6926, 'médiatique': 6927, 'publicitaire': 6928, 'fonctionna': 6929, 'avril': 6930, 'période': 6931, 'tournesol': 6932, 'réconfortant': 6933, 'radieux': 6934, 'concevable': 6935, 'aisément': 6936, 'regrettable': 6937, 'brille': 6938, 'transparent': 6939, 'asie': 6940, 'traversons': 6941, 'donnons': 6942, 'fléchettes': 6943, 'postez': 6944, 'élégante': 6945, 'cannette': 6946, 'neigera': 6947, 'puces': 6948, 'minuscule': 6949, 'réception': 6950, 'pouls': 6951, 'engourdis': 6952, 'exprima': 6953, 'souciera': 6954, 'parlera': 6955, 'pétrole': 6956, 'capables': 6957, 'parleront': 6958, 'autorisés': 6959, 'copiez': 6960, 'précisez': 6961, 'préciser': 6962, 'développez': 6963, 'assurer': 6964, 'rangez': 6965, 'signer': 6966, 'apprêtez': 6967, 'gonflez': 6968, 'sourdine': 6969, 'respectez': 6970, 'rome': 6971, 'gaspiller': 6972, 'salive': 6973, 'fouille': 6974, 'verrons': 6975, 'trahies': 6976, 'éprouvait': 6977, 'idolâtrait': 6978, 'insulta': 6979, 'scène': 6980, 'rejeta': 6981, 'repousse': 6982, 'fixé': 6983, 'fixée': 6984, 'ardemment': 6985, 'banc': 6986, 'rigola': 6987, 'criait': 6988, 'recrache': 6989, 'pinailler': 6990, 'moquer': 6991, 'éviter': 6992, 'chantage': 6993, 'propice': 6994, 'paroles': 6995, 'résidence': 6996, 'déplaisant': 6997, 'vexant': 6998, 'tic': 6999, 'tac': 7000, 'grinça': 7001, 'ouvrirent': 7002, 'rué': 7003, 'dindons': 7004, 'jury': 7005, 'divisé': 7006, 'messe': 7007, 'dite': 7008, 'dégagé': 7009, 'enclanché': 7010, 'réservoir': 7011, 'sourirent': 7012, 'assécha': 7013, 'tarit': 7014, 'asséché': 7015, 'limites': 7016, 'noyés': 7017, 'noyées': 7018, 'entrées': 7019, 'arrêtés': 7020, 'arrêtées': 7021, 'disputent': 7022, 'chanteurs': 7023, 'calmées': 7024, 'tus': 7025, 'approchés': 7026, 'approchées': 7027, 'obligèrent': 7028, 'changeront': 7029, 'fausses': 7030, 'amateurs': 7031, 'battent': 7032, 'inoffensifs': 7033, 'inoffensives': 7034, 'immatures': 7035, 'élèves': 7036, 'traîtres': 7037, 'correspond': 7038, 'costaud': 7039, 'fâcheux': 7040, 'officiel': 7041, 'saucisses': 7042, 'réchauffé': 7043, 'relaxant': 7044, 'sabotage': 7045, 'norme': 7046, 'évité': 7047, 'pistolet': 7048, 'rebondi': 7049, 'radeau': 7050, 'manifesté': 7051, 'manifestement': 7052, 'embrouillé': 7053, 'saluait': 7054, 'jean': 7055, 'charisme': 7056, 'roux': 7057, 'travails': 7058, 'oignons': 7059, 'ignorait': 7060, 'ex': 7061, 'batteur': 7062, 'gastronome': 7063, 'gymnaste': 7064, 'hipster': 7065, 'pianiste': 7066, 'courtier': 7067, 'routier': 7068, 'interne': 7069, 'reprend': 7070, 'compétent': 7071, 'prétentieux': 7072, 'fourbe': 7073, 'délire': 7074, 'émotion': 7075, 'paradis': 7076, 'indigne': 7077, 'inventif': 7078, 'légendaire': 7079, 'campus': 7080, 'craquant': 7081, 'réticent': 7082, 'suspendu': 7083, 'propriétaire': 7084, 'contenté': 7085, 'éternué': 7086, 'poneys': 7087, 'réprimanda': 7088, 'toma': 7089, 'horriblement': 7090, 'suggéré': 7091, 'chatouillait': 7092, 'redouble': 7093, 'attaqua': 7094, 'bafouillait': 7095, 'bluffait': 7096, 'vantait': 7097, 'incinéré': 7098, 'noyait': 7099, 'extase': 7100, 'exécuté': 7101, 'sélectionné': 7102, 'sursaut': 7103, 'mourait': 7104, 'rasé': 7105, 'tuera': 7106, 'aimera': 7107, 'répondra': 7108, 'réagira': 7109, 'remporta': 7110, 'crâneur': 7111, 'invaincu': 7112, 'séduisant': 7113, 'bel': 7114, 'arrosez': 7115, 'espadon': 7116, 'songé': 7117, 'exigeons': 7118, 'actes': 7119, 'rapprochés': 7120, 'trouvons': 7121, 'théorie': 7122, 'blessures': 7123, 'cris': 7124, 'restés': 7125, 'restées': 7126, 'tînmes': 7127, 'conserve': 7128, 'commettons': 7129, 'pensions': 7130, 'évacuer': 7131, 'remédier': 7132, 'retirer': 7133, 'provisions': 7134, 'reviennes': 7135, 'redevables': 7136, 'capturés': 7137, 'capturées': 7138, 'trompions': 7139, 'réparerons': 7140, 'corrigerons': 7141, 'souhaitons': 7142, 'ferions': 7143, 'reverrons': 7144, 'retrouve': 7145, 'saurons': 7146, 'payerons': 7147, 'discuterons': 7148, 'tantinet': 7149, 'uniques': 7150, 'stupéfaits': 7151, 'exploite': 7152, 'copains': 7153, 'diplomates': 7154, 'réduisons': 7155, 'voilure': 7156, 'assoupit': 7157, 'endort': 7158, 'assoupissons': 7159, 'endormons': 7160, 'fascinés': 7161, 'pigeons': 7162, 'historiens': 7163, 'analphabètes': 7164, 'situation': 7165, 'sauveteurs': 7166, 'méthodiques': 7167, 'fricotons': 7168, 'réussite': 7169, 'décoller': 7170, 'déshabillons': 7171, 'déshabiller': 7172, 'perdent': 7173, 'excités': 7174, 'excitées': 7175, 'navet': 7176, 'tireur': 7177, 'pourrie': 7178, 'cherches': 7179, 'manigance': 7180, 'ferez': 7181, 'résultat': 7182, 'fouillis': 7183, 'voudrez': 7184, 'voudras': 7185, 'rasoir': 7186, 'toilette': 7187, 'chère': 7188, 'développé': 7189, 'développée': 7190, 'remarquerait': 7191, 'hamlet': 7192, 'professeure': 7193, 'joindras': 7194, 'joindrez': 7195, 'joins': 7196, 'diras': 7197, 'direz': 7198, 'laine': 7199, 'joliment': 7200, 'fabuleuse': 7201, 'hésitez': 7202, 'hésites': 7203, 'activer': 7204, 'magner': 7205, 'méritez': 7206, 'effectivement': 7207, 'probablement': 7208, 'ignores': 7209, 'aies': 7210, 'autorisation': 7211, 'citer': 7212, 'sacrement': 7213, 'arrêtiez': 7214, 'cesses': 7215, 'distant': 7216, 'utiles': 7217, 'obéiras': 7218, 'obéirez': 7219, 'survivrez': 7220, 'survivras': 7221, 'tocard': 7222, 'constitues': 7223, 'constituez': 7224, 'licenciés': 7225, 'licenciées': 7226, 'suffisants': 7227, 'suffisantes': 7228, 'courtoises': 7229, 'oublieux': 7230, 'oublieuse': 7231, 'virés': 7232, 'virées': 7233, 'odieuses': 7234, 'observation': 7235, 'tenaces': 7236, 'cries': 7237, 'frissonnes': 7238, 'trembles': 7239, 'tremblez': 7240, 'bavards': 7241, 'bavardes': 7242, 'tendus': 7243, 'tendues': 7244, 'immorale': 7245, 'feuille': 7246, 'freins': 7247, 'surréagis': 7248, 'arrestation': 7249, 'conviendra': 7250, 'parfaitement': 7251, 'sympathiques': 7252, 'bacheliers': 7253, 'respires': 7254, 'motivées': 7255, 'construisent': 7256, 'nids': 7257, 'composer': 7258, 'puisse': 7259, 'effectuer': 7260, 'réaliser': 7261, 'rapprocher': 7262, 'champagne': 7263, 'rechargez': 7264, 'recharge': 7265, 'cliquez': 7266, 'admettez': 7267, 'compare': 7268, 'distribue': 7269, 'distribuez': 7270, 'imminente': 7271, 'décrivez': 7272, 'lus': 7273, 'alimentaire': 7274, 'désactive': 7275, 'désactivez': 7276, 'fourmis': 7277, 'disposez': 7278, 'blonde': 7279, 'latin': 7280, 'sachet': 7281, 'nages': 7282, 'cornet': 7283, 'ignorant': 7284, 'insistant': 7285, 'supplier': 7286, 'réitère': 7287, 'réitérez': 7288, 'foire': 7289, 'foirez': 7290, 'menacez': 7291, 'selle': 7292, 'agenouille': 7293, 'agenouillez': 7294, 'aboule': 7295, 'états': 7296, 'unis': 7297, 'mesdames': 7298, 'crée': 7299, 'réclamé': 7300, 'mâcha': 7301, 'gomme': 7302, 'grains': 7303, 'protesta': 7304, 'clamecé': 7305, 'canné': 7306, 'brutalement': 7307, 'vase': 7308, 'expira': 7309, 'transmis': 7310, 'enivra': 7311, 'enivré': 7312, 'remit': 7313, 'pendu': 7314, 'maux': 7315, 'ego': 7316, 'dimensionné': 7317, 'blond': 7318, 'taiseux': 7319, 'quarantaine': 7320, 'tv': 7321, 'cessa': 7322, 'suicidé': 7323, 'frugale': 7324, 'chichement': 7325, 'osaka': 7326, 'honneur': 7327, 'confectionna': 7328, 'courut': 7329, 'miles': 7330, 'frotta': 7331, 'lança': 7332, 'disait': 7333, 'rentra': 7334, 'scénarios': 7335, 'cycle': 7336, 'originaire': 7337, 'géorgie': 7338, 'fourre': 7339, 'fouilles': 7340, 'oseille': 7341, 'avertissements': 7342, 'assombrirent': 7343, 'chérie': 7344, 'griller': 7345, 'penseriez': 7346, 'courions': 7347, 'couriez': 7348, 'rivaliser': 7349, 'stoppons': 7350, 'épelle': 7351, 'donnes': 7352, 'réussirait': 7353, 'trouverais': 7354, 'trouveriez': 7355, 'débiteur': 7356, 'débitrice': 7357, 'hamburger': 7358, 'sandwich': 7359, 'hameçon': 7360, 'cactus': 7361, 'webcam': 7362, 'achetai': 7363, 'brossé': 7364, 'coiffé': 7365, 'coiffée': 7366, 'consoler': 7367, 'difficilement': 7368, 'chopin': 7369, 'appuyer': 7370, 'ralentir': 7371, 'enregistré': 7372, 'considération': 7373, 'envisagé': 7374, 'achetés': 7375, 'achetées': 7376, 'négocie': 7377, 'vulnérable': 7378, 'échappai': 7379, 'oubliais': 7380, 'dégoté': 7381, 'abeille': 7382, 'tirée': 7383, 'chahutée': 7384, 'hypocrites': 7385, 'entretiens': 7386, 'journées': 7387, 'pluvieuses': 7388, 'désert': 7389, 'coupure': 7390, 'voilier': 7391, 'otite': 7392, 'châtains': 7393, 'disques': 7394, 'détail': 7395, 'économies': 7396, 'possession': 7397, 'lot': 7398, 'saine': 7399, 'marine': 7400, 'titre': 7401, 'propriété': 7402, 'titularisé': 7403, 'titularisée': 7404, 'continuais': 7405, 'viendrais': 7406, 'aventures': 7407, 'choucroute': 7408, 'épicée': 7409, 'probabilités': 7410, 'pastèque': 7411, 'hôtel': 7412, 'confortablement': 7413, 'barrage': 7414, 'boucle': 7415, 'oreille': 7416, 'équilibre': 7417, 'hamburgers': 7418, 'public': 7419, 'album': 7420, 'raffole': 7421, 'marchander': 7422, 'appart': 7423, 'moquai': 7424, 'minutes': 7425, 'répit': 7426, 'clavier': 7427, 'dentifrice': 7428, 'sus': 7429, 'retournée': 7430, 'hoché': 7431, 'capot': 7432, 'yens': 7433, 'crocheté': 7434, 'tambourin': 7435, 'volley': 7436, 'invoque': 7437, 'élagué': 7438, 'muscle': 7439, 'distendu': 7440, 'entorse': 7441, 'mâchoire': 7442, 'repoussai': 7443, 'embouti': 7444, 'recommandé': 7445, 'plaisantant': 7446, 'chenille': 7447, 'assisté': 7448, 'roulettes': 7449, 'bestiole': 7450, 'balayé': 7451, 'géographie': 7452, 'autrement': 7453, 'autoroute': 7454, 'ordinaire': 7455, 'portatif': 7456, 'assiettes': 7457, 'confesser': 7458, 'mouriez': 7459, 'meures': 7460, 'souhaitais': 7461, 'averti': 7462, 'avertie': 7463, 'célébrais': 7464, 'dissuada': 7465, 'discrédité': 7466, 'discréditée': 7467, 'minorité': 7468, 'bouleversée': 7469, 'submergé': 7470, 'submergée': 7471, 'éprouvais': 7472, 'bornes': 7473, 'affamée': 7474, 'draguais': 7475, 'informée': 7476, 'poursuivis': 7477, 'lecture': 7478, 'harvard': 7479, 'séjournerai': 7480, 'cèderai': 7481, 'reculerai': 7482, 'nierai': 7483, 'négocierai': 7484, 'apprécierais': 7485, 'présenter': 7486, 'rentrerai': 7487, 'nourrir': 7488, 'nourrirai': 7489, 'garderai': 7490, 'recommanderai': 7491, 'enverrai': 7492, 'assoirai': 7493, 'écrirai': 7494, 'sagittaire': 7495, 'éducateur': 7496, 'canin': 7497, 'bourreau': 7498, 'astronome': 7499, 'consciente': 7500, 'observé': 7501, 'concentration': 7502, 'extrêmement': 7503, 'réjouis': 7504, 'bondis': 7505, 'irremplaçable': 7506, 'supposer': 7507, 'maigris': 7508, 'matérialiste': 7509, 'joueuse': 7510, 'cobaye': 7511, 'divination': 7512, 'devin': 7513, 'télépathe': 7514, 'institutrice': 7515, 'persuadé': 7516, 'persuadée': 7517, 'sauvage': 7518, 'courbatures': 7519, 'chiasse': 7520, 'fierté': 7521, 'rumeurs': 7522, 'fumé': 7523, 'identifie': 7524, 'diminué': 7525, 'assurez': 7526, 'notarié': 7527, 'garanti': 7528, 'morceaux': 7529, 'rafraîchi': 7530, 'facultatif': 7531, 'massacre': 7532, 'fastidieux': 7533, 'amphigourique': 7534, 'désastreux': 7535, 'dégoutant': 7536, 'solde': 7537, 'convaincant': 7538, 'branlant': 7539, 'nuageuse': 7540, 'conspiration': 7541, 'complot': 7542, 'dictionnaire': 7543, 'controversé': 7544, 'enfance': 7545, 'hésiter': 7546, 'hésitation': 7547, 'uds': 7548, 'chimérique': 7549, 'insensé': 7550, 'confidentiel': 7551, 'gênant': 7552, 'rafraîchit': 7553, 'assombrit': 7554, 'obscurcit': 7555, 'gentiment': 7556, 'humaine': 7557, 'débat': 7558, 'arrangé': 7559, 'imprécis': 7560, 'ressemblant': 7561, 'frappez': 7562, 'construisons': 7563, 'cabane': 7564, 'concentrons': 7565, 'calcul': 7566, 'marions': 7567, 'ignorons': 7568, 'enquêter': 7569, 'enquêtons': 7570, 'disons': 7571, 'tentons': 7572, 'serrons': 7573, 'recommençons': 7574, 'entrons': 7575, 'divertissante': 7576, 'éphémère': 7577, 'bout': 7578, 'prévaudra': 7579, 'puissance': 7580, 'raffolent': 7581, 'gelées': 7582, 'liées': 7583, 'affûté': 7584, 'ennuyeuse': 7585, 'admis': 7586, 'introduire': 7587, 'comprit': 7588, 'plaignait': 7589, 'terrifie': 7590, 'clochait': 7591, 'attirent': 7592, 'augmentent': 7593, 'hausse': 7594, 'production': 7595, 'pantalons': 7596, 'épines': 7597, 'visse': 7598, 'inspecte': 7599, 'suites': 7600, 'fascinait': 7601, 'donnée': 7602, 'détentrice': 7603, 'silhouette': 7604, 'débutante': 7605, 'asociale': 7606, 'adolescente': 7607, 'ado': 7608, 'turner': 7609, 'argument': 7610, 'hyperactive': 7611, 'berceuse': 7612, 'résolvez': 7613, 'résous': 7614, 'répondait': 7615, 'pourtant': 7616, 'droites': 7617, 'balance': 7618, 'imiter': 7619, 'termites': 7620, 'lourde': 7621, 'massive': 7622, 'essentiel': 7623, 'évoque': 7624, 'sonnait': 7625, 'supposition': 7626, 'volera': 7627, 'sapin': 7628, 'dérangeant': 7629, 'opinion': 7630, 'risible': 7631, 'indéniable': 7632, 'câble': 7633, 'provision': 7634, 'policiers': 7635, 'fila': 7636, 'âne': 7637, 'brait': 7638, 'entrouverte': 7639, 'fade': 7640, 'insipide': 7641, 'évanouies': 7642, 'pouffèrent': 7643, 'pouffé': 7644, 'gloussèrent': 7645, 'enrayée': 7646, 'chargé': 7647, 'émoussé': 7648, 'couvercle': 7649, 'voyants': 7650, 'loyer': 7651, 'épaisse': 7652, 'verglacée': 7653, 'tactique': 7654, 'cuve': 7655, 'prononcé': 7656, 'dieux': 7657, 'échappatoire': 7658, 'véritables': 7659, 'massives': 7660, 'regardent': 7661, 'mènent': 7662, 'aisée': 7663, 'croyaient': 7664, 'ressemblent': 7665, 'parlaient': 7666, 'voyagent': 7667, 'fortunées': 7668, 'aimeront': 7669, 'menteuses': 7670, 'cannibales': 7671, 'excellentes': 7672, 'excellents': 7673, 'onéreuses': 7674, 'écoutent': 7675, 'meurtriers': 7676, 'chics': 7677, 'étonnés': 7678, 'étonnées': 7679, 'intacts': 7680, 'intactes': 7681, 'légère': 7682, 'seau': 7683, 'coco': 7684, 'extorsion': 7685, 'charabia': 7686, 'tordant': 7687, 'plier': 7688, 'insultant': 7689, 'irrégulier': 7690, 'justifié': 7691, 'offensant': 7692, 'révoltant': 7693, 'écrémé': 7694, 'temporaire': 7695, 'louche': 7696, 'jeudi': 7697, 'régale': 7698, 'étouffer': 7699, 'croyait': 7700, 'trahit': 7701, 'décrit': 7702, 'méprisait': 7703, 'apparu': 7704, 'divorça': 7705, 'nauséeux': 7706, 'qi': 7707, 'élevé': 7708, 'iphone': 7709, 'arthrite': 7710, 'foncée': 7711, 'engelures': 7712, 'aidés': 7713, 'aidées': 7714, 'imita': 7715, 'imité': 7716, 'don': 7717, 'juan': 7718, 'bibliothèque': 7719, 'bijoutier': 7720, 'chiffe': 7721, 'molle': 7722, 'garou': 7723, 'vieillard': 7724, 'frustré': 7725, 'dégarnit': 7726, 'grandir': 7727, 'grandit': 7728, 'université': 7729, 'thérapie': 7730, 'indécis': 7731, 'perspicace': 7732, 'intolérant': 7733, 'passionné': 7734, 'possessif': 7735, 'rétablit': 7736, 'convalescence': 7737, 'remet': 7738, 'infidèle': 7739, 'insociable': 7740, 'mineur': 7741, 'country': 7742, 'marmonne': 7743, 'renonça': 7744, 'renoncé': 7745, 'rassit': 7746, 'parait': 7747, 'serra': 7748, 'humblement': 7749, 'alignement': 7750, 'comprenait': 7751, 'fumait': 7752, 'autrefois': 7753, 'attendue': 7754, 'pompier': 7755, 'enthousiasmé': 7756, 'délirait': 7757, 'plaindra': 7758, 'continuera': 7759, 'tarder': 7760, 'cédera': 7761, 'approuverait': 7762, 'réfléchira': 7763, 'comprendra': 7764, 'suffoquer': 7765, 'acrylique': 7766, 'sépare': 7767, 'prévenez': 7768, 'langage': 7769, 'abhorrons': 7770, 'sentions': 7771, 'camarades': 7772, 'construire': 7773, 'pleurâmes': 7774, 'levâmes': 7775, 'vaccin': 7776, 'mandat': 7777, 'fournisseurs': 7778, 'témoins': 7779, 'familière': 7780, 'aspirons': 7781, 'occupons': 7782, 'cherchée': 7783, 'parcs': 7784, 'alerter': 7785, 'mourûmes': 7786, 'obéissons': 7787, 'répétons': 7788, 'louâmes': 7789, 'canoë': 7790, 'fîmes': 7791, 'essayés': 7792, 'essayées': 7793, 'impressionnés': 7794, 'impressionnées': 7795, 'sceptiques': 7796, 'terrifiés': 7797, 'terrifiées': 7798, 'bataille': 7799, 'emploierons': 7800, 'aventureux': 7801, 'aventureuses': 7802, 'mères': 7803, 'retraités': 7804, 'retraitées': 7805, 'fêtons': 7806, 'coopérons': 7807, 'extravertis': 7808, 'devenons': 7809, 'pressées': 7810, 'introvertis': 7811, 'journalistes': 7812, 'tueurs': 7813, 'tueuses': 7814, 'clous': 7815, 'persévérons': 7816, 'pessimistes': 7817, 'fières': 7818, 'retirons': 7819, 'ascendant': 7820, 'rejouons': 7821, 'dignes': 7822, 'chauds': 7823, 'collection': 7824, 'excellente': 7825, 'judicieuse': 7826, 'portiez': 7827, 'délai': 7828, 'consiste': 7829, 'disais': 7830, 'passerait': 7831, 'arriverait': 7832, 'quels': 7833, 'cible': 7834, 'passés': 7835, 'gares': 7836, 'livret': 7837, 'situe': 7838, 'loquet': 7839, 'piger': 7840, 'validé': 7841, 'melon': 7842, 'tourte': 7843, 'confucius': 7844, 'cuisiniers': 7845, 'agacées': 7846, 'résistes': 7847, 'encourir': 7848, 'rirais': 7849, 'payerez': 7850, 'payeras': 7851, 'remuez': 7852, 'actrices': 7853, 'louper': 7854, 'auriez': 7855, 'donnas': 7856, 'cinglés': 7857, 'battes': 7858, 'resplendissants': 7859, 'resplendissantes': 7860, 'retenir': 7861, 'sueur': 7862, 'fusillés': 7863, 'fusillées': 7864, 'réussiras': 7865, 'réussirez': 7866, 'trouveras': 7867, 'disgrâce': 7868, 'exprimes': 7869, 'exprimez': 7870, 'contagieuses': 7871, 'diplomatie': 7872, 'dégoûtants': 7873, 'dégoûtantes': 7874, 'surmenées': 7875, 'surmenés': 7876, 'sûreté': 7877, 'cernées': 7878, 'experte': 7879, 'maigres': 7880, 'hostile': 7881, 'vifs': 7882, 'vives': 7883, 'peureuses': 7884, 'griffé': 7885, 'virgule': 7886, 'révolte': 7887, 'éclata': 7888, 'visions': 7889, 'exige': 7890, 'fusé': 7891, 'contentés': 7892, 'contentées': 7893, 'bouddhiste': 7894, 'croyant': 7895, 'divertissez': 7896, 'moques': 7897, 'inscrits': 7898, 'végétariens': 7899, 'végétariennes': 7900, 'contient': 7901, 'houblon': 7902, 'fascinent': 7903, 'passionnent': 7904, 'abattus': 7905, 'vendez': 7906, 'oreiller': 7907, 'caresser': 7908, 'louer': 7909, 'raquettes': 7910, 'menu': 7911, 'accomplir': 7912, 'légende': 7913, 'conseillée': 7914, 'croisons': 7915, 'croise': 7916, 'mention': 7917, 'habité': 7918, 'habitaient': 7919, 'vivaient': 7920, 'régner': 7921, 'duplicata': 7922, 'mozart': 7923, 'kiffes': 7924, 'véhiculés': 7925, 'véhiculées': 7926, 'voyagez': 7927, 'sauvent': 7928, 'imitateur': 7929, 'sélectif': 7930, 'sélective': 7931, 'avare': 7932, 'pudique': 7933, 'autant': 7934, 'attirez': 7935, 'rate': 7936, 'condescendance': 7937, 'contez': 7938, 'remerciez': 7939, 'poubelle': 7940, 'détend': 7941, 'dépoussiérez': 7942, 'étagère': 7943, 'dépensé': 7944, 'endosse': 7945, 'profitez': 7946, 'dollar': 7947, 'paniqua': 7948, 'affolait': 7949, 'applaudissait': 7950, 'spéciale': 7951, 'changeait': 7952, 'blancs': 7953, 'espaces': 7954, 'remplis': 7955, 'commencement': 7956, 'lessive': 7957, 'fournis': 7958, 'fournissez': 7959, 'cassant': 7960, 'laboratoire': 7961, 'pendre': 7962, 'télécommande': 7963, 'thanksgiving': 7964, 'haine': 7965, 'conseilla': 7966, 'quémandé': 7967, 'heurta': 7968, 'cogna': 7969, 'respiré': 7970, 'enfreignit': 7971, 'termina': 7972, 'débuta': 7973, 'mile': 7974, 'trépassa': 7975, 'exprime': 7976, 'retint': 7977, 'poissonnier': 7978, 'borné': 7979, 'soigneux': 7980, 'garda': 7981, 'tapa': 7982, 'alluma': 7983, 'prévenances': 7984, 'présenta': 7985, 'riposter': 7986, 'dépouillé': 7987, 'dépouillée': 7988, 'roula': 7989, 'toucha': 7990, 'vieillissait': 7991, 'kilos': 7992, 'loterie': 7993, 'marcheur': 7994, 'critique': 7995, 'gastronomique': 7996, 'nègre': 7997, 'gardien': 7998, 'méthamphétamines': 7999, 'concret': 8000, 'bougre': 8001, 'frôle': 8002, 'cinquante': 8003, 'bouc': 8004, 'émissaire': 8005, 'déchirés': 8006, 'suie': 8007, 'bagage': 8008, 'épatant': 8009, 'dérobèrent': 8010, 'accélérait': 8011, 'tabac': 8012, 'précision': 8013, 'économie': 8014, 'quantité': 8015, 'musée': 8016, 'déroulée': 8017, 'recherche': 8018, 'quête': 8019, 'clients': 8020, 'plongé': 8021, 'prophète': 8022, 'répondis': 8023, 'frites': 8024, 'chips': 8025, 'cacahuètes': 8026, 'embrayage': 8027, 'amené': 8028, 'brulé': 8029, 'procurer': 8030, 'autoriser': 8031, 'exclure': 8032, 'renoncer': 8033, 'imaginer': 8034, 'cliqué': 8035, 'péché': 8036, 'craché': 8037, 'proposé': 8038, 'foi': 8039, 'transige': 8040, 'vodka': 8041, 'guigne': 8042, 'lamentablement': 8043, 'examens': 8044, 'craignis': 8045, 'procuré': 8046, 'photographique': 8047, 'disposé': 8048, 'tardif': 8049, 'accepter': 8050, 'tendis': 8051, 'ennui': 8052, 'plupart': 8053, 'moquette': 8054, 'dégarni': 8055, 'beurre': 8056, 'aquarium': 8057, 'saignement': 8058, 'télescope': 8059, 'crêpus': 8060, 'habiller': 8061, 'saper': 8062, 'exercer': 8063, 'avertisse': 8064, 'appareils': 8065, 'neveux': 8066, 'tickets': 8067, 'explosions': 8068, 'aidais': 8069, 'intégrerai': 8070, 'trouverons': 8071, 'viendras': 8072, 'viendrez': 8073, 'salaire': 8074, 'fiancer': 8075, 'marier': 8076, 'refaire': 8077, 'décoration': 8078, 'bordélique': 8079, 'prenante': 8080, 'irlandaise': 8081, 'endroits': 8082, 'débordant': 8083, 'activité': 8084, 'disco': 8085, 'mathématiques': 8086, 'professeurs': 8087, 'photographie': 8088, 'framboises': 8089, 'traduction': 8090, 'pauvreté': 8091, 'regardai': 8092, 'coréenne': 8093, 'barbus': 8094, 'papillons': 8095, 'dessinée': 8096, 'contes': 8097, 'fées': 8098, 'mélodie': 8099, 'appels': 8100, 'promesses': 8101, 'photocopies': 8102, 'mourrai': 8103, 'secrétaire': 8104, 'enveloppe': 8105, 'lotion': 8106, 'muscade': 8107, 'oubliés': 8108, 'oubliées': 8109, 'lubrifié': 8110, 'huilé': 8111, 'trompette': 8112, 'initialement': 8113, 'répétai': 8114, 'répété': 8115, 'explosion': 8116, 'images': 8117, 'claqué': 8118, 'baffe': 8119, 'souche': 8120, 'loir': 8121, 'masse': 8122, 'marmotte': 8123, 'tranché': 8124, 'cigarettes': 8125, 'psychologie': 8126, 'hâtions': 8127, 'dépêchions': 8128, 'gagnerais': 8129, 'retirai': 8130, 'foulé': 8131, 'cheville': 8132, 'déchargé': 8133, 'débranché': 8134, 'marchai': 8135, 'allai': 8136, 'rendis': 8137, 'perde': 8138, 'copain': 8139, 'jules': 8140, 'nombreuses': 8141, 'rendes': 8142, 'rendiez': 8143, 'profiter': 8144, 'aidiez': 8145, 'chantiez': 8146, 'parliez': 8147, 'douze': 8148, 'disqualifié': 8149, 'disqualifiée': 8150, 'percuté': 8151, 'apprêtais': 8152, 'téléphonais': 8153, 'paraphrasais': 8154, 'éduqué': 8155, 'éduquée': 8156, 'dormais': 8157, 'consulté': 8158, 'consultée': 8159, 'bavardais': 8160, 'nagasaki': 8161, 'élection': 8162, 'déranger': 8163, 'confirmerai': 8164, 'pincer': 8165, 'engagerais': 8166, 'recruterais': 8167, 'embaucherais': 8168, 'rapporterai': 8169, 'cuistot': 8170, 'couvrir': 8171, 'plonge': 8172, 'débarrasserai': 8173, 'gèrerai': 8174, 'saurai': 8175, 'souviendrai': 8176, 'rappellerai': 8177, 'reverrai': 8178, 'laverai': 8179, 'voisine': 8180, 'rouillé': 8181, 'photographe': 8182, 'départ': 8183, 'claustrophobe': 8184, 'singapour': 8185, 'appauvris': 8186, 'planter': 8187, 'gangster': 8188, 'magicien': 8189, 'pacifiste': 8190, 'lubies': 8191, 'invincible': 8192, 'esclave': 8193, 'gym': 8194, 'balcon': 8195, 'incontrôlable': 8196, 'médiocre': 8197, 'démarrer': 8198, 'légèrement': 8199, 'censé': 8200, 'enthousiasme': 8201, 'félicité': 8202, 'chrétien': 8203, 'futur': 8204, 'enchaîné': 8205, 'laitier': 8206, 'recyclable': 8207, 'brise': 8208, 'mena': 8209, 'parallèle': 8210, 'quinze': 8211, 'pleuve': 8212, 'suffise': 8213, 'stupéfiant': 8214, 'étonnant': 8215, 'frustrant': 8216, 'fascinant': 8217, 'hypnotique': 8218, 'durera': 8219, 'reproduire': 8220, 'préoccupation': 8221, 'inquiétude': 8222, 'extrême': 8223, 'coïncidence': 8224, 'distraction': 8225, 'prouvé': 8226, 'collectif': 8227, 'investissement': 8228, 'canard': 8229, 'décevant': 8230, 'déconcertant': 8231, 'améliorée': 8232, 'frigo': 8233, 'réfrigérateur': 8234, 'peste': 8235, 'laiton': 8236, 'salon': 8237, 'lumineux': 8238, 'bondé': 8239, 'inoubliable': 8240, 'grèce': 8241, 'juges': 8242, 'uniquement': 8243, 'interdite': 8244, 'tombent': 8245, 'leçon': 8246, 'kiki': 8247, 'démarrons': 8248, 'divorçons': 8249, 'cassons': 8250, 'apprenons': 8251, 'chamaillons': 8252, 'énervons': 8253, 'utilisons': 8254, 'heureusement': 8255, 'dotée': 8256, 'séduisante': 8257, 'joigne': 8258, 'monopoles': 8259, 'nuisibles': 8260, 'universelle': 8261, 'définitive': 8262, 'budget': 8263, 'miaule': 8264, 'gestation': 8265, 'irrités': 8266, 'taciturne': 8267, 'jauge': 8268, 'nobles': 8269, 'engourdies': 8270, 'intuition': 8271, 'lettres': 8272, 'exposée': 8273, 'éclair': 8274, 'transforme': 8275, 'immortel': 8276, 'verra': 8277, 'souscrit': 8278, 'remarquer': 8279, 'remarquera': 8280, 'âme': 8281, 'éternellement': 8282, 'planifié': 8283, 'hiboux': 8284, 'pourvus': 8285, 'déchets': 8286, 'serrer': 8287, 'bondi': 8288, 'enfonce': 8289, 'enfoncez': 8290, 'reproduisent': 8291, 'vrais': 8292, 'économise': 8293, 'construites': 8294, 'postale': 8295, 'agiter': 8296, 'utilisation': 8297, 'parut': 8298, 'montrée': 8299, 'parue': 8300, 'invita': 8301, 'vouloir': 8302, 'piètre': 8303, 'cuisinière': 8304, 'américaine': 8305, 'linge': 8306, 'paumée': 8307, 'antiquités': 8308, 'achats': 8309, 'expliqué': 8310, 'rendit': 8311, 'cuisit': 8312, 'prépara': 8313, 'concocta': 8314, 'cueilli': 8315, 'désigna': 8316, 'charitable': 8317, 'charité': 8318, 'secoua': 8319, 'menaça': 8320, 'naissance': 8321, 'bordé': 8322, 'nouilles': 8323, 'élite': 8324, 'reprocher': 8325, 'déplacent': 8326, 'meuvent': 8327, 'stade': 8328, 'paraîtra': 8329, 'reculer': 8330, 'tocards': 8331, 'op': 8332, 'coûté': 8333, 'procure': 8334, 'importune': 8335, 'produire': 8336, 'prometteur': 8337, 'obtient': 8338, 'hasard': 8339, 'bâclé': 8340, 'maximum': 8341, 'zone': 8342, 'échoua': 8343, 'nourrisson': 8344, 'accu': 8345, 'déserte': 8346, 'rassis': 8347, 'retentit': 8348, 'retentissait': 8349, 'classée': 8350, 'côte': 8351, 'dégagée': 8352, 'concert': 8353, 'corbeau': 8354, 'haleter': 8355, 'claqua': 8356, 'ronde': 8357, 'flamme': 8358, 'fanées': 8359, 'avarié': 8360, 'effondrée': 8361, 'fondre': 8362, 'éteintes': 8363, 'redressé': 8364, 'repris': 8365, 'congelée': 8366, 'rendent': 8367, 'éclatante': 8368, 'croissante': 8369, 'sécher': 8370, 'étang': 8371, 'asséchée': 8372, 'silencieuse': 8373, 'serveur': 8374, 'magasins': 8375, 'illumina': 8376, 'éclairci': 8377, 'étoiles': 8378, 'apparues': 8379, 'dévié': 8380, 'déviait': 8381, 'crissé': 8382, 'coucha': 8383, 'chut': 8384, 'vagues': 8385, 'hautes': 8386, 'soufflait': 8387, 'couille': 8388, 'additionnel': 8389, 'chopés': 8390, 'exténués': 8391, 'exténuées': 8392, 'bienveillants': 8393, 'bienveillantes': 8394, 'lutteurs': 8395, 'catcheurs': 8396, 'glissés': 8397, 'glissées': 8398, 'donnèrent': 8399, 'désorientées': 8400, 'désorientés': 8401, 'marchèrent': 8402, 'attaqués': 8403, 'attaquées': 8404, 'aideront': 8405, 'comprendront': 8406, 'chrétiens': 8407, 'illets': 8408, 'étrangers': 8409, 'étrangères': 8410, 'menottés': 8411, 'menottées': 8412, 'hirsute': 8413, 'routière': 8414, 'gabarit': 8415, 'modèle': 8416, 'template': 8417, 'triangle': 8418, 'abricot': 8419, 'octogone': 8420, 'renversant': 8421, 'classé': 8422, 'troublant': 8423, 'plagiat': 8424, 'surprenant': 8425, 'top': 8426, 'insupportable': 8427, 'perceuse': 8428, 'chiffon': 8429, 'resserre': 8430, 'abandonnés': 8431, 'abandonnées': 8432, 'inclina': 8433, 'inclinait': 8434, 'pêché': 8435, 'consolé': 8436, 'consolait': 8437, 'consola': 8438, 'contacté': 8439, 'persuada': 8440, 'aidée': 8441, 'limonade': 8442, 'naviguer': 8443, 'suit': 8444, 'gémit': 8445, 'moustache': 8446, 'narcolepsie': 8447, 'courtes': 8448, 'débrouillait': 8449, 'circuit': 8450, 'ignorés': 8451, 'john': 8452, 'charpentier': 8453, 'inspecteur': 8454, 'bibliothécaire': 8455, 'machiniste': 8456, 'nerd': 8457, 'chercheur': 8458, 'militant': 8459, 'imposteur': 8460, 'croûton': 8461, 'barreaux': 8462, 'compétitif': 8463, 'rêvasser': 8464, 'hyperactif': 8465, 'indépendant': 8466, 'inefficace': 8467, 'ébriété': 8468, 'accablé': 8469, 'pessimiste': 8470, 'supervise': 8471, 'parent': 8472, 'kidnappa': 8473, 'noms': 8474, 'blanchit': 8475, 'blanchiment': 8476, 'dirigé': 8477, 'offensive': 8478, 'habitait': 8479, 'éreinté': 8480, 'pertubé': 8481, 'ait': 8482, 'jugé': 8483, 'acquiesça': 8484, 'fichu': 8485, 'stressé': 8486, 'séchait': 8487, 'anneau': 8488, 'vedette': 8489, 'terrorisé': 8490, 'terrifiait': 8491, 'terrorisait': 8492, 'voyagé': 8493, 'voudrait': 8494, 'croisé': 8495, 'désemparé': 8496, 'hystérique': 8497, 'irrationnel': 8498, 'persistant': 8499, 'cité': 8500, 'comparaître': 8501, 'entouré': 8502, 'encerclé': 8503, 'suspicieux': 8504, 'imbattable': 8505, 'agitait': 8506, 'rappellera': 8507, 'mordra': 8508, 'boira': 8509, 'rangée': 8510, 'tâchez': 8511, 'affecte': 8512}\n"
          ]
        }
      ],
      "source": [
        "print(len(tar_to_index), tar_to_index)   # <sos>와 <eos>포함 문장 2배로 누적됨"
      ]
    },
    {
      "cell_type": "markdown",
      "metadata": {
        "id": "PZIUwIZI74sG"
      },
      "source": [
        "데이터의 크기(shape)를 확인합니다."
      ]
    },
    {
      "cell_type": "code",
      "execution_count": null,
      "metadata": {
        "colab": {
          "base_uri": "https://localhost:8080/"
        },
        "id": "a8rq4zA874sH",
        "outputId": "4748d7e5-73c4-4760-c8e7-4bbe2ac4c99d"
      },
      "outputs": [
        {
          "output_type": "stream",
          "name": "stdout",
          "text": [
            "인코더의 입력의 크기(shape) : (33000, 8)\n",
            "디코더의 입력의 크기(shape) : (33000, 16)\n",
            "디코더의 레이블의 크기(shape) : (33000, 16)\n"
          ]
        }
      ],
      "source": [
        "print('인코더의 입력의 크기(shape) :', encoder_input.shape)\n",
        "print('디코더의 입력의 크기(shape) :', decoder_input.shape)\n",
        "print('디코더의 레이블의 크기(shape) :', decoder_target.shape)"
      ]
    },
    {
      "cell_type": "code",
      "execution_count": null,
      "metadata": {
        "colab": {
          "base_uri": "https://localhost:8080/"
        },
        "id": "AATBjTo8JkMy",
        "outputId": "3f0fec6e-8880-4609-c0a8-c960083962da"
      },
      "outputs": [
        {
          "output_type": "stream",
          "name": "stdout",
          "text": [
            "source 문장의 최대 길이 : 8\n",
            "target 문장의 최대 길이 : 16\n"
          ]
        }
      ],
      "source": [
        "max_src_len = encoder_input.shape[1]\n",
        "max_tar_len = decoder_input.shape[1]\n",
        "print('source 문장의 최대 길이 :', max_src_len)\n",
        "print('target 문장의 최대 길이 :', max_tar_len)"
      ]
    },
    {
      "cell_type": "markdown",
      "metadata": {
        "id": "775UrG3U74sH"
      },
      "source": [
        "샘플은 총 33,000개 존재하며 영어 문장의 길이는 8, 프랑스어 문장의 길이는 16입니다. 단어 집합의 크기를 정의합니다."
      ]
    },
    {
      "cell_type": "code",
      "execution_count": null,
      "metadata": {
        "colab": {
          "base_uri": "https://localhost:8080/"
        },
        "id": "v_NTWBaUJk4i",
        "outputId": "a23dcd25-8a87-42ba-f730-02278cf265a8"
      },
      "outputs": [
        {
          "output_type": "stream",
          "name": "stdout",
          "text": [
            "영어 단어 집합의 크기 : 4673, 프랑스어 단어 집합의 크기 : 8513\n"
          ]
        }
      ],
      "source": [
        "src_vocab_size = len(tokenizer_en.word_index) + 1\n",
        "tar_vocab_size = len(tokenizer_fra.word_index) + 1\n",
        "print(\"영어 단어 집합의 크기 : {:d}, 프랑스어 단어 집합의 크기 : {:d}\".format(src_vocab_size, tar_vocab_size))"
      ]
    },
    {
      "cell_type": "markdown",
      "metadata": {
        "id": "JxRpUWn074sI"
      },
      "source": [
        "단어 집합의 크기는 각각 4,647개와 8,022개입니다. 단어로부터 정수를 얻는 딕셔너리와 정수로부터 단어를 얻는 딕셔너리를 각각 만들어줍니다. 이들은 훈련을 마치고 예측값과 실제값을 비교하는 단계에서 사용됩니다."
      ]
    },
    {
      "cell_type": "markdown",
      "metadata": {
        "id": "2h-8ojL074sI"
      },
      "source": [
        "테스트 데이터를 분리하기 전 데이터를 섞어줍니다. 이를 위해서 순서가 섞인 정수 시퀀스 리스트를 만듭니다."
      ]
    },
    {
      "cell_type": "code",
      "execution_count": null,
      "metadata": {
        "colab": {
          "base_uri": "https://localhost:8080/"
        },
        "id": "VZ522ykNOjeq",
        "outputId": "ad59120d-1a30-4139-be66-054d700d3baa"
      },
      "outputs": [
        {
          "output_type": "execute_result",
          "data": {
            "text/plain": [
              "(33000, 8)"
            ]
          },
          "metadata": {},
          "execution_count": 42
        }
      ],
      "source": [
        "encoder_input.shape"
      ]
    },
    {
      "cell_type": "code",
      "execution_count": null,
      "metadata": {
        "colab": {
          "base_uri": "https://localhost:8080/"
        },
        "id": "eRMifX8MO7jW",
        "outputId": "ba2460c7-bd00-49f3-8ffb-aeeb5ddc6c15"
      },
      "outputs": [
        {
          "output_type": "execute_result",
          "data": {
            "text/plain": [
              "33000"
            ]
          },
          "metadata": {},
          "execution_count": 43
        }
      ],
      "source": [
        "encoder_input.shape[0]"
      ]
    },
    {
      "cell_type": "code",
      "execution_count": null,
      "metadata": {
        "colab": {
          "base_uri": "https://localhost:8080/"
        },
        "id": "xt0pr-cdJmkD",
        "outputId": "ad7fb976-e01a-4a31-cf1d-404e11a202ca"
      },
      "outputs": [
        {
          "output_type": "stream",
          "name": "stdout",
          "text": [
            "랜덤 시퀀스 : [31901 17815  5932 ... 18541 25368   455]\n"
          ]
        }
      ],
      "source": [
        "## Shuffle\n",
        "indices = np.arange(encoder_input.shape[0])\n",
        "np.random.shuffle(indices)\n",
        "print('랜덤 시퀀스 :', indices)"
      ]
    },
    {
      "cell_type": "markdown",
      "metadata": {
        "id": "8-e23yc074sK"
      },
      "source": [
        "이를 데이터셋의 순서로 지정해주면 샘플들이 기존 순서와 다른 순서로 섞이게 됩니다."
      ]
    },
    {
      "cell_type": "code",
      "execution_count": null,
      "metadata": {
        "id": "QkzmSVY9J29z"
      },
      "outputs": [],
      "source": [
        "encoder_input = encoder_input[indices]\n",
        "decoder_input = decoder_input[indices]\n",
        "decoder_target = decoder_target[indices]"
      ]
    },
    {
      "cell_type": "markdown",
      "metadata": {
        "id": "FPFO_gnt74sL"
      },
      "source": [
        "임의로 30,997번째 샘플을 출력해봅시다. 이때 decoder_input과 decoder_target은 데이터의 구조상으로 앞에 붙은 <sos> 토큰과 뒤에 붙은 <eos>을 제외하면 동일한 정수 시퀀스를 가져야 합니다."
      ]
    },
    {
      "cell_type": "code",
      "execution_count": null,
      "metadata": {
        "colab": {
          "base_uri": "https://localhost:8080/"
        },
        "id": "W34Y6qmJJ4Bj",
        "outputId": "858b9289-80a3-4996-ef5a-ddb73d78989e"
      },
      "outputs": [
        {
          "output_type": "execute_result",
          "data": {
            "text/plain": [
              "array([ 12,  87, 392,  19,   1,   0,   0,   0], dtype=int32)"
            ]
          },
          "metadata": {},
          "execution_count": 48
        }
      ],
      "source": [
        "encoder_input[30997]"
      ]
    },
    {
      "cell_type": "code",
      "execution_count": null,
      "metadata": {
        "colab": {
          "base_uri": "https://localhost:8080/"
        },
        "id": "-_SoeJOIJ45D",
        "outputId": "ad785d68-51df-4ec2-dfb6-f4d5f58847c1"
      },
      "outputs": [
        {
          "output_type": "execute_result",
          "data": {
            "text/plain": [
              "array([   2,   16,  436, 3360,   32,    1,    0,    0,    0,    0,    0,\n",
              "          0,    0,    0,    0,    0], dtype=int32)"
            ]
          },
          "metadata": {},
          "execution_count": 49
        }
      ],
      "source": [
        "decoder_input[30997]"
      ]
    },
    {
      "cell_type": "code",
      "execution_count": null,
      "metadata": {
        "colab": {
          "base_uri": "https://localhost:8080/"
        },
        "id": "lscvHdOXJ5yD",
        "outputId": "334aca1d-8ed8-4d7b-e866-2531a3dcb161"
      },
      "outputs": [
        {
          "output_type": "execute_result",
          "data": {
            "text/plain": [
              "array([  16,  436, 3360,   32,    1,    3,    0,    0,    0,    0,    0,\n",
              "          0,    0,    0,    0,    0], dtype=int32)"
            ]
          },
          "metadata": {},
          "execution_count": 50
        }
      ],
      "source": [
        "decoder_target[30997]"
      ]
    },
    {
      "cell_type": "markdown",
      "metadata": {
        "id": "Pd2R6exR74sM"
      },
      "source": [
        "저자의 경우 18, 5, 16, 173, 1이라는 동일 시퀀스를 확인했습니다. 이제 훈련 데이터의 10%를 테스트 데이터로 분리하겠습니다."
      ]
    },
    {
      "cell_type": "code",
      "execution_count": null,
      "metadata": {
        "colab": {
          "base_uri": "https://localhost:8080/"
        },
        "id": "_RZNFshbJ6g7",
        "outputId": "8d0ef91e-729e-478b-ffdc-6bfff00bedcb"
      },
      "outputs": [
        {
          "output_type": "stream",
          "name": "stdout",
          "text": [
            "검증 데이터의 개수 : 3300\n"
          ]
        }
      ],
      "source": [
        "## train_test_split을 사용해도 됨\n",
        "n_of_val = int(33000*0.1)\n",
        "print('검증 데이터의 개수 :', n_of_val)"
      ]
    },
    {
      "cell_type": "markdown",
      "metadata": {
        "id": "-i_nlDN_74sM"
      },
      "source": [
        "33,000개의 10%에 해당되는 3,300개의 데이터를 테스트 데이터로 사용합니다."
      ]
    },
    {
      "cell_type": "code",
      "execution_count": null,
      "metadata": {
        "id": "14voLCWTJ7PU"
      },
      "outputs": [],
      "source": [
        "encoder_input_train = encoder_input[:-n_of_val]\n",
        "decoder_input_train = decoder_input[:-n_of_val]\n",
        "decoder_target_train = decoder_target[:-n_of_val]\n",
        "\n",
        "encoder_input_test = encoder_input[-n_of_val:]\n",
        "decoder_input_test = decoder_input[-n_of_val:]\n",
        "decoder_target_test = decoder_target[-n_of_val:]"
      ]
    },
    {
      "cell_type": "markdown",
      "metadata": {
        "id": "dknn5r4Y74sN"
      },
      "source": [
        "훈련 데이터와 테스트 데이터의 크기(shape)를 출력해봅시다."
      ]
    },
    {
      "cell_type": "code",
      "execution_count": null,
      "metadata": {
        "colab": {
          "base_uri": "https://localhost:8080/"
        },
        "id": "e_39d-h9J8Eb",
        "outputId": "988a56d2-0b93-47d4-df2c-4584466ec5ee"
      },
      "outputs": [
        {
          "output_type": "stream",
          "name": "stdout",
          "text": [
            "훈련 source 데이터의 크기 : (29700, 8)\n",
            "훈련 target 데이터의 크기 : (29700, 16)\n",
            "훈련 target 레이블의 크기 : (29700, 16)\n",
            "테스트 source 데이터의 크기 : (3300, 8)\n",
            "테스트 target 데이터의 크기 : (3300, 16)\n",
            "테스트 target 레이블의 크기 : (3300, 16)\n"
          ]
        }
      ],
      "source": [
        "print('훈련 source 데이터의 크기 :', encoder_input_train.shape)\n",
        "print('훈련 target 데이터의 크기 :', decoder_input_train.shape)\n",
        "print('훈련 target 레이블의 크기 :', decoder_target_train.shape)\n",
        "print('테스트 source 데이터의 크기 :', encoder_input_test.shape)\n",
        "print('테스트 target 데이터의 크기 :', decoder_input_test.shape)\n",
        "print('테스트 target 레이블의 크기 :', decoder_target_test.shape)"
      ]
    },
    {
      "cell_type": "markdown",
      "metadata": {
        "id": "vWIJpmf574sN"
      },
      "source": [
        "훈련 데이터의 샘플은 29,700개, 테스트 데이터의 샘플은 3,300개가 존재합니다. 이제 모델을 설계합니다."
      ]
    },
    {
      "cell_type": "markdown",
      "metadata": {
        "id": "uylhDJT674sO"
      },
      "source": [
        "## 2. 기계 번역기 만들기\n",
        "---"
      ]
    },
    {
      "cell_type": "code",
      "execution_count": null,
      "metadata": {
        "id": "moB2bzsLJ9oC"
      },
      "outputs": [],
      "source": [
        "from tensorflow.keras.layers import Input, LSTM, Embedding, Dense, Masking\n",
        "from tensorflow.keras.models import Model"
      ]
    },
    {
      "cell_type": "markdown",
      "metadata": {
        "id": "Q8Gw4YGR74sO"
      },
      "source": [
        "임베딩 벡터의 차원과 LSTM의 은닉 상태의 크기를 64로 사용합니다."
      ]
    },
    {
      "cell_type": "code",
      "execution_count": null,
      "metadata": {
        "id": "RmmwQfMRJ82S"
      },
      "outputs": [],
      "source": [
        "embedding_dim = 64\n",
        "hidden_units = 64"
      ]
    },
    {
      "cell_type": "markdown",
      "metadata": {
        "id": "QPhe6MLX74sO"
      },
      "source": [
        "인코더를 설계합니다. 인코더를 주목해보면 함수형 API(functional API)를 사용한다는 것 외에는 앞서 다른 실습에서 본 LSTM 설계와 크게 다르지는 않습니다. Masking은 패딩 토큰인 숫자 0의 경우에는 연산을 제외하는 역할을 수행합니다. 인코더의 내부 상태를 디코더로 넘겨주어야 하기 때문에 return_state=True로 설정합니다. 인코더에 입력을 넣으면 내부 상태를 리턴합니다.\n",
        "\n",
        "LSTM에서 state_h, state_c를 리턴받는데, 이는 각각 RNN 챕터에서 LSTM을 처음 설명할 때 언급하였던 은닉 상태와 셀 상태에 해당됩니다. 이 두 가지 상태를 encoder_states에 저장합니다. encoder_states를 디코더에 전달하므로서 이 두 가지 상태 모두를 디코더로 전달할 예정입니다. 이것이 앞서 배운 컨텍스트 벡터입니다."
      ]
    },
    {
      "cell_type": "code",
      "execution_count": null,
      "metadata": {
        "colab": {
          "base_uri": "https://localhost:8080/"
        },
        "id": "pp0MR13KQbag",
        "outputId": "129d26cc-541d-42d6-83cd-0469e8718738"
      },
      "outputs": [
        {
          "output_type": "execute_result",
          "data": {
            "text/plain": [
              "(4673, 64)"
            ]
          },
          "metadata": {},
          "execution_count": 56
        }
      ],
      "source": [
        "## 영어 임베딩\n",
        "src_vocab_size, embedding_dim"
      ]
    },
    {
      "cell_type": "code",
      "execution_count": null,
      "metadata": {
        "id": "kmhABadkJ-Tc"
      },
      "outputs": [],
      "source": [
        "# 인코더 모델 설계 (LSTM)\n",
        "encoder_inputs = Input(shape=(None,))\n",
        "enc_emb = Embedding(src_vocab_size, embedding_dim)(encoder_inputs) # 임베딩 층\n",
        "enc_masking = Masking(mask_value=0.0)(enc_emb)                     # 패딩 0은 연산에서 제외\n",
        "encoder_lstm = LSTM(hidden_units, return_state=True)               # 상태값 리턴을 위해 return_state는 True\n",
        "encoder_outputs, state_h, state_c = encoder_lstm(enc_masking)      # 은닉 상태와 셀 상태를 리턴\n",
        "encoder_states = [state_h, state_c]                                # 인코더의 은닉 상태와 셀 상태를 저장"
      ]
    },
    {
      "cell_type": "code",
      "execution_count": null,
      "metadata": {
        "colab": {
          "base_uri": "https://localhost:8080/"
        },
        "id": "Mt4M77wN74sP",
        "outputId": "b0e6eeb4-5434-45d8-bbb3-ac3d8165e26e"
      },
      "outputs": [
        {
          "output_type": "execute_result",
          "data": {
            "text/plain": [
              "(<KerasTensor shape=(None, None, 64), dtype=float32, sparse=False, name=keras_tensor_1>,\n",
              " <KerasTensor shape=(None, None, 64), dtype=float32, sparse=False, name=keras_tensor_2>,\n",
              " [<KerasTensor shape=(None, 64), dtype=float32, sparse=False, name=keras_tensor_6>,\n",
              "  <KerasTensor shape=(None, 64), dtype=float32, sparse=False, name=keras_tensor_7>])"
            ]
          },
          "metadata": {},
          "execution_count": 58
        }
      ],
      "source": [
        "enc_emb, enc_masking, encoder_states"
      ]
    },
    {
      "cell_type": "markdown",
      "metadata": {
        "id": "KS0NViJu74sP"
      },
      "source": [
        "디코더는 인코더의 마지막 은닉 상태로부터 초기 은닉 상태를 얻습니다. initial_state의 인자값으로 encoder_states를 주는 코드가 이에 해당됩니다. 디코더도 은닉 상태, 셀 상태를 리턴하기는 하지만 훈련 과정에서는 사용하지 않습니다. seq2seq의 디코더는 기본적으로 각 시점마다 다중 클래스 분류 문제를 풀고있습니다. 매 시점마다 프랑스어 단어 집합의 크기(tar_vocab_size)의 선택지에서 단어를 1개 선택하여 이를 이번 시점에서 예측한 단어로 택합니다. 다중 클래스 분류 문제이므로 출력층으로 소프트맥스 함수와 손실 함수를 크로스 엔트로피 함수를 사용합니다.\n",
        "\n",
        "categorical_crossentropy를 사용하려면 레이블은 원-핫 인코딩이 된 상태여야 합니다. 그런데 현재 decoder_outputs의 경우에는 원-핫 인코딩을 하지 않은 상태입니다. 원-핫 인코딩을 하지 않은 상태로 정수 레이블에 대해서 다중 클래스 분류 문제를 풀고자 하는 경우에는 categorical_crossentropy가 아니라 sparse_categorical_crossentropy를 사용하면 됩니다."
      ]
    },
    {
      "cell_type": "code",
      "execution_count": null,
      "metadata": {
        "id": "OaEi3nv4J_FS"
      },
      "outputs": [],
      "source": [
        "# 디코더 모델 설계\n",
        "decoder_inputs = Input(shape=(None,))\n",
        "dec_emb_layer = Embedding(tar_vocab_size, hidden_units) # 임베딩 층\n",
        "dec_emb = dec_emb_layer(decoder_inputs) # 패딩 0은 연산에서 제외\n",
        "dec_masking = Masking(mask_value=0.0)(dec_emb)\n",
        "\n",
        "# 상태값 리턴을 위해 return_state는 True, 모든 시점에 대해서 단어를 예측하기 위해 return_sequences는 True\n",
        "decoder_lstm = LSTM(hidden_units, return_sequences=True, return_state=True)\n",
        "\n",
        "# 인코더의 은닉 상태를 초기 은닉 상태(initial_state)로 사용\n",
        "decoder_outputs, _, _ = decoder_lstm(dec_masking,\n",
        "                                     initial_state=encoder_states)\n",
        "\n",
        "# 모든 시점의 결과에 대해서 소프트맥스 함수를 사용한 출력층을 통해 단어 예측\n",
        "decoder_dense = Dense(tar_vocab_size, activation='softmax')\n",
        "decoder_outputs = decoder_dense(decoder_outputs)"
      ]
    },
    {
      "cell_type": "code",
      "execution_count": null,
      "metadata": {
        "id": "UzdqwXyLZ_xi"
      },
      "outputs": [],
      "source": [
        "model = Model([encoder_inputs, decoder_inputs], decoder_outputs)"
      ]
    },
    {
      "cell_type": "code",
      "execution_count": null,
      "metadata": {
        "id": "5N5zH1kZJ_6b"
      },
      "outputs": [],
      "source": [
        "model.compile(optimizer='adam', loss='sparse_categorical_crossentropy', metrics=['acc'])"
      ]
    },
    {
      "cell_type": "code",
      "execution_count": null,
      "metadata": {
        "colab": {
          "base_uri": "https://localhost:8080/",
          "height": 557
        },
        "id": "dtLKFJqXKAr7",
        "outputId": "006931eb-76fd-47e3-cd53-237755b5b83f"
      },
      "outputs": [
        {
          "output_type": "display_data",
          "data": {
            "text/plain": [
              "\u001b[1mModel: \"functional\"\u001b[0m\n"
            ],
            "text/html": [
              "<pre style=\"white-space:pre;overflow-x:auto;line-height:normal;font-family:Menlo,'DejaVu Sans Mono',consolas,'Courier New',monospace\"><span style=\"font-weight: bold\">Model: \"functional\"</span>\n",
              "</pre>\n"
            ]
          },
          "metadata": {}
        },
        {
          "output_type": "display_data",
          "data": {
            "text/plain": [
              "┏━━━━━━━━━━━━━━━━━━━━━━━━━━━┳━━━━━━━━━━━━━━━━━━━━━━━━┳━━━━━━━━━━━━━━━━┳━━━━━━━━━━━━━━━━━━━━━━━━┓\n",
              "┃\u001b[1m \u001b[0m\u001b[1mLayer (type)             \u001b[0m\u001b[1m \u001b[0m┃\u001b[1m \u001b[0m\u001b[1mOutput Shape          \u001b[0m\u001b[1m \u001b[0m┃\u001b[1m \u001b[0m\u001b[1m       Param #\u001b[0m\u001b[1m \u001b[0m┃\u001b[1m \u001b[0m\u001b[1mConnected to          \u001b[0m\u001b[1m \u001b[0m┃\n",
              "┡━━━━━━━━━━━━━━━━━━━━━━━━━━━╇━━━━━━━━━━━━━━━━━━━━━━━━╇━━━━━━━━━━━━━━━━╇━━━━━━━━━━━━━━━━━━━━━━━━┩\n",
              "│ input_layer (\u001b[38;5;33mInputLayer\u001b[0m)  │ (\u001b[38;5;45mNone\u001b[0m, \u001b[38;5;45mNone\u001b[0m)           │              \u001b[38;5;34m0\u001b[0m │ -                      │\n",
              "├───────────────────────────┼────────────────────────┼────────────────┼────────────────────────┤\n",
              "│ embedding (\u001b[38;5;33mEmbedding\u001b[0m)     │ (\u001b[38;5;45mNone\u001b[0m, \u001b[38;5;45mNone\u001b[0m, \u001b[38;5;34m64\u001b[0m)       │        \u001b[38;5;34m299,072\u001b[0m │ input_layer[\u001b[38;5;34m0\u001b[0m][\u001b[38;5;34m0\u001b[0m]      │\n",
              "├───────────────────────────┼────────────────────────┼────────────────┼────────────────────────┤\n",
              "│ input_layer_1             │ (\u001b[38;5;45mNone\u001b[0m, \u001b[38;5;45mNone\u001b[0m)           │              \u001b[38;5;34m0\u001b[0m │ -                      │\n",
              "│ (\u001b[38;5;33mInputLayer\u001b[0m)              │                        │                │                        │\n",
              "├───────────────────────────┼────────────────────────┼────────────────┼────────────────────────┤\n",
              "│ not_equal (\u001b[38;5;33mNotEqual\u001b[0m)      │ (\u001b[38;5;45mNone\u001b[0m, \u001b[38;5;45mNone\u001b[0m, \u001b[38;5;34m64\u001b[0m)       │              \u001b[38;5;34m0\u001b[0m │ embedding[\u001b[38;5;34m0\u001b[0m][\u001b[38;5;34m0\u001b[0m]        │\n",
              "├───────────────────────────┼────────────────────────┼────────────────┼────────────────────────┤\n",
              "│ embedding_1 (\u001b[38;5;33mEmbedding\u001b[0m)   │ (\u001b[38;5;45mNone\u001b[0m, \u001b[38;5;45mNone\u001b[0m, \u001b[38;5;34m64\u001b[0m)       │        \u001b[38;5;34m544,832\u001b[0m │ input_layer_1[\u001b[38;5;34m0\u001b[0m][\u001b[38;5;34m0\u001b[0m]    │\n",
              "├───────────────────────────┼────────────────────────┼────────────────┼────────────────────────┤\n",
              "│ masking (\u001b[38;5;33mMasking\u001b[0m)         │ (\u001b[38;5;45mNone\u001b[0m, \u001b[38;5;45mNone\u001b[0m, \u001b[38;5;34m64\u001b[0m)       │              \u001b[38;5;34m0\u001b[0m │ embedding[\u001b[38;5;34m0\u001b[0m][\u001b[38;5;34m0\u001b[0m]        │\n",
              "├───────────────────────────┼────────────────────────┼────────────────┼────────────────────────┤\n",
              "│ any (\u001b[38;5;33mAny\u001b[0m)                 │ (\u001b[38;5;45mNone\u001b[0m, \u001b[38;5;45mNone\u001b[0m)           │              \u001b[38;5;34m0\u001b[0m │ not_equal[\u001b[38;5;34m0\u001b[0m][\u001b[38;5;34m0\u001b[0m]        │\n",
              "├───────────────────────────┼────────────────────────┼────────────────┼────────────────────────┤\n",
              "│ masking_1 (\u001b[38;5;33mMasking\u001b[0m)       │ (\u001b[38;5;45mNone\u001b[0m, \u001b[38;5;45mNone\u001b[0m, \u001b[38;5;34m64\u001b[0m)       │              \u001b[38;5;34m0\u001b[0m │ embedding_1[\u001b[38;5;34m0\u001b[0m][\u001b[38;5;34m0\u001b[0m]      │\n",
              "├───────────────────────────┼────────────────────────┼────────────────┼────────────────────────┤\n",
              "│ lstm (\u001b[38;5;33mLSTM\u001b[0m)               │ [(\u001b[38;5;45mNone\u001b[0m, \u001b[38;5;34m64\u001b[0m), (\u001b[38;5;45mNone\u001b[0m,    │         \u001b[38;5;34m33,024\u001b[0m │ masking[\u001b[38;5;34m0\u001b[0m][\u001b[38;5;34m0\u001b[0m],         │\n",
              "│                           │ \u001b[38;5;34m64\u001b[0m), (\u001b[38;5;45mNone\u001b[0m, \u001b[38;5;34m64\u001b[0m)]       │                │ any[\u001b[38;5;34m0\u001b[0m][\u001b[38;5;34m0\u001b[0m]              │\n",
              "├───────────────────────────┼────────────────────────┼────────────────┼────────────────────────┤\n",
              "│ lstm_1 (\u001b[38;5;33mLSTM\u001b[0m)             │ [(\u001b[38;5;45mNone\u001b[0m, \u001b[38;5;45mNone\u001b[0m, \u001b[38;5;34m64\u001b[0m),     │         \u001b[38;5;34m33,024\u001b[0m │ masking_1[\u001b[38;5;34m0\u001b[0m][\u001b[38;5;34m0\u001b[0m],       │\n",
              "│                           │ (\u001b[38;5;45mNone\u001b[0m, \u001b[38;5;34m64\u001b[0m), (\u001b[38;5;45mNone\u001b[0m,     │                │ lstm[\u001b[38;5;34m0\u001b[0m][\u001b[38;5;34m1\u001b[0m], lstm[\u001b[38;5;34m0\u001b[0m][\u001b[38;5;34m2\u001b[0m] │\n",
              "│                           │ \u001b[38;5;34m64\u001b[0m)]                   │                │                        │\n",
              "├───────────────────────────┼────────────────────────┼────────────────┼────────────────────────┤\n",
              "│ dense (\u001b[38;5;33mDense\u001b[0m)             │ (\u001b[38;5;45mNone\u001b[0m, \u001b[38;5;45mNone\u001b[0m, \u001b[38;5;34m8513\u001b[0m)     │        \u001b[38;5;34m553,345\u001b[0m │ lstm_1[\u001b[38;5;34m0\u001b[0m][\u001b[38;5;34m0\u001b[0m]           │\n",
              "└───────────────────────────┴────────────────────────┴────────────────┴────────────────────────┘\n"
            ],
            "text/html": [
              "<pre style=\"white-space:pre;overflow-x:auto;line-height:normal;font-family:Menlo,'DejaVu Sans Mono',consolas,'Courier New',monospace\">┏━━━━━━━━━━━━━━━━━━━━━━━━━━━┳━━━━━━━━━━━━━━━━━━━━━━━━┳━━━━━━━━━━━━━━━━┳━━━━━━━━━━━━━━━━━━━━━━━━┓\n",
              "┃<span style=\"font-weight: bold\"> Layer (type)              </span>┃<span style=\"font-weight: bold\"> Output Shape           </span>┃<span style=\"font-weight: bold\">        Param # </span>┃<span style=\"font-weight: bold\"> Connected to           </span>┃\n",
              "┡━━━━━━━━━━━━━━━━━━━━━━━━━━━╇━━━━━━━━━━━━━━━━━━━━━━━━╇━━━━━━━━━━━━━━━━╇━━━━━━━━━━━━━━━━━━━━━━━━┩\n",
              "│ input_layer (<span style=\"color: #0087ff; text-decoration-color: #0087ff\">InputLayer</span>)  │ (<span style=\"color: #00d7ff; text-decoration-color: #00d7ff\">None</span>, <span style=\"color: #00d7ff; text-decoration-color: #00d7ff\">None</span>)           │              <span style=\"color: #00af00; text-decoration-color: #00af00\">0</span> │ -                      │\n",
              "├───────────────────────────┼────────────────────────┼────────────────┼────────────────────────┤\n",
              "│ embedding (<span style=\"color: #0087ff; text-decoration-color: #0087ff\">Embedding</span>)     │ (<span style=\"color: #00d7ff; text-decoration-color: #00d7ff\">None</span>, <span style=\"color: #00d7ff; text-decoration-color: #00d7ff\">None</span>, <span style=\"color: #00af00; text-decoration-color: #00af00\">64</span>)       │        <span style=\"color: #00af00; text-decoration-color: #00af00\">299,072</span> │ input_layer[<span style=\"color: #00af00; text-decoration-color: #00af00\">0</span>][<span style=\"color: #00af00; text-decoration-color: #00af00\">0</span>]      │\n",
              "├───────────────────────────┼────────────────────────┼────────────────┼────────────────────────┤\n",
              "│ input_layer_1             │ (<span style=\"color: #00d7ff; text-decoration-color: #00d7ff\">None</span>, <span style=\"color: #00d7ff; text-decoration-color: #00d7ff\">None</span>)           │              <span style=\"color: #00af00; text-decoration-color: #00af00\">0</span> │ -                      │\n",
              "│ (<span style=\"color: #0087ff; text-decoration-color: #0087ff\">InputLayer</span>)              │                        │                │                        │\n",
              "├───────────────────────────┼────────────────────────┼────────────────┼────────────────────────┤\n",
              "│ not_equal (<span style=\"color: #0087ff; text-decoration-color: #0087ff\">NotEqual</span>)      │ (<span style=\"color: #00d7ff; text-decoration-color: #00d7ff\">None</span>, <span style=\"color: #00d7ff; text-decoration-color: #00d7ff\">None</span>, <span style=\"color: #00af00; text-decoration-color: #00af00\">64</span>)       │              <span style=\"color: #00af00; text-decoration-color: #00af00\">0</span> │ embedding[<span style=\"color: #00af00; text-decoration-color: #00af00\">0</span>][<span style=\"color: #00af00; text-decoration-color: #00af00\">0</span>]        │\n",
              "├───────────────────────────┼────────────────────────┼────────────────┼────────────────────────┤\n",
              "│ embedding_1 (<span style=\"color: #0087ff; text-decoration-color: #0087ff\">Embedding</span>)   │ (<span style=\"color: #00d7ff; text-decoration-color: #00d7ff\">None</span>, <span style=\"color: #00d7ff; text-decoration-color: #00d7ff\">None</span>, <span style=\"color: #00af00; text-decoration-color: #00af00\">64</span>)       │        <span style=\"color: #00af00; text-decoration-color: #00af00\">544,832</span> │ input_layer_1[<span style=\"color: #00af00; text-decoration-color: #00af00\">0</span>][<span style=\"color: #00af00; text-decoration-color: #00af00\">0</span>]    │\n",
              "├───────────────────────────┼────────────────────────┼────────────────┼────────────────────────┤\n",
              "│ masking (<span style=\"color: #0087ff; text-decoration-color: #0087ff\">Masking</span>)         │ (<span style=\"color: #00d7ff; text-decoration-color: #00d7ff\">None</span>, <span style=\"color: #00d7ff; text-decoration-color: #00d7ff\">None</span>, <span style=\"color: #00af00; text-decoration-color: #00af00\">64</span>)       │              <span style=\"color: #00af00; text-decoration-color: #00af00\">0</span> │ embedding[<span style=\"color: #00af00; text-decoration-color: #00af00\">0</span>][<span style=\"color: #00af00; text-decoration-color: #00af00\">0</span>]        │\n",
              "├───────────────────────────┼────────────────────────┼────────────────┼────────────────────────┤\n",
              "│ any (<span style=\"color: #0087ff; text-decoration-color: #0087ff\">Any</span>)                 │ (<span style=\"color: #00d7ff; text-decoration-color: #00d7ff\">None</span>, <span style=\"color: #00d7ff; text-decoration-color: #00d7ff\">None</span>)           │              <span style=\"color: #00af00; text-decoration-color: #00af00\">0</span> │ not_equal[<span style=\"color: #00af00; text-decoration-color: #00af00\">0</span>][<span style=\"color: #00af00; text-decoration-color: #00af00\">0</span>]        │\n",
              "├───────────────────────────┼────────────────────────┼────────────────┼────────────────────────┤\n",
              "│ masking_1 (<span style=\"color: #0087ff; text-decoration-color: #0087ff\">Masking</span>)       │ (<span style=\"color: #00d7ff; text-decoration-color: #00d7ff\">None</span>, <span style=\"color: #00d7ff; text-decoration-color: #00d7ff\">None</span>, <span style=\"color: #00af00; text-decoration-color: #00af00\">64</span>)       │              <span style=\"color: #00af00; text-decoration-color: #00af00\">0</span> │ embedding_1[<span style=\"color: #00af00; text-decoration-color: #00af00\">0</span>][<span style=\"color: #00af00; text-decoration-color: #00af00\">0</span>]      │\n",
              "├───────────────────────────┼────────────────────────┼────────────────┼────────────────────────┤\n",
              "│ lstm (<span style=\"color: #0087ff; text-decoration-color: #0087ff\">LSTM</span>)               │ [(<span style=\"color: #00d7ff; text-decoration-color: #00d7ff\">None</span>, <span style=\"color: #00af00; text-decoration-color: #00af00\">64</span>), (<span style=\"color: #00d7ff; text-decoration-color: #00d7ff\">None</span>,    │         <span style=\"color: #00af00; text-decoration-color: #00af00\">33,024</span> │ masking[<span style=\"color: #00af00; text-decoration-color: #00af00\">0</span>][<span style=\"color: #00af00; text-decoration-color: #00af00\">0</span>],         │\n",
              "│                           │ <span style=\"color: #00af00; text-decoration-color: #00af00\">64</span>), (<span style=\"color: #00d7ff; text-decoration-color: #00d7ff\">None</span>, <span style=\"color: #00af00; text-decoration-color: #00af00\">64</span>)]       │                │ any[<span style=\"color: #00af00; text-decoration-color: #00af00\">0</span>][<span style=\"color: #00af00; text-decoration-color: #00af00\">0</span>]              │\n",
              "├───────────────────────────┼────────────────────────┼────────────────┼────────────────────────┤\n",
              "│ lstm_1 (<span style=\"color: #0087ff; text-decoration-color: #0087ff\">LSTM</span>)             │ [(<span style=\"color: #00d7ff; text-decoration-color: #00d7ff\">None</span>, <span style=\"color: #00d7ff; text-decoration-color: #00d7ff\">None</span>, <span style=\"color: #00af00; text-decoration-color: #00af00\">64</span>),     │         <span style=\"color: #00af00; text-decoration-color: #00af00\">33,024</span> │ masking_1[<span style=\"color: #00af00; text-decoration-color: #00af00\">0</span>][<span style=\"color: #00af00; text-decoration-color: #00af00\">0</span>],       │\n",
              "│                           │ (<span style=\"color: #00d7ff; text-decoration-color: #00d7ff\">None</span>, <span style=\"color: #00af00; text-decoration-color: #00af00\">64</span>), (<span style=\"color: #00d7ff; text-decoration-color: #00d7ff\">None</span>,     │                │ lstm[<span style=\"color: #00af00; text-decoration-color: #00af00\">0</span>][<span style=\"color: #00af00; text-decoration-color: #00af00\">1</span>], lstm[<span style=\"color: #00af00; text-decoration-color: #00af00\">0</span>][<span style=\"color: #00af00; text-decoration-color: #00af00\">2</span>] │\n",
              "│                           │ <span style=\"color: #00af00; text-decoration-color: #00af00\">64</span>)]                   │                │                        │\n",
              "├───────────────────────────┼────────────────────────┼────────────────┼────────────────────────┤\n",
              "│ dense (<span style=\"color: #0087ff; text-decoration-color: #0087ff\">Dense</span>)             │ (<span style=\"color: #00d7ff; text-decoration-color: #00d7ff\">None</span>, <span style=\"color: #00d7ff; text-decoration-color: #00d7ff\">None</span>, <span style=\"color: #00af00; text-decoration-color: #00af00\">8513</span>)     │        <span style=\"color: #00af00; text-decoration-color: #00af00\">553,345</span> │ lstm_1[<span style=\"color: #00af00; text-decoration-color: #00af00\">0</span>][<span style=\"color: #00af00; text-decoration-color: #00af00\">0</span>]           │\n",
              "└───────────────────────────┴────────────────────────┴────────────────┴────────────────────────┘\n",
              "</pre>\n"
            ]
          },
          "metadata": {}
        },
        {
          "output_type": "display_data",
          "data": {
            "text/plain": [
              "\u001b[1m Total params: \u001b[0m\u001b[38;5;34m1,463,297\u001b[0m (5.58 MB)\n"
            ],
            "text/html": [
              "<pre style=\"white-space:pre;overflow-x:auto;line-height:normal;font-family:Menlo,'DejaVu Sans Mono',consolas,'Courier New',monospace\"><span style=\"font-weight: bold\"> Total params: </span><span style=\"color: #00af00; text-decoration-color: #00af00\">1,463,297</span> (5.58 MB)\n",
              "</pre>\n"
            ]
          },
          "metadata": {}
        },
        {
          "output_type": "display_data",
          "data": {
            "text/plain": [
              "\u001b[1m Trainable params: \u001b[0m\u001b[38;5;34m1,463,297\u001b[0m (5.58 MB)\n"
            ],
            "text/html": [
              "<pre style=\"white-space:pre;overflow-x:auto;line-height:normal;font-family:Menlo,'DejaVu Sans Mono',consolas,'Courier New',monospace\"><span style=\"font-weight: bold\"> Trainable params: </span><span style=\"color: #00af00; text-decoration-color: #00af00\">1,463,297</span> (5.58 MB)\n",
              "</pre>\n"
            ]
          },
          "metadata": {}
        },
        {
          "output_type": "display_data",
          "data": {
            "text/plain": [
              "\u001b[1m Non-trainable params: \u001b[0m\u001b[38;5;34m0\u001b[0m (0.00 B)\n"
            ],
            "text/html": [
              "<pre style=\"white-space:pre;overflow-x:auto;line-height:normal;font-family:Menlo,'DejaVu Sans Mono',consolas,'Courier New',monospace\"><span style=\"font-weight: bold\"> Non-trainable params: </span><span style=\"color: #00af00; text-decoration-color: #00af00\">0</span> (0.00 B)\n",
              "</pre>\n"
            ]
          },
          "metadata": {}
        }
      ],
      "source": [
        "model.summary()"
      ]
    },
    {
      "cell_type": "code",
      "execution_count": null,
      "metadata": {
        "id": "VvTGZnU1Jhze"
      },
      "outputs": [],
      "source": [
        "## Callback 함수 설정\n",
        "from tensorflow.keras.callbacks import EarlyStopping, ModelCheckpoint\n",
        "\n",
        "es = EarlyStopping(monitor='val_loss', mode='min', verbose=1, patience=5)\n",
        "mc = ModelCheckpoint('seq2seq_tranlation.keras', monitor='val_acc', mode='max', verbose=1, save_best_only=True)"
      ]
    },
    {
      "cell_type": "markdown",
      "metadata": {
        "id": "HTMWHtsv74sQ"
      },
      "source": [
        "모델을 훈련합니다. 128개의 배치 크기로 총 50 에포크 학습합니다. 테스트 데이터를 검증 데이터로 사용하여 훈련이 제대로 되고있는지 모니터링하겠습니다."
      ]
    },
    {
      "cell_type": "code",
      "execution_count": null,
      "metadata": {
        "colab": {
          "base_uri": "https://localhost:8080/"
        },
        "id": "u0TyuHwEKBnj",
        "outputId": "ff88c375-65ba-4258-ab5e-8001b22ddd43"
      },
      "outputs": [
        {
          "output_type": "stream",
          "name": "stdout",
          "text": [
            "Epoch 1/50\n",
            "\u001b[1m462/465\u001b[0m \u001b[32m━━━━━━━━━━━━━━━━━━━\u001b[0m\u001b[37m━\u001b[0m \u001b[1m0s\u001b[0m 21ms/step - acc: 0.6145 - loss: 4.1039\n",
            "Epoch 1: val_acc improved from -inf to 0.72820, saving model to 14_02_seq2seq_tranlation.keras\n",
            "\u001b[1m465/465\u001b[0m \u001b[32m━━━━━━━━━━━━━━━━━━━━\u001b[0m\u001b[37m\u001b[0m \u001b[1m17s\u001b[0m 24ms/step - acc: 0.6148 - loss: 4.0918 - val_acc: 0.7282 - val_loss: 1.8214\n",
            "Epoch 2/50\n",
            "\u001b[1m465/465\u001b[0m \u001b[32m━━━━━━━━━━━━━━━━━━━━\u001b[0m\u001b[37m\u001b[0m \u001b[1m0s\u001b[0m 21ms/step - acc: 0.7356 - loss: 1.7206\n",
            "Epoch 2: val_acc improved from 0.72820 to 0.75206, saving model to 14_02_seq2seq_tranlation.keras\n",
            "\u001b[1m465/465\u001b[0m \u001b[32m━━━━━━━━━━━━━━━━━━━━\u001b[0m\u001b[37m\u001b[0m \u001b[1m16s\u001b[0m 23ms/step - acc: 0.7356 - loss: 1.7205 - val_acc: 0.7521 - val_loss: 1.5571\n",
            "Epoch 3/50\n",
            "\u001b[1m463/465\u001b[0m \u001b[32m━━━━━━━━━━━━━━━━━━━\u001b[0m\u001b[37m━\u001b[0m \u001b[1m0s\u001b[0m 21ms/step - acc: 0.7592 - loss: 1.5046\n",
            "Epoch 3: val_acc improved from 0.75206 to 0.77470, saving model to 14_02_seq2seq_tranlation.keras\n",
            "\u001b[1m465/465\u001b[0m \u001b[32m━━━━━━━━━━━━━━━━━━━━\u001b[0m\u001b[37m\u001b[0m \u001b[1m20s\u001b[0m 22ms/step - acc: 0.7592 - loss: 1.5044 - val_acc: 0.7747 - val_loss: 1.4248\n",
            "Epoch 4/50\n",
            "\u001b[1m464/465\u001b[0m \u001b[32m━━━━━━━━━━━━━━━━━━━\u001b[0m\u001b[37m━\u001b[0m \u001b[1m0s\u001b[0m 23ms/step - acc: 0.7826 - loss: 1.3593\n",
            "Epoch 4: val_acc improved from 0.77470 to 0.80184, saving model to 14_02_seq2seq_tranlation.keras\n",
            "\u001b[1m465/465\u001b[0m \u001b[32m━━━━━━━━━━━━━━━━━━━━\u001b[0m\u001b[37m\u001b[0m \u001b[1m22s\u001b[0m 27ms/step - acc: 0.7826 - loss: 1.3591 - val_acc: 0.8018 - val_loss: 1.2862\n",
            "Epoch 5/50\n",
            "\u001b[1m463/465\u001b[0m \u001b[32m━━━━━━━━━━━━━━━━━━━\u001b[0m\u001b[37m━\u001b[0m \u001b[1m0s\u001b[0m 20ms/step - acc: 0.8061 - loss: 1.2224\n",
            "Epoch 5: val_acc improved from 0.80184 to 0.81345, saving model to 14_02_seq2seq_tranlation.keras\n",
            "\u001b[1m465/465\u001b[0m \u001b[32m━━━━━━━━━━━━━━━━━━━━\u001b[0m\u001b[37m\u001b[0m \u001b[1m18s\u001b[0m 22ms/step - acc: 0.8061 - loss: 1.2223 - val_acc: 0.8134 - val_loss: 1.1936\n",
            "Epoch 6/50\n",
            "\u001b[1m464/465\u001b[0m \u001b[32m━━━━━━━━━━━━━━━━━━━\u001b[0m\u001b[37m━\u001b[0m \u001b[1m0s\u001b[0m 20ms/step - acc: 0.8183 - loss: 1.1250\n",
            "Epoch 6: val_acc improved from 0.81345 to 0.81956, saving model to 14_02_seq2seq_tranlation.keras\n",
            "\u001b[1m465/465\u001b[0m \u001b[32m━━━━━━━━━━━━━━━━━━━━\u001b[0m\u001b[37m\u001b[0m \u001b[1m10s\u001b[0m 22ms/step - acc: 0.8183 - loss: 1.1249 - val_acc: 0.8196 - val_loss: 1.1313\n",
            "Epoch 7/50\n",
            "\u001b[1m464/465\u001b[0m \u001b[32m━━━━━━━━━━━━━━━━━━━\u001b[0m\u001b[37m━\u001b[0m \u001b[1m0s\u001b[0m 20ms/step - acc: 0.8258 - loss: 1.0509\n",
            "Epoch 7: val_acc improved from 0.81956 to 0.82557, saving model to 14_02_seq2seq_tranlation.keras\n",
            "\u001b[1m465/465\u001b[0m \u001b[32m━━━━━━━━━━━━━━━━━━━━\u001b[0m\u001b[37m\u001b[0m \u001b[1m10s\u001b[0m 22ms/step - acc: 0.8258 - loss: 1.0509 - val_acc: 0.8256 - val_loss: 1.0780\n",
            "Epoch 8/50\n",
            "\u001b[1m464/465\u001b[0m \u001b[32m━━━━━━━━━━━━━━━━━━━\u001b[0m\u001b[37m━\u001b[0m \u001b[1m0s\u001b[0m 22ms/step - acc: 0.8316 - loss: 0.9957\n",
            "Epoch 8: val_acc improved from 0.82557 to 0.83125, saving model to 14_02_seq2seq_tranlation.keras\n",
            "\u001b[1m465/465\u001b[0m \u001b[32m━━━━━━━━━━━━━━━━━━━━\u001b[0m\u001b[37m\u001b[0m \u001b[1m21s\u001b[0m 23ms/step - acc: 0.8316 - loss: 0.9956 - val_acc: 0.8313 - val_loss: 1.0333\n",
            "Epoch 9/50\n",
            "\u001b[1m464/465\u001b[0m \u001b[32m━━━━━━━━━━━━━━━━━━━\u001b[0m\u001b[37m━\u001b[0m \u001b[1m0s\u001b[0m 20ms/step - acc: 0.8382 - loss: 0.9337\n",
            "Epoch 9: val_acc improved from 0.83125 to 0.83612, saving model to 14_02_seq2seq_tranlation.keras\n",
            "\u001b[1m465/465\u001b[0m \u001b[32m━━━━━━━━━━━━━━━━━━━━\u001b[0m\u001b[37m\u001b[0m \u001b[1m20s\u001b[0m 22ms/step - acc: 0.8382 - loss: 0.9337 - val_acc: 0.8361 - val_loss: 0.9936\n",
            "Epoch 10/50\n",
            "\u001b[1m463/465\u001b[0m \u001b[32m━━━━━━━━━━━━━━━━━━━\u001b[0m\u001b[37m━\u001b[0m \u001b[1m0s\u001b[0m 20ms/step - acc: 0.8441 - loss: 0.8817\n",
            "Epoch 10: val_acc improved from 0.83612 to 0.83917, saving model to 14_02_seq2seq_tranlation.keras\n",
            "\u001b[1m465/465\u001b[0m \u001b[32m━━━━━━━━━━━━━━━━━━━━\u001b[0m\u001b[37m\u001b[0m \u001b[1m10s\u001b[0m 22ms/step - acc: 0.8441 - loss: 0.8816 - val_acc: 0.8392 - val_loss: 0.9597\n",
            "Epoch 11/50\n",
            "\u001b[1m464/465\u001b[0m \u001b[32m━━━━━━━━━━━━━━━━━━━\u001b[0m\u001b[37m━\u001b[0m \u001b[1m0s\u001b[0m 21ms/step - acc: 0.8485 - loss: 0.8360\n",
            "Epoch 11: val_acc improved from 0.83917 to 0.84356, saving model to 14_02_seq2seq_tranlation.keras\n",
            "\u001b[1m465/465\u001b[0m \u001b[32m━━━━━━━━━━━━━━━━━━━━\u001b[0m\u001b[37m\u001b[0m \u001b[1m10s\u001b[0m 22ms/step - acc: 0.8485 - loss: 0.8359 - val_acc: 0.8436 - val_loss: 0.9303\n",
            "Epoch 12/50\n",
            "\u001b[1m464/465\u001b[0m \u001b[32m━━━━━━━━━━━━━━━━━━━\u001b[0m\u001b[37m━\u001b[0m \u001b[1m0s\u001b[0m 21ms/step - acc: 0.8547 - loss: 0.7857\n",
            "Epoch 12: val_acc improved from 0.84356 to 0.84718, saving model to 14_02_seq2seq_tranlation.keras\n",
            "\u001b[1m465/465\u001b[0m \u001b[32m━━━━━━━━━━━━━━━━━━━━\u001b[0m\u001b[37m\u001b[0m \u001b[1m21s\u001b[0m 23ms/step - acc: 0.8547 - loss: 0.7857 - val_acc: 0.8472 - val_loss: 0.9064\n",
            "Epoch 13/50\n",
            "\u001b[1m464/465\u001b[0m \u001b[32m━━━━━━━━━━━━━━━━━━━\u001b[0m\u001b[37m━\u001b[0m \u001b[1m0s\u001b[0m 21ms/step - acc: 0.8577 - loss: 0.7485\n",
            "Epoch 13: val_acc improved from 0.84718 to 0.84837, saving model to 14_02_seq2seq_tranlation.keras\n",
            "\u001b[1m465/465\u001b[0m \u001b[32m━━━━━━━━━━━━━━━━━━━━\u001b[0m\u001b[37m\u001b[0m \u001b[1m20s\u001b[0m 23ms/step - acc: 0.8577 - loss: 0.7485 - val_acc: 0.8484 - val_loss: 0.8849\n",
            "Epoch 14/50\n",
            "\u001b[1m463/465\u001b[0m \u001b[32m━━━━━━━━━━━━━━━━━━━\u001b[0m\u001b[37m━\u001b[0m \u001b[1m0s\u001b[0m 21ms/step - acc: 0.8615 - loss: 0.7140\n",
            "Epoch 14: val_acc improved from 0.84837 to 0.84958, saving model to 14_02_seq2seq_tranlation.keras\n",
            "\u001b[1m465/465\u001b[0m \u001b[32m━━━━━━━━━━━━━━━━━━━━\u001b[0m\u001b[37m\u001b[0m \u001b[1m20s\u001b[0m 23ms/step - acc: 0.8615 - loss: 0.7140 - val_acc: 0.8496 - val_loss: 0.8663\n",
            "Epoch 15/50\n",
            "\u001b[1m464/465\u001b[0m \u001b[32m━━━━━━━━━━━━━━━━━━━\u001b[0m\u001b[37m━\u001b[0m \u001b[1m0s\u001b[0m 21ms/step - acc: 0.8649 - loss: 0.6809\n",
            "Epoch 15: val_acc improved from 0.84958 to 0.85129, saving model to 14_02_seq2seq_tranlation.keras\n",
            "\u001b[1m465/465\u001b[0m \u001b[32m━━━━━━━━━━━━━━━━━━━━\u001b[0m\u001b[37m\u001b[0m \u001b[1m10s\u001b[0m 22ms/step - acc: 0.8649 - loss: 0.6809 - val_acc: 0.8513 - val_loss: 0.8528\n",
            "Epoch 16/50\n",
            "\u001b[1m463/465\u001b[0m \u001b[32m━━━━━━━━━━━━━━━━━━━\u001b[0m\u001b[37m━\u001b[0m \u001b[1m0s\u001b[0m 20ms/step - acc: 0.8688 - loss: 0.6468\n",
            "Epoch 16: val_acc improved from 0.85129 to 0.85352, saving model to 14_02_seq2seq_tranlation.keras\n",
            "\u001b[1m465/465\u001b[0m \u001b[32m━━━━━━━━━━━━━━━━━━━━\u001b[0m\u001b[37m\u001b[0m \u001b[1m10s\u001b[0m 22ms/step - acc: 0.8688 - loss: 0.6468 - val_acc: 0.8535 - val_loss: 0.8386\n",
            "Epoch 17/50\n",
            "\u001b[1m463/465\u001b[0m \u001b[32m━━━━━━━━━━━━━━━━━━━\u001b[0m\u001b[37m━\u001b[0m \u001b[1m0s\u001b[0m 20ms/step - acc: 0.8726 - loss: 0.6191\n",
            "Epoch 17: val_acc improved from 0.85352 to 0.85528, saving model to 14_02_seq2seq_tranlation.keras\n",
            "\u001b[1m465/465\u001b[0m \u001b[32m━━━━━━━━━━━━━━━━━━━━\u001b[0m\u001b[37m\u001b[0m \u001b[1m21s\u001b[0m 22ms/step - acc: 0.8726 - loss: 0.6191 - val_acc: 0.8553 - val_loss: 0.8263\n",
            "Epoch 18/50\n",
            "\u001b[1m463/465\u001b[0m \u001b[32m━━━━━━━━━━━━━━━━━━━\u001b[0m\u001b[37m━\u001b[0m \u001b[1m0s\u001b[0m 21ms/step - acc: 0.8758 - loss: 0.5935\n",
            "Epoch 18: val_acc improved from 0.85528 to 0.85682, saving model to 14_02_seq2seq_tranlation.keras\n",
            "\u001b[1m465/465\u001b[0m \u001b[32m━━━━━━━━━━━━━━━━━━━━\u001b[0m\u001b[37m\u001b[0m \u001b[1m21s\u001b[0m 22ms/step - acc: 0.8758 - loss: 0.5935 - val_acc: 0.8568 - val_loss: 0.8155\n",
            "Epoch 19/50\n",
            "\u001b[1m462/465\u001b[0m \u001b[32m━━━━━━━━━━━━━━━━━━━\u001b[0m\u001b[37m━\u001b[0m \u001b[1m0s\u001b[0m 21ms/step - acc: 0.8785 - loss: 0.5691\n",
            "Epoch 19: val_acc improved from 0.85682 to 0.85867, saving model to 14_02_seq2seq_tranlation.keras\n",
            "\u001b[1m465/465\u001b[0m \u001b[32m━━━━━━━━━━━━━━━━━━━━\u001b[0m\u001b[37m\u001b[0m \u001b[1m10s\u001b[0m 22ms/step - acc: 0.8785 - loss: 0.5691 - val_acc: 0.8587 - val_loss: 0.8034\n",
            "Epoch 20/50\n",
            "\u001b[1m462/465\u001b[0m \u001b[32m━━━━━━━━━━━━━━━━━━━\u001b[0m\u001b[37m━\u001b[0m \u001b[1m0s\u001b[0m 21ms/step - acc: 0.8829 - loss: 0.5426\n",
            "Epoch 20: val_acc improved from 0.85867 to 0.85994, saving model to 14_02_seq2seq_tranlation.keras\n",
            "\u001b[1m465/465\u001b[0m \u001b[32m━━━━━━━━━━━━━━━━━━━━\u001b[0m\u001b[37m\u001b[0m \u001b[1m10s\u001b[0m 22ms/step - acc: 0.8828 - loss: 0.5426 - val_acc: 0.8599 - val_loss: 0.7951\n",
            "Epoch 21/50\n",
            "\u001b[1m463/465\u001b[0m \u001b[32m━━━━━━━━━━━━━━━━━━━\u001b[0m\u001b[37m━\u001b[0m \u001b[1m0s\u001b[0m 21ms/step - acc: 0.8865 - loss: 0.5170\n",
            "Epoch 21: val_acc improved from 0.85994 to 0.86097, saving model to 14_02_seq2seq_tranlation.keras\n",
            "\u001b[1m465/465\u001b[0m \u001b[32m━━━━━━━━━━━━━━━━━━━━\u001b[0m\u001b[37m\u001b[0m \u001b[1m21s\u001b[0m 23ms/step - acc: 0.8865 - loss: 0.5171 - val_acc: 0.8610 - val_loss: 0.7885\n",
            "Epoch 22/50\n",
            "\u001b[1m462/465\u001b[0m \u001b[32m━━━━━━━━━━━━━━━━━━━\u001b[0m\u001b[37m━\u001b[0m \u001b[1m0s\u001b[0m 22ms/step - acc: 0.8891 - loss: 0.4977\n",
            "Epoch 22: val_acc improved from 0.86097 to 0.86205, saving model to 14_02_seq2seq_tranlation.keras\n",
            "\u001b[1m465/465\u001b[0m \u001b[32m━━━━━━━━━━━━━━━━━━━━\u001b[0m\u001b[37m\u001b[0m \u001b[1m20s\u001b[0m 23ms/step - acc: 0.8891 - loss: 0.4977 - val_acc: 0.8620 - val_loss: 0.7830\n",
            "Epoch 23/50\n",
            "\u001b[1m463/465\u001b[0m \u001b[32m━━━━━━━━━━━━━━━━━━━\u001b[0m\u001b[37m━\u001b[0m \u001b[1m0s\u001b[0m 21ms/step - acc: 0.8927 - loss: 0.4749\n",
            "Epoch 23: val_acc improved from 0.86205 to 0.86299, saving model to 14_02_seq2seq_tranlation.keras\n",
            "\u001b[1m465/465\u001b[0m \u001b[32m━━━━━━━━━━━━━━━━━━━━\u001b[0m\u001b[37m\u001b[0m \u001b[1m20s\u001b[0m 23ms/step - acc: 0.8927 - loss: 0.4749 - val_acc: 0.8630 - val_loss: 0.7781\n",
            "Epoch 24/50\n",
            "\u001b[1m464/465\u001b[0m \u001b[32m━━━━━━━━━━━━━━━━━━━\u001b[0m\u001b[37m━\u001b[0m \u001b[1m0s\u001b[0m 21ms/step - acc: 0.8961 - loss: 0.4554\n",
            "Epoch 24: val_acc improved from 0.86299 to 0.86354, saving model to 14_02_seq2seq_tranlation.keras\n",
            "\u001b[1m465/465\u001b[0m \u001b[32m━━━━━━━━━━━━━━━━━━━━\u001b[0m\u001b[37m\u001b[0m \u001b[1m21s\u001b[0m 23ms/step - acc: 0.8961 - loss: 0.4554 - val_acc: 0.8635 - val_loss: 0.7702\n",
            "Epoch 25/50\n",
            "\u001b[1m462/465\u001b[0m \u001b[32m━━━━━━━━━━━━━━━━━━━\u001b[0m\u001b[37m━\u001b[0m \u001b[1m0s\u001b[0m 21ms/step - acc: 0.8982 - loss: 0.4416\n",
            "Epoch 25: val_acc improved from 0.86354 to 0.86447, saving model to 14_02_seq2seq_tranlation.keras\n",
            "\u001b[1m465/465\u001b[0m \u001b[32m━━━━━━━━━━━━━━━━━━━━\u001b[0m\u001b[37m\u001b[0m \u001b[1m20s\u001b[0m 23ms/step - acc: 0.8982 - loss: 0.4416 - val_acc: 0.8645 - val_loss: 0.7658\n",
            "Epoch 26/50\n",
            "\u001b[1m463/465\u001b[0m \u001b[32m━━━━━━━━━━━━━━━━━━━\u001b[0m\u001b[37m━\u001b[0m \u001b[1m0s\u001b[0m 21ms/step - acc: 0.9019 - loss: 0.4223\n",
            "Epoch 26: val_acc improved from 0.86447 to 0.86642, saving model to 14_02_seq2seq_tranlation.keras\n",
            "\u001b[1m465/465\u001b[0m \u001b[32m━━━━━━━━━━━━━━━━━━━━\u001b[0m\u001b[37m\u001b[0m \u001b[1m20s\u001b[0m 22ms/step - acc: 0.9019 - loss: 0.4223 - val_acc: 0.8664 - val_loss: 0.7600\n",
            "Epoch 27/50\n",
            "\u001b[1m462/465\u001b[0m \u001b[32m━━━━━━━━━━━━━━━━━━━\u001b[0m\u001b[37m━\u001b[0m \u001b[1m0s\u001b[0m 21ms/step - acc: 0.9052 - loss: 0.4047\n",
            "Epoch 27: val_acc did not improve from 0.86642\n",
            "\u001b[1m465/465\u001b[0m \u001b[32m━━━━━━━━━━━━━━━━━━━━\u001b[0m\u001b[37m\u001b[0m \u001b[1m10s\u001b[0m 22ms/step - acc: 0.9052 - loss: 0.4047 - val_acc: 0.8657 - val_loss: 0.7566\n",
            "Epoch 28/50\n",
            "\u001b[1m463/465\u001b[0m \u001b[32m━━━━━━━━━━━━━━━━━━━\u001b[0m\u001b[37m━\u001b[0m \u001b[1m0s\u001b[0m 20ms/step - acc: 0.9086 - loss: 0.3864\n",
            "Epoch 28: val_acc improved from 0.86642 to 0.86706, saving model to 14_02_seq2seq_tranlation.keras\n",
            "\u001b[1m465/465\u001b[0m \u001b[32m━━━━━━━━━━━━━━━━━━━━\u001b[0m\u001b[37m\u001b[0m \u001b[1m21s\u001b[0m 23ms/step - acc: 0.9086 - loss: 0.3865 - val_acc: 0.8671 - val_loss: 0.7547\n",
            "Epoch 29/50\n",
            "\u001b[1m462/465\u001b[0m \u001b[32m━━━━━━━━━━━━━━━━━━━\u001b[0m\u001b[37m━\u001b[0m \u001b[1m0s\u001b[0m 21ms/step - acc: 0.9116 - loss: 0.3731\n",
            "Epoch 29: val_acc did not improve from 0.86706\n",
            "\u001b[1m465/465\u001b[0m \u001b[32m━━━━━━━━━━━━━━━━━━━━\u001b[0m\u001b[37m\u001b[0m \u001b[1m20s\u001b[0m 23ms/step - acc: 0.9116 - loss: 0.3732 - val_acc: 0.8670 - val_loss: 0.7526\n",
            "Epoch 30/50\n",
            "\u001b[1m465/465\u001b[0m \u001b[32m━━━━━━━━━━━━━━━━━━━━\u001b[0m\u001b[37m\u001b[0m \u001b[1m0s\u001b[0m 22ms/step - acc: 0.9143 - loss: 0.3594\n",
            "Epoch 30: val_acc improved from 0.86706 to 0.86862, saving model to 14_02_seq2seq_tranlation.keras\n",
            "\u001b[1m465/465\u001b[0m \u001b[32m━━━━━━━━━━━━━━━━━━━━\u001b[0m\u001b[37m\u001b[0m \u001b[1m21s\u001b[0m 23ms/step - acc: 0.9143 - loss: 0.3594 - val_acc: 0.8686 - val_loss: 0.7492\n",
            "Epoch 31/50\n",
            "\u001b[1m464/465\u001b[0m \u001b[32m━━━━━━━━━━━━━━━━━━━\u001b[0m\u001b[37m━\u001b[0m \u001b[1m0s\u001b[0m 22ms/step - acc: 0.9178 - loss: 0.3420\n",
            "Epoch 31: val_acc improved from 0.86862 to 0.86873, saving model to 14_02_seq2seq_tranlation.keras\n",
            "\u001b[1m465/465\u001b[0m \u001b[32m━━━━━━━━━━━━━━━━━━━━\u001b[0m\u001b[37m\u001b[0m \u001b[1m21s\u001b[0m 24ms/step - acc: 0.9178 - loss: 0.3420 - val_acc: 0.8687 - val_loss: 0.7473\n",
            "Epoch 32/50\n",
            "\u001b[1m463/465\u001b[0m \u001b[32m━━━━━━━━━━━━━━━━━━━\u001b[0m\u001b[37m━\u001b[0m \u001b[1m0s\u001b[0m 22ms/step - acc: 0.9183 - loss: 0.3364\n",
            "Epoch 32: val_acc improved from 0.86873 to 0.86977, saving model to 14_02_seq2seq_tranlation.keras\n",
            "\u001b[1m465/465\u001b[0m \u001b[32m━━━━━━━━━━━━━━━━━━━━\u001b[0m\u001b[37m\u001b[0m \u001b[1m20s\u001b[0m 23ms/step - acc: 0.9183 - loss: 0.3364 - val_acc: 0.8698 - val_loss: 0.7469\n",
            "Epoch 33/50\n",
            "\u001b[1m464/465\u001b[0m \u001b[32m━━━━━━━━━━━━━━━━━━━\u001b[0m\u001b[37m━\u001b[0m \u001b[1m0s\u001b[0m 21ms/step - acc: 0.9212 - loss: 0.3247\n",
            "Epoch 33: val_acc improved from 0.86977 to 0.87021, saving model to 14_02_seq2seq_tranlation.keras\n",
            "\u001b[1m465/465\u001b[0m \u001b[32m━━━━━━━━━━━━━━━━━━━━\u001b[0m\u001b[37m\u001b[0m \u001b[1m10s\u001b[0m 22ms/step - acc: 0.9211 - loss: 0.3247 - val_acc: 0.8702 - val_loss: 0.7438\n",
            "Epoch 34/50\n",
            "\u001b[1m463/465\u001b[0m \u001b[32m━━━━━━━━━━━━━━━━━━━\u001b[0m\u001b[37m━\u001b[0m \u001b[1m0s\u001b[0m 21ms/step - acc: 0.9246 - loss: 0.3085\n",
            "Epoch 34: val_acc improved from 0.87021 to 0.87051, saving model to 14_02_seq2seq_tranlation.keras\n",
            "\u001b[1m465/465\u001b[0m \u001b[32m━━━━━━━━━━━━━━━━━━━━\u001b[0m\u001b[37m\u001b[0m \u001b[1m10s\u001b[0m 22ms/step - acc: 0.9245 - loss: 0.3086 - val_acc: 0.8705 - val_loss: 0.7446\n",
            "Epoch 35/50\n",
            "\u001b[1m463/465\u001b[0m \u001b[32m━━━━━━━━━━━━━━━━━━━\u001b[0m\u001b[37m━\u001b[0m \u001b[1m0s\u001b[0m 21ms/step - acc: 0.9265 - loss: 0.2986\n",
            "Epoch 35: val_acc improved from 0.87051 to 0.87125, saving model to 14_02_seq2seq_tranlation.keras\n",
            "\u001b[1m465/465\u001b[0m \u001b[32m━━━━━━━━━━━━━━━━━━━━\u001b[0m\u001b[37m\u001b[0m \u001b[1m21s\u001b[0m 23ms/step - acc: 0.9265 - loss: 0.2986 - val_acc: 0.8712 - val_loss: 0.7423\n",
            "Epoch 36/50\n",
            "\u001b[1m463/465\u001b[0m \u001b[32m━━━━━━━━━━━━━━━━━━━\u001b[0m\u001b[37m━\u001b[0m \u001b[1m0s\u001b[0m 21ms/step - acc: 0.9278 - loss: 0.2924\n",
            "Epoch 36: val_acc improved from 0.87125 to 0.87161, saving model to 14_02_seq2seq_tranlation.keras\n",
            "\u001b[1m465/465\u001b[0m \u001b[32m━━━━━━━━━━━━━━━━━━━━\u001b[0m\u001b[37m\u001b[0m \u001b[1m10s\u001b[0m 22ms/step - acc: 0.9278 - loss: 0.2924 - val_acc: 0.8716 - val_loss: 0.7444\n",
            "Epoch 37/50\n",
            "\u001b[1m463/465\u001b[0m \u001b[32m━━━━━━━━━━━━━━━━━━━\u001b[0m\u001b[37m━\u001b[0m \u001b[1m0s\u001b[0m 21ms/step - acc: 0.9305 - loss: 0.2796\n",
            "Epoch 37: val_acc improved from 0.87161 to 0.87191, saving model to 14_02_seq2seq_tranlation.keras\n",
            "\u001b[1m465/465\u001b[0m \u001b[32m━━━━━━━━━━━━━━━━━━━━\u001b[0m\u001b[37m\u001b[0m \u001b[1m21s\u001b[0m 23ms/step - acc: 0.9305 - loss: 0.2797 - val_acc: 0.8719 - val_loss: 0.7415\n",
            "Epoch 38/50\n",
            "\u001b[1m463/465\u001b[0m \u001b[32m━━━━━━━━━━━━━━━━━━━\u001b[0m\u001b[37m━\u001b[0m \u001b[1m0s\u001b[0m 21ms/step - acc: 0.9312 - loss: 0.2753\n",
            "Epoch 38: val_acc improved from 0.87191 to 0.87244, saving model to 14_02_seq2seq_tranlation.keras\n",
            "\u001b[1m465/465\u001b[0m \u001b[32m━━━━━━━━━━━━━━━━━━━━\u001b[0m\u001b[37m\u001b[0m \u001b[1m21s\u001b[0m 23ms/step - acc: 0.9312 - loss: 0.2753 - val_acc: 0.8724 - val_loss: 0.7420\n",
            "Epoch 39/50\n",
            "\u001b[1m462/465\u001b[0m \u001b[32m━━━━━━━━━━━━━━━━━━━\u001b[0m\u001b[37m━\u001b[0m \u001b[1m0s\u001b[0m 21ms/step - acc: 0.9340 - loss: 0.2625\n",
            "Epoch 39: val_acc improved from 0.87244 to 0.87301, saving model to 14_02_seq2seq_tranlation.keras\n",
            "\u001b[1m465/465\u001b[0m \u001b[32m━━━━━━━━━━━━━━━━━━━━\u001b[0m\u001b[37m\u001b[0m \u001b[1m20s\u001b[0m 22ms/step - acc: 0.9339 - loss: 0.2626 - val_acc: 0.8730 - val_loss: 0.7435\n",
            "Epoch 40/50\n",
            "\u001b[1m463/465\u001b[0m \u001b[32m━━━━━━━━━━━━━━━━━━━\u001b[0m\u001b[37m━\u001b[0m \u001b[1m0s\u001b[0m 21ms/step - acc: 0.9352 - loss: 0.2551\n",
            "Epoch 40: val_acc did not improve from 0.87301\n",
            "\u001b[1m465/465\u001b[0m \u001b[32m━━━━━━━━━━━━━━━━━━━━\u001b[0m\u001b[37m\u001b[0m \u001b[1m10s\u001b[0m 22ms/step - acc: 0.9352 - loss: 0.2551 - val_acc: 0.8726 - val_loss: 0.7449\n",
            "Epoch 41/50\n",
            "\u001b[1m462/465\u001b[0m \u001b[32m━━━━━━━━━━━━━━━━━━━\u001b[0m\u001b[37m━\u001b[0m \u001b[1m0s\u001b[0m 21ms/step - acc: 0.9365 - loss: 0.2487\n",
            "Epoch 41: val_acc improved from 0.87301 to 0.87324, saving model to 14_02_seq2seq_tranlation.keras\n",
            "\u001b[1m465/465\u001b[0m \u001b[32m━━━━━━━━━━━━━━━━━━━━\u001b[0m\u001b[37m\u001b[0m \u001b[1m21s\u001b[0m 23ms/step - acc: 0.9365 - loss: 0.2488 - val_acc: 0.8732 - val_loss: 0.7433\n",
            "Epoch 42/50\n",
            "\u001b[1m462/465\u001b[0m \u001b[32m━━━━━━━━━━━━━━━━━━━\u001b[0m\u001b[37m━\u001b[0m \u001b[1m0s\u001b[0m 21ms/step - acc: 0.9386 - loss: 0.2396\n",
            "Epoch 42: val_acc improved from 0.87324 to 0.87331, saving model to 14_02_seq2seq_tranlation.keras\n",
            "\u001b[1m465/465\u001b[0m \u001b[32m━━━━━━━━━━━━━━━━━━━━\u001b[0m\u001b[37m\u001b[0m \u001b[1m20s\u001b[0m 23ms/step - acc: 0.9386 - loss: 0.2397 - val_acc: 0.8733 - val_loss: 0.7453\n",
            "Epoch 42: early stopping\n",
            "CPU times: user 4min 38s, sys: 23.8 s, total: 5min 2s\n",
            "Wall time: 12min 1s\n"
          ]
        }
      ],
      "source": [
        "%%time\n",
        "## Colab 2024.08\n",
        "# Epoch 42: val_acc improved from 0.87324 to 0.87331, saving model to 14_02_seq2seq_tranlation.keras\n",
        "# 465/465 ━━━━━━━━━━━━━━━━━━━━ 20s 23ms/step - acc: 0.9386 - loss: 0.2397 - val_acc: 0.8733 - val_loss: 0.7453\n",
        "# Epoch 42: early stopping\n",
        "# CPU times: user 4min 38s, sys: 23.8 s, total: 5min 2s\n",
        "# Wall time: 12min 1s\n",
        "\n",
        "history = model.fit(x=[encoder_input_train, decoder_input_train], y=decoder_target_train,\n",
        "          validation_data=([encoder_input_test, decoder_input_test], decoder_target_test),\n",
        "          batch_size=64, epochs=50, callbacks=[es, mc])"
      ]
    },
    {
      "cell_type": "markdown",
      "metadata": {
        "id": "_pR9asAF74sR"
      },
      "source": [
        "저자의 경우 최종 에포크에서 훈련 데이터는 92%의 정확도를, 테스트 데이터에서는 86%의 정확도를 얻었습니다."
      ]
    },
    {
      "cell_type": "code",
      "execution_count": null,
      "metadata": {
        "colab": {
          "base_uri": "https://localhost:8080/",
          "height": 449
        },
        "id": "pbA_ljKo74sR",
        "outputId": "ae48cc1b-485e-419a-d0f9-f0e5050853ed",
        "scrolled": true
      },
      "outputs": [
        {
          "output_type": "execute_result",
          "data": {
            "text/plain": [
              "<Axes: >"
            ]
          },
          "metadata": {},
          "execution_count": 65
        },
        {
          "output_type": "display_data",
          "data": {
            "text/plain": [
              "<Figure size 640x480 with 1 Axes>"
            ],
            "image/png": "[encoded data removed]"
          },
          "metadata": {}
        }
      ],
      "source": [
        "import pandas as pd\n",
        "df_history = pd.DataFrame(history.history)\n",
        "df_history[['acc', 'val_acc']].plot()"
      ]
    },
    {
      "cell_type": "code",
      "execution_count": null,
      "metadata": {
        "colab": {
          "base_uri": "https://localhost:8080/",
          "height": 449
        },
        "id": "_sJR7o0574sR",
        "outputId": "33a6c6f2-1bb2-4328-edc4-ef3768ccf06c"
      },
      "outputs": [
        {
          "output_type": "execute_result",
          "data": {
            "text/plain": [
              "<Axes: >"
            ]
          },
          "metadata": {},
          "execution_count": 66
        },
        {
          "output_type": "display_data",
          "data": {
            "text/plain": [
              "<Figure size 640x480 with 1 Axes>"
            ],
            "image/png": "[encoded data removed]"
          },
          "metadata": {}
        }
      ],
      "source": [
        "df_history[['loss', 'val_loss']].plot()"
      ]
    },
    {
      "cell_type": "markdown",
      "metadata": {
        "id": "sklM5kml74sS"
      },
      "source": [
        "## 3. seq2seq 기계 번역기 동작시키기\n",
        "---\n",
        "seq2seq는 훈련 과정(교사 강요)과 테스트 과정에서의 동작 방식이 다릅니다. 그래서 테스트 과정을 위해 모델을 다시 설계해주어야 합니다. 특히 디코더를 수정해야 합니다. 이번에는 번역 단계를 위해 모델을 수정하고 동작시켜보겠습니다.\n",
        "\n",
        "전체적인 번역 단계를 정리하면 아래와 같습니다.\n",
        "\n",
        "번역하고자 하는 입력 문장이 인코더로 입력되어 인코더의 마지막 시점의 은닉 상태와 셀 상태를 얻습니다.\n",
        "인코더의 은닉 상태와 셀 상태, 그리고 토큰 <sos>를 디코더로 보냅니다.\n",
        "디코더가 토큰 <eos>가 나올 때까지 다음 단어를 예측하는 행동을 반복합니다.\n",
        "인코더의 입, 출력으로 사용하는 encoder_inputs와 encoder_states는 훈련 과정에서 이미 정의한 것들을 재사용합니다. 이렇게 되면 훈련 단계에 encoder_inputs와 encoder_states 사이에 있는 모든 층까지 전부 불러오게 되므로 결과적으로 훈련 단계에서 사용한 인코더를 그대로 재사용하게 됩니다. 이어서 디코더를 설계합니다. 테스트 단계에서는 디코더를 매 시점 별로 컨트롤 할 예정으로, 이를 위해서 이전 시점의 상태를 저장할 텐서인 decoder_state_input_h, decoder_state_input_c를 정의합니다. 매 시점 별로 디코더를 컨트롤하는 함수는 뒤에서 정의할 decode_sequence()로 해당 함수를 자세히 살펴봐야 합니다."
      ]
    },
    {
      "cell_type": "code",
      "execution_count": null,
      "metadata": {
        "id": "WCeLHL7Eaw0g"
      },
      "outputs": [],
      "source": [
        "# 인코더\n",
        "encoder_model = Model(encoder_inputs, encoder_states)"
      ]
    },
    {
      "cell_type": "code",
      "execution_count": null,
      "metadata": {
        "colab": {
          "base_uri": "https://localhost:8080/",
          "height": 344
        },
        "id": "5bZUpdGL74sS",
        "outputId": "79091879-d830-4653-a7c0-87a5a91ab25c"
      },
      "outputs": [
        {
          "output_type": "display_data",
          "data": {
            "text/plain": [
              "\u001b[1mModel: \"functional_1\"\u001b[0m\n"
            ],
            "text/html": [
              "<pre style=\"white-space:pre;overflow-x:auto;line-height:normal;font-family:Menlo,'DejaVu Sans Mono',consolas,'Courier New',monospace\"><span style=\"font-weight: bold\">Model: \"functional_1\"</span>\n",
              "</pre>\n"
            ]
          },
          "metadata": {}
        },
        {
          "output_type": "display_data",
          "data": {
            "text/plain": [
              "┏━━━━━━━━━━━━━━━━━━━━━━━━━━━┳━━━━━━━━━━━━━━━━━━━━━━━━┳━━━━━━━━━━━━━━━━┳━━━━━━━━━━━━━━━━━━━━━━━━┓\n",
              "┃\u001b[1m \u001b[0m\u001b[1mLayer (type)             \u001b[0m\u001b[1m \u001b[0m┃\u001b[1m \u001b[0m\u001b[1mOutput Shape          \u001b[0m\u001b[1m \u001b[0m┃\u001b[1m \u001b[0m\u001b[1m       Param #\u001b[0m\u001b[1m \u001b[0m┃\u001b[1m \u001b[0m\u001b[1mConnected to          \u001b[0m\u001b[1m \u001b[0m┃\n",
              "┡━━━━━━━━━━━━━━━━━━━━━━━━━━━╇━━━━━━━━━━━━━━━━━━━━━━━━╇━━━━━━━━━━━━━━━━╇━━━━━━━━━━━━━━━━━━━━━━━━┩\n",
              "│ input_layer (\u001b[38;5;33mInputLayer\u001b[0m)  │ (\u001b[38;5;45mNone\u001b[0m, \u001b[38;5;45mNone\u001b[0m)           │              \u001b[38;5;34m0\u001b[0m │ -                      │\n",
              "├───────────────────────────┼────────────────────────┼────────────────┼────────────────────────┤\n",
              "│ embedding (\u001b[38;5;33mEmbedding\u001b[0m)     │ (\u001b[38;5;45mNone\u001b[0m, \u001b[38;5;45mNone\u001b[0m, \u001b[38;5;34m64\u001b[0m)       │        \u001b[38;5;34m299,072\u001b[0m │ input_layer[\u001b[38;5;34m0\u001b[0m][\u001b[38;5;34m0\u001b[0m]      │\n",
              "├───────────────────────────┼────────────────────────┼────────────────┼────────────────────────┤\n",
              "│ not_equal (\u001b[38;5;33mNotEqual\u001b[0m)      │ (\u001b[38;5;45mNone\u001b[0m, \u001b[38;5;45mNone\u001b[0m, \u001b[38;5;34m64\u001b[0m)       │              \u001b[38;5;34m0\u001b[0m │ embedding[\u001b[38;5;34m0\u001b[0m][\u001b[38;5;34m0\u001b[0m]        │\n",
              "├───────────────────────────┼────────────────────────┼────────────────┼────────────────────────┤\n",
              "│ masking (\u001b[38;5;33mMasking\u001b[0m)         │ (\u001b[38;5;45mNone\u001b[0m, \u001b[38;5;45mNone\u001b[0m, \u001b[38;5;34m64\u001b[0m)       │              \u001b[38;5;34m0\u001b[0m │ embedding[\u001b[38;5;34m0\u001b[0m][\u001b[38;5;34m0\u001b[0m]        │\n",
              "├───────────────────────────┼────────────────────────┼────────────────┼────────────────────────┤\n",
              "│ any (\u001b[38;5;33mAny\u001b[0m)                 │ (\u001b[38;5;45mNone\u001b[0m, \u001b[38;5;45mNone\u001b[0m)           │              \u001b[38;5;34m0\u001b[0m │ not_equal[\u001b[38;5;34m0\u001b[0m][\u001b[38;5;34m0\u001b[0m]        │\n",
              "├───────────────────────────┼────────────────────────┼────────────────┼────────────────────────┤\n",
              "│ lstm (\u001b[38;5;33mLSTM\u001b[0m)               │ [(\u001b[38;5;45mNone\u001b[0m, \u001b[38;5;34m64\u001b[0m), (\u001b[38;5;45mNone\u001b[0m,    │         \u001b[38;5;34m33,024\u001b[0m │ masking[\u001b[38;5;34m0\u001b[0m][\u001b[38;5;34m0\u001b[0m],         │\n",
              "│                           │ \u001b[38;5;34m64\u001b[0m), (\u001b[38;5;45mNone\u001b[0m, \u001b[38;5;34m64\u001b[0m)]       │                │ any[\u001b[38;5;34m0\u001b[0m][\u001b[38;5;34m0\u001b[0m]              │\n",
              "└───────────────────────────┴────────────────────────┴────────────────┴────────────────────────┘\n"
            ],
            "text/html": [
              "<pre style=\"white-space:pre;overflow-x:auto;line-height:normal;font-family:Menlo,'DejaVu Sans Mono',consolas,'Courier New',monospace\">┏━━━━━━━━━━━━━━━━━━━━━━━━━━━┳━━━━━━━━━━━━━━━━━━━━━━━━┳━━━━━━━━━━━━━━━━┳━━━━━━━━━━━━━━━━━━━━━━━━┓\n",
              "┃<span style=\"font-weight: bold\"> Layer (type)              </span>┃<span style=\"font-weight: bold\"> Output Shape           </span>┃<span style=\"font-weight: bold\">        Param # </span>┃<span style=\"font-weight: bold\"> Connected to           </span>┃\n",
              "┡━━━━━━━━━━━━━━━━━━━━━━━━━━━╇━━━━━━━━━━━━━━━━━━━━━━━━╇━━━━━━━━━━━━━━━━╇━━━━━━━━━━━━━━━━━━━━━━━━┩\n",
              "│ input_layer (<span style=\"color: #0087ff; text-decoration-color: #0087ff\">InputLayer</span>)  │ (<span style=\"color: #00d7ff; text-decoration-color: #00d7ff\">None</span>, <span style=\"color: #00d7ff; text-decoration-color: #00d7ff\">None</span>)           │              <span style=\"color: #00af00; text-decoration-color: #00af00\">0</span> │ -                      │\n",
              "├───────────────────────────┼────────────────────────┼────────────────┼────────────────────────┤\n",
              "│ embedding (<span style=\"color: #0087ff; text-decoration-color: #0087ff\">Embedding</span>)     │ (<span style=\"color: #00d7ff; text-decoration-color: #00d7ff\">None</span>, <span style=\"color: #00d7ff; text-decoration-color: #00d7ff\">None</span>, <span style=\"color: #00af00; text-decoration-color: #00af00\">64</span>)       │        <span style=\"color: #00af00; text-decoration-color: #00af00\">299,072</span> │ input_layer[<span style=\"color: #00af00; text-decoration-color: #00af00\">0</span>][<span style=\"color: #00af00; text-decoration-color: #00af00\">0</span>]      │\n",
              "├───────────────────────────┼────────────────────────┼────────────────┼────────────────────────┤\n",
              "│ not_equal (<span style=\"color: #0087ff; text-decoration-color: #0087ff\">NotEqual</span>)      │ (<span style=\"color: #00d7ff; text-decoration-color: #00d7ff\">None</span>, <span style=\"color: #00d7ff; text-decoration-color: #00d7ff\">None</span>, <span style=\"color: #00af00; text-decoration-color: #00af00\">64</span>)       │              <span style=\"color: #00af00; text-decoration-color: #00af00\">0</span> │ embedding[<span style=\"color: #00af00; text-decoration-color: #00af00\">0</span>][<span style=\"color: #00af00; text-decoration-color: #00af00\">0</span>]        │\n",
              "├───────────────────────────┼────────────────────────┼────────────────┼────────────────────────┤\n",
              "│ masking (<span style=\"color: #0087ff; text-decoration-color: #0087ff\">Masking</span>)         │ (<span style=\"color: #00d7ff; text-decoration-color: #00d7ff\">None</span>, <span style=\"color: #00d7ff; text-decoration-color: #00d7ff\">None</span>, <span style=\"color: #00af00; text-decoration-color: #00af00\">64</span>)       │              <span style=\"color: #00af00; text-decoration-color: #00af00\">0</span> │ embedding[<span style=\"color: #00af00; text-decoration-color: #00af00\">0</span>][<span style=\"color: #00af00; text-decoration-color: #00af00\">0</span>]        │\n",
              "├───────────────────────────┼────────────────────────┼────────────────┼────────────────────────┤\n",
              "│ any (<span style=\"color: #0087ff; text-decoration-color: #0087ff\">Any</span>)                 │ (<span style=\"color: #00d7ff; text-decoration-color: #00d7ff\">None</span>, <span style=\"color: #00d7ff; text-decoration-color: #00d7ff\">None</span>)           │              <span style=\"color: #00af00; text-decoration-color: #00af00\">0</span> │ not_equal[<span style=\"color: #00af00; text-decoration-color: #00af00\">0</span>][<span style=\"color: #00af00; text-decoration-color: #00af00\">0</span>]        │\n",
              "├───────────────────────────┼────────────────────────┼────────────────┼────────────────────────┤\n",
              "│ lstm (<span style=\"color: #0087ff; text-decoration-color: #0087ff\">LSTM</span>)               │ [(<span style=\"color: #00d7ff; text-decoration-color: #00d7ff\">None</span>, <span style=\"color: #00af00; text-decoration-color: #00af00\">64</span>), (<span style=\"color: #00d7ff; text-decoration-color: #00d7ff\">None</span>,    │         <span style=\"color: #00af00; text-decoration-color: #00af00\">33,024</span> │ masking[<span style=\"color: #00af00; text-decoration-color: #00af00\">0</span>][<span style=\"color: #00af00; text-decoration-color: #00af00\">0</span>],         │\n",
              "│                           │ <span style=\"color: #00af00; text-decoration-color: #00af00\">64</span>), (<span style=\"color: #00d7ff; text-decoration-color: #00d7ff\">None</span>, <span style=\"color: #00af00; text-decoration-color: #00af00\">64</span>)]       │                │ any[<span style=\"color: #00af00; text-decoration-color: #00af00\">0</span>][<span style=\"color: #00af00; text-decoration-color: #00af00\">0</span>]              │\n",
              "└───────────────────────────┴────────────────────────┴────────────────┴────────────────────────┘\n",
              "</pre>\n"
            ]
          },
          "metadata": {}
        },
        {
          "output_type": "display_data",
          "data": {
            "text/plain": [
              "\u001b[1m Total params: \u001b[0m\u001b[38;5;34m332,096\u001b[0m (1.27 MB)\n"
            ],
            "text/html": [
              "<pre style=\"white-space:pre;overflow-x:auto;line-height:normal;font-family:Menlo,'DejaVu Sans Mono',consolas,'Courier New',monospace\"><span style=\"font-weight: bold\"> Total params: </span><span style=\"color: #00af00; text-decoration-color: #00af00\">332,096</span> (1.27 MB)\n",
              "</pre>\n"
            ]
          },
          "metadata": {}
        },
        {
          "output_type": "display_data",
          "data": {
            "text/plain": [
              "\u001b[1m Trainable params: \u001b[0m\u001b[38;5;34m332,096\u001b[0m (1.27 MB)\n"
            ],
            "text/html": [
              "<pre style=\"white-space:pre;overflow-x:auto;line-height:normal;font-family:Menlo,'DejaVu Sans Mono',consolas,'Courier New',monospace\"><span style=\"font-weight: bold\"> Trainable params: </span><span style=\"color: #00af00; text-decoration-color: #00af00\">332,096</span> (1.27 MB)\n",
              "</pre>\n"
            ]
          },
          "metadata": {}
        },
        {
          "output_type": "display_data",
          "data": {
            "text/plain": [
              "\u001b[1m Non-trainable params: \u001b[0m\u001b[38;5;34m0\u001b[0m (0.00 B)\n"
            ],
            "text/html": [
              "<pre style=\"white-space:pre;overflow-x:auto;line-height:normal;font-family:Menlo,'DejaVu Sans Mono',consolas,'Courier New',monospace\"><span style=\"font-weight: bold\"> Non-trainable params: </span><span style=\"color: #00af00; text-decoration-color: #00af00\">0</span> (0.00 B)\n",
              "</pre>\n"
            ]
          },
          "metadata": {}
        }
      ],
      "source": [
        "encoder_model.summary()"
      ]
    },
    {
      "cell_type": "markdown",
      "source": [],
      "metadata": {
        "id": "61syBk-eXZvY"
      }
    },
    {
      "cell_type": "code",
      "execution_count": null,
      "metadata": {
        "colab": {
          "base_uri": "https://localhost:8080/"
        },
        "id": "ChhMnKaZ74sS",
        "outputId": "1561ea12-7a68-4e56-eb2e-b6412acc9544"
      },
      "outputs": [
        {
          "output_type": "execute_result",
          "data": {
            "text/plain": [
              "64"
            ]
          },
          "metadata": {},
          "execution_count": 71
        }
      ],
      "source": [
        "hidden_units"
      ]
    },
    {
      "cell_type": "code",
      "execution_count": null,
      "metadata": {
        "colab": {
          "base_uri": "https://localhost:8080/"
        },
        "id": "9COCiea6ayBE",
        "outputId": "4ee72e08-6c87-49f0-d473-77c760e0af75"
      },
      "outputs": [
        {
          "output_type": "execute_result",
          "data": {
            "text/plain": [
              "[<KerasTensor shape=(None, 64), dtype=float32, sparse=None, name=keras_tensor_17>,\n",
              " <KerasTensor shape=(None, 64), dtype=float32, sparse=None, name=keras_tensor_18>]"
            ]
          },
          "metadata": {},
          "execution_count": 72
        }
      ],
      "source": [
        "# 디코더 설계 시작\n",
        "# 이전 시점의 상태를 보관할 텐서 (빈 텐서)\n",
        "decoder_state_input_h = Input(shape=(hidden_units,))\n",
        "decoder_state_input_c = Input(shape=(hidden_units,))\n",
        "decoder_states_inputs = [decoder_state_input_h, decoder_state_input_c]\n",
        "decoder_states_inputs  # hidden과 cell의 리스트"
      ]
    },
    {
      "cell_type": "code",
      "execution_count": null,
      "metadata": {
        "colab": {
          "base_uri": "https://localhost:8080/"
        },
        "id": "Au__5Q3m74sT",
        "outputId": "24f6147e-78a3-422b-c1cd-816fdc9d64ff"
      },
      "outputs": [
        {
          "output_type": "execute_result",
          "data": {
            "text/plain": [
              "<KerasTensor shape=(None, None, 64), dtype=float32, sparse=False, name=keras_tensor_19>"
            ]
          },
          "metadata": {},
          "execution_count": 73
        }
      ],
      "source": [
        "# 훈련 때 사용했던 임베딩 층을 재사용\n",
        "dec_emb2 = dec_emb_layer(decoder_inputs)\n",
        "dec_emb2"
      ]
    },
    {
      "cell_type": "code",
      "execution_count": null,
      "metadata": {
        "colab": {
          "base_uri": "https://localhost:8080/"
        },
        "id": "9mphuZA174sT",
        "outputId": "f6656438-8c55-4811-f583-ad17f9805691"
      },
      "outputs": [
        {
          "output_type": "execute_result",
          "data": {
            "text/plain": [
              "[<KerasTensor shape=(None, 64), dtype=float32, sparse=False, name=keras_tensor_21>,\n",
              " <KerasTensor shape=(None, 64), dtype=float32, sparse=False, name=keras_tensor_22>]"
            ]
          },
          "metadata": {},
          "execution_count": 74
        }
      ],
      "source": [
        "# 다음 단어 예측을 위해 이전 시점의 상태를 현 시점의 초기 상태로 사용 (Context Vectors)\n",
        "decoder_outputs2, state_h2, state_c2 = decoder_lstm(dec_emb2, initial_state=decoder_states_inputs)\n",
        "decoder_states2 = [state_h2, state_c2]\n",
        "decoder_states2"
      ]
    },
    {
      "cell_type": "code",
      "execution_count": null,
      "metadata": {
        "colab": {
          "base_uri": "https://localhost:8080/"
        },
        "id": "rahDdhHs74sT",
        "outputId": "17da6311-58fb-4b99-a330-5dbfdad43625"
      },
      "outputs": [
        {
          "output_type": "execute_result",
          "data": {
            "text/plain": [
              "<KerasTensor shape=(None, None, 8513), dtype=float32, sparse=False, name=keras_tensor_23>"
            ]
          },
          "metadata": {},
          "execution_count": 76
        }
      ],
      "source": [
        "# 모든 시점에 대해서 단어 예측 ()\n",
        "decoder_outputs2 = decoder_dense(decoder_outputs2)\n",
        "decoder_outputs2"
      ]
    },
    {
      "cell_type": "code",
      "execution_count": null,
      "metadata": {
        "id": "CO3gY6QVa2yE"
      },
      "outputs": [],
      "source": [
        "# 디코더\n",
        "decoder_model = Model(\n",
        "    [decoder_inputs] + decoder_states_inputs,\n",
        "    [decoder_outputs2] + decoder_states2)"
      ]
    },
    {
      "cell_type": "code",
      "execution_count": null,
      "metadata": {
        "colab": {
          "base_uri": "https://localhost:8080/",
          "height": 410
        },
        "id": "pfn0tdQo74sU",
        "outputId": "9a6e32a4-64ee-4253-f740-b208b2abfb7c"
      },
      "outputs": [
        {
          "output_type": "display_data",
          "data": {
            "text/plain": [
              "\u001b[1mModel: \"functional_5\"\u001b[0m\n"
            ],
            "text/html": [
              "<pre style=\"white-space:pre;overflow-x:auto;line-height:normal;font-family:Menlo,'DejaVu Sans Mono',consolas,'Courier New',monospace\"><span style=\"font-weight: bold\">Model: \"functional_5\"</span>\n",
              "</pre>\n"
            ]
          },
          "metadata": {}
        },
        {
          "output_type": "display_data",
          "data": {
            "text/plain": [
              "┏━━━━━━━━━━━━━━━━━━━━━━━━━━━┳━━━━━━━━━━━━━━━━━━━━━━━━┳━━━━━━━━━━━━━━━━┳━━━━━━━━━━━━━━━━━━━━━━━━┓\n",
              "┃\u001b[1m \u001b[0m\u001b[1mLayer (type)             \u001b[0m\u001b[1m \u001b[0m┃\u001b[1m \u001b[0m\u001b[1mOutput Shape          \u001b[0m\u001b[1m \u001b[0m┃\u001b[1m \u001b[0m\u001b[1m       Param #\u001b[0m\u001b[1m \u001b[0m┃\u001b[1m \u001b[0m\u001b[1mConnected to          \u001b[0m\u001b[1m \u001b[0m┃\n",
              "┡━━━━━━━━━━━━━━━━━━━━━━━━━━━╇━━━━━━━━━━━━━━━━━━━━━━━━╇━━━━━━━━━━━━━━━━╇━━━━━━━━━━━━━━━━━━━━━━━━┩\n",
              "│ input_layer_1             │ (\u001b[38;5;45mNone\u001b[0m, \u001b[38;5;45mNone\u001b[0m)           │              \u001b[38;5;34m0\u001b[0m │ -                      │\n",
              "│ (\u001b[38;5;33mInputLayer\u001b[0m)              │                        │                │                        │\n",
              "├───────────────────────────┼────────────────────────┼────────────────┼────────────────────────┤\n",
              "│ embedding_1 (\u001b[38;5;33mEmbedding\u001b[0m)   │ (\u001b[38;5;45mNone\u001b[0m, \u001b[38;5;45mNone\u001b[0m, \u001b[38;5;34m64\u001b[0m)       │        \u001b[38;5;34m544,832\u001b[0m │ input_layer_1[\u001b[38;5;34m0\u001b[0m][\u001b[38;5;34m0\u001b[0m]    │\n",
              "├───────────────────────────┼────────────────────────┼────────────────┼────────────────────────┤\n",
              "│ input_layer_2             │ (\u001b[38;5;45mNone\u001b[0m, \u001b[38;5;34m64\u001b[0m)             │              \u001b[38;5;34m0\u001b[0m │ -                      │\n",
              "│ (\u001b[38;5;33mInputLayer\u001b[0m)              │                        │                │                        │\n",
              "├───────────────────────────┼────────────────────────┼────────────────┼────────────────────────┤\n",
              "│ input_layer_3             │ (\u001b[38;5;45mNone\u001b[0m, \u001b[38;5;34m64\u001b[0m)             │              \u001b[38;5;34m0\u001b[0m │ -                      │\n",
              "│ (\u001b[38;5;33mInputLayer\u001b[0m)              │                        │                │                        │\n",
              "├───────────────────────────┼────────────────────────┼────────────────┼────────────────────────┤\n",
              "│ lstm_1 (\u001b[38;5;33mLSTM\u001b[0m)             │ [(\u001b[38;5;45mNone\u001b[0m, \u001b[38;5;45mNone\u001b[0m, \u001b[38;5;34m64\u001b[0m),     │         \u001b[38;5;34m33,024\u001b[0m │ embedding_1[\u001b[38;5;34m1\u001b[0m][\u001b[38;5;34m0\u001b[0m],     │\n",
              "│                           │ (\u001b[38;5;45mNone\u001b[0m, \u001b[38;5;34m64\u001b[0m), (\u001b[38;5;45mNone\u001b[0m,     │                │ input_layer_2[\u001b[38;5;34m0\u001b[0m][\u001b[38;5;34m0\u001b[0m],   │\n",
              "│                           │ \u001b[38;5;34m64\u001b[0m)]                   │                │ input_layer_3[\u001b[38;5;34m0\u001b[0m][\u001b[38;5;34m0\u001b[0m]    │\n",
              "├───────────────────────────┼────────────────────────┼────────────────┼────────────────────────┤\n",
              "│ dense (\u001b[38;5;33mDense\u001b[0m)             │ (\u001b[38;5;45mNone\u001b[0m, \u001b[38;5;45mNone\u001b[0m, \u001b[38;5;34m8513\u001b[0m)     │        \u001b[38;5;34m553,345\u001b[0m │ lstm_1[\u001b[38;5;34m1\u001b[0m][\u001b[38;5;34m0\u001b[0m]           │\n",
              "└───────────────────────────┴────────────────────────┴────────────────┴────────────────────────┘\n"
            ],
            "text/html": [
              "<pre style=\"white-space:pre;overflow-x:auto;line-height:normal;font-family:Menlo,'DejaVu Sans Mono',consolas,'Courier New',monospace\">┏━━━━━━━━━━━━━━━━━━━━━━━━━━━┳━━━━━━━━━━━━━━━━━━━━━━━━┳━━━━━━━━━━━━━━━━┳━━━━━━━━━━━━━━━━━━━━━━━━┓\n",
              "┃<span style=\"font-weight: bold\"> Layer (type)              </span>┃<span style=\"font-weight: bold\"> Output Shape           </span>┃<span style=\"font-weight: bold\">        Param # </span>┃<span style=\"font-weight: bold\"> Connected to           </span>┃\n",
              "┡━━━━━━━━━━━━━━━━━━━━━━━━━━━╇━━━━━━━━━━━━━━━━━━━━━━━━╇━━━━━━━━━━━━━━━━╇━━━━━━━━━━━━━━━━━━━━━━━━┩\n",
              "│ input_layer_1             │ (<span style=\"color: #00d7ff; text-decoration-color: #00d7ff\">None</span>, <span style=\"color: #00d7ff; text-decoration-color: #00d7ff\">None</span>)           │              <span style=\"color: #00af00; text-decoration-color: #00af00\">0</span> │ -                      │\n",
              "│ (<span style=\"color: #0087ff; text-decoration-color: #0087ff\">InputLayer</span>)              │                        │                │                        │\n",
              "├───────────────────────────┼────────────────────────┼────────────────┼────────────────────────┤\n",
              "│ embedding_1 (<span style=\"color: #0087ff; text-decoration-color: #0087ff\">Embedding</span>)   │ (<span style=\"color: #00d7ff; text-decoration-color: #00d7ff\">None</span>, <span style=\"color: #00d7ff; text-decoration-color: #00d7ff\">None</span>, <span style=\"color: #00af00; text-decoration-color: #00af00\">64</span>)       │        <span style=\"color: #00af00; text-decoration-color: #00af00\">544,832</span> │ input_layer_1[<span style=\"color: #00af00; text-decoration-color: #00af00\">0</span>][<span style=\"color: #00af00; text-decoration-color: #00af00\">0</span>]    │\n",
              "├───────────────────────────┼────────────────────────┼────────────────┼────────────────────────┤\n",
              "│ input_layer_2             │ (<span style=\"color: #00d7ff; text-decoration-color: #00d7ff\">None</span>, <span style=\"color: #00af00; text-decoration-color: #00af00\">64</span>)             │              <span style=\"color: #00af00; text-decoration-color: #00af00\">0</span> │ -                      │\n",
              "│ (<span style=\"color: #0087ff; text-decoration-color: #0087ff\">InputLayer</span>)              │                        │                │                        │\n",
              "├───────────────────────────┼────────────────────────┼────────────────┼────────────────────────┤\n",
              "│ input_layer_3             │ (<span style=\"color: #00d7ff; text-decoration-color: #00d7ff\">None</span>, <span style=\"color: #00af00; text-decoration-color: #00af00\">64</span>)             │              <span style=\"color: #00af00; text-decoration-color: #00af00\">0</span> │ -                      │\n",
              "│ (<span style=\"color: #0087ff; text-decoration-color: #0087ff\">InputLayer</span>)              │                        │                │                        │\n",
              "├───────────────────────────┼────────────────────────┼────────────────┼────────────────────────┤\n",
              "│ lstm_1 (<span style=\"color: #0087ff; text-decoration-color: #0087ff\">LSTM</span>)             │ [(<span style=\"color: #00d7ff; text-decoration-color: #00d7ff\">None</span>, <span style=\"color: #00d7ff; text-decoration-color: #00d7ff\">None</span>, <span style=\"color: #00af00; text-decoration-color: #00af00\">64</span>),     │         <span style=\"color: #00af00; text-decoration-color: #00af00\">33,024</span> │ embedding_1[<span style=\"color: #00af00; text-decoration-color: #00af00\">1</span>][<span style=\"color: #00af00; text-decoration-color: #00af00\">0</span>],     │\n",
              "│                           │ (<span style=\"color: #00d7ff; text-decoration-color: #00d7ff\">None</span>, <span style=\"color: #00af00; text-decoration-color: #00af00\">64</span>), (<span style=\"color: #00d7ff; text-decoration-color: #00d7ff\">None</span>,     │                │ input_layer_2[<span style=\"color: #00af00; text-decoration-color: #00af00\">0</span>][<span style=\"color: #00af00; text-decoration-color: #00af00\">0</span>],   │\n",
              "│                           │ <span style=\"color: #00af00; text-decoration-color: #00af00\">64</span>)]                   │                │ input_layer_3[<span style=\"color: #00af00; text-decoration-color: #00af00\">0</span>][<span style=\"color: #00af00; text-decoration-color: #00af00\">0</span>]    │\n",
              "├───────────────────────────┼────────────────────────┼────────────────┼────────────────────────┤\n",
              "│ dense (<span style=\"color: #0087ff; text-decoration-color: #0087ff\">Dense</span>)             │ (<span style=\"color: #00d7ff; text-decoration-color: #00d7ff\">None</span>, <span style=\"color: #00d7ff; text-decoration-color: #00d7ff\">None</span>, <span style=\"color: #00af00; text-decoration-color: #00af00\">8513</span>)     │        <span style=\"color: #00af00; text-decoration-color: #00af00\">553,345</span> │ lstm_1[<span style=\"color: #00af00; text-decoration-color: #00af00\">1</span>][<span style=\"color: #00af00; text-decoration-color: #00af00\">0</span>]           │\n",
              "└───────────────────────────┴────────────────────────┴────────────────┴────────────────────────┘\n",
              "</pre>\n"
            ]
          },
          "metadata": {}
        },
        {
          "output_type": "display_data",
          "data": {
            "text/plain": [
              "\u001b[1m Total params: \u001b[0m\u001b[38;5;34m1,131,201\u001b[0m (4.32 MB)\n"
            ],
            "text/html": [
              "<pre style=\"white-space:pre;overflow-x:auto;line-height:normal;font-family:Menlo,'DejaVu Sans Mono',consolas,'Courier New',monospace\"><span style=\"font-weight: bold\"> Total params: </span><span style=\"color: #00af00; text-decoration-color: #00af00\">1,131,201</span> (4.32 MB)\n",
              "</pre>\n"
            ]
          },
          "metadata": {}
        },
        {
          "output_type": "display_data",
          "data": {
            "text/plain": [
              "\u001b[1m Trainable params: \u001b[0m\u001b[38;5;34m1,131,201\u001b[0m (4.32 MB)\n"
            ],
            "text/html": [
              "<pre style=\"white-space:pre;overflow-x:auto;line-height:normal;font-family:Menlo,'DejaVu Sans Mono',consolas,'Courier New',monospace\"><span style=\"font-weight: bold\"> Trainable params: </span><span style=\"color: #00af00; text-decoration-color: #00af00\">1,131,201</span> (4.32 MB)\n",
              "</pre>\n"
            ]
          },
          "metadata": {}
        },
        {
          "output_type": "display_data",
          "data": {
            "text/plain": [
              "\u001b[1m Non-trainable params: \u001b[0m\u001b[38;5;34m0\u001b[0m (0.00 B)\n"
            ],
            "text/html": [
              "<pre style=\"white-space:pre;overflow-x:auto;line-height:normal;font-family:Menlo,'DejaVu Sans Mono',consolas,'Courier New',monospace\"><span style=\"font-weight: bold\"> Non-trainable params: </span><span style=\"color: #00af00; text-decoration-color: #00af00\">0</span> (0.00 B)\n",
              "</pre>\n"
            ]
          },
          "metadata": {}
        }
      ],
      "source": [
        "decoder_model.summary()"
      ]
    },
    {
      "cell_type": "markdown",
      "metadata": {
        "id": "cwU3keVm74sU"
      },
      "source": [
        "테스트 단계에서의 동작을 위한 decode_sequence 함수를 구현합니다. 입력 문장이 들어오면 인코더는 마지막 시점까지 전개하여 마지막 시점의 은닉 상태와 셀 상태를 리턴합니다. 이 두 개의 값을 states_value에 저장합니다. 그리고 디코더의 초기 입력으로 <SOS>를 준비합니다. 이를 target_seq에 저장합니다. 이 두 가지 입력을 가지고 while문 안으로 진입하여 이 두 가지를 디코더의 입력으로 사용합니다. 이제 디코더는 현재 시점에 대해서 예측을 하게 되는데, 현재 시점의 예측 벡터가 output_tokens, 현재 시점의 은닉 상태가 h, 현재 시점의 셀 상태가 c입니다. 예측 벡터로부터 현재 시점의 예측 단어인 target_seq를 얻고, h와 c 이 두 개의 값은 states_value에 저장합니다. 그리고 while문의 다음 루프. 즉, 두번째 시점의 디코더의 입력으로 다시 target_seq와 states_value를 사용합니다. 이를 현재 시점의 예측 단어로 <eos>를 예측하거나 번역 문장의 길이가 50이 넘는 순간까지 반복합니다. 각 시점마다 번역된 다어는 decoded_sentence에 누적하여 저장하였다가 최종 번역 시퀀스로 리턴합니다."
      ]
    },
    {
      "cell_type": "code",
      "execution_count": null,
      "metadata": {
        "id": "ga64fRPtKDZr"
      },
      "outputs": [],
      "source": [
        "def decode_sequence(input_seq):\n",
        "    # 입력으로부터 인코더의 상태를 얻음\n",
        "    states_value = encoder_model.predict(input_seq, verbose=0)\n",
        "\n",
        "    # <SOS>에 해당하는 정수 생성 (시작토큰 <sos>를 입력으로 준비)\n",
        "    target_seq = np.zeros((1,1))\n",
        "    target_seq[0, 0] = tar_to_index['<sos>']\n",
        "\n",
        "    stop_condition = False\n",
        "    decoded_sentence = ''\n",
        "\n",
        "    # stop_condition이 True가 될 때까지 루프 반복\n",
        "    # 구현의 간소화를 위해서 이 함수는 배치 크기를 1로 가정합니다.\n",
        "    while not stop_condition:\n",
        "        # 이점 시점의 상태 states_value를 현 시점의 초기 상태로 사용\n",
        "        output_tokens, h, c = decoder_model.predict([target_seq] + states_value, verbose=0)\n",
        "\n",
        "        # 예측 결과를 단어로 변환\n",
        "        print(output_tokens.shape, output_tokens)\n",
        "        sampled_token_index = np.argmax(output_tokens[0, -1, :])   # 가장 확률이 높은 단어의 인덱스\n",
        "        sampled_char = index_to_tar[sampled_token_index]\n",
        "\n",
        "        # 현재 시점의 예측 단어를 예측 문장에 추가\n",
        "        decoded_sentence += ' '+sampled_char\n",
        "\n",
        "        # <eos>에 도달하거나 정해진 길이를 넘으면 중단.\n",
        "        if (sampled_char == '<eos>' or\n",
        "            len(decoded_sentence) > 50):\n",
        "            stop_condition = True\n",
        "\n",
        "        # 현재 시점의 예측 결과를 다음 시점의 입력으로 사용하기 위해 저장\n",
        "        target_seq = np.zeros((1,1))\n",
        "        target_seq[0, 0] = sampled_token_index\n",
        "\n",
        "        # 현재 시점의 상태를 다음 시점의 상태로 사용하기 위해 저장\n",
        "        states_value = [h, c]\n",
        "\n",
        "    return decoded_sentence"
      ]
    },
    {
      "cell_type": "markdown",
      "metadata": {
        "id": "QoQ2VDGk74sV"
      },
      "source": [
        "결과 확인을 위한 함수를 만듭니다. seq_to_src 함수는 영어 문장에 해당하는 정수 시퀀스를 입력받으면 정수로부터 영어 단어를 리턴하는 index_to_src를 통해 영어 문장으로 변환합니다. seq_to_tar은 프랑스어에 해당하는 정수 시퀀스를 입력받으면 정수로부터 프랑스어 단어를 리턴하는 index_to_tar을 통해 프랑스어 문장으로 변환합니다."
      ]
    },
    {
      "cell_type": "code",
      "execution_count": null,
      "metadata": {
        "id": "WJTnaYOfKEdz"
      },
      "outputs": [],
      "source": [
        "# 원문의 정수 시퀀스를 텍스트 시퀀스로 변환\n",
        "def seq_to_src(input_seq):\n",
        "    sentence = ''\n",
        "    for encoded_word in input_seq:\n",
        "        if encoded_word != 0:\n",
        "            sentence = sentence + index_to_src[encoded_word] + ' '\n",
        "    return sentence"
      ]
    },
    {
      "cell_type": "code",
      "execution_count": null,
      "metadata": {
        "id": "KhSTb1fY74sV"
      },
      "outputs": [],
      "source": [
        "# 번역문의 정수 시퀀스를 텍스트 시퀀스로 변환\n",
        "def seq_to_tar(input_seq):\n",
        "    sentence = ''\n",
        "    for encoded_word in input_seq:\n",
        "        if(encoded_word!=0 and encoded_word!=tar_to_index['<sos>'] and encoded_word!=tar_to_index['<eos>']):\n",
        "            sentence = sentence + index_to_tar[encoded_word] + ' '\n",
        "    return sentence"
      ]
    },
    {
      "cell_type": "markdown",
      "metadata": {
        "id": "x1WKOLvR74sV"
      },
      "source": [
        "훈련 데이터에 대해서 임의로 선택한 인덱스의 샘플의 결과를 출력해봅시다."
      ]
    },
    {
      "cell_type": "code",
      "execution_count": null,
      "metadata": {
        "colab": {
          "base_uri": "https://localhost:8080/"
        },
        "id": "M1LBy-nMKFNr",
        "outputId": "db25e0b2-8ccd-4606-fd77-1449b513e32d"
      },
      "outputs": [
        {
          "output_type": "stream",
          "name": "stdout",
          "text": [
            "[array([[ 0.99685067,  0.9811259 ,  0.94200927, -0.03379567, -0.72628164,\n",
            "        -0.50984395,  0.22294469, -0.90463257,  0.6283967 ,  0.89127755,\n",
            "        -0.12029229, -0.9673277 ,  0.83897644, -0.77109325, -0.7052424 ,\n",
            "         0.05329338, -0.84666425,  0.00732911,  0.10647842,  0.66519547,\n",
            "         0.06504715,  0.9058435 , -0.86640656,  0.90699095,  0.03725362,\n",
            "        -0.86476195, -0.20301175,  0.22108227,  0.3725791 , -0.9074348 ,\n",
            "         0.37654868,  0.9458345 ,  0.60852104,  0.740507  ,  0.39484388,\n",
            "        -0.86714566, -0.20168722, -0.1282804 ,  0.95661217, -0.8718982 ,\n",
            "        -0.7108505 ,  0.99354076,  0.22789317,  0.97628015, -0.03810983,\n",
            "         0.7290282 ,  0.34348747, -0.6306304 ,  0.586664  ,  0.5655805 ,\n",
            "         0.1907765 , -0.9391127 , -0.8354502 , -0.1669585 ,  0.98332334,\n",
            "         0.30248016,  0.99127257, -0.8406708 ,  0.85060465, -0.47478193,\n",
            "         0.7115866 , -0.59354055,  0.5455029 ,  0.15416968]],\n",
            "      dtype=float32), array([[ 4.3081512 ,  2.4865296 ,  3.0534675 , -2.2310019 , -4.463973  ,\n",
            "        -0.56269026,  0.2797915 , -3.0403156 ,  2.564168  ,  1.4897971 ,\n",
            "        -2.342681  , -3.736727  ,  1.2338392 , -4.231697  , -0.8808305 ,\n",
            "         1.264561  , -3.2404952 ,  0.00863711,  3.6957028 ,  1.025596  ,\n",
            "         0.12946041,  2.0889864 , -1.9619652 ,  1.6289747 ,  2.641937  ,\n",
            "        -2.2328346 , -4.820791  ,  1.8849089 ,  5.425828  , -3.8292227 ,\n",
            "         0.49871978,  2.883185  ,  3.0523183 ,  0.9648974 ,  0.60473484,\n",
            "        -1.7298149 , -1.913711  , -0.13000152,  3.555488  , -1.3481936 ,\n",
            "        -0.91104853,  4.1009636 ,  2.656115  ,  3.1407487 , -0.05546482,\n",
            "         1.6546679 ,  4.16484   , -2.3806784 ,  0.973523  ,  1.036246  ,\n",
            "         3.4812865 , -1.7872162 , -1.224598  , -0.17287275,  3.3925955 ,\n",
            "         0.31466606,  2.813325  , -1.4135967 ,  1.4212954 , -2.9227474 ,\n",
            "         2.005404  , -6.489582  ,  5.942605  ,  0.1600158 ]],\n",
            "      dtype=float32)]\n",
            "(1, 1, 8513) [[[5.7806187e-08 2.1735231e-09 5.7064891e-11 ... 9.7500768e-15\n",
            "   1.0936411e-10 2.6075743e-14]]]\n",
            "(1, 1, 8513) [[[2.6720148e-08 6.3438081e-09 1.4880833e-11 ... 1.4095754e-13\n",
            "   2.8238410e-12 3.3258691e-09]]]\n",
            "(1, 1, 8513) [[[6.5054132e-07 2.7907072e-06 4.5626711e-10 ... 1.5233951e-12\n",
            "   1.0628365e-11 7.5341795e-09]]]\n",
            "(1, 1, 8513) [[[7.5856178e-07 4.6505866e-07 2.4842126e-10 ... 3.1831659e-11\n",
            "   2.2908250e-11 1.0731206e-04]]]\n",
            "(1, 1, 8513) [[[7.76390038e-07 1.68086132e-08 3.61161850e-10 ... 4.22024241e-05\n",
            "   1.22646036e-08 1.75667925e-08]]]\n",
            "(1, 1, 8513) [[[8.1187073e-07 1.4908491e-05 3.0880046e-10 ... 2.4588117e-06\n",
            "   9.9629407e-09 3.7738070e-07]]]\n",
            "(1, 1, 8513) [[[5.6597131e-08 9.9911708e-01 2.4326663e-12 ... 5.5163101e-13\n",
            "   1.4257121e-11 1.6406207e-12]]]\n",
            "(1, 1, 8513) [[[1.2560255e-08 4.0325369e-07 1.3786735e-13 ... 1.4579570e-16\n",
            "   3.2015543e-12 7.0921450e-15]]]\n",
            "입력문장 : there is no doubt . \n",
            "정답문장 : il n y a aucun doute . \n",
            "[[  58    7   35 1064    1    0    0    0]]\n",
            "번역문장 : il n y a aucun doute . \n",
            "--------------------------------------------------\n",
            "[array([[ 0.9987599 ,  0.46598452, -0.93339527, -0.34250817, -0.17099077,\n",
            "         0.9899094 , -0.66627324, -0.98244303, -0.38797697,  0.9563775 ,\n",
            "         0.04625615, -0.992672  , -0.7881436 , -0.7986701 , -0.9776557 ,\n",
            "         0.22830057, -0.9680606 ,  0.9030067 ,  0.01008543, -0.9633611 ,\n",
            "         0.55773586,  0.77431756,  0.9937896 ,  0.9634365 ,  0.02251053,\n",
            "        -0.9124324 , -0.04116193,  0.35770556,  0.1323269 , -0.9947573 ,\n",
            "        -0.9191474 ,  0.74020916,  0.55602133,  0.44277534,  0.5335934 ,\n",
            "         0.94999444,  0.31744555,  0.20562176, -0.79983157, -0.99450636,\n",
            "         0.7463111 ,  0.99419266,  0.39583975,  0.6815604 , -0.24906896,\n",
            "         0.90712166,  0.27291515, -0.30612832, -0.9765832 ,  0.33392903,\n",
            "         0.08007867, -0.901314  , -0.99139106,  0.321397  ,  0.9961664 ,\n",
            "        -0.8417385 ,  0.9893661 , -0.3177411 ,  0.9960274 , -0.3964602 ,\n",
            "         0.6638092 , -0.6867521 ,  0.3297065 , -0.00448104]],\n",
            "      dtype=float32), array([[ 4.7622867e+00,  5.0538367e-01, -1.9923182e+00, -2.5391920e+00,\n",
            "        -3.4592330e-01,  2.6555393e+00, -3.4792593e+00, -2.6583185e+00,\n",
            "        -1.3994153e+00,  2.2708623e+00,  3.5753241e+00, -4.4005098e+00,\n",
            "        -1.0740319e+00, -1.1554269e+00, -2.7071633e+00,  2.9394791e+00,\n",
            "        -2.6673737e+00,  1.8534679e+00,  3.5274699e+00, -3.8544376e+00,\n",
            "         1.9965093e+00,  4.2454267e+00,  3.3068442e+00,  2.7535472e+00,\n",
            "         4.4213891e+00, -3.2427790e+00, -5.9952269e+00,  2.2261186e+00,\n",
            "         1.6522354e+00, -3.3707993e+00, -1.9419581e+00,  4.9582720e+00,\n",
            "         1.5206207e+00,  4.8067620e-01,  1.1163163e+00,  2.1892231e+00,\n",
            "         3.4154789e+00,  2.0903498e-01, -1.1210128e+00, -3.5360658e+00,\n",
            "         9.8401952e-01,  5.4396443e+00,  4.2394643e+00,  3.1777117e+00,\n",
            "        -2.6378834e-01,  3.6513226e+00,  5.3735046e+00, -5.6634922e+00,\n",
            "        -2.3850956e+00,  4.3145680e+00,  3.8167078e+00, -2.0032408e+00,\n",
            "        -2.7986300e+00,  4.0804410e-01,  3.1575708e+00, -1.2349908e+00,\n",
            "         2.6653352e+00, -3.2985485e-01,  3.9858365e+00, -2.9591672e+00,\n",
            "         8.4667027e-01, -6.9436855e+00,  4.2220669e+00, -4.5263143e-03]],\n",
            "      dtype=float32)]\n",
            "(1, 1, 8513) [[[3.4160131e-08 1.8859427e-13 4.2880792e-13 ... 1.2872729e-15\n",
            "   4.3652564e-12 4.9272452e-16]]]\n",
            "(1, 1, 8513) [[[1.7840676e-07 2.3828514e-11 1.0599969e-11 ... 4.9668050e-13\n",
            "   4.5687195e-13 1.8336164e-09]]]\n",
            "(1, 1, 8513) [[[3.0446417e-06 1.5006201e-11 2.0351203e-10 ... 2.5828786e-07\n",
            "   3.6184433e-10 3.3246135e-11]]]\n",
            "(1, 1, 8513) [[[2.3514211e-08 2.9200040e-10 1.2740619e-11 ... 5.6082736e-11\n",
            "   1.8022009e-10 3.3279990e-15]]]\n",
            "(1, 1, 8513) [[[7.8527654e-07 1.1270618e-05 1.4430490e-08 ... 1.2235725e-07\n",
            "   7.9760589e-08 6.1399692e-07]]]\n",
            "(1, 1, 8513) [[[6.0939760e-07 9.8632705e-01 1.6476825e-09 ... 5.9215138e-13\n",
            "   2.6325738e-08 1.9417989e-10]]]\n",
            "(1, 1, 8513) [[[2.6652586e-08 3.5222943e-06 7.7707952e-13 ... 3.5871186e-16\n",
            "   1.0416345e-11 8.7094782e-15]]]\n",
            "입력문장 : tom ate my lunch . \n",
            "정답문장 : tom mangea mon déjeuner . \n",
            "[[  5 324  26 409   1   0   0   0]]\n",
            "번역문장 : tom a fait mon idée . \n",
            "--------------------------------------------------\n",
            "[array([[ 0.9041401 , -0.98893887,  0.7585945 , -0.04184347,  0.22861812,\n",
            "         0.9688315 ,  0.9354738 , -0.6847691 ,  0.5660164 ,  0.1875614 ,\n",
            "        -0.00229683, -0.8129958 ,  0.9786294 , -0.94651926,  0.24548519,\n",
            "         0.03879676,  0.7651839 ,  0.69534844,  0.11034685, -0.91449803,\n",
            "         0.07589422,  0.9445456 ,  0.41205326,  0.9789796 ,  0.02524732,\n",
            "         0.9026261 , -0.2623958 ,  0.49391085,  0.11535291, -0.9916485 ,\n",
            "        -0.85841227,  0.88092166,  0.04263058, -0.82170916,  0.5888328 ,\n",
            "        -0.6469888 ,  0.6879345 ,  0.9199345 , -0.10011382, -0.35432112,\n",
            "        -0.01921424,  0.98884124,  0.14713824,  0.24927692, -0.8721185 ,\n",
            "         0.8073344 ,  0.01632049, -0.8536516 , -0.9929655 ,  0.0680092 ,\n",
            "         0.03873798, -0.85626   , -0.84620965,  0.81232834,  0.52216226,\n",
            "         0.97005415, -0.97490823,  0.95368177, -0.9374757 , -0.8858156 ,\n",
            "         0.8997202 , -0.9712122 ,  0.75334054,  0.01176226]],\n",
            "      dtype=float32), array([[ 2.5830162 , -2.91905   ,  2.8982332 , -1.9463505 ,  3.4978616 ,\n",
            "         2.4111817 ,  2.7150805 , -3.338491  ,  2.8621671 ,  0.19919336,\n",
            "        -1.2308025 , -1.1448728 ,  2.3673563 , -4.953031  ,  0.28498897,\n",
            "         2.4392958 ,  1.066743  ,  3.4889047 ,  4.9241996 , -1.9997177 ,\n",
            "         1.9958211 ,  2.9277468 ,  0.45648882,  2.7476294 ,  3.7877297 ,\n",
            "         1.7891036 , -4.798011  ,  1.2365865 ,  5.386377  , -3.2617865 ,\n",
            "        -1.9113723 ,  3.81139   ,  0.04631491, -1.191407  ,  3.5034506 ,\n",
            "        -0.7833954 ,  5.5570865 ,  1.6156745 , -0.10081574, -0.37517336,\n",
            "        -0.01941784,  3.454616  ,  4.3736753 ,  2.7899804 , -2.1919327 ,\n",
            "         1.252063  ,  5.708939  , -2.2189295 , -3.0034654 ,  6.053217  ,\n",
            "         2.9403646 , -1.2959765 , -1.4366765 ,  1.9635288 ,  0.589194  ,\n",
            "         3.2965631 , -2.2217536 ,  2.436993  , -1.808775  , -3.297856  ,\n",
            "         2.3565304 , -6.435434  ,  3.1653776 ,  0.01197308]],\n",
            "      dtype=float32)]\n",
            "(1, 1, 8513) [[[1.00254454e-07 1.09155962e-10 1.64218795e-11 ... 9.27413595e-17\n",
            "   1.84579817e-11 1.03357427e-10]]]\n",
            "(1, 1, 8513) [[[8.71500649e-09 1.56437143e-14 1.72775303e-12 ... 1.25392643e-13\n",
            "   1.02825755e-10 1.55944257e-12]]]\n",
            "(1, 1, 8513) [[[1.8467842e-06 1.3061764e-09 1.4934055e-09 ... 1.8472561e-10\n",
            "   2.6832045e-09 6.5101999e-09]]]\n",
            "(1, 1, 8513) [[[4.2072729e-06 1.4405570e-03 2.1280465e-10 ... 2.6509992e-14\n",
            "   9.4365649e-10 5.6416666e-11]]]\n",
            "(1, 1, 8513) [[[5.2611298e-09 1.9764801e-08 1.8456433e-13 ... 3.3993525e-18\n",
            "   1.1550495e-12 7.1652713e-14]]]\n",
            "입력문장 : are you a student ? \n",
            "정답문장 : es tu étudiant ? \n",
            "[[ 21   3   9 565   4   0   0   0]]\n",
            "번역문장 : es tu étudiant ? \n",
            "--------------------------------------------------\n",
            "[array([[ 8.7209249e-01, -9.2836463e-01,  8.2542551e-01, -1.2575983e-02,\n",
            "         9.8474175e-02,  9.4298828e-01,  9.8563415e-01, -5.3076041e-01,\n",
            "        -9.0311813e-01,  8.4974802e-01, -3.5845747e-04, -8.7526965e-01,\n",
            "         7.0783019e-01, -1.8427737e-01, -1.5874578e-01,  2.8122235e-03,\n",
            "         3.3061704e-01,  1.1258126e-01,  7.9295464e-02,  8.4183323e-01,\n",
            "         5.3831756e-02,  9.1004950e-01,  9.1593921e-01, -2.9303157e-01,\n",
            "         3.4755897e-02, -4.1279280e-01, -2.5300825e-01,  4.1730918e-02,\n",
            "         1.9664034e-02, -6.8165928e-01,  3.3310246e-01,  6.8856645e-01,\n",
            "         8.4421271e-01, -9.5186663e-01,  2.3734091e-01,  9.3330979e-01,\n",
            "         4.5611757e-01,  4.5878878e-01,  7.9174906e-01,  5.2287251e-01,\n",
            "         9.4367951e-01,  9.8170233e-01,  5.5746469e-03,  3.7375146e-01,\n",
            "        -1.6157649e-01,  9.7372478e-01,  6.2777488e-03, -7.5111568e-01,\n",
            "        -9.8794007e-01,  5.7943875e-04,  3.5576914e-02, -9.5933086e-01,\n",
            "        -9.9314600e-01,  6.6856647e-01, -9.6290225e-01,  9.5223427e-01,\n",
            "        -9.8856783e-01,  9.7119397e-01,  9.8198128e-01, -8.5937059e-01,\n",
            "         1.8111075e-01, -8.5746264e-01,  3.4795403e-01,  8.0358660e-01]],\n",
            "      dtype=float32), array([[ 1.4685532 , -1.8572819 ,  2.7558968 , -0.6062819 ,  3.8885596 ,\n",
            "         1.9712657 ,  2.6418216 , -1.9368322 , -2.8793166 ,  3.4861143 ,\n",
            "        -1.1938661 , -1.3759261 ,  0.8850893 , -0.23685592, -0.17346074,\n",
            "         2.5150673 ,  0.44896993,  1.7318363 ,  5.6885443 ,  2.1964433 ,\n",
            "         2.7841527 ,  3.559148  ,  2.8689444 , -0.31391433,  4.576547  ,\n",
            "        -2.2582226 , -7.360132  ,  4.016822  ,  6.176887  , -0.84423846,\n",
            "         0.36788064,  3.8149703 ,  2.4624598 , -2.054086  ,  3.1260269 ,\n",
            "         2.9581556 ,  3.6000063 ,  1.3220001 ,  2.1151397 ,  0.97023934,\n",
            "         1.8843374 ,  4.449007  ,  2.2564306 ,  0.6209143 , -1.1525403 ,\n",
            "         4.1662364 ,  5.711327  , -2.1949787 , -4.2009573 ,  5.6583667 ,\n",
            "         3.4008238 , -2.043349  , -3.667261  ,  2.4766378 , -2.1061435 ,\n",
            "         2.872406  , -3.3372166 ,  5.262653  ,  3.8291194 , -4.4788756 ,\n",
            "         0.23388278, -7.1102424 ,  4.7205276 ,  1.407443  ]],\n",
            "      dtype=float32)]\n",
            "(1, 1, 8513) [[[1.0171339e-06 1.0684521e-11 1.2291959e-09 ... 4.7502201e-14\n",
            "   1.2757855e-07 1.2061793e-10]]]\n",
            "(1, 1, 8513) [[[9.62668256e-09 9.65563960e-14 6.61623913e-13 ... 1.13066855e-17\n",
            "   3.00667907e-10 4.30602031e-15]]]\n",
            "(1, 1, 8513) [[[3.1323381e-08 2.5521050e-09 8.1171105e-11 ... 6.5266152e-14\n",
            "   8.9183123e-09 3.5886788e-10]]]\n",
            "(1, 1, 8513) [[[4.4841173e-08 5.1737644e-08 8.4845397e-10 ... 7.3866108e-10\n",
            "   2.6675914e-07 1.0356087e-10]]]\n",
            "(1, 1, 8513) [[[6.01990848e-08 1.00848786e-06 1.97182679e-08 ... 2.91887673e-12\n",
            "   1.09113806e-07 2.72094651e-12]]]\n",
            "(1, 1, 8513) [[[2.8638505e-08 4.0922718e-05 1.9108365e-10 ... 8.0404491e-16\n",
            "   2.9972493e-09 4.1581802e-10]]]\n",
            "(1, 1, 8513) [[[1.11402025e-08 4.29300862e-08 6.61923641e-13 ... 3.23094100e-16\n",
            "   4.88117749e-12 2.31044288e-15]]]\n",
            "입력문장 : can you afford it ? \n",
            "정답문장 : peux tu te le payer ? \n",
            "[[  25    3 1121    6    4    0    0    0]]\n",
            "번역문장 : peux tu le massage cardiaque ? \n",
            "--------------------------------------------------\n",
            "[array([[ 0.9961346 ,  0.99358785, -0.9594094 ,  0.06988439, -0.7854638 ,\n",
            "         0.9934915 , -0.33232284, -0.99337745,  0.9074326 ,  0.94179827,\n",
            "        -0.12392365, -0.9894377 ,  0.644709  , -0.7726375 , -0.38563514,\n",
            "         0.11840796, -0.96274596,  0.873512  ,  0.03089898,  0.8219174 ,\n",
            "         0.5190966 ,  0.67565054, -0.97213393,  0.88631326,  0.0608442 ,\n",
            "        -0.7330183 , -0.0130749 ,  0.23139054,  0.22068898, -0.64249253,\n",
            "         0.51008564,  0.9253752 ,  0.10695209, -0.93011343,  0.49770224,\n",
            "         0.67111224,  0.6557427 ,  0.7065508 ,  0.63018   , -0.9795568 ,\n",
            "         0.46204683,  0.9929682 ,  0.24817695,  0.9828208 , -0.40431854,\n",
            "         0.6860238 ,  0.5578469 , -0.11198891,  0.9021361 ,  0.327283  ,\n",
            "         0.06090019,  0.90663356, -0.9975664 ,  0.5327513 ,  0.9975438 ,\n",
            "         0.6689543 ,  0.9981899 , -0.9540732 ,  0.97726905, -0.4529087 ,\n",
            "         0.91137487, -0.81467944,  0.1910865 ,  0.07014507]],\n",
            "      dtype=float32), array([[ 6.733517  ,  2.9119704 , -2.0726306 ,  0.23385432, -3.5260642 ,\n",
            "         2.8839471 , -4.0811157 , -4.7077255 ,  3.257808  ,  1.9089038 ,\n",
            "        -3.1208937 , -3.3250642 ,  0.7842395 , -5.722356  , -0.40728822,\n",
            "         2.5236998 , -2.5697412 ,  1.9816616 ,  4.2101727 ,  1.5604411 ,\n",
            "         2.1872745 ,  3.7439137 , -2.3680887 ,  2.329069  ,  4.8255916 ,\n",
            "        -0.9567728 , -5.0922546 ,  0.86967397,  3.5881433 , -0.77113   ,\n",
            "         0.5893224 ,  3.7665849 ,  0.31683537, -1.6768854 ,  1.5433508 ,\n",
            "         0.8596107 ,  2.88827   ,  0.8859227 ,  0.75169057, -2.4238057 ,\n",
            "         0.5028728 ,  4.6377206 ,  4.3389544 ,  3.133018  , -0.46951848,\n",
            "         4.6736045 ,  6.15832   , -5.0440035 ,  3.050389  ,  0.61524904,\n",
            "         3.6107097 ,  2.7577822 , -3.5733466 ,  0.9060057 ,  5.9751763 ,\n",
            "         0.8150674 ,  3.9303632 , -2.1616774 ,  2.6229806 , -3.5373461 ,\n",
            "         2.5385864 , -7.3706207 ,  5.5494885 ,  0.07078507]],\n",
            "      dtype=float32)]\n",
            "(1, 1, 8513) [[[3.7060687e-08 2.4905120e-11 3.3635524e-13 ... 1.4556986e-18\n",
            "   3.1748193e-13 2.2786773e-17]]]\n",
            "(1, 1, 8513) [[[5.7723366e-08 5.0664724e-08 1.7296236e-11 ... 1.8532330e-13\n",
            "   9.7538622e-14 5.8457778e-10]]]\n",
            "(1, 1, 8513) [[[7.2367976e-07 2.0155839e-09 9.5300233e-11 ... 2.9504765e-09\n",
            "   1.7747603e-10 4.5003142e-12]]]\n",
            "(1, 1, 8513) [[[3.9546853e-06 9.5067944e-06 6.2496346e-09 ... 9.9493043e-08\n",
            "   1.5160441e-10 1.9490589e-09]]]\n",
            "(1, 1, 8513) [[[1.0354463e-09 9.9998796e-01 3.7572275e-13 ... 2.9625272e-17\n",
            "   5.4379683e-13 1.2124020e-15]]]\n",
            "(1, 1, 8513) [[[2.2281663e-08 1.5890976e-06 3.3512386e-13 ... 1.5220818e-16\n",
            "   7.0611897e-12 1.2749590e-14]]]\n",
            "입력문장 : i was shaken . \n",
            "정답문장 : j ai été secouée . \n",
            "[[   2   17 1150    1    0    0    0    0]]\n",
            "번역문장 : j ai été remué . \n",
            "--------------------------------------------------\n"
          ]
        }
      ],
      "source": [
        "for seq_index in [3,50,100,300,1001]:\n",
        "    input_seq = encoder_input_train[seq_index: seq_index + 1]\n",
        "    decoded_sentence = decode_sequence(input_seq)\n",
        "\n",
        "    print(\"입력문장 :\",seq_to_src(encoder_input_train[seq_index]))\n",
        "    print(\"정답문장 :\",seq_to_tar(decoder_input_train[seq_index]))\n",
        "    print(input_seq)\n",
        "    print(\"번역문장 :\",decoded_sentence[1:-5])\n",
        "    print(\"-\" * 50)"
      ]
    },
    {
      "cell_type": "markdown",
      "metadata": {
        "id": "hQ7Xn2-M74sW"
      },
      "source": [
        "테스트 데이터에 대해서 임의로 선택한 인덱스의 샘플의 결과를 출력해봅시다."
      ]
    },
    {
      "cell_type": "code",
      "execution_count": null,
      "metadata": {
        "colab": {
          "base_uri": "https://localhost:8080/"
        },
        "id": "jVYHVHiGcg9v",
        "outputId": "ae081074-7f01-4061-b62d-b78d54a0f551"
      },
      "outputs": [
        {
          "output_type": "stream",
          "name": "stdout",
          "text": [
            "(1, 1, 8513) [[[7.8308994e-06 2.8755196e-07 7.0979286e-12 ... 2.0524239e-15\n",
            "   1.5304873e-10 2.3023377e-13]]]\n",
            "(1, 1, 8513) [[[5.7611337e-06 1.5984701e-04 3.8158410e-10 ... 1.0024021e-11\n",
            "   2.7270404e-12 2.4037929e-08]]]\n",
            "(1, 1, 8513) [[[6.6176763e-06 2.4752915e-06 1.1987294e-10 ... 6.1343181e-11\n",
            "   1.3270171e-10 2.0739527e-08]]]\n",
            "(1, 1, 8513) [[[1.6711670e-04 6.2364791e-02 1.4487074e-08 ... 5.4780922e-09\n",
            "   2.2741604e-08 1.9065469e-08]]]\n",
            "(1, 1, 8513) [[[2.4523091e-08 9.9874049e-01 1.9385600e-12 ... 1.0766752e-15\n",
            "   2.3619108e-11 1.2442228e-13]]]\n",
            "(1, 1, 8513) [[[2.0368804e-08 1.8072475e-06 4.1105614e-13 ... 4.4239141e-17\n",
            "   2.9548774e-12 5.1527586e-14]]]\n",
            "입력문장 : i m positive . \n",
            "정답문장 : j en suis sûr . \n",
            "번역문장 : j en suis certain . \n",
            "--------------------------------------------------\n",
            "(1, 1, 8513) [[[9.1620214e-09 7.7867973e-08 5.7289479e-11 ... 4.0452434e-15\n",
            "   8.5991454e-09 7.1953247e-15]]]\n",
            "(1, 1, 8513) [[[1.9010571e-07 3.5060020e-05 2.9514613e-10 ... 1.7198998e-12\n",
            "   1.0816355e-10 3.5723329e-09]]]\n",
            "(1, 1, 8513) [[[1.0409334e-06 4.7087160e-04 5.5602278e-09 ... 7.3137808e-11\n",
            "   1.8926711e-09 4.0898738e-07]]]\n",
            "(1, 1, 8513) [[[8.9862724e-06 4.2747688e-05 4.8864428e-09 ... 2.4244084e-05\n",
            "   1.7453923e-08 5.5504437e-08]]]\n",
            "(1, 1, 8513) [[[2.7469113e-07 9.0031914e-04 6.1883441e-12 ... 9.7069713e-11\n",
            "   6.5293070e-11 5.4729726e-14]]]\n",
            "(1, 1, 8513) [[[5.1139165e-07 1.3212866e-02 5.0929128e-10 ... 6.7016749e-06\n",
            "   8.8825818e-09 1.0341183e-09]]]\n",
            "(1, 1, 8513) [[[2.3658084e-09 9.9565339e-01 4.5419682e-13 ... 1.8644775e-18\n",
            "   1.9112564e-11 1.1000602e-13]]]\n",
            "(1, 1, 8513) [[[4.48358106e-09 1.89195205e-07 4.37066189e-14 ... 1.25662566e-17\n",
            "   6.50360625e-13 6.75789937e-16]]]\n",
            "입력문장 : they greeted me . \n",
            "정답문장 : elles m ont souhaité la bienvenue . \n",
            "번역문장 : ils m ont souhaité la bienvenue . \n",
            "--------------------------------------------------\n",
            "(1, 1, 8513) [[[1.5314811e-08 7.5956965e-09 7.8278821e-11 ... 6.2430390e-15\n",
            "   2.4103313e-09 1.4297330e-14]]]\n",
            "(1, 1, 8513) [[[7.2064840e-06 1.1926776e-04 1.1110553e-08 ... 6.1010333e-12\n",
            "   1.5966714e-10 4.9821574e-07]]]\n",
            "(1, 1, 8513) [[[4.58402816e-10 9.99902964e-01 3.80662055e-13 ... 1.31905265e-17\n",
            "   1.85504390e-12 8.81819574e-15]]]\n",
            "(1, 1, 8513) [[[4.0227315e-09 7.0876823e-08 8.8939029e-14 ... 2.1445766e-17\n",
            "   1.0809995e-12 2.4806381e-15]]]\n",
            "입력문장 : they cheat . \n",
            "정답문장 : ils trichent . \n",
            "번역문장 : ils trichent . \n",
            "--------------------------------------------------\n",
            "(1, 1, 8513) [[[2.5572918e-08 3.4085859e-10 2.6836272e-10 ... 4.7234542e-13\n",
            "   1.5718227e-07 3.1265847e-12]]]\n",
            "(1, 1, 8513) [[[4.9843845e-09 8.8682915e-12 5.2232257e-11 ... 4.8039396e-14\n",
            "   6.8293260e-10 2.9291874e-11]]]\n",
            "(1, 1, 8513) [[[3.4424787e-07 2.7630968e-12 4.2710754e-10 ... 6.7659250e-10\n",
            "   1.0911682e-07 2.0408578e-11]]]\n",
            "(1, 1, 8513) [[[1.5471244e-07 1.2323622e-08 2.2178639e-09 ... 1.4227675e-08\n",
            "   2.5094400e-07 4.8299498e-09]]]\n",
            "(1, 1, 8513) [[[1.4048985e-08 1.5717262e-04 1.4632566e-11 ... 3.9844432e-16\n",
            "   2.2837912e-09 2.2259680e-14]]]\n",
            "(1, 1, 8513) [[[2.3545443e-08 4.4637876e-08 5.9424536e-13 ... 3.4046033e-17\n",
            "   6.6952134e-12 5.4680911e-16]]]\n",
            "입력문장 : what did i win ? \n",
            "정답문장 : qu est ce que j ai gagné ? \n",
            "번역문장 : qu ai je manqué ? \n",
            "--------------------------------------------------\n",
            "(1, 1, 8513) [[[2.5436349e-09 2.6313882e-11 1.3192718e-11 ... 1.3433375e-16\n",
            "   3.4682602e-12 1.4804099e-13]]]\n",
            "(1, 1, 8513) [[[6.3317964e-07 3.2759623e-08 2.1484880e-08 ... 3.3642217e-11\n",
            "   2.7960501e-09 8.2334673e-06]]]\n",
            "(1, 1, 8513) [[[1.7991490e-06 4.2074239e-10 4.1805143e-10 ... 1.7121622e-10\n",
            "   1.5460966e-09 3.7743853e-12]]]\n",
            "(1, 1, 8513) [[[1.0679561e-06 5.7224575e-08 3.6147064e-08 ... 4.3277781e-09\n",
            "   4.3839464e-08 4.5881020e-06]]]\n",
            "(1, 1, 8513) [[[2.8017772e-07 9.9937963e-01 2.7539131e-11 ... 5.6379911e-15\n",
            "   3.8497608e-10 6.0085027e-12]]]\n",
            "(1, 1, 8513) [[[4.3831317e-08 2.4520823e-08 2.4059240e-13 ... 2.1344229e-17\n",
            "   4.8479467e-12 1.2351831e-15]]]\n",
            "입력문장 : we play on sunday . \n",
            "정답문장 : nous jouons le dimanche . \n",
            "번역문장 : nous adorons le foot . \n",
            "--------------------------------------------------\n",
            "(1, 1, 8513) [[[1.5491235e-08 1.4241378e-10 3.6335483e-11 ... 6.1760416e-15\n",
            "   2.3880158e-08 2.3218064e-14]]]\n",
            "(1, 1, 8513) [[[5.2988114e-10 1.2170458e-10 2.5695893e-11 ... 2.9439071e-12\n",
            "   1.9742417e-12 1.0944297e-09]]]\n",
            "(1, 1, 8513) [[[7.9858654e-07 5.4333327e-07 1.5882735e-09 ... 5.7526967e-10\n",
            "   2.3024067e-07 1.6239980e-13]]]\n",
            "(1, 1, 8513) [[[3.97549584e-08 1.94337932e-08 6.42260778e-09 ... 1.08922095e-05\n",
            "   2.98848408e-06 4.49870891e-10]]]\n",
            "(1, 1, 8513) [[[7.8896868e-05 6.4762533e-01 4.5087713e-08 ... 7.7593786e-11\n",
            "   2.6108597e-05 1.5116108e-10]]]\n",
            "(1, 1, 8513) [[[3.3153518e-07 3.8576904e-06 5.5648038e-12 ... 4.8722854e-16\n",
            "   8.6780777e-11 3.1656200e-14]]]\n",
            "입력문장 : i love music too . \n",
            "정답문장 : moi aussi j adore la musique . \n",
            "번역문장 : j adore les enfants . \n",
            "--------------------------------------------------\n",
            "(1, 1, 8513) [[[4.0249869e-08 1.7707292e-07 1.4778262e-12 ... 9.0486222e-16\n",
            "   2.1908866e-12 5.6913092e-15]]]\n",
            "(1, 1, 8513) [[[7.38478718e-07 5.61889727e-03 2.21425211e-10 ... 1.88882723e-14\n",
            "   2.89666864e-13 1.16246275e-08]]]\n",
            "(1, 1, 8513) [[[3.4951762e-07 1.2586052e-02 8.9810772e-09 ... 1.1075857e-03\n",
            "   9.3927559e-09 2.3915063e-09]]]\n",
            "(1, 1, 8513) [[[1.1062960e-11 9.9999845e-01 3.3568058e-14 ... 4.9153276e-18\n",
            "   3.6727911e-14 9.1811629e-15]]]\n",
            "(1, 1, 8513) [[[1.7977906e-09 8.5249361e-08 3.9254526e-14 ... 2.3314795e-17\n",
            "   8.9495354e-13 1.9862050e-15]]]\n",
            "입력문장 : tom is naked . \n",
            "정답문장 : tom est à poil . \n",
            "번역문장 : tom est nu . \n",
            "--------------------------------------------------\n"
          ]
        }
      ],
      "source": [
        "for seq_index in [3,50,100,300,1001, 2000, 3000]:\n",
        "    input_seq = encoder_input_test[seq_index: seq_index + 1]\n",
        "    decoded_sentence = decode_sequence(input_seq)\n",
        "\n",
        "    print(\"입력문장 :\", seq_to_src(encoder_input_test[seq_index]))\n",
        "    print(\"정답문장 :\", seq_to_tar(decoder_input_test[seq_index]))\n",
        "    print(\"번역문장 :\", decoded_sentence[1:-5])\n",
        "    print(\"-\" * 50)"
      ]
    },
    {
      "cell_type": "code",
      "execution_count": null,
      "metadata": {
        "id": "QxfAs4gU74sW"
      },
      "outputs": [],
      "source": []
    },
    {
      "cell_type": "code",
      "execution_count": null,
      "metadata": {
        "id": "7-3wtg5fJhzi"
      },
      "outputs": [],
      "source": []
    }
  ],
  "metadata": {
    "accelerator": "GPU",
    "colab": {
      "machine_shape": "hm",
      "provenance": [],
      "include_colab_link": true
    },
    "kernelspec": {
      "display_name": "Python 3 (ipykernel)",
      "language": "python",
      "name": "python3"
    },
    "language_info": {
      "codemirror_mode": {
        "name": "ipython",
        "version": 3
      },
      "file_extension": ".py",
      "mimetype": "text/x-python",
      "name": "python",
      "nbconvert_exporter": "python",
      "pygments_lexer": "ipython3",
      "version": "3.10.14"
    }
  },
  "nbformat": 4,
  "nbformat_minor": 0
}